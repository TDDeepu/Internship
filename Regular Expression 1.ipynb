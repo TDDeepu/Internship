{
 "cells": [
  {
   "cell_type": "code",
   "execution_count": 10,
   "id": "d61f82a4",
   "metadata": {},
   "outputs": [
    {
     "name": "stdout",
     "output_type": "stream",
     "text": [
      "['S', 'a', 'v', 'e', 't', 'h', 'e', '2', 'o', 'r', '4', 'k', 'i', 't', 't', 'e', 'n', 's']\n"
     ]
    }
   ],
   "source": [
    "import re\n",
    "pattern='\\w'\n",
    "test_string='Savethe2or4kittens'\n",
    "matches=re.findall(pattern,test_string)\n",
    "print(matches)"
   ]
  },
  {
   "cell_type": "code",
   "execution_count": 4,
   "id": "fae7fb0b",
   "metadata": {},
   "outputs": [
    {
     "name": "stdout",
     "output_type": "stream",
     "text": [
      "['1', '2', '3', 'D', 'e', 'e', 'p', 'u', '4', '5', '6']\n"
     ]
    }
   ],
   "source": [
    "print(re.findall(r'\\w','123Deepu456'))"
   ]
  },
  {
   "cell_type": "code",
   "execution_count": 48,
   "id": "5b08fd0c",
   "metadata": {},
   "outputs": [
    {
     "name": "stdout",
     "output_type": "stream",
     "text": [
      "<re.Match object; span=(2, 3), match='b'>\n"
     ]
    }
   ],
   "source": [
    "print(re.search(r'a?b','adb'))\n"
   ]
  },
  {
   "cell_type": "code",
   "execution_count": 5,
   "id": "8e764f9a",
   "metadata": {},
   "outputs": [
    {
     "name": "stdout",
     "output_type": "stream",
     "text": [
      "<re.Match object; span=(0, 2), match='mn'>\n"
     ]
    }
   ],
   "source": [
    "print(re.search(r'ma*n','mn'))"
   ]
  },
  {
   "cell_type": "code",
   "execution_count": 28,
   "id": "baa51ea4",
   "metadata": {},
   "outputs": [
    {
     "name": "stdout",
     "output_type": "stream",
     "text": [
      "None\n"
     ]
    }
   ],
   "source": [
    "print(re.search(r'ma*n','main'))"
   ]
  },
  {
   "cell_type": "code",
   "execution_count": 29,
   "id": "ad0fa9cc",
   "metadata": {},
   "outputs": [
    {
     "name": "stdout",
     "output_type": "stream",
     "text": [
      "['b', 'b']\n"
     ]
    }
   ],
   "source": [
    "print(re.findall(r'a?b','bomb'))\n",
    "\n"
   ]
  },
  {
   "cell_type": "code",
   "execution_count": 39,
   "id": "78b9487a",
   "metadata": {},
   "outputs": [
    {
     "name": "stdout",
     "output_type": "stream",
     "text": [
      "['2', '8', '8', '5']\n"
     ]
    }
   ],
   "source": [
    "import re\n",
    "print(re.findall(r'\\d{4}','01 0132 231875 1458 301 2725.'))"
   ]
  },
  {
   "cell_type": "code",
   "execution_count": 3,
   "id": "52ed291f",
   "metadata": {},
   "outputs": [
    {
     "name": "stdout",
     "output_type": "stream",
     "text": [
      "['0132', '2318', '1458', '2725']\n"
     ]
    }
   ],
   "source": [
    "import re\n",
    "pattern='\\d{4}?'\n",
    "text='01 0132 231875 1458 301 2725.'\n",
    "matches=re.findall(pattern,text)\n",
    "print(matches)"
   ]
  },
  {
   "cell_type": "code",
   "execution_count": 7,
   "id": "b35dbd14",
   "metadata": {},
   "outputs": [
    {
     "name": "stdout",
     "output_type": "stream",
     "text": [
      "<re.Match object; span=(0, 7), match='aadvcdb'>\n"
     ]
    }
   ],
   "source": [
    "import re\n",
    "print(re.search(r'a.*?b$','aadvcdb'))"
   ]
  },
  {
   "cell_type": "code",
   "execution_count": 8,
   "id": "fc63e543",
   "metadata": {},
   "outputs": [
    {
     "name": "stdout",
     "output_type": "stream",
     "text": [
      "['ball']\n"
     ]
    }
   ],
   "source": [
    "print(re.findall(r'ball\\b','football'))"
   ]
  },
  {
   "cell_type": "code",
   "execution_count": 31,
   "id": "bf0e0832",
   "metadata": {},
   "outputs": [
    {
     "name": "stdout",
     "output_type": "stream",
     "text": [
      "<re.Match object; span=(0, 3), match='abb'>\n"
     ]
    }
   ],
   "source": [
    "import re\n",
    "pattern='ab*'\n",
    "test_string='abb'\n",
    "result=re.match(pattern,test_string)\n",
    "print(result)\n"
   ]
  },
  {
   "cell_type": "code",
   "execution_count": 32,
   "id": "3d0b0ae8",
   "metadata": {},
   "outputs": [
    {
     "name": "stdout",
     "output_type": "stream",
     "text": [
      "<re.Match object; span=(0, 3), match='abb'>\n"
     ]
    }
   ],
   "source": [
    "print(re.search(r'ab*','abb'))"
   ]
  },
  {
   "cell_type": "code",
   "execution_count": 33,
   "id": "5a80e60a",
   "metadata": {},
   "outputs": [
    {
     "name": "stdout",
     "output_type": "stream",
     "text": [
      "<re.Match object; span=(0, 3), match='abb'>\n"
     ]
    }
   ],
   "source": [
    " print(re.search(r'ab+','abbot'))\n",
    "\n"
   ]
  },
  {
   "cell_type": "code",
   "execution_count": 17,
   "id": "1a29ed52",
   "metadata": {},
   "outputs": [
    {
     "name": "stdout",
     "output_type": "stream",
     "text": [
      "<re.Match object; span=(0, 2), match='ab'>\n"
     ]
    }
   ],
   "source": [
    " print(re.search(r'ab?','about'))\n"
   ]
  },
  {
   "cell_type": "code",
   "execution_count": 7,
   "id": "71cc7f96",
   "metadata": {},
   "outputs": [
    {
     "name": "stdout",
     "output_type": "stream",
     "text": [
      "<re.Match object; span=(0, 4), match='abbb'>\n"
     ]
    }
   ],
   "source": [
    "print(re.search(r'ab{3}?','abbbcd'))"
   ]
  },
  {
   "cell_type": "code",
   "execution_count": 8,
   "id": "9cb13ff2",
   "metadata": {},
   "outputs": [
    {
     "name": "stdout",
     "output_type": "stream",
     "text": [
      "<re.Match object; span=(0, 3), match='abb'>\n"
     ]
    }
   ],
   "source": [
    "print(re.search(r'ab{2,3}','abbreivation'))"
   ]
  },
  {
   "cell_type": "code",
   "execution_count": 24,
   "id": "799ade95",
   "metadata": {},
   "outputs": [
    {
     "name": "stdout",
     "output_type": "stream",
     "text": [
      "['foot']\n"
     ]
    }
   ],
   "source": [
    "print(re.findall(r'\\bfoot','football'))"
   ]
  },
  {
   "cell_type": "code",
   "execution_count": 18,
   "id": "8b28c9e0",
   "metadata": {},
   "outputs": [
    {
     "name": "stdout",
     "output_type": "stream",
     "text": [
      "search unsucessfull\n"
     ]
    }
   ],
   "source": [
    "import re\n",
    "pattern='game\\Z'\n",
    "test_string='football is my favorite game'\n",
    "result=(re.match(pattern,test_string))\n",
    "if result:\n",
    "    print('search sucessfull')\n",
    "else:\n",
    "    print('search unsucessfull')"
   ]
  },
  {
   "cell_type": "code",
   "execution_count": 4,
   "id": "3d4b4abd",
   "metadata": {},
   "outputs": [
    {
     "name": "stdout",
     "output_type": "stream",
     "text": [
      "['0132', '2318', '1458', '2725']\n"
     ]
    }
   ],
   "source": [
    "import re\n",
    "pattern='\\d{4}?'\n",
    "text='01 0132 231875 1458 301 2725.'\n",
    "matches=re.findall(pattern,text)\n",
    "print(matches)"
   ]
  },
  {
   "cell_type": "code",
   "execution_count": 11,
   "id": "8896b57c",
   "metadata": {},
   "outputs": [
    {
     "name": "stdout",
     "output_type": "stream",
     "text": [
      "['1', '2', 'a', 'b', 'c', '4', '5']\n"
     ]
    }
   ],
   "source": [
    "print(re.findall(r'\\w','12abc45'))"
   ]
  },
  {
   "cell_type": "code",
   "execution_count": 29,
   "id": "92d864b8",
   "metadata": {},
   "outputs": [
    {
     "name": "stdout",
     "output_type": "stream",
     "text": [
      "['0132', '2318', '1458', '2725']\n"
     ]
    }
   ],
   "source": [
    "import re\n",
    "pattern='\\d{4}?'\n",
    "text='01 0132 231875 1458 301 2725.'\n",
    "result=re.findall(pattern,text)\n",
    "print(result)"
   ]
  },
  {
   "cell_type": "code",
   "execution_count": 26,
   "id": "84ece510",
   "metadata": {},
   "outputs": [
    {
     "name": "stdout",
     "output_type": "stream",
     "text": [
      "search sucessfull\n"
     ]
    }
   ],
   "source": [
    "import re\n",
    "pattern='game\\Z'\n",
    "test_string='football is my favorite game'\n",
    "result=(re.findall(pattern,test_string))\n",
    "if result:\n",
    "    print('search sucessfull')\n",
    "else:\n",
    "    print('search unsucessfull')"
   ]
  },
  {
   "cell_type": "code",
   "execution_count": 2,
   "id": "2be11b50",
   "metadata": {},
   "outputs": [
    {
     "name": "stdout",
     "output_type": "stream",
     "text": [
      "enter a string=football id my fav\n",
      "true\n"
     ]
    }
   ],
   "source": [
    "import re\n",
    "pattern='\\Afoot'\n",
    "test_string= input('enter a string=')\n",
    "result=(re.findall(pattern,test_string))\n",
    "if result:\n",
    "    print('true')\n",
    "else:\n",
    "    print('false')"
   ]
  },
  {
   "cell_type": "code",
   "execution_count": 4,
   "id": "d6be90b2",
   "metadata": {},
   "outputs": [
    {
     "name": "stdout",
     "output_type": "stream",
     "text": [
      "enter a string=£$%^&*\n",
      "false\n"
     ]
    }
   ],
   "source": [
    "import re\n",
    "pattern='\\w'\n",
    "test_string= input('enter a string=')\n",
    "result=(re.findall(pattern,test_string))\n",
    "if result:\n",
    "    print('true')\n",
    "else:\n",
    "    print('false')"
   ]
  },
  {
   "cell_type": "code",
   "execution_count": 3,
   "id": "7d679e76",
   "metadata": {},
   "outputs": [
    {
     "name": "stdout",
     "output_type": "stream",
     "text": [
      "['foot']\n"
     ]
    }
   ],
   "source": [
    "print(re.findall(r'\\bfoot','football'))"
   ]
  },
  {
   "cell_type": "markdown",
   "id": "b0eaa91c",
   "metadata": {},
   "source": [
    "# Regular Expression Assignment 2\n"
   ]
  },
  {
   "cell_type": "markdown",
   "id": "fb376935",
   "metadata": {},
   "source": [
    "Q1"
   ]
  },
  {
   "cell_type": "code",
   "execution_count": 4,
   "id": "a5694cd0",
   "metadata": {},
   "outputs": [
    {
     "name": "stdout",
     "output_type": "stream",
     "text": [
      "Python:Expression::PHP:excercises:\n"
     ]
    }
   ],
   "source": [
    "import re\n",
    "str='Python Expression, PHP excercises.'\n",
    "x= re.sub(\"[\\s,,,.]\",\":\",str)\n",
    "print(x)"
   ]
  },
  {
   "cell_type": "markdown",
   "id": "de1c33ee",
   "metadata": {},
   "source": [
    "Q2"
   ]
  },
  {
   "cell_type": "code",
   "execution_count": 31,
   "id": "7e626f94",
   "metadata": {},
   "outputs": [
    {
     "data": {
      "text/plain": [
       "0         hello world \n",
       "1                 test\n",
       "2       four five  six\n",
       "Name: SUMMARY, dtype: object"
      ]
     },
     "execution_count": 31,
     "metadata": {},
     "output_type": "execute_result"
    }
   ],
   "source": [
    "import pandas as pd\n",
    "import regex as r\n",
    "df=pd.DataFrame({'SUMMARY':['hello,world!','XXXXtest','123four,five:;six']})\n",
    "pattern=r'[,,.,XXXX,123,:,!,;]'\n",
    "df['SUMMARY'].str.replace(pattern,' ',n=-1,case=0,regex=True)"
   ]
  },
  {
   "cell_type": "markdown",
   "id": "5e8bb84c",
   "metadata": {},
   "source": [
    "Q3"
   ]
  },
  {
   "cell_type": "code",
   "execution_count": 35,
   "id": "ecd56ac7",
   "metadata": {},
   "outputs": [
    {
     "name": "stdout",
     "output_type": "stream",
     "text": [
      "['ther', 'appl', 'oran']\n"
     ]
    }
   ],
   "source": [
    "import re \n",
    "def find(string):\n",
    "    regex=re.compile(r'\\w{4}')\n",
    "    matches=regex.findall(string)\n",
    "    return(matches)\n",
    "string='there are 123 apples and 456 oranges'\n",
    "result=find(string)\n",
    "print(result)\n",
    "    "
   ]
  },
  {
   "cell_type": "markdown",
   "id": "f0941155",
   "metadata": {},
   "source": [
    "Q4"
   ]
  },
  {
   "cell_type": "code",
   "execution_count": 36,
   "id": "3def74fb",
   "metadata": {},
   "outputs": [
    {
     "name": "stdout",
     "output_type": "stream",
     "text": [
      "['there', 'are', '123', 'apple', 'and', '456', 'orang']\n"
     ]
    }
   ],
   "source": [
    "import re \n",
    "def find(string):\n",
    "    regex=re.compile(r'\\w{3,5}')\n",
    "    matches=regex.findall(string)\n",
    "    return(matches)\n",
    "string='there are 123 apples and 456 oranges'\n",
    "result=find(string)\n",
    "print(result)"
   ]
  },
  {
   "cell_type": "markdown",
   "id": "9e1e2723",
   "metadata": {},
   "source": [
    "Q5"
   ]
  },
  {
   "cell_type": "code",
   "execution_count": 50,
   "id": "6a05164b",
   "metadata": {},
   "outputs": [
    {
     "name": "stdout",
     "output_type": "stream",
     "text": [
      "example.com\n",
      "hr@fliprobo.com\n",
      "github.com\n",
      "HelloData Science World\n",
      "DataScientist\n"
     ]
    }
   ],
   "source": [
    "import re\n",
    "def remove(string):\n",
    "    for i in string:\n",
    "        regex=re.compile(r\"[\\()]\")\n",
    "        print(regex.sub(\"\",i))\n",
    "string= [\"example(.com)\", \"hr@fliprobo(.com)\", \"github(.com)\", \"Hello(Data Science World)\", \"Data(Scientist)\"]\n",
    "remove(string)"
   ]
  },
  {
   "cell_type": "markdown",
   "id": "f5a1a1dd",
   "metadata": {},
   "source": [
    "Q7"
   ]
  },
  {
   "cell_type": "code",
   "execution_count": 19,
   "id": "69938fa3",
   "metadata": {},
   "outputs": [
    {
     "name": "stdout",
     "output_type": "stream",
     "text": [
      "['', 'Importanceof', '', 'Regular', '', 'Expressionin', '', 'Python', '']\n"
     ]
    }
   ],
   "source": [
    "import regex as re\n",
    "str='ImportanceofRegularExpressioninPython'\n",
    "x=re.split(r'([\\w+][^A-Z]*)',str,5)\n",
    "print(x)"
   ]
  },
  {
   "cell_type": "markdown",
   "id": "32da1af7",
   "metadata": {},
   "source": [
    "Q8"
   ]
  },
  {
   "cell_type": "code",
   "execution_count": 67,
   "id": "d28c19d3",
   "metadata": {},
   "outputs": [
    {
     "name": "stdout",
     "output_type": "stream",
     "text": [
      "RegularExpression 1IsAn 2ImportantTopic 3InPython\n"
     ]
    }
   ],
   "source": [
    "import re\n",
    "str='RegularExpression1IsAn2ImportantTopic3InPython'\n",
    "x=re.sub(r\"(\\w)([0-9])\",r\"\\1 \\2\",str)\n",
    "         \n",
    "print(x)"
   ]
  },
  {
   "cell_type": "markdown",
   "id": "b58fa830",
   "metadata": {},
   "source": [
    "Q11"
   ]
  },
  {
   "cell_type": "code",
   "execution_count": 83,
   "id": "787379bb",
   "metadata": {},
   "outputs": [
    {
     "name": "stdout",
     "output_type": "stream",
     "text": [
      "['T', 'h', 'e', 'r', 'e', '1', '2', '3', 'a', 'p', 'p', 'l', 'e', 's', '_', 'f', 'r', 'u', 'i', 't', 's']\n"
     ]
    }
   ],
   "source": [
    "import re\n",
    "str='There @123$&& apples_fruits'\n",
    "pattern='(\\w)'\n",
    "x=re.findall(pattern,str)\n",
    "print(x)"
   ]
  },
  {
   "cell_type": "markdown",
   "id": "0deb1f95",
   "metadata": {},
   "source": [
    "Q12"
   ]
  },
  {
   "cell_type": "code",
   "execution_count": 29,
   "id": "aef0513a",
   "metadata": {},
   "outputs": [
    {
     "name": "stdout",
     "output_type": "stream",
     "text": [
      "<re.Match object; span=(0, 3), match='123'>\n"
     ]
    }
   ],
   "source": [
    "import re\n",
    "str='123India is my home town'\n",
    "pattern='(\\A[0-9]*)'\n",
    "x=re.match(pattern,str)\n",
    "print(x)\n"
   ]
  },
  {
   "cell_type": "markdown",
   "id": "468e0613",
   "metadata": {},
   "source": [
    "Q13"
   ]
  },
  {
   "cell_type": "code",
   "execution_count": 86,
   "id": "f85dd4cd",
   "metadata": {
    "scrolled": true
   },
   "outputs": [
    {
     "name": "stdout",
     "output_type": "stream",
     "text": [
      "212.229.85.205\n"
     ]
    }
   ],
   "source": [
    "import re\n",
    "ip='212.229.85.205'\n",
    "x=re.sub('\\.[0]*','.',ip)\n",
    "print(x)"
   ]
  },
  {
   "cell_type": "markdown",
   "id": "e136aa70",
   "metadata": {},
   "source": [
    "Q14"
   ]
  },
  {
   "cell_type": "code",
   "execution_count": 95,
   "id": "d47891a9",
   "metadata": {},
   "outputs": [
    {
     "name": "stdout",
     "output_type": "stream",
     "text": [
      "['August 15th 1947']\n"
     ]
    }
   ],
   "source": [
    "import re\n",
    "with open(\"C:\\\\text file\\\\file.txt\") as file:\n",
    "    for line in file:\n",
    "        urls=re.findall(r'(?:January|Febrary|March|Apil|May|June|July|August|September|October|November|December)\\s+\\d{1,2}(?:th)?\\s+\\d{4}',line)\n",
    "        print(urls)\n",
    "\n",
    "\n"
   ]
  },
  {
   "cell_type": "markdown",
   "id": "ddd6048b",
   "metadata": {},
   "source": [
    "Q15"
   ]
  },
  {
   "cell_type": "code",
   "execution_count": 20,
   "id": "fb095cd2",
   "metadata": {},
   "outputs": [
    {
     "name": "stdout",
     "output_type": "stream",
     "text": [
      "found\n"
     ]
    }
   ],
   "source": [
    "import re\n",
    "str='The quick brown fox jumps over the lazy dog.'\n",
    "search=re.search('fox|dog|horse',str)\n",
    "if search:\n",
    "    print('found')\n",
    "else:\n",
    "    print('not found')"
   ]
  },
  {
   "cell_type": "markdown",
   "id": "68f6ba83",
   "metadata": {},
   "source": [
    "Q16"
   ]
  },
  {
   "cell_type": "code",
   "execution_count": 110,
   "id": "b371920e",
   "metadata": {},
   "outputs": [
    {
     "name": "stdout",
     "output_type": "stream",
     "text": [
      "<re.Match object; span=(16, 19), match='fox'>\n"
     ]
    }
   ],
   "source": [
    "import re\n",
    "str='The quick brown fox jumps over the lazy dog.'\n",
    "search=re.search('fox',str)\n",
    "print(search)"
   ]
  },
  {
   "cell_type": "markdown",
   "id": "2b4a6e19",
   "metadata": {},
   "source": [
    "Q17"
   ]
  },
  {
   "cell_type": "code",
   "execution_count": 118,
   "id": "be7bb1d8",
   "metadata": {},
   "outputs": [
    {
     "name": "stdout",
     "output_type": "stream",
     "text": [
      "['exercises', 'exercises', 'exercises']\n"
     ]
    }
   ],
   "source": [
    "import re\n",
    "str= 'Python exercises, PHP exercises, C# exercises'\n",
    "pattern='exercises'\n",
    "x=re.findall(pattern,str)\n",
    "print(x)"
   ]
  },
  {
   "cell_type": "markdown",
   "id": "ecabfefc",
   "metadata": {},
   "source": [
    "Q18"
   ]
  },
  {
   "cell_type": "code",
   "execution_count": 31,
   "id": "6fc58ee0",
   "metadata": {},
   "outputs": [
    {
     "name": "stdout",
     "output_type": "stream",
     "text": [
      "<re.Match object; span=(7, 16), match='exercises'>\n"
     ]
    }
   ],
   "source": [
    "import re\n",
    "str= 'Python exercises, PHP exercises, C# exercises'\n",
    "pattern='exercises'\n",
    "x=re.search(pattern,str)\n",
    "print(x)"
   ]
  },
  {
   "cell_type": "markdown",
   "id": "eb7782f4",
   "metadata": {},
   "source": [
    "Q19"
   ]
  },
  {
   "cell_type": "code",
   "execution_count": 102,
   "id": "0d9e0134",
   "metadata": {},
   "outputs": [
    {
     "name": "stdout",
     "output_type": "stream",
     "text": [
      "01-04-2024\n"
     ]
    }
   ],
   "source": [
    "import re\n",
    "date='2024-04-01'\n",
    "x=re.split('-',date)\n",
    "n_date='-'.join(x[::-1])\n",
    "print(n_date)"
   ]
  },
  {
   "cell_type": "markdown",
   "id": "efa182ec",
   "metadata": {},
   "source": [
    "Q6"
   ]
  },
  {
   "cell_type": "code",
   "execution_count": 96,
   "id": "2bbe769d",
   "metadata": {},
   "outputs": [
    {
     "name": "stdout",
     "output_type": "stream",
     "text": [
      "\" [\"example\", \"hr@fliprobo\", \"github\", \"Hello\", \"Data\"]\"\n"
     ]
    }
   ],
   "source": [
    "import re\n",
    "with open(\"C:\\\\text file\\\\file.txt\") as file:\n",
    "    for line in file:\n",
    "        urls=re.sub(r\"\\s*\\([^)]*\\)\",\"\",line)\n",
    "        print(urls)"
   ]
  },
  {
   "cell_type": "markdown",
   "id": "4a0bff86",
   "metadata": {},
   "source": [
    "Q20"
   ]
  },
  {
   "cell_type": "code",
   "execution_count": 24,
   "id": "d3890d40",
   "metadata": {},
   "outputs": [
    {
     "name": "stdout",
     "output_type": "stream",
     "text": [
      "['01.12', '0132.12', '2.31', '145.8', '3.01', '27.25', '0.25']\n"
     ]
    }
   ],
   "source": [
    "import re\n",
    "def decimal_num(string):\n",
    "    regex=re.compile(r\"\\d+\\.\\d{1,2}\")\n",
    "    x=re.findall(regex,string)\n",
    "    return(x)\n",
    "string=\"01.12 0132.123 2.31875 145.8 3.01 27.25 0.25\"\n",
    "res=decimal_num(string)\n",
    "print(res)\n",
    "    "
   ]
  },
  {
   "cell_type": "markdown",
   "id": "02bd521b",
   "metadata": {},
   "source": [
    "Q22"
   ]
  },
  {
   "cell_type": "code",
   "execution_count": 4,
   "id": "fdb8a3e6",
   "metadata": {},
   "outputs": [
    {
     "name": "stdout",
     "output_type": "stream",
     "text": [
      "Max_num= 950\n"
     ]
    }
   ],
   "source": [
    "import re\n",
    "string= 'My marks in each semester are: 947, 896, 926, 524, 734, 950, 642'\n",
    "x=re.findall('\\d+',string)\n",
    "print('Max_num=',max(x))"
   ]
  },
  {
   "cell_type": "markdown",
   "id": "1303369f",
   "metadata": {},
   "source": [
    "Q23"
   ]
  },
  {
   "cell_type": "code",
   "execution_count": 9,
   "id": "5f05c0fa",
   "metadata": {},
   "outputs": [
    {
     "name": "stdout",
     "output_type": "stream",
     "text": [
      "“Regular Expression Is An Important Topic In Python\"\n"
     ]
    }
   ],
   "source": [
    "import re\n",
    "def capital_let(string):\n",
    "    return re.sub(r\"(\\w)([A-Z])\",r\"\\1 \\2\",string)\n",
    "print(capital_let('“RegularExpressionIsAnImportantTopicInPython\"'))"
   ]
  },
  {
   "cell_type": "markdown",
   "id": "6d8a956d",
   "metadata": {},
   "source": [
    "Q24"
   ]
  },
  {
   "cell_type": "code",
   "execution_count": 3,
   "id": "c37ae132",
   "metadata": {},
   "outputs": [
    {
     "name": "stdout",
     "output_type": "stream",
     "text": [
      "enter a string=Python\n",
      "found a matched string\n"
     ]
    }
   ],
   "source": [
    "import re\n",
    "str=input('enter a string=')\n",
    "pattern=\"[A-Z]+[a-z]+$\"\n",
    "x=re.search(pattern,str)\n",
    "if x:\n",
    "    print('found a matched string')\n",
    "else:\n",
    "    print('not found the string')"
   ]
  },
  {
   "cell_type": "markdown",
   "id": "b42cbaee",
   "metadata": {},
   "source": [
    "Q25"
   ]
  },
  {
   "cell_type": "code",
   "execution_count": 24,
   "id": "ee8ea3ee",
   "metadata": {},
   "outputs": [
    {
     "name": "stdout",
     "output_type": "stream",
     "text": [
      "Hello hello world\n"
     ]
    }
   ],
   "source": [
    "import regex as re\n",
    "string=\"Hello hello world world\"\n",
    "regex= r\"\\b(\\w+)(?:\\W+\\1\\b)+\"\n",
    "x=re.sub(regex,r\"\\1\",string)\n",
    "print(x)\n",
    "        "
   ]
  },
  {
   "cell_type": "markdown",
   "id": "27bd4774",
   "metadata": {},
   "source": [
    "Q27"
   ]
  },
  {
   "cell_type": "code",
   "execution_count": 59,
   "id": "e7d3253e",
   "metadata": {},
   "outputs": [
    {
     "name": "stdout",
     "output_type": "stream",
     "text": [
      "['#Doltiwal', '#xyzabc', '#Demonetization']\n"
     ]
    }
   ],
   "source": [
    "import re\n",
    "string=\"\"\"RT @kapil_kausik: #Doltiwal I mean #xyzabc is \"hurt\" by #Demonetization as the same has rendered USELESS <ed><U+00A0><U+00BD><ed><U+00B1><U+0089> \"acquired funds\" No wo\"\"\"\n",
    "x=re.findall(r\"(#\\w+)\",string)\n",
    "print(x)"
   ]
  },
  {
   "cell_type": "markdown",
   "id": "1b2ed28e",
   "metadata": {},
   "source": [
    "Q28"
   ]
  },
  {
   "cell_type": "code",
   "execution_count": 72,
   "id": "2b158758",
   "metadata": {},
   "outputs": [
    {
     "name": "stdout",
     "output_type": "stream",
     "text": [
      "@Jags123456 Bharat band on 28??<ed><ed>Those who  are protesting #demonetization  are all different party leaders\n"
     ]
    }
   ],
   "source": [
    "import regex as re\n",
    "string=\"@Jags123456 Bharat band on 28??<ed><U+00A0><U+00BD><ed><U+00B8><U+0082>Those who  are protesting #demonetization  are all different party leaders\"\n",
    "regex= r\"<U\\+\\w{1,4}>\"\n",
    "x=re.sub(regex,r\"\",string)\n",
    "print(x)"
   ]
  },
  {
   "cell_type": "markdown",
   "id": "73469294",
   "metadata": {},
   "source": [
    "Q29"
   ]
  },
  {
   "cell_type": "code",
   "execution_count": 77,
   "id": "53089b7c",
   "metadata": {},
   "outputs": [
    {
     "name": "stdout",
     "output_type": "stream",
     "text": [
      "['12-09-1992', '15-12-1999']\n"
     ]
    }
   ],
   "source": [
    "import re\n",
    "with open(\"C:\\\\text file\\\\file.txt\") as file:\n",
    "    for line in file:\n",
    "        urls=re.findall(r\"\\b\\d{1,2}-\\d{1,2}-\\d{2,4}\\b\",line)\n",
    "        print(urls)"
   ]
  },
  {
   "cell_type": "markdown",
   "id": "68f02574",
   "metadata": {},
   "source": [
    "Q30"
   ]
  },
  {
   "cell_type": "code",
   "execution_count": 87,
   "id": "5359390b",
   "metadata": {},
   "outputs": [
    {
     "name": "stdout",
     "output_type": "stream",
     "text": [
      " following example creates  ArrayList  a capacity   elements. 4 elements   added   ArrayList   ArrayList  trimmed accordingly.\n"
     ]
    }
   ],
   "source": [
    "import re\n",
    "def remove(string):\n",
    "        regex=re.compile(r\"\\b\\w{2,4}\\b\")\n",
    "        print(re.sub(regex,\"\",string))\n",
    "string= \"The following example creates an ArrayList with a capacity of 50 elements. 4 elements are then added to the ArrayList and the ArrayList is trimmed accordingly.\"\n",
    "remove(string)"
   ]
  },
  {
   "cell_type": "markdown",
   "id": "abf0d3fe",
   "metadata": {},
   "source": [
    "Q26"
   ]
  },
  {
   "cell_type": "code",
   "execution_count": 92,
   "id": "59695756",
   "metadata": {},
   "outputs": [
    {
     "name": "stdout",
     "output_type": "stream",
     "text": [
      "enter a string=Deepu123\n",
      "found a matched alphanumeric string\n"
     ]
    }
   ],
   "source": [
    "import re\n",
    "str=input('enter a string=')\n",
    "pattern=\"[A-Z]+[a-z]+[0-9]+$\"\n",
    "x=re.search(pattern,str)\n",
    "if x:\n",
    "    print('found a matched alphanumeric string')\n",
    "else:\n",
    "    print('not found the string')"
   ]
  },
  {
   "cell_type": "markdown",
   "id": "c378e23a",
   "metadata": {},
   "source": [
    "Q21"
   ]
  },
  {
   "cell_type": "code",
   "execution_count": 7,
   "id": "793eefab",
   "metadata": {},
   "outputs": [
    {
     "name": "stdout",
     "output_type": "stream",
     "text": [
      "<re.Match object; span=(10, 12), match='32'>\n",
      "index position= 10\n"
     ]
    }
   ],
   "source": [
    "import re\n",
    "string=\"There are 32 Apples\"\n",
    "pattern=\"\\d+\"\n",
    "x=re.search(pattern,string)\n",
    "print(x)\n",
    "print('index position=',x.start())\n",
    "\n",
    "\n",
    "\n"
   ]
  },
  {
   "cell_type": "markdown",
   "id": "436e06e1",
   "metadata": {},
   "source": [
    "Q10"
   ]
  },
  {
   "cell_type": "code",
   "execution_count": 9,
   "id": "66a34e9d",
   "metadata": {},
   "outputs": [
    {
     "data": {
      "text/html": [
       "<div>\n",
       "<style scoped>\n",
       "    .dataframe tbody tr th:only-of-type {\n",
       "        vertical-align: middle;\n",
       "    }\n",
       "\n",
       "    .dataframe tbody tr th {\n",
       "        vertical-align: top;\n",
       "    }\n",
       "\n",
       "    .dataframe thead th {\n",
       "        text-align: right;\n",
       "    }\n",
       "</style>\n",
       "<table border=\"1\" class=\"dataframe\">\n",
       "  <thead>\n",
       "    <tr style=\"text-align: right;\">\n",
       "      <th></th>\n",
       "      <th>Country</th>\n",
       "      <th>Region</th>\n",
       "      <th>Happiness Rank</th>\n",
       "      <th>Happiness Score</th>\n",
       "      <th>Standard Error</th>\n",
       "      <th>Economy (GDP per Capita)</th>\n",
       "      <th>Family</th>\n",
       "      <th>Health (Life Expectancy)</th>\n",
       "      <th>Freedom</th>\n",
       "      <th>Trust (Government Corruption)</th>\n",
       "      <th>Generosity</th>\n",
       "      <th>Dystopia Residual</th>\n",
       "    </tr>\n",
       "  </thead>\n",
       "  <tbody>\n",
       "    <tr>\n",
       "      <th>0</th>\n",
       "      <td>Switzerland</td>\n",
       "      <td>Western Europe</td>\n",
       "      <td>1</td>\n",
       "      <td>7.587</td>\n",
       "      <td>0.03411</td>\n",
       "      <td>1.39651</td>\n",
       "      <td>1.34951</td>\n",
       "      <td>0.94143</td>\n",
       "      <td>0.66557</td>\n",
       "      <td>0.41978</td>\n",
       "      <td>0.29678</td>\n",
       "      <td>2.51738</td>\n",
       "    </tr>\n",
       "    <tr>\n",
       "      <th>1</th>\n",
       "      <td>Iceland</td>\n",
       "      <td>Western Europe</td>\n",
       "      <td>2</td>\n",
       "      <td>7.561</td>\n",
       "      <td>0.04884</td>\n",
       "      <td>1.30232</td>\n",
       "      <td>1.40223</td>\n",
       "      <td>0.94784</td>\n",
       "      <td>0.62877</td>\n",
       "      <td>0.14145</td>\n",
       "      <td>0.43630</td>\n",
       "      <td>2.70201</td>\n",
       "    </tr>\n",
       "    <tr>\n",
       "      <th>2</th>\n",
       "      <td>Denmark</td>\n",
       "      <td>Western Europe</td>\n",
       "      <td>3</td>\n",
       "      <td>7.527</td>\n",
       "      <td>0.03328</td>\n",
       "      <td>1.32548</td>\n",
       "      <td>1.36058</td>\n",
       "      <td>0.87464</td>\n",
       "      <td>0.64938</td>\n",
       "      <td>0.48357</td>\n",
       "      <td>0.34139</td>\n",
       "      <td>2.49204</td>\n",
       "    </tr>\n",
       "    <tr>\n",
       "      <th>3</th>\n",
       "      <td>Norway</td>\n",
       "      <td>Western Europe</td>\n",
       "      <td>4</td>\n",
       "      <td>7.522</td>\n",
       "      <td>0.03880</td>\n",
       "      <td>1.45900</td>\n",
       "      <td>1.33095</td>\n",
       "      <td>0.88521</td>\n",
       "      <td>0.66973</td>\n",
       "      <td>0.36503</td>\n",
       "      <td>0.34699</td>\n",
       "      <td>2.46531</td>\n",
       "    </tr>\n",
       "    <tr>\n",
       "      <th>4</th>\n",
       "      <td>Canada</td>\n",
       "      <td>North America</td>\n",
       "      <td>5</td>\n",
       "      <td>7.427</td>\n",
       "      <td>0.03553</td>\n",
       "      <td>1.32629</td>\n",
       "      <td>1.32261</td>\n",
       "      <td>0.90563</td>\n",
       "      <td>0.63297</td>\n",
       "      <td>0.32957</td>\n",
       "      <td>0.45811</td>\n",
       "      <td>2.45176</td>\n",
       "    </tr>\n",
       "    <tr>\n",
       "      <th>...</th>\n",
       "      <td>...</td>\n",
       "      <td>...</td>\n",
       "      <td>...</td>\n",
       "      <td>...</td>\n",
       "      <td>...</td>\n",
       "      <td>...</td>\n",
       "      <td>...</td>\n",
       "      <td>...</td>\n",
       "      <td>...</td>\n",
       "      <td>...</td>\n",
       "      <td>...</td>\n",
       "      <td>...</td>\n",
       "    </tr>\n",
       "    <tr>\n",
       "      <th>153</th>\n",
       "      <td>Rwanda</td>\n",
       "      <td>Sub-Saharan Africa</td>\n",
       "      <td>154</td>\n",
       "      <td>3.465</td>\n",
       "      <td>0.03464</td>\n",
       "      <td>0.22208</td>\n",
       "      <td>0.77370</td>\n",
       "      <td>0.42864</td>\n",
       "      <td>0.59201</td>\n",
       "      <td>0.55191</td>\n",
       "      <td>0.22628</td>\n",
       "      <td>0.67042</td>\n",
       "    </tr>\n",
       "    <tr>\n",
       "      <th>154</th>\n",
       "      <td>Benin</td>\n",
       "      <td>Sub-Saharan Africa</td>\n",
       "      <td>155</td>\n",
       "      <td>3.340</td>\n",
       "      <td>0.03656</td>\n",
       "      <td>0.28665</td>\n",
       "      <td>0.35386</td>\n",
       "      <td>0.31910</td>\n",
       "      <td>0.48450</td>\n",
       "      <td>0.08010</td>\n",
       "      <td>0.18260</td>\n",
       "      <td>1.63328</td>\n",
       "    </tr>\n",
       "    <tr>\n",
       "      <th>155</th>\n",
       "      <td>Syria</td>\n",
       "      <td>Middle East and Northern Africa</td>\n",
       "      <td>156</td>\n",
       "      <td>3.006</td>\n",
       "      <td>0.05015</td>\n",
       "      <td>0.66320</td>\n",
       "      <td>0.47489</td>\n",
       "      <td>0.72193</td>\n",
       "      <td>0.15684</td>\n",
       "      <td>0.18906</td>\n",
       "      <td>0.47179</td>\n",
       "      <td>0.32858</td>\n",
       "    </tr>\n",
       "    <tr>\n",
       "      <th>156</th>\n",
       "      <td>Burundi</td>\n",
       "      <td>Sub-Saharan Africa</td>\n",
       "      <td>157</td>\n",
       "      <td>2.905</td>\n",
       "      <td>0.08658</td>\n",
       "      <td>0.01530</td>\n",
       "      <td>0.41587</td>\n",
       "      <td>0.22396</td>\n",
       "      <td>0.11850</td>\n",
       "      <td>0.10062</td>\n",
       "      <td>0.19727</td>\n",
       "      <td>1.83302</td>\n",
       "    </tr>\n",
       "    <tr>\n",
       "      <th>157</th>\n",
       "      <td>Togo</td>\n",
       "      <td>Sub-Saharan Africa</td>\n",
       "      <td>158</td>\n",
       "      <td>2.839</td>\n",
       "      <td>0.06727</td>\n",
       "      <td>0.20868</td>\n",
       "      <td>0.13995</td>\n",
       "      <td>0.28443</td>\n",
       "      <td>0.36453</td>\n",
       "      <td>0.10731</td>\n",
       "      <td>0.16681</td>\n",
       "      <td>1.56726</td>\n",
       "    </tr>\n",
       "  </tbody>\n",
       "</table>\n",
       "<p>158 rows × 12 columns</p>\n",
       "</div>"
      ],
      "text/plain": [
       "         Country                           Region  Happiness Rank  \\\n",
       "0    Switzerland                   Western Europe               1   \n",
       "1        Iceland                   Western Europe               2   \n",
       "2        Denmark                   Western Europe               3   \n",
       "3         Norway                   Western Europe               4   \n",
       "4         Canada                    North America               5   \n",
       "..           ...                              ...             ...   \n",
       "153       Rwanda               Sub-Saharan Africa             154   \n",
       "154        Benin               Sub-Saharan Africa             155   \n",
       "155        Syria  Middle East and Northern Africa             156   \n",
       "156      Burundi               Sub-Saharan Africa             157   \n",
       "157         Togo               Sub-Saharan Africa             158   \n",
       "\n",
       "     Happiness Score  Standard Error  Economy (GDP per Capita)   Family  \\\n",
       "0              7.587         0.03411                   1.39651  1.34951   \n",
       "1              7.561         0.04884                   1.30232  1.40223   \n",
       "2              7.527         0.03328                   1.32548  1.36058   \n",
       "3              7.522         0.03880                   1.45900  1.33095   \n",
       "4              7.427         0.03553                   1.32629  1.32261   \n",
       "..               ...             ...                       ...      ...   \n",
       "153            3.465         0.03464                   0.22208  0.77370   \n",
       "154            3.340         0.03656                   0.28665  0.35386   \n",
       "155            3.006         0.05015                   0.66320  0.47489   \n",
       "156            2.905         0.08658                   0.01530  0.41587   \n",
       "157            2.839         0.06727                   0.20868  0.13995   \n",
       "\n",
       "     Health (Life Expectancy)  Freedom  Trust (Government Corruption)  \\\n",
       "0                     0.94143  0.66557                        0.41978   \n",
       "1                     0.94784  0.62877                        0.14145   \n",
       "2                     0.87464  0.64938                        0.48357   \n",
       "3                     0.88521  0.66973                        0.36503   \n",
       "4                     0.90563  0.63297                        0.32957   \n",
       "..                        ...      ...                            ...   \n",
       "153                   0.42864  0.59201                        0.55191   \n",
       "154                   0.31910  0.48450                        0.08010   \n",
       "155                   0.72193  0.15684                        0.18906   \n",
       "156                   0.22396  0.11850                        0.10062   \n",
       "157                   0.28443  0.36453                        0.10731   \n",
       "\n",
       "     Generosity  Dystopia Residual  \n",
       "0       0.29678            2.51738  \n",
       "1       0.43630            2.70201  \n",
       "2       0.34139            2.49204  \n",
       "3       0.34699            2.46531  \n",
       "4       0.45811            2.45176  \n",
       "..          ...                ...  \n",
       "153     0.22628            0.67042  \n",
       "154     0.18260            1.63328  \n",
       "155     0.47179            0.32858  \n",
       "156     0.19727            1.83302  \n",
       "157     0.16681            1.56726  \n",
       "\n",
       "[158 rows x 12 columns]"
      ]
     },
     "execution_count": 9,
     "metadata": {},
     "output_type": "execute_result"
    }
   ],
   "source": [
    "import pandas as pd\n",
    "import re\n",
    "url=\"https://raw.githubusercontent.com/dsrscientist/DSData/master/happiness_score_dataset.csv\"\n",
    "df=pd.read_csv(url)\n",
    "df\n",
    "    "
   ]
  },
  {
   "cell_type": "code",
   "execution_count": 44,
   "id": "0d7a1448",
   "metadata": {},
   "outputs": [
    {
     "data": {
      "text/plain": [
       "0      Switze\n",
       "1      Icelan\n",
       "2      Denmar\n",
       "3      Norway\n",
       "4      Canada\n",
       "        ...  \n",
       "153    Rwanda\n",
       "154       NaN\n",
       "155       NaN\n",
       "156    Burund\n",
       "157       NaN\n",
       "Name: First_Five_letter, Length: 158, dtype: object"
      ]
     },
     "execution_count": 44,
     "metadata": {},
     "output_type": "execute_result"
    }
   ],
   "source": [
    "pattern=r\"\\b(\\w{6})\"\n",
    "df['First_Five_letter']=df['Country'].str.extract(pattern,expand=False)\n",
    "\n",
    "df['First_Five_letter']"
   ]
  },
  {
   "cell_type": "code",
   "execution_count": 47,
   "id": "f84a0960",
   "metadata": {},
   "outputs": [
    {
     "data": {
      "text/plain": [
       "0    Switze\n",
       "1    Icelan\n",
       "2    Denmar\n",
       "3    Norway\n",
       "4    Canada\n",
       "Name: First_Five_letter, dtype: object"
      ]
     },
     "execution_count": 47,
     "metadata": {},
     "output_type": "execute_result"
    }
   ],
   "source": [
    "df['First_Five_letter'].head()"
   ]
  },
  {
   "cell_type": "markdown",
   "id": "be1ffecd",
   "metadata": {},
   "source": [
    "Q9"
   ]
  },
  {
   "cell_type": "code",
   "execution_count": 88,
   "id": "0a4712fb",
   "metadata": {},
   "outputs": [
    {
     "name": "stdout",
     "output_type": "stream",
     "text": [
      "RegularExpression 1 IsAn 2 ImportantTopic 3 InPython\n"
     ]
    }
   ],
   "source": [
    "import re\n",
    "def insert_space(string):\n",
    "    return re.sub(r\"(\\w)([0-9])\",r\"\\1 \\2 \",string)\n",
    "print(insert_space(\"RegularExpression1IsAn2ImportantTopic3InPython\"))\n",
    " "
   ]
  },
  {
   "cell_type": "code",
   "execution_count": null,
   "id": "ba5f404f",
   "metadata": {},
   "outputs": [],
   "source": []
  }
 ],
 "metadata": {
  "kernelspec": {
   "display_name": "Python 3 (ipykernel)",
   "language": "python",
   "name": "python3"
  },
  "language_info": {
   "codemirror_mode": {
    "name": "ipython",
    "version": 3
   },
   "file_extension": ".py",
   "mimetype": "text/x-python",
   "name": "python",
   "nbconvert_exporter": "python",
   "pygments_lexer": "ipython3",
   "version": "3.10.9"
  }
 },
 "nbformat": 4,
 "nbformat_minor": 5
}
