{
 "cells": [
  {
   "cell_type": "code",
   "execution_count": 1,
   "id": "8a350108",
   "metadata": {},
   "outputs": [
    {
     "name": "stdout",
     "output_type": "stream",
     "text": [
      "Requirement already satisfied: selenium in c:\\users\\hanum\\anaconda3\\lib\\site-packages (4.20.0)\n",
      "Requirement already satisfied: certifi>=2021.10.8 in c:\\users\\hanum\\anaconda3\\lib\\site-packages (from selenium) (2022.12.7)\n",
      "Requirement already satisfied: trio~=0.17 in c:\\users\\hanum\\anaconda3\\lib\\site-packages (from selenium) (0.25.0)\n",
      "Requirement already satisfied: trio-websocket~=0.9 in c:\\users\\hanum\\anaconda3\\lib\\site-packages (from selenium) (0.11.1)\n",
      "Requirement already satisfied: urllib3[socks]<3,>=1.26 in c:\\users\\hanum\\anaconda3\\lib\\site-packages (from selenium) (1.26.14)\n",
      "Requirement already satisfied: typing_extensions>=4.9.0 in c:\\users\\hanum\\anaconda3\\lib\\site-packages (from selenium) (4.11.0)\n",
      "Requirement already satisfied: attrs>=23.2.0 in c:\\users\\hanum\\anaconda3\\lib\\site-packages (from trio~=0.17->selenium) (23.2.0)\n",
      "Requirement already satisfied: exceptiongroup in c:\\users\\hanum\\anaconda3\\lib\\site-packages (from trio~=0.17->selenium) (1.2.1)\n",
      "Requirement already satisfied: sniffio>=1.3.0 in c:\\users\\hanum\\anaconda3\\lib\\site-packages (from trio~=0.17->selenium) (1.3.1)\n",
      "Requirement already satisfied: outcome in c:\\users\\hanum\\anaconda3\\lib\\site-packages (from trio~=0.17->selenium) (1.3.0.post0)\n",
      "Requirement already satisfied: cffi>=1.14 in c:\\users\\hanum\\anaconda3\\lib\\site-packages (from trio~=0.17->selenium) (1.15.1)\n",
      "Requirement already satisfied: idna in c:\\users\\hanum\\anaconda3\\lib\\site-packages (from trio~=0.17->selenium) (3.4)\n",
      "Requirement already satisfied: sortedcontainers in c:\\users\\hanum\\anaconda3\\lib\\site-packages (from trio~=0.17->selenium) (2.4.0)\n",
      "Requirement already satisfied: wsproto>=0.14 in c:\\users\\hanum\\anaconda3\\lib\\site-packages (from trio-websocket~=0.9->selenium) (1.2.0)\n",
      "Requirement already satisfied: PySocks!=1.5.7,<2.0,>=1.5.6 in c:\\users\\hanum\\anaconda3\\lib\\site-packages (from urllib3[socks]<3,>=1.26->selenium) (1.7.1)\n",
      "Requirement already satisfied: pycparser in c:\\users\\hanum\\anaconda3\\lib\\site-packages (from cffi>=1.14->trio~=0.17->selenium) (2.21)\n",
      "Requirement already satisfied: h11<1,>=0.9.0 in c:\\users\\hanum\\anaconda3\\lib\\site-packages (from wsproto>=0.14->trio-websocket~=0.9->selenium) (0.14.0)\n"
     ]
    }
   ],
   "source": [
    "! pip install selenium"
   ]
  },
  {
   "cell_type": "code",
   "execution_count": 199,
   "id": "15a0dccb",
   "metadata": {},
   "outputs": [],
   "source": [
    "import selenium\n",
    "import pandas as pd\n",
    "from selenium import webdriver\n",
    "import warnings\n",
    "warnings.filterwarnings('ignore')\n",
    "from selenium.webdriver.common.by import By\n",
    "import time\n",
    "driver=webdriver.Chrome()"
   ]
  },
  {
   "cell_type": "markdown",
   "id": "60f55174",
   "metadata": {},
   "source": [
    "Q1)"
   ]
  },
  {
   "cell_type": "code",
   "execution_count": 200,
   "id": "4a26051b",
   "metadata": {},
   "outputs": [],
   "source": [
    "driver.get('https://www.naukri.com/')"
   ]
  },
  {
   "cell_type": "code",
   "execution_count": 201,
   "id": "74632cc4",
   "metadata": {},
   "outputs": [],
   "source": [
    "J_title=[]\n",
    "J_location=[]\n",
    "C_Name=[]\n",
    "E_R=[]\n"
   ]
  },
  {
   "cell_type": "code",
   "execution_count": 206,
   "id": "6359c04c",
   "metadata": {},
   "outputs": [],
   "source": [
    "title_tags=driver.find_elements(By.XPATH,'//div[@class=\"cust-job-tuple layout-wrapper lay-2 sjw__tuple \"]/div/a')\n",
    "for i in title_tags:\n",
    "    title=i.text\n",
    "    J_title.append(title)"
   ]
  },
  {
   "cell_type": "code",
   "execution_count": 207,
   "id": "598be775",
   "metadata": {},
   "outputs": [
    {
     "data": {
      "text/plain": [
       "['Data Scientist, Marketing',\n",
       " 'Data Scientist',\n",
       " 'NLP Data Scientist - Real World Data (RWD)',\n",
       " 'Associate Manager / Senior Data Scientist (CPG)',\n",
       " 'Data Scientist HTHD',\n",
       " 'Data Science Associate',\n",
       " 'DS - NLP Expert',\n",
       " 'Lead Data Scientist',\n",
       " 'Sr . Data Scientist / Manager',\n",
       " 'Data Scientist',\n",
       " 'Generative AI Data Scientist',\n",
       " 'Data Scientist',\n",
       " 'Lead / Senior Data Scientist',\n",
       " 'Sr. Data Scientist',\n",
       " 'Global GI Data Scientist',\n",
       " 'Data Scientist',\n",
       " 'Data Scientist',\n",
       " 'Data Scientist',\n",
       " 'Data Scientist',\n",
       " 'Data Scientist Professional']"
      ]
     },
     "execution_count": 207,
     "metadata": {},
     "output_type": "execute_result"
    }
   ],
   "source": [
    "J_title"
   ]
  },
  {
   "cell_type": "code",
   "execution_count": 209,
   "id": "cc035ad4",
   "metadata": {},
   "outputs": [],
   "source": [
    "location_tags=driver.find_elements(By.XPATH,'//span[@class=\"ni-job-tuple-icon ni-job-tuple-icon-srp-location loc\"]')\n",
    "for i in location_tags:\n",
    "    location=i.text\n",
    "    J_location.append(location)"
   ]
  },
  {
   "cell_type": "code",
   "execution_count": 210,
   "id": "7acaaa2d",
   "metadata": {},
   "outputs": [
    {
     "data": {
      "text/plain": [
       "['Kolkata, Mumbai, New Delhi, Hyderabad/Secunderabad, Pune, Chennai, Bangalore/Bengaluru',\n",
       " 'Delhi / NCR, Mumbai, Bengaluru',\n",
       " 'Kolkata, Mumbai, New Delhi, Hyderabad/Secunderabad, Pune, Chennai, Bangalore/Bengaluru',\n",
       " 'Kolkata, Mumbai, New Delhi, Hyderabad, Pune, Chennai, Bengaluru',\n",
       " 'Kolkata, Mumbai, New Delhi, Hyderabad, Pune, Chennai, Bengaluru',\n",
       " 'Hybrid - Pune, Gurugram, Bengaluru',\n",
       " 'Hyderabad, Telangana, Gurugram, Haryana, Bangalore/ Bengaluru, Karnataka',\n",
       " 'Greater Noida, Bengaluru',\n",
       " 'Noida, Gurugram, Bengaluru',\n",
       " 'Gurugram, Bengaluru',\n",
       " 'Hyderabad, Gurugram, Bengaluru',\n",
       " 'Noida, Gurugram, Bengaluru',\n",
       " 'Noida',\n",
       " 'Gurugram',\n",
       " 'Faridabad',\n",
       " 'Gurugram',\n",
       " 'Kolkata, Mumbai, New Delhi, Hyderabad, Pune, Chennai, Bengaluru',\n",
       " 'Kolkata, Mumbai, New Delhi, Hyderabad, Pune, Chennai, Bengaluru',\n",
       " 'Kolkata, Mumbai, New Delhi, Hyderabad, Pune, Chennai, Bengaluru',\n",
       " 'Kolkata, Mumbai, New Delhi, Hyderabad/Secunderabad, Pune, Chennai, Bangalore/Bengaluru']"
      ]
     },
     "execution_count": 210,
     "metadata": {},
     "output_type": "execute_result"
    }
   ],
   "source": [
    "J_location"
   ]
  },
  {
   "cell_type": "code",
   "execution_count": 211,
   "id": "ec8c21eb",
   "metadata": {},
   "outputs": [],
   "source": [
    "R_tags=driver.find_elements(By.XPATH,'//span[@class=\"ni-job-tuple-icon ni-job-tuple-icon-srp-experience exp\"]')\n",
    "for i in R_tags:\n",
    "    R=i.text\n",
    "    E_R.append(R)\n"
   ]
  },
  {
   "cell_type": "code",
   "execution_count": 212,
   "id": "7c0ed2b9",
   "metadata": {},
   "outputs": [
    {
     "data": {
      "text/plain": [
       "['4-6 Yrs',\n",
       " '4-9 Yrs',\n",
       " '7-8 Yrs',\n",
       " '5-11 Yrs',\n",
       " '1-4 Yrs',\n",
       " '1-3 Yrs',\n",
       " '6-11 Yrs',\n",
       " '6-9 Yrs',\n",
       " '7-10 Yrs',\n",
       " '3-7 Yrs',\n",
       " '8-13 Yrs',\n",
       " '3-7 Yrs',\n",
       " '7-12 Yrs',\n",
       " '4-8 Yrs',\n",
       " '3-5 Yrs',\n",
       " '3-6 Yrs',\n",
       " '3-7 Yrs',\n",
       " '0-5 Yrs',\n",
       " '5-10 Yrs',\n",
       " '5-9 Yrs']"
      ]
     },
     "execution_count": 212,
     "metadata": {},
     "output_type": "execute_result"
    }
   ],
   "source": [
    "E_R"
   ]
  },
  {
   "cell_type": "code",
   "execution_count": 213,
   "id": "e3c85ec5",
   "metadata": {},
   "outputs": [],
   "source": [
    "Name_tags=driver.find_elements(By.XPATH,'//a[@class=\" comp-name mw-25\"]')\n",
    "for i in Name_tags:\n",
    "    Name=i.text\n",
    "    C_Name.append(Name)"
   ]
  },
  {
   "cell_type": "code",
   "execution_count": 214,
   "id": "34203538",
   "metadata": {},
   "outputs": [
    {
     "data": {
      "text/plain": [
       "['Coursera',\n",
       " 'Deloitte',\n",
       " 'Agilite Global Solutions',\n",
       " 'Ford',\n",
       " 'ZS Associates',\n",
       " 'Genpact',\n",
       " 'Honeywell',\n",
       " 'Novitas Infotech',\n",
       " 'Blackbuck',\n",
       " 'Genpact',\n",
       " 'Novitas Infotech',\n",
       " 'Innovaccer',\n",
       " 'Orange Business Services',\n",
       " 'Hitachi Ltd.',\n",
       " 'Indusind Bank',\n",
       " 'Digital Glyde',\n",
       " 'Response Informatics']"
      ]
     },
     "execution_count": 214,
     "metadata": {},
     "output_type": "execute_result"
    }
   ],
   "source": [
    "C_Name"
   ]
  },
  {
   "cell_type": "code",
   "execution_count": 215,
   "id": "77c84836",
   "metadata": {},
   "outputs": [
    {
     "name": "stdout",
     "output_type": "stream",
     "text": [
      "20 20 20 17\n"
     ]
    }
   ],
   "source": [
    "print(len(J_title),len(J_location),len(E_R),len(C_Name))"
   ]
  },
  {
   "cell_type": "code",
   "execution_count": 216,
   "id": "09de21a2",
   "metadata": {},
   "outputs": [
    {
     "data": {
      "text/html": [
       "<div>\n",
       "<style scoped>\n",
       "    .dataframe tbody tr th:only-of-type {\n",
       "        vertical-align: middle;\n",
       "    }\n",
       "\n",
       "    .dataframe tbody tr th {\n",
       "        vertical-align: top;\n",
       "    }\n",
       "\n",
       "    .dataframe thead th {\n",
       "        text-align: right;\n",
       "    }\n",
       "</style>\n",
       "<table border=\"1\" class=\"dataframe\">\n",
       "  <thead>\n",
       "    <tr style=\"text-align: right;\">\n",
       "      <th></th>\n",
       "      <th>Titlt</th>\n",
       "      <th>Location</th>\n",
       "      <th>Experinced</th>\n",
       "    </tr>\n",
       "  </thead>\n",
       "  <tbody>\n",
       "    <tr>\n",
       "      <th>0</th>\n",
       "      <td>Data Scientist, Marketing</td>\n",
       "      <td>Kolkata, Mumbai, New Delhi, Hyderabad/Secunder...</td>\n",
       "      <td>4-6 Yrs</td>\n",
       "    </tr>\n",
       "    <tr>\n",
       "      <th>1</th>\n",
       "      <td>Data Scientist</td>\n",
       "      <td>Delhi / NCR, Mumbai, Bengaluru</td>\n",
       "      <td>4-9 Yrs</td>\n",
       "    </tr>\n",
       "    <tr>\n",
       "      <th>2</th>\n",
       "      <td>NLP Data Scientist - Real World Data (RWD)</td>\n",
       "      <td>Kolkata, Mumbai, New Delhi, Hyderabad/Secunder...</td>\n",
       "      <td>7-8 Yrs</td>\n",
       "    </tr>\n",
       "    <tr>\n",
       "      <th>3</th>\n",
       "      <td>Associate Manager / Senior Data Scientist (CPG)</td>\n",
       "      <td>Kolkata, Mumbai, New Delhi, Hyderabad, Pune, C...</td>\n",
       "      <td>5-11 Yrs</td>\n",
       "    </tr>\n",
       "    <tr>\n",
       "      <th>4</th>\n",
       "      <td>Data Scientist HTHD</td>\n",
       "      <td>Kolkata, Mumbai, New Delhi, Hyderabad, Pune, C...</td>\n",
       "      <td>1-4 Yrs</td>\n",
       "    </tr>\n",
       "    <tr>\n",
       "      <th>5</th>\n",
       "      <td>Data Science Associate</td>\n",
       "      <td>Hybrid - Pune, Gurugram, Bengaluru</td>\n",
       "      <td>1-3 Yrs</td>\n",
       "    </tr>\n",
       "    <tr>\n",
       "      <th>6</th>\n",
       "      <td>DS - NLP Expert</td>\n",
       "      <td>Hyderabad, Telangana, Gurugram, Haryana, Banga...</td>\n",
       "      <td>6-11 Yrs</td>\n",
       "    </tr>\n",
       "    <tr>\n",
       "      <th>7</th>\n",
       "      <td>Lead Data Scientist</td>\n",
       "      <td>Greater Noida, Bengaluru</td>\n",
       "      <td>6-9 Yrs</td>\n",
       "    </tr>\n",
       "    <tr>\n",
       "      <th>8</th>\n",
       "      <td>Sr . Data Scientist / Manager</td>\n",
       "      <td>Noida, Gurugram, Bengaluru</td>\n",
       "      <td>7-10 Yrs</td>\n",
       "    </tr>\n",
       "    <tr>\n",
       "      <th>9</th>\n",
       "      <td>Data Scientist</td>\n",
       "      <td>Gurugram, Bengaluru</td>\n",
       "      <td>3-7 Yrs</td>\n",
       "    </tr>\n",
       "  </tbody>\n",
       "</table>\n",
       "</div>"
      ],
      "text/plain": [
       "                                             Titlt  \\\n",
       "0                        Data Scientist, Marketing   \n",
       "1                                   Data Scientist   \n",
       "2       NLP Data Scientist - Real World Data (RWD)   \n",
       "3  Associate Manager / Senior Data Scientist (CPG)   \n",
       "4                              Data Scientist HTHD   \n",
       "5                           Data Science Associate   \n",
       "6                                  DS - NLP Expert   \n",
       "7                              Lead Data Scientist   \n",
       "8                    Sr . Data Scientist / Manager   \n",
       "9                                   Data Scientist   \n",
       "\n",
       "                                            Location Experinced  \n",
       "0  Kolkata, Mumbai, New Delhi, Hyderabad/Secunder...    4-6 Yrs  \n",
       "1                     Delhi / NCR, Mumbai, Bengaluru    4-9 Yrs  \n",
       "2  Kolkata, Mumbai, New Delhi, Hyderabad/Secunder...    7-8 Yrs  \n",
       "3  Kolkata, Mumbai, New Delhi, Hyderabad, Pune, C...   5-11 Yrs  \n",
       "4  Kolkata, Mumbai, New Delhi, Hyderabad, Pune, C...    1-4 Yrs  \n",
       "5                 Hybrid - Pune, Gurugram, Bengaluru    1-3 Yrs  \n",
       "6  Hyderabad, Telangana, Gurugram, Haryana, Banga...   6-11 Yrs  \n",
       "7                           Greater Noida, Bengaluru    6-9 Yrs  \n",
       "8                         Noida, Gurugram, Bengaluru   7-10 Yrs  \n",
       "9                                Gurugram, Bengaluru    3-7 Yrs  "
      ]
     },
     "execution_count": 216,
     "metadata": {},
     "output_type": "execute_result"
    }
   ],
   "source": [
    "df=pd.DataFrame({'Titlt':J_title,'Location':J_location,'Experinced':E_R})\n",
    "df.head(10)"
   ]
  },
  {
   "cell_type": "code",
   "execution_count": null,
   "id": "9df0d7bd",
   "metadata": {},
   "outputs": [],
   "source": [
    "Q)2"
   ]
  },
  {
   "cell_type": "code",
   "execution_count": 65,
   "id": "39e90ebc",
   "metadata": {},
   "outputs": [],
   "source": [
    "import selenium\n",
    "import pandas as pd\n",
    "from selenium import webdriver\n",
    "import warnings\n",
    "warnings.filterwarnings('ignore')\n",
    "from selenium.webdriver.common.by import By\n",
    "import time\n",
    "driver=webdriver.Chrome()"
   ]
  },
  {
   "cell_type": "code",
   "execution_count": 66,
   "id": "49fadc67",
   "metadata": {},
   "outputs": [],
   "source": [
    "driver.get('https://www.shine.com/')"
   ]
  },
  {
   "cell_type": "code",
   "execution_count": 67,
   "id": "02e770d0",
   "metadata": {},
   "outputs": [],
   "source": [
    "Job_title=[]\n",
    "title_tags=driver.find_elements(By.XPATH,'//strong[@class=\"jobCard_pReplaceH2__xWmHg\"]')\n",
    "for i in title_tags:\n",
    "    title=i.text\n",
    "    Job_title.append(title)"
   ]
  },
  {
   "cell_type": "code",
   "execution_count": 68,
   "id": "48305175",
   "metadata": {},
   "outputs": [
    {
     "data": {
      "text/plain": [
       "['Hiring For Data Scientist',\n",
       " 'Data Scientist',\n",
       " 'Data Scientist Opening',\n",
       " 'Data Scientist',\n",
       " 'Data Scientist',\n",
       " 'Data Scientist Urgent Recruitment',\n",
       " 'Data Scientist Opening',\n",
       " 'Data Scientist Vacancy',\n",
       " 'Hiring For Data Scientist',\n",
       " 'Data Scientist Recruitment',\n",
       " 'Urgent | VP DataScientist | Bangalore Location',\n",
       " 'Data Science Manager',\n",
       " 'Head Data Science',\n",
       " 'Data Science Analytics',\n",
       " 'Data Support Executive',\n",
       " 'Azure Data engineer',\n",
       " 'Azure Data Engineer',\n",
       " 'Data Science- Manager',\n",
       " 'Immediate Joiner For SENIOR DATA ENGINEER __ PAN INDI ...',\n",
       " 'Manager Data Science']"
      ]
     },
     "execution_count": 68,
     "metadata": {},
     "output_type": "execute_result"
    }
   ],
   "source": [
    "Job_title"
   ]
  },
  {
   "cell_type": "code",
   "execution_count": 70,
   "id": "cd63f34e",
   "metadata": {},
   "outputs": [],
   "source": [
    "Job_location=[]\n",
    "location_tags=driver.find_elements(By.XPATH,'//div[@class=\" jobCard_jobCard_lists_item__YxRkV jobCard_locationIcon__zrWt2\"]')\n",
    "for i in location_tags:\n",
    "    location=i.text\n",
    "    Job_location.append(location)"
   ]
  },
  {
   "cell_type": "code",
   "execution_count": 71,
   "id": "c1298fab",
   "metadata": {},
   "outputs": [
    {
     "data": {
      "text/plain": [
       "['Bangalore\\n+15',\n",
       " 'Bangalore\\n+4',\n",
       " 'Bangalore\\n+12',\n",
       " 'Bangalore',\n",
       " 'Bangalore',\n",
       " 'Bangalore\\n+13',\n",
       " 'Bangalore\\n+13',\n",
       " 'Bangalore\\n+13',\n",
       " 'Bangalore\\n+13',\n",
       " 'Bangalore\\n+12',\n",
       " 'Bangalore',\n",
       " 'Bangalore\\n+3',\n",
       " 'Bangalore\\n+7',\n",
       " 'Bangalore\\n+7',\n",
       " 'Bangalore\\n+7',\n",
       " 'Bangalore\\n+4',\n",
       " 'Bangalore\\n+3',\n",
       " 'Bangalore\\n+7',\n",
       " 'Bangalore\\n+8',\n",
       " 'Bangalore\\n+7']"
      ]
     },
     "execution_count": 71,
     "metadata": {},
     "output_type": "execute_result"
    }
   ],
   "source": [
    "Job_location"
   ]
  },
  {
   "cell_type": "code",
   "execution_count": 72,
   "id": "7b7ce7e5",
   "metadata": {},
   "outputs": [],
   "source": [
    "Company_name=[]\n",
    "name_tags=driver.find_elements(By.XPATH,'//div[@class=\"jobCard_jobCard_cName__mYnow\"]')\n",
    "for i in name_tags:\n",
    "    name=i.text\n",
    "    Company_name.append(name)"
   ]
  },
  {
   "cell_type": "code",
   "execution_count": 73,
   "id": "ed345695",
   "metadata": {},
   "outputs": [
    {
     "data": {
      "text/plain": [
       "['neelima staffing solution',\n",
       " 'alike thoughts solutions private li...',\n",
       " 'radhika enterprises',\n",
       " 'unified excellence llp',\n",
       " 'unified excellence llp',\n",
       " 'divya staffing solution',\n",
       " 'divya staffing solution',\n",
       " 'divya staffing solution',\n",
       " 'divya staffing solution',\n",
       " 'radhika enterprises',\n",
       " 'teamfocus human capital private lim...',\n",
       " 'mackenzie modern it solutions priva...',\n",
       " 'mackenzie modern it solutions priva...',\n",
       " 'mackenzie modern it solutions priva...',\n",
       " 'mackenzie modern it solutions priva...',\n",
       " 'capgemini technology services india...',\n",
       " 'live connections placements pvt ltd',\n",
       " 'mackenzie modern it solutions priva...',\n",
       " 'sigma allied services private limit...',\n",
       " 'mackenzie modern it solutions priva...']"
      ]
     },
     "execution_count": 73,
     "metadata": {},
     "output_type": "execute_result"
    }
   ],
   "source": [
    "Company_name"
   ]
  },
  {
   "cell_type": "code",
   "execution_count": 74,
   "id": "7beb3da8",
   "metadata": {},
   "outputs": [],
   "source": [
    "E_required=[]\n",
    "required_tags=driver.find_elements(By.XPATH,'//div[@class=\" jobCard_jobCard_lists_item__YxRkV jobCard_jobIcon__3FB1t\"]')\n",
    "for i in required_tags:\n",
    "    required=i.text\n",
    "    E_required.append(required)"
   ]
  },
  {
   "cell_type": "code",
   "execution_count": 75,
   "id": "9a66e5f9",
   "metadata": {},
   "outputs": [
    {
     "data": {
      "text/plain": [
       "['0 to 4 Yrs',\n",
       " '5 to 10 Yrs',\n",
       " '0 to 4 Yrs',\n",
       " '4 to 8 Yrs',\n",
       " '4 to 8 Yrs',\n",
       " '0 to 4 Yrs',\n",
       " '0 to 4 Yrs',\n",
       " '0 to 4 Yrs',\n",
       " '0 to 4 Yrs',\n",
       " '0 to 4 Yrs',\n",
       " '16 to >25 Yrs',\n",
       " '4 to 9 Yrs',\n",
       " '4 to 9 Yrs',\n",
       " '5 to 10 Yrs',\n",
       " '5 to 10 Yrs',\n",
       " '6 to 10 Yrs',\n",
       " '4 to 7 Yrs',\n",
       " '5 to 10 Yrs',\n",
       " '5 to 10 Yrs',\n",
       " '5 to 9 Yrs']"
      ]
     },
     "execution_count": 75,
     "metadata": {},
     "output_type": "execute_result"
    }
   ],
   "source": [
    "E_required"
   ]
  },
  {
   "cell_type": "code",
   "execution_count": 76,
   "id": "4e8a20ce",
   "metadata": {},
   "outputs": [
    {
     "name": "stdout",
     "output_type": "stream",
     "text": [
      "20\n"
     ]
    }
   ],
   "source": [
    "print(len(Job_title))"
   ]
  },
  {
   "cell_type": "code",
   "execution_count": 77,
   "id": "cb7ec95a",
   "metadata": {},
   "outputs": [
    {
     "data": {
      "text/html": [
       "<div>\n",
       "<style scoped>\n",
       "    .dataframe tbody tr th:only-of-type {\n",
       "        vertical-align: middle;\n",
       "    }\n",
       "\n",
       "    .dataframe tbody tr th {\n",
       "        vertical-align: top;\n",
       "    }\n",
       "\n",
       "    .dataframe thead th {\n",
       "        text-align: right;\n",
       "    }\n",
       "</style>\n",
       "<table border=\"1\" class=\"dataframe\">\n",
       "  <thead>\n",
       "    <tr style=\"text-align: right;\">\n",
       "      <th></th>\n",
       "      <th>Title</th>\n",
       "      <th>Location</th>\n",
       "      <th>Company</th>\n",
       "      <th>Experinced</th>\n",
       "    </tr>\n",
       "  </thead>\n",
       "  <tbody>\n",
       "    <tr>\n",
       "      <th>0</th>\n",
       "      <td>Hiring For Data Scientist</td>\n",
       "      <td>Bangalore\\n+15</td>\n",
       "      <td>neelima staffing solution</td>\n",
       "      <td>0 to 4 Yrs</td>\n",
       "    </tr>\n",
       "    <tr>\n",
       "      <th>1</th>\n",
       "      <td>Data Scientist</td>\n",
       "      <td>Bangalore\\n+4</td>\n",
       "      <td>alike thoughts solutions private li...</td>\n",
       "      <td>5 to 10 Yrs</td>\n",
       "    </tr>\n",
       "    <tr>\n",
       "      <th>2</th>\n",
       "      <td>Data Scientist Opening</td>\n",
       "      <td>Bangalore\\n+12</td>\n",
       "      <td>radhika enterprises</td>\n",
       "      <td>0 to 4 Yrs</td>\n",
       "    </tr>\n",
       "    <tr>\n",
       "      <th>3</th>\n",
       "      <td>Data Scientist</td>\n",
       "      <td>Bangalore</td>\n",
       "      <td>unified excellence llp</td>\n",
       "      <td>4 to 8 Yrs</td>\n",
       "    </tr>\n",
       "    <tr>\n",
       "      <th>4</th>\n",
       "      <td>Data Scientist</td>\n",
       "      <td>Bangalore</td>\n",
       "      <td>unified excellence llp</td>\n",
       "      <td>4 to 8 Yrs</td>\n",
       "    </tr>\n",
       "    <tr>\n",
       "      <th>5</th>\n",
       "      <td>Data Scientist Urgent Recruitment</td>\n",
       "      <td>Bangalore\\n+13</td>\n",
       "      <td>divya staffing solution</td>\n",
       "      <td>0 to 4 Yrs</td>\n",
       "    </tr>\n",
       "    <tr>\n",
       "      <th>6</th>\n",
       "      <td>Data Scientist Opening</td>\n",
       "      <td>Bangalore\\n+13</td>\n",
       "      <td>divya staffing solution</td>\n",
       "      <td>0 to 4 Yrs</td>\n",
       "    </tr>\n",
       "    <tr>\n",
       "      <th>7</th>\n",
       "      <td>Data Scientist Vacancy</td>\n",
       "      <td>Bangalore\\n+13</td>\n",
       "      <td>divya staffing solution</td>\n",
       "      <td>0 to 4 Yrs</td>\n",
       "    </tr>\n",
       "    <tr>\n",
       "      <th>8</th>\n",
       "      <td>Hiring For Data Scientist</td>\n",
       "      <td>Bangalore\\n+13</td>\n",
       "      <td>divya staffing solution</td>\n",
       "      <td>0 to 4 Yrs</td>\n",
       "    </tr>\n",
       "    <tr>\n",
       "      <th>9</th>\n",
       "      <td>Data Scientist Recruitment</td>\n",
       "      <td>Bangalore\\n+12</td>\n",
       "      <td>radhika enterprises</td>\n",
       "      <td>0 to 4 Yrs</td>\n",
       "    </tr>\n",
       "    <tr>\n",
       "      <th>10</th>\n",
       "      <td>Urgent | VP DataScientist | Bangalore Location</td>\n",
       "      <td>Bangalore</td>\n",
       "      <td>teamfocus human capital private lim...</td>\n",
       "      <td>16 to &gt;25 Yrs</td>\n",
       "    </tr>\n",
       "    <tr>\n",
       "      <th>11</th>\n",
       "      <td>Data Science Manager</td>\n",
       "      <td>Bangalore\\n+3</td>\n",
       "      <td>mackenzie modern it solutions priva...</td>\n",
       "      <td>4 to 9 Yrs</td>\n",
       "    </tr>\n",
       "    <tr>\n",
       "      <th>12</th>\n",
       "      <td>Head Data Science</td>\n",
       "      <td>Bangalore\\n+7</td>\n",
       "      <td>mackenzie modern it solutions priva...</td>\n",
       "      <td>4 to 9 Yrs</td>\n",
       "    </tr>\n",
       "    <tr>\n",
       "      <th>13</th>\n",
       "      <td>Data Science Analytics</td>\n",
       "      <td>Bangalore\\n+7</td>\n",
       "      <td>mackenzie modern it solutions priva...</td>\n",
       "      <td>5 to 10 Yrs</td>\n",
       "    </tr>\n",
       "    <tr>\n",
       "      <th>14</th>\n",
       "      <td>Data Support Executive</td>\n",
       "      <td>Bangalore\\n+7</td>\n",
       "      <td>mackenzie modern it solutions priva...</td>\n",
       "      <td>5 to 10 Yrs</td>\n",
       "    </tr>\n",
       "    <tr>\n",
       "      <th>15</th>\n",
       "      <td>Azure Data engineer</td>\n",
       "      <td>Bangalore\\n+4</td>\n",
       "      <td>capgemini technology services india...</td>\n",
       "      <td>6 to 10 Yrs</td>\n",
       "    </tr>\n",
       "    <tr>\n",
       "      <th>16</th>\n",
       "      <td>Azure Data Engineer</td>\n",
       "      <td>Bangalore\\n+3</td>\n",
       "      <td>live connections placements pvt ltd</td>\n",
       "      <td>4 to 7 Yrs</td>\n",
       "    </tr>\n",
       "    <tr>\n",
       "      <th>17</th>\n",
       "      <td>Data Science- Manager</td>\n",
       "      <td>Bangalore\\n+7</td>\n",
       "      <td>mackenzie modern it solutions priva...</td>\n",
       "      <td>5 to 10 Yrs</td>\n",
       "    </tr>\n",
       "    <tr>\n",
       "      <th>18</th>\n",
       "      <td>Immediate Joiner For SENIOR DATA ENGINEER __ P...</td>\n",
       "      <td>Bangalore\\n+8</td>\n",
       "      <td>sigma allied services private limit...</td>\n",
       "      <td>5 to 10 Yrs</td>\n",
       "    </tr>\n",
       "    <tr>\n",
       "      <th>19</th>\n",
       "      <td>Manager Data Science</td>\n",
       "      <td>Bangalore\\n+7</td>\n",
       "      <td>mackenzie modern it solutions priva...</td>\n",
       "      <td>5 to 9 Yrs</td>\n",
       "    </tr>\n",
       "  </tbody>\n",
       "</table>\n",
       "</div>"
      ],
      "text/plain": [
       "                                                Title        Location  \\\n",
       "0                           Hiring For Data Scientist  Bangalore\\n+15   \n",
       "1                                      Data Scientist   Bangalore\\n+4   \n",
       "2                              Data Scientist Opening  Bangalore\\n+12   \n",
       "3                                      Data Scientist       Bangalore   \n",
       "4                                      Data Scientist       Bangalore   \n",
       "5                   Data Scientist Urgent Recruitment  Bangalore\\n+13   \n",
       "6                              Data Scientist Opening  Bangalore\\n+13   \n",
       "7                              Data Scientist Vacancy  Bangalore\\n+13   \n",
       "8                           Hiring For Data Scientist  Bangalore\\n+13   \n",
       "9                          Data Scientist Recruitment  Bangalore\\n+12   \n",
       "10     Urgent | VP DataScientist | Bangalore Location       Bangalore   \n",
       "11                               Data Science Manager   Bangalore\\n+3   \n",
       "12                                  Head Data Science   Bangalore\\n+7   \n",
       "13                             Data Science Analytics   Bangalore\\n+7   \n",
       "14                             Data Support Executive   Bangalore\\n+7   \n",
       "15                                Azure Data engineer   Bangalore\\n+4   \n",
       "16                                Azure Data Engineer   Bangalore\\n+3   \n",
       "17                              Data Science- Manager   Bangalore\\n+7   \n",
       "18  Immediate Joiner For SENIOR DATA ENGINEER __ P...   Bangalore\\n+8   \n",
       "19                               Manager Data Science   Bangalore\\n+7   \n",
       "\n",
       "                                   Company     Experinced  \n",
       "0                neelima staffing solution     0 to 4 Yrs  \n",
       "1   alike thoughts solutions private li...    5 to 10 Yrs  \n",
       "2                      radhika enterprises     0 to 4 Yrs  \n",
       "3                   unified excellence llp     4 to 8 Yrs  \n",
       "4                   unified excellence llp     4 to 8 Yrs  \n",
       "5                  divya staffing solution     0 to 4 Yrs  \n",
       "6                  divya staffing solution     0 to 4 Yrs  \n",
       "7                  divya staffing solution     0 to 4 Yrs  \n",
       "8                  divya staffing solution     0 to 4 Yrs  \n",
       "9                      radhika enterprises     0 to 4 Yrs  \n",
       "10  teamfocus human capital private lim...  16 to >25 Yrs  \n",
       "11  mackenzie modern it solutions priva...     4 to 9 Yrs  \n",
       "12  mackenzie modern it solutions priva...     4 to 9 Yrs  \n",
       "13  mackenzie modern it solutions priva...    5 to 10 Yrs  \n",
       "14  mackenzie modern it solutions priva...    5 to 10 Yrs  \n",
       "15  capgemini technology services india...    6 to 10 Yrs  \n",
       "16     live connections placements pvt ltd     4 to 7 Yrs  \n",
       "17  mackenzie modern it solutions priva...    5 to 10 Yrs  \n",
       "18  sigma allied services private limit...    5 to 10 Yrs  \n",
       "19  mackenzie modern it solutions priva...     5 to 9 Yrs  "
      ]
     },
     "execution_count": 77,
     "metadata": {},
     "output_type": "execute_result"
    }
   ],
   "source": [
    "import pandas as pd\n",
    "df=pd.DataFrame({'Title':Job_title,'Location':Job_location,'Company':Company_name,'Experinced':E_required})\n",
    "df"
   ]
  },
  {
   "cell_type": "code",
   "execution_count": 79,
   "id": "e7774eff",
   "metadata": {},
   "outputs": [
    {
     "data": {
      "text/html": [
       "<div>\n",
       "<style scoped>\n",
       "    .dataframe tbody tr th:only-of-type {\n",
       "        vertical-align: middle;\n",
       "    }\n",
       "\n",
       "    .dataframe tbody tr th {\n",
       "        vertical-align: top;\n",
       "    }\n",
       "\n",
       "    .dataframe thead th {\n",
       "        text-align: right;\n",
       "    }\n",
       "</style>\n",
       "<table border=\"1\" class=\"dataframe\">\n",
       "  <thead>\n",
       "    <tr style=\"text-align: right;\">\n",
       "      <th></th>\n",
       "      <th>Title</th>\n",
       "      <th>Location</th>\n",
       "      <th>Company</th>\n",
       "      <th>Experinced</th>\n",
       "    </tr>\n",
       "  </thead>\n",
       "  <tbody>\n",
       "    <tr>\n",
       "      <th>0</th>\n",
       "      <td>Hiring For Data Scientist</td>\n",
       "      <td>Bangalore\\n+15</td>\n",
       "      <td>neelima staffing solution</td>\n",
       "      <td>0 to 4 Yrs</td>\n",
       "    </tr>\n",
       "    <tr>\n",
       "      <th>1</th>\n",
       "      <td>Data Scientist</td>\n",
       "      <td>Bangalore\\n+4</td>\n",
       "      <td>alike thoughts solutions private li...</td>\n",
       "      <td>5 to 10 Yrs</td>\n",
       "    </tr>\n",
       "    <tr>\n",
       "      <th>2</th>\n",
       "      <td>Data Scientist Opening</td>\n",
       "      <td>Bangalore\\n+12</td>\n",
       "      <td>radhika enterprises</td>\n",
       "      <td>0 to 4 Yrs</td>\n",
       "    </tr>\n",
       "    <tr>\n",
       "      <th>3</th>\n",
       "      <td>Data Scientist</td>\n",
       "      <td>Bangalore</td>\n",
       "      <td>unified excellence llp</td>\n",
       "      <td>4 to 8 Yrs</td>\n",
       "    </tr>\n",
       "    <tr>\n",
       "      <th>4</th>\n",
       "      <td>Data Scientist</td>\n",
       "      <td>Bangalore</td>\n",
       "      <td>unified excellence llp</td>\n",
       "      <td>4 to 8 Yrs</td>\n",
       "    </tr>\n",
       "    <tr>\n",
       "      <th>5</th>\n",
       "      <td>Data Scientist Urgent Recruitment</td>\n",
       "      <td>Bangalore\\n+13</td>\n",
       "      <td>divya staffing solution</td>\n",
       "      <td>0 to 4 Yrs</td>\n",
       "    </tr>\n",
       "    <tr>\n",
       "      <th>6</th>\n",
       "      <td>Data Scientist Opening</td>\n",
       "      <td>Bangalore\\n+13</td>\n",
       "      <td>divya staffing solution</td>\n",
       "      <td>0 to 4 Yrs</td>\n",
       "    </tr>\n",
       "    <tr>\n",
       "      <th>7</th>\n",
       "      <td>Data Scientist Vacancy</td>\n",
       "      <td>Bangalore\\n+13</td>\n",
       "      <td>divya staffing solution</td>\n",
       "      <td>0 to 4 Yrs</td>\n",
       "    </tr>\n",
       "    <tr>\n",
       "      <th>8</th>\n",
       "      <td>Hiring For Data Scientist</td>\n",
       "      <td>Bangalore\\n+13</td>\n",
       "      <td>divya staffing solution</td>\n",
       "      <td>0 to 4 Yrs</td>\n",
       "    </tr>\n",
       "    <tr>\n",
       "      <th>9</th>\n",
       "      <td>Data Scientist Recruitment</td>\n",
       "      <td>Bangalore\\n+12</td>\n",
       "      <td>radhika enterprises</td>\n",
       "      <td>0 to 4 Yrs</td>\n",
       "    </tr>\n",
       "  </tbody>\n",
       "</table>\n",
       "</div>"
      ],
      "text/plain": [
       "                               Title        Location  \\\n",
       "0          Hiring For Data Scientist  Bangalore\\n+15   \n",
       "1                     Data Scientist   Bangalore\\n+4   \n",
       "2             Data Scientist Opening  Bangalore\\n+12   \n",
       "3                     Data Scientist       Bangalore   \n",
       "4                     Data Scientist       Bangalore   \n",
       "5  Data Scientist Urgent Recruitment  Bangalore\\n+13   \n",
       "6             Data Scientist Opening  Bangalore\\n+13   \n",
       "7             Data Scientist Vacancy  Bangalore\\n+13   \n",
       "8          Hiring For Data Scientist  Bangalore\\n+13   \n",
       "9         Data Scientist Recruitment  Bangalore\\n+12   \n",
       "\n",
       "                                  Company   Experinced  \n",
       "0               neelima staffing solution   0 to 4 Yrs  \n",
       "1  alike thoughts solutions private li...  5 to 10 Yrs  \n",
       "2                     radhika enterprises   0 to 4 Yrs  \n",
       "3                  unified excellence llp   4 to 8 Yrs  \n",
       "4                  unified excellence llp   4 to 8 Yrs  \n",
       "5                 divya staffing solution   0 to 4 Yrs  \n",
       "6                 divya staffing solution   0 to 4 Yrs  \n",
       "7                 divya staffing solution   0 to 4 Yrs  \n",
       "8                 divya staffing solution   0 to 4 Yrs  \n",
       "9                     radhika enterprises   0 to 4 Yrs  "
      ]
     },
     "execution_count": 79,
     "metadata": {},
     "output_type": "execute_result"
    }
   ],
   "source": [
    "df.head(10)"
   ]
  },
  {
   "cell_type": "code",
   "execution_count": null,
   "id": "c1f9e2fc",
   "metadata": {},
   "outputs": [],
   "source": [
    "Q)3"
   ]
  },
  {
   "cell_type": "code",
   "execution_count": 80,
   "id": "cda9bfde",
   "metadata": {},
   "outputs": [],
   "source": [
    "import selenium\n",
    "import pandas as pd\n",
    "from selenium import webdriver\n",
    "import warnings\n",
    "warnings.filterwarnings('ignore')\n",
    "from selenium.webdriver.common.by import By\n",
    "import time\n",
    "driver=webdriver.Chrome()"
   ]
  },
  {
   "cell_type": "code",
   "execution_count": 81,
   "id": "1093852f",
   "metadata": {},
   "outputs": [],
   "source": [
    "driver.get('https://www.flipkart.com/apple-iphone-11-black-64-gb/product-reviews/itm4e5041ba101fd?pid=MOBFWQ6BXGJCEYNY&lid=LSTMOBFWQ6BXGJCEYNYZXSHRJ&marketplace=FLIPKART')"
   ]
  },
  {
   "cell_type": "code",
   "execution_count": 83,
   "id": "0a031e14",
   "metadata": {},
   "outputs": [],
   "source": [
    "P_rating=[]"
   ]
  },
  {
   "cell_type": "code",
   "execution_count": 84,
   "id": "544db8f2",
   "metadata": {},
   "outputs": [],
   "source": [
    "rating_tags=driver.find_elements(By.XPATH,'//div[@class=\"XQDdHH\"]')\n",
    "for i in rating_tags:\n",
    "    rating=i.text\n",
    "    P_rating.append(rating)\n",
    "    "
   ]
  },
  {
   "cell_type": "code",
   "execution_count": 85,
   "id": "7cffb557",
   "metadata": {},
   "outputs": [
    {
     "data": {
      "text/plain": [
       "['4.6']"
      ]
     },
     "execution_count": 85,
     "metadata": {},
     "output_type": "execute_result"
    }
   ],
   "source": [
    "P_rating"
   ]
  },
  {
   "cell_type": "code",
   "execution_count": 86,
   "id": "577f64a9",
   "metadata": {},
   "outputs": [],
   "source": [
    "P_review=[]\n",
    "review_tags=driver.find_elements(By.XPATH,'//div[@class=\"row j-aW8Z\"]')\n",
    "for i in review_tags:\n",
    "    review=i.text\n",
    "    P_review.append(review)\n",
    "    "
   ]
  },
  {
   "cell_type": "code",
   "execution_count": 87,
   "id": "faeeda32",
   "metadata": {},
   "outputs": [
    {
     "data": {
      "text/plain": [
       "['2,04,656 Ratings &', '11,463 Reviews']"
      ]
     },
     "execution_count": 87,
     "metadata": {},
     "output_type": "execute_result"
    }
   ],
   "source": [
    "P_review"
   ]
  },
  {
   "cell_type": "code",
   "execution_count": 89,
   "id": "953c7865",
   "metadata": {},
   "outputs": [],
   "source": [
    "R_summary=[]\n",
    "start=0\n",
    "end=10\n",
    "for page in range(start,end):\n",
    "    summary=driver.find_elements(By.XPATH,'//p[@class=\"z9E0IG\"]')\n",
    "    for i in summary:\n",
    "        R_summary.append(i.text)\n",
    "    next_button=driver.find_elements(By.XPATH,'/html/body/div/div/div[3]/div/div/div[2]/div[13]/div/div/nav/a[11]/span')\n",
    "    next_button\n",
    "    time.sleep(3)"
   ]
  },
  {
   "cell_type": "code",
   "execution_count": 90,
   "id": "a3a8ac09",
   "metadata": {},
   "outputs": [
    {
     "data": {
      "text/plain": [
       "['Classy product',\n",
       " 'Perfect product!',\n",
       " 'Best in the market!',\n",
       " 'Terrific',\n",
       " 'Worth every penny',\n",
       " 'Wonderful',\n",
       " 'Terrific purchase',\n",
       " 'Perfect product!',\n",
       " 'Excellent',\n",
       " 'Must buy!',\n",
       " 'Classy product',\n",
       " 'Perfect product!',\n",
       " 'Best in the market!',\n",
       " 'Terrific',\n",
       " 'Worth every penny',\n",
       " 'Wonderful',\n",
       " 'Terrific purchase',\n",
       " 'Perfect product!',\n",
       " 'Excellent',\n",
       " 'Must buy!',\n",
       " 'Classy product',\n",
       " 'Perfect product!',\n",
       " 'Best in the market!',\n",
       " 'Terrific',\n",
       " 'Worth every penny',\n",
       " 'Wonderful',\n",
       " 'Terrific purchase',\n",
       " 'Perfect product!',\n",
       " 'Excellent',\n",
       " 'Must buy!',\n",
       " 'Classy product',\n",
       " 'Perfect product!',\n",
       " 'Best in the market!',\n",
       " 'Terrific',\n",
       " 'Worth every penny',\n",
       " 'Wonderful',\n",
       " 'Terrific purchase',\n",
       " 'Perfect product!',\n",
       " 'Excellent',\n",
       " 'Must buy!',\n",
       " 'Classy product',\n",
       " 'Perfect product!',\n",
       " 'Best in the market!',\n",
       " 'Terrific',\n",
       " 'Worth every penny',\n",
       " 'Wonderful',\n",
       " 'Terrific purchase',\n",
       " 'Perfect product!',\n",
       " 'Excellent',\n",
       " 'Must buy!',\n",
       " 'Classy product',\n",
       " 'Perfect product!',\n",
       " 'Best in the market!',\n",
       " 'Terrific',\n",
       " 'Worth every penny',\n",
       " 'Wonderful',\n",
       " 'Terrific purchase',\n",
       " 'Perfect product!',\n",
       " 'Excellent',\n",
       " 'Must buy!',\n",
       " 'Classy product',\n",
       " 'Perfect product!',\n",
       " 'Best in the market!',\n",
       " 'Terrific',\n",
       " 'Worth every penny',\n",
       " 'Wonderful',\n",
       " 'Terrific purchase',\n",
       " 'Perfect product!',\n",
       " 'Excellent',\n",
       " 'Must buy!',\n",
       " 'Classy product',\n",
       " 'Perfect product!',\n",
       " 'Best in the market!',\n",
       " 'Terrific',\n",
       " 'Worth every penny',\n",
       " 'Wonderful',\n",
       " 'Terrific purchase',\n",
       " 'Perfect product!',\n",
       " 'Excellent',\n",
       " 'Must buy!',\n",
       " 'Classy product',\n",
       " 'Perfect product!',\n",
       " 'Best in the market!',\n",
       " 'Terrific',\n",
       " 'Worth every penny',\n",
       " 'Wonderful',\n",
       " 'Terrific purchase',\n",
       " 'Perfect product!',\n",
       " 'Excellent',\n",
       " 'Must buy!',\n",
       " 'Classy product',\n",
       " 'Perfect product!',\n",
       " 'Best in the market!',\n",
       " 'Terrific',\n",
       " 'Worth every penny',\n",
       " 'Wonderful',\n",
       " 'Terrific purchase',\n",
       " 'Perfect product!',\n",
       " 'Excellent',\n",
       " 'Must buy!']"
      ]
     },
     "execution_count": 90,
     "metadata": {},
     "output_type": "execute_result"
    }
   ],
   "source": [
    "R_summary"
   ]
  },
  {
   "cell_type": "code",
   "execution_count": 91,
   "id": "db87ca4d",
   "metadata": {},
   "outputs": [
    {
     "data": {
      "text/plain": [
       "100"
      ]
     },
     "execution_count": 91,
     "metadata": {},
     "output_type": "execute_result"
    }
   ],
   "source": [
    "len(R_summary)"
   ]
  },
  {
   "cell_type": "code",
   "execution_count": 94,
   "id": "d05eb01a",
   "metadata": {},
   "outputs": [],
   "source": [
    "F_reviews=[]\n",
    "reviews_tags=driver.find_elements(By.XPATH,'//div[@class=\"ZmyHeo\"]')\n",
    "for i in reviews_tags:\n",
    "    reviews=i.text\n",
    "    F_reviews.append(reviews)"
   ]
  },
  {
   "cell_type": "code",
   "execution_count": 95,
   "id": "7aa4bf96",
   "metadata": {},
   "outputs": [
    {
     "data": {
      "text/plain": [
       "['Camera is awesome\\nBest battery backup\\nA performer 👌🏻\\nIt will be a real value for money if they provide charger and earphone inbox!',\n",
       " 'Photos super',\n",
       " 'Good Camera',\n",
       " 'Very very good',\n",
       " 'Feeling awesome after getting the delivery of my phone. Dual speakers makes the sound quality very loud. Amazing!!',\n",
       " 'This is amazing at all',\n",
       " 'Value for money 😍',\n",
       " 'V Good all',\n",
       " 'NYC',\n",
       " 'It’s really awesome']"
      ]
     },
     "execution_count": 95,
     "metadata": {},
     "output_type": "execute_result"
    }
   ],
   "source": [
    "F_reviews"
   ]
  },
  {
   "cell_type": "markdown",
   "id": "2bc7751e",
   "metadata": {},
   "source": [
    "Q)4.Q4: Scrape data for first 100 sneakers you find when you visit flipkart.com and search for “sneakers” in the search \n",
    "field. \n",
    "You have to scrape 3 attributes of each sneaker: \n",
    "1. Brand \n",
    "2. Product Description \n",
    "3. Price \n",
    "As shown in the below image, you have to scrape the above attributes."
   ]
  },
  {
   "cell_type": "code",
   "execution_count": 8,
   "id": "e2ac3044",
   "metadata": {},
   "outputs": [],
   "source": [
    "import selenium\n",
    "import pandas as pd\n",
    "from selenium import webdriver\n",
    "import warnings\n",
    "warnings.filterwarnings('ignore')\n",
    "from selenium.webdriver.common.by import By\n",
    "import time\n",
    "driver=webdriver.Chrome()"
   ]
  },
  {
   "cell_type": "code",
   "execution_count": 9,
   "id": "b9a95ad2",
   "metadata": {},
   "outputs": [],
   "source": [
    "driver.get('https://www.flipkart.com/')"
   ]
  },
  {
   "cell_type": "code",
   "execution_count": 15,
   "id": "5efead3f",
   "metadata": {},
   "outputs": [],
   "source": [
    "S_brand=[]\n",
    "p_description=[]\n",
    "S_price=[]"
   ]
  },
  {
   "cell_type": "code",
   "execution_count": 16,
   "id": "f2a0c245",
   "metadata": {},
   "outputs": [],
   "source": [
    "start=0\n",
    "end=3\n",
    "for page in range(start,end):\n",
    "    description=driver.find_elements(By.XPATH,'//a[@class=\"WKTcLC\"]')\n",
    "    for i in description:\n",
    "        p_description.append(i.text)\n",
    "    next_button=driver.find_elements(By.XPATH,'/html/body/div/div/div[3]/div[1]/div[2]/div[12]/div/div/nav/a[11]/span')\n",
    "    next_button\n",
    "    time.sleep(3)"
   ]
  },
  {
   "cell_type": "code",
   "execution_count": 17,
   "id": "42de6c39",
   "metadata": {},
   "outputs": [
    {
     "data": {
      "text/plain": [
       "['Mesh |Lightweight|Comfort|Summer|Trendy|Walking|Outdoor...',\n",
       " 'Combo Pack Of 2 Casual Shoes Sneakers For Men',\n",
       " 'Trending Stylish Casual Outdoor Shoes Sneakers For Men',\n",
       " 'Casual Sneakers Shoes for Men | Soft Cushioned Insole, ...',\n",
       " 'Modern Trendy Shoes Sneakers For Men',\n",
       " 'Casual Sneaker Shoes for Men | Classic Rounded Toe, Soo...',\n",
       " 'Dynamite Lace-Up Sneakers For Men',\n",
       " 'Combo Pack Of 4 Casual Loafer Shoes Sneakers For Men',\n",
       " 'Lifestyle Sneaker Shoes for Men | Soft Cushioned Insole...',\n",
       " 'Mesh |Lightweight|Comfort|Summer|Trendy|Walking|Outdoor...',\n",
       " 'Sneakers For Men Sneakers For Men',\n",
       " 'Stylish Shoes for Girls Sneakers For Women',\n",
       " 'Sneakers For Women',\n",
       " 'Casual Sneaker Shoes for Men | Classic Rounded Toe, Soo...',\n",
       " 'Spring Edge Alpha 2 Sneakers For Men',\n",
       " 'Mesh |Lightweight|Comfort|Summer|Trendy|Walking|Outdoor...',\n",
       " 'Casual Sneakers Shoes for Men | Soft Cushioned Insole, ...',\n",
       " 'Sneakers For Men',\n",
       " 'Alpha Predator Sneakers For Men',\n",
       " 'Combo Pack Of 2 Casual Shoes Sneakers For Men',\n",
       " 'Stylish & Trending Outdoor Walking Comfortable Sneakers...',\n",
       " 'Casual Sneaker Shoes For Men | Enhanced Comfort with Cu...',\n",
       " 'Sneaker Casual Shoes For Men | Soft Cushion Insole, Sli...',\n",
       " 'Casual Sneaker Shoes for Men | Soft Cushioned Insole, S...',\n",
       " 'High Tops Sneakers For Men',\n",
       " 'Lightweight,Comfort,Summer,Trendy,Walking,Outdoor,Styli...',\n",
       " 'Mesh |Lightweight|Comfort|Summer|Trendy|Walking|Outdoor...',\n",
       " 'Sneakers For Men',\n",
       " '550 Sneakers For Men',\n",
       " 'Casual Colour Blocked Shoes For Boys Sneakers For Men',\n",
       " 'Sneaker Casual Shoes For Men | Soft Cushion Insole, Sli...',\n",
       " 'Casual Sneaker Shoes for Men | Soft Cushioned Insole, S...',\n",
       " 'JADEN 2.0 Sneakers For Men',\n",
       " '( by GO21 ) Soft Insole, Slip-Resistance|Casual Walking...',\n",
       " 'Lightweight,Comfort,Summer,Trendy,Walking,Outdoor,Styli...',\n",
       " 'Casual Shoes | Upgraded Comfort with Cushioned Insole S...',\n",
       " 'Sneakers For Men',\n",
       " 'Mesh |Lightweight|Comfort|Summer|Trendy|Walking|Outdoor...',\n",
       " 'Combo Pack Of 2 Casual Shoes Sneakers For Men',\n",
       " 'Trending Stylish Casual Outdoor Shoes Sneakers For Men',\n",
       " 'Casual Sneakers Shoes for Men | Soft Cushioned Insole, ...',\n",
       " 'Modern Trendy Shoes Sneakers For Men',\n",
       " 'Casual Sneaker Shoes for Men | Classic Rounded Toe, Soo...',\n",
       " 'Dynamite Lace-Up Sneakers For Men',\n",
       " 'Combo Pack Of 4 Casual Loafer Shoes Sneakers For Men',\n",
       " 'Lifestyle Sneaker Shoes for Men | Soft Cushioned Insole...',\n",
       " 'Mesh |Lightweight|Comfort|Summer|Trendy|Walking|Outdoor...',\n",
       " 'Sneakers For Men Sneakers For Men',\n",
       " 'Stylish Shoes for Girls Sneakers For Women',\n",
       " 'Sneakers For Women',\n",
       " 'Casual Sneaker Shoes for Men | Classic Rounded Toe, Soo...',\n",
       " 'Spring Edge Alpha 2 Sneakers For Men',\n",
       " 'Mesh |Lightweight|Comfort|Summer|Trendy|Walking|Outdoor...',\n",
       " 'Casual Sneakers Shoes for Men | Soft Cushioned Insole, ...',\n",
       " 'Sneakers For Men',\n",
       " 'Alpha Predator Sneakers For Men',\n",
       " 'Combo Pack Of 2 Casual Shoes Sneakers For Men',\n",
       " 'Stylish & Trending Outdoor Walking Comfortable Sneakers...',\n",
       " 'Casual Sneaker Shoes For Men | Enhanced Comfort with Cu...',\n",
       " 'Sneaker Casual Shoes For Men | Soft Cushion Insole, Sli...',\n",
       " 'Casual Sneaker Shoes for Men | Soft Cushioned Insole, S...',\n",
       " 'High Tops Sneakers For Men',\n",
       " 'Lightweight,Comfort,Summer,Trendy,Walking,Outdoor,Styli...',\n",
       " 'Mesh |Lightweight|Comfort|Summer|Trendy|Walking|Outdoor...',\n",
       " 'Sneakers For Men',\n",
       " '550 Sneakers For Men',\n",
       " 'Casual Colour Blocked Shoes For Boys Sneakers For Men',\n",
       " 'Sneaker Casual Shoes For Men | Soft Cushion Insole, Sli...',\n",
       " 'Casual Sneaker Shoes for Men | Soft Cushioned Insole, S...',\n",
       " 'JADEN 2.0 Sneakers For Men',\n",
       " '( by GO21 ) Soft Insole, Slip-Resistance|Casual Walking...',\n",
       " 'Lightweight,Comfort,Summer,Trendy,Walking,Outdoor,Styli...',\n",
       " 'Casual Shoes | Upgraded Comfort with Cushioned Insole S...',\n",
       " 'Sneakers For Men',\n",
       " 'Mesh |Lightweight|Comfort|Summer|Trendy|Walking|Outdoor...',\n",
       " 'Combo Pack Of 2 Casual Shoes Sneakers For Men',\n",
       " 'Trending Stylish Casual Outdoor Shoes Sneakers For Men',\n",
       " 'Casual Sneakers Shoes for Men | Soft Cushioned Insole, ...',\n",
       " 'Modern Trendy Shoes Sneakers For Men',\n",
       " 'Casual Sneaker Shoes for Men | Classic Rounded Toe, Soo...',\n",
       " 'Dynamite Lace-Up Sneakers For Men',\n",
       " 'Combo Pack Of 4 Casual Loafer Shoes Sneakers For Men',\n",
       " 'Lifestyle Sneaker Shoes for Men | Soft Cushioned Insole...',\n",
       " 'Mesh |Lightweight|Comfort|Summer|Trendy|Walking|Outdoor...',\n",
       " 'Sneakers For Men Sneakers For Men',\n",
       " 'Stylish Shoes for Girls Sneakers For Women',\n",
       " 'Sneakers For Women',\n",
       " 'Casual Sneaker Shoes for Men | Classic Rounded Toe, Soo...',\n",
       " 'Spring Edge Alpha 2 Sneakers For Men',\n",
       " 'Mesh |Lightweight|Comfort|Summer|Trendy|Walking|Outdoor...',\n",
       " 'Casual Sneakers Shoes for Men | Soft Cushioned Insole, ...',\n",
       " 'Sneakers For Men',\n",
       " 'Alpha Predator Sneakers For Men',\n",
       " 'Combo Pack Of 2 Casual Shoes Sneakers For Men',\n",
       " 'Stylish & Trending Outdoor Walking Comfortable Sneakers...',\n",
       " 'Casual Sneaker Shoes For Men | Enhanced Comfort with Cu...',\n",
       " 'Sneaker Casual Shoes For Men | Soft Cushion Insole, Sli...',\n",
       " 'Casual Sneaker Shoes for Men | Soft Cushioned Insole, S...',\n",
       " 'High Tops Sneakers For Men',\n",
       " 'Lightweight,Comfort,Summer,Trendy,Walking,Outdoor,Styli...',\n",
       " 'Mesh |Lightweight|Comfort|Summer|Trendy|Walking|Outdoor...',\n",
       " 'Sneakers For Men',\n",
       " '550 Sneakers For Men',\n",
       " 'Casual Colour Blocked Shoes For Boys Sneakers For Men',\n",
       " 'Sneaker Casual Shoes For Men | Soft Cushion Insole, Sli...',\n",
       " 'Casual Sneaker Shoes for Men | Soft Cushioned Insole, S...',\n",
       " 'JADEN 2.0 Sneakers For Men',\n",
       " '( by GO21 ) Soft Insole, Slip-Resistance|Casual Walking...',\n",
       " 'Lightweight,Comfort,Summer,Trendy,Walking,Outdoor,Styli...',\n",
       " 'Casual Shoes | Upgraded Comfort with Cushioned Insole S...',\n",
       " 'Sneakers For Men']"
      ]
     },
     "execution_count": 17,
     "metadata": {},
     "output_type": "execute_result"
    }
   ],
   "source": [
    "p_description"
   ]
  },
  {
   "cell_type": "code",
   "execution_count": 18,
   "id": "edffa773",
   "metadata": {},
   "outputs": [
    {
     "data": {
      "text/plain": [
       "111"
      ]
     },
     "execution_count": 18,
     "metadata": {},
     "output_type": "execute_result"
    }
   ],
   "source": [
    "len(p_description)"
   ]
  },
  {
   "cell_type": "code",
   "execution_count": 55,
   "id": "0377744e",
   "metadata": {},
   "outputs": [],
   "source": [
    "start=0\n",
    "end=3\n",
    "for page in range(start,end):\n",
    "    price=driver.find_elements(By.XPATH,'//div[@class=\"Nx9bqj\"]')\n",
    "    for i in price:\n",
    "        S_price.append(i.text)\n",
    "    next_button=driver.find_elements(By.XPATH,'/html/body/div/div/div[3]/div[1]/div[2]/div[12]/div/div/nav/a[11]/span')\n",
    "    next_button\n",
    "    time.sleep(3)"
   ]
  },
  {
   "cell_type": "code",
   "execution_count": 56,
   "id": "f7a90223",
   "metadata": {},
   "outputs": [
    {
     "data": {
      "text/plain": [
       "['₹299',\n",
       " '₹470',\n",
       " '₹299',\n",
       " '₹1,179',\n",
       " '₹276',\n",
       " '₹1,099',\n",
       " '₹549',\n",
       " '₹470',\n",
       " '₹1,099',\n",
       " '₹1,139',\n",
       " '₹362',\n",
       " '₹330',\n",
       " '₹399',\n",
       " '₹395',\n",
       " '₹645',\n",
       " '₹1,099',\n",
       " '₹1,036',\n",
       " '₹299',\n",
       " '₹1,179',\n",
       " '₹9,149',\n",
       " '₹1,302',\n",
       " '₹499',\n",
       " '₹299',\n",
       " '₹1,119',\n",
       " '₹1,139',\n",
       " '₹1,119',\n",
       " '₹549',\n",
       " '₹377',\n",
       " '₹299',\n",
       " '₹5,700',\n",
       " '₹9,000',\n",
       " '₹1,127',\n",
       " '₹449',\n",
       " '₹1,379',\n",
       " '₹1,949',\n",
       " '₹1,789',\n",
       " '₹999',\n",
       " '₹638',\n",
       " '₹1,679',\n",
       " '₹449',\n",
       " '₹299',\n",
       " '₹470',\n",
       " '₹299',\n",
       " '₹1,179',\n",
       " '₹276',\n",
       " '₹1,099',\n",
       " '₹549',\n",
       " '₹470',\n",
       " '₹1,099',\n",
       " '₹1,139',\n",
       " '₹362',\n",
       " '₹330',\n",
       " '₹399',\n",
       " '₹395',\n",
       " '₹645',\n",
       " '₹1,099',\n",
       " '₹1,036',\n",
       " '₹299',\n",
       " '₹1,179',\n",
       " '₹9,149',\n",
       " '₹1,302',\n",
       " '₹499',\n",
       " '₹299',\n",
       " '₹1,119',\n",
       " '₹1,139',\n",
       " '₹1,119',\n",
       " '₹549',\n",
       " '₹377',\n",
       " '₹299',\n",
       " '₹5,700',\n",
       " '₹9,000',\n",
       " '₹1,127',\n",
       " '₹449',\n",
       " '₹1,379',\n",
       " '₹1,949',\n",
       " '₹1,789',\n",
       " '₹999',\n",
       " '₹638',\n",
       " '₹1,679',\n",
       " '₹449',\n",
       " '₹299',\n",
       " '₹470',\n",
       " '₹299',\n",
       " '₹1,179',\n",
       " '₹276',\n",
       " '₹1,099',\n",
       " '₹549',\n",
       " '₹470',\n",
       " '₹1,099',\n",
       " '₹1,139',\n",
       " '₹362',\n",
       " '₹330',\n",
       " '₹399',\n",
       " '₹395',\n",
       " '₹645',\n",
       " '₹1,099',\n",
       " '₹1,036',\n",
       " '₹299',\n",
       " '₹1,179',\n",
       " '₹9,149',\n",
       " '₹1,302',\n",
       " '₹499',\n",
       " '₹299',\n",
       " '₹1,119',\n",
       " '₹1,139',\n",
       " '₹1,119',\n",
       " '₹549',\n",
       " '₹377',\n",
       " '₹299',\n",
       " '₹5,700',\n",
       " '₹9,000',\n",
       " '₹1,127',\n",
       " '₹449',\n",
       " '₹1,379',\n",
       " '₹1,949',\n",
       " '₹1,789',\n",
       " '₹999',\n",
       " '₹638',\n",
       " '₹1,679',\n",
       " '₹449',\n",
       " '₹299',\n",
       " '₹470',\n",
       " '₹299',\n",
       " '₹1,179',\n",
       " '₹276',\n",
       " '₹1,099',\n",
       " '₹549',\n",
       " '₹470',\n",
       " '₹1,099',\n",
       " '₹1,139',\n",
       " '₹362',\n",
       " '₹330',\n",
       " '₹399',\n",
       " '₹395',\n",
       " '₹645',\n",
       " '₹1,099',\n",
       " '₹1,036',\n",
       " '₹299',\n",
       " '₹1,179',\n",
       " '₹9,149',\n",
       " '₹1,302',\n",
       " '₹499',\n",
       " '₹299',\n",
       " '₹1,119',\n",
       " '₹1,139',\n",
       " '₹1,119',\n",
       " '₹549',\n",
       " '₹377',\n",
       " '₹299',\n",
       " '₹5,700',\n",
       " '₹9,000',\n",
       " '₹1,127',\n",
       " '₹449',\n",
       " '₹1,379',\n",
       " '₹1,949',\n",
       " '₹1,789',\n",
       " '₹999',\n",
       " '₹638',\n",
       " '₹1,679',\n",
       " '₹449',\n",
       " '₹299',\n",
       " '₹470',\n",
       " '₹299',\n",
       " '₹1,179',\n",
       " '₹276',\n",
       " '₹1,099',\n",
       " '₹549',\n",
       " '₹470',\n",
       " '₹1,099',\n",
       " '₹1,139',\n",
       " '₹362',\n",
       " '₹330',\n",
       " '₹399',\n",
       " '₹395',\n",
       " '₹645',\n",
       " '₹1,099',\n",
       " '₹1,036',\n",
       " '₹299',\n",
       " '₹1,179',\n",
       " '₹9,149',\n",
       " '₹1,302',\n",
       " '₹499',\n",
       " '₹299',\n",
       " '₹1,119',\n",
       " '₹1,139',\n",
       " '₹1,119',\n",
       " '₹549',\n",
       " '₹377',\n",
       " '₹299',\n",
       " '₹5,700',\n",
       " '₹9,000',\n",
       " '₹1,127',\n",
       " '₹449',\n",
       " '₹1,379',\n",
       " '₹1,949',\n",
       " '₹1,789',\n",
       " '₹999',\n",
       " '₹638',\n",
       " '₹1,679',\n",
       " '₹449',\n",
       " '₹299',\n",
       " '₹470',\n",
       " '₹299',\n",
       " '₹1,179',\n",
       " '₹276',\n",
       " '₹1,099',\n",
       " '₹549',\n",
       " '₹470',\n",
       " '₹1,099',\n",
       " '₹1,139',\n",
       " '₹362',\n",
       " '₹330',\n",
       " '₹399',\n",
       " '₹395',\n",
       " '₹645',\n",
       " '₹1,099',\n",
       " '₹1,036',\n",
       " '₹299',\n",
       " '₹1,179',\n",
       " '₹9,149',\n",
       " '₹1,302',\n",
       " '₹499',\n",
       " '₹299',\n",
       " '₹1,119',\n",
       " '₹1,139',\n",
       " '₹1,119',\n",
       " '₹549',\n",
       " '₹377',\n",
       " '₹299',\n",
       " '₹5,700',\n",
       " '₹9,000',\n",
       " '₹1,127',\n",
       " '₹449',\n",
       " '₹1,379',\n",
       " '₹1,949',\n",
       " '₹1,789',\n",
       " '₹999',\n",
       " '₹638',\n",
       " '₹1,679',\n",
       " '₹449',\n",
       " '₹299',\n",
       " '₹470',\n",
       " '₹299',\n",
       " '₹1,179',\n",
       " '₹276',\n",
       " '₹1,099',\n",
       " '₹549',\n",
       " '₹470',\n",
       " '₹1,099',\n",
       " '₹1,139',\n",
       " '₹362',\n",
       " '₹330',\n",
       " '₹399',\n",
       " '₹395',\n",
       " '₹645',\n",
       " '₹1,099',\n",
       " '₹1,036',\n",
       " '₹299',\n",
       " '₹1,179',\n",
       " '₹9,149',\n",
       " '₹1,302',\n",
       " '₹499',\n",
       " '₹299',\n",
       " '₹1,119',\n",
       " '₹1,139',\n",
       " '₹1,119',\n",
       " '₹549',\n",
       " '₹377',\n",
       " '₹299',\n",
       " '₹5,700',\n",
       " '₹9,000',\n",
       " '₹1,127',\n",
       " '₹449',\n",
       " '₹1,379',\n",
       " '₹1,949',\n",
       " '₹1,789',\n",
       " '₹999',\n",
       " '₹638',\n",
       " '₹1,679',\n",
       " '₹449',\n",
       " '₹299',\n",
       " '₹470',\n",
       " '₹299',\n",
       " '₹1,179',\n",
       " '₹276',\n",
       " '₹1,099',\n",
       " '₹549',\n",
       " '₹470',\n",
       " '₹1,099',\n",
       " '₹1,139',\n",
       " '₹362',\n",
       " '₹330',\n",
       " '₹399',\n",
       " '₹395',\n",
       " '₹645',\n",
       " '₹1,099',\n",
       " '₹1,036',\n",
       " '₹299',\n",
       " '₹1,179',\n",
       " '₹9,149',\n",
       " '₹1,302',\n",
       " '₹499',\n",
       " '₹299',\n",
       " '₹1,119',\n",
       " '₹1,139',\n",
       " '₹1,119',\n",
       " '₹549',\n",
       " '₹377',\n",
       " '₹299',\n",
       " '₹5,700',\n",
       " '₹9,000',\n",
       " '₹1,127',\n",
       " '₹449',\n",
       " '₹1,379',\n",
       " '₹1,949',\n",
       " '₹1,789',\n",
       " '₹999',\n",
       " '₹638',\n",
       " '₹1,679',\n",
       " '₹449',\n",
       " '₹299',\n",
       " '₹470',\n",
       " '₹299',\n",
       " '₹1,179',\n",
       " '₹276',\n",
       " '₹1,099',\n",
       " '₹549',\n",
       " '₹470',\n",
       " '₹1,099',\n",
       " '₹1,139',\n",
       " '₹362',\n",
       " '₹330',\n",
       " '₹399',\n",
       " '₹395',\n",
       " '₹645',\n",
       " '₹1,099',\n",
       " '₹1,036',\n",
       " '₹299',\n",
       " '₹1,179',\n",
       " '₹9,149',\n",
       " '₹1,302',\n",
       " '₹499',\n",
       " '₹299',\n",
       " '₹1,119',\n",
       " '₹1,139',\n",
       " '₹1,119',\n",
       " '₹549',\n",
       " '₹377',\n",
       " '₹299',\n",
       " '₹5,700',\n",
       " '₹9,000',\n",
       " '₹1,127',\n",
       " '₹449',\n",
       " '₹1,379',\n",
       " '₹1,949',\n",
       " '₹1,789',\n",
       " '₹999',\n",
       " '₹638',\n",
       " '₹1,679',\n",
       " '₹449',\n",
       " '₹299',\n",
       " '₹470',\n",
       " '₹299',\n",
       " '₹1,179',\n",
       " '₹276',\n",
       " '₹1,099',\n",
       " '₹549',\n",
       " '₹470',\n",
       " '₹1,099',\n",
       " '₹1,139',\n",
       " '₹362',\n",
       " '₹330',\n",
       " '₹399',\n",
       " '₹395',\n",
       " '₹645',\n",
       " '₹1,099',\n",
       " '₹1,036',\n",
       " '₹299',\n",
       " '₹1,179',\n",
       " '₹9,149',\n",
       " '₹1,302',\n",
       " '₹499',\n",
       " '₹299',\n",
       " '₹1,119',\n",
       " '₹1,139',\n",
       " '₹1,119',\n",
       " '₹549',\n",
       " '₹377',\n",
       " '₹299',\n",
       " '₹5,700',\n",
       " '₹9,000',\n",
       " '₹1,127',\n",
       " '₹449',\n",
       " '₹1,379',\n",
       " '₹1,949',\n",
       " '₹1,789',\n",
       " '₹999',\n",
       " '₹638',\n",
       " '₹1,679',\n",
       " '₹449',\n",
       " '₹299',\n",
       " '₹470',\n",
       " '₹299',\n",
       " '₹1,179',\n",
       " '₹276',\n",
       " '₹1,099',\n",
       " '₹549',\n",
       " '₹470',\n",
       " '₹1,099',\n",
       " '₹1,139',\n",
       " '₹362',\n",
       " '₹330',\n",
       " '₹399',\n",
       " '₹395',\n",
       " '₹645',\n",
       " '₹1,099',\n",
       " '₹1,036',\n",
       " '₹299',\n",
       " '₹1,179',\n",
       " '₹9,149',\n",
       " '₹1,302',\n",
       " '₹499',\n",
       " '₹299',\n",
       " '₹1,119',\n",
       " '₹1,139',\n",
       " '₹1,119',\n",
       " '₹549',\n",
       " '₹377',\n",
       " '₹299',\n",
       " '₹5,700',\n",
       " '₹9,000',\n",
       " '₹1,127',\n",
       " '₹449',\n",
       " '₹1,379',\n",
       " '₹1,949',\n",
       " '₹1,789',\n",
       " '₹999',\n",
       " '₹638',\n",
       " '₹1,679',\n",
       " '₹449',\n",
       " '₹299',\n",
       " '₹470',\n",
       " '₹299',\n",
       " '₹1,179',\n",
       " '₹276',\n",
       " '₹1,099',\n",
       " '₹549',\n",
       " '₹470',\n",
       " '₹1,099',\n",
       " '₹1,139',\n",
       " '₹362',\n",
       " '₹330',\n",
       " '₹399',\n",
       " '₹395',\n",
       " '₹645',\n",
       " '₹1,099',\n",
       " '₹1,036',\n",
       " '₹299',\n",
       " '₹1,179',\n",
       " '₹9,149',\n",
       " '₹1,302',\n",
       " '₹499',\n",
       " '₹299',\n",
       " '₹1,119',\n",
       " '₹1,139',\n",
       " '₹1,119',\n",
       " '₹549',\n",
       " '₹377',\n",
       " '₹299',\n",
       " '₹5,700',\n",
       " '₹9,000',\n",
       " '₹1,127',\n",
       " '₹449',\n",
       " '₹1,379',\n",
       " '₹1,949',\n",
       " '₹1,789',\n",
       " '₹999',\n",
       " '₹638',\n",
       " '₹1,679',\n",
       " '₹449',\n",
       " '₹299',\n",
       " '₹470',\n",
       " '₹299',\n",
       " '₹1,179',\n",
       " '₹276',\n",
       " '₹1,099',\n",
       " '₹549',\n",
       " '₹470',\n",
       " '₹1,099',\n",
       " '₹1,139',\n",
       " '₹362',\n",
       " '₹330',\n",
       " '₹399',\n",
       " '₹395',\n",
       " '₹645',\n",
       " '₹1,099',\n",
       " '₹1,036',\n",
       " '₹299',\n",
       " '₹1,179',\n",
       " '₹9,149',\n",
       " '₹1,302',\n",
       " '₹499',\n",
       " '₹299',\n",
       " '₹1,119',\n",
       " '₹1,139',\n",
       " '₹1,119',\n",
       " '₹549',\n",
       " '₹377',\n",
       " '₹299',\n",
       " '₹5,700',\n",
       " '₹9,000',\n",
       " '₹1,127',\n",
       " '₹449',\n",
       " '₹1,379',\n",
       " '₹1,949',\n",
       " '₹1,789',\n",
       " '₹999',\n",
       " '₹638',\n",
       " '₹1,679',\n",
       " '₹449',\n",
       " '₹299',\n",
       " '₹470',\n",
       " '₹299',\n",
       " '₹1,179',\n",
       " '₹276',\n",
       " '₹1,099',\n",
       " '₹549',\n",
       " '₹470',\n",
       " '₹1,099',\n",
       " '₹1,139',\n",
       " '₹362',\n",
       " '₹330',\n",
       " '₹399',\n",
       " '₹395',\n",
       " '₹645',\n",
       " '₹1,099',\n",
       " '₹1,036',\n",
       " '₹299',\n",
       " '₹1,179',\n",
       " '₹9,149',\n",
       " '₹1,302',\n",
       " '₹499',\n",
       " '₹299',\n",
       " '₹1,119',\n",
       " '₹1,139',\n",
       " '₹1,119',\n",
       " '₹549',\n",
       " '₹377',\n",
       " '₹299',\n",
       " '₹5,700',\n",
       " '₹9,000',\n",
       " '₹1,127',\n",
       " '₹449',\n",
       " '₹1,379',\n",
       " '₹1,949',\n",
       " '₹1,789',\n",
       " '₹999',\n",
       " '₹638',\n",
       " '₹1,679',\n",
       " '₹449',\n",
       " '₹299',\n",
       " '₹470',\n",
       " '₹299',\n",
       " '₹1,179',\n",
       " '₹276',\n",
       " '₹1,099',\n",
       " '₹549',\n",
       " '₹470',\n",
       " '₹1,099',\n",
       " '₹1,139',\n",
       " '₹362',\n",
       " '₹330',\n",
       " '₹399',\n",
       " '₹395',\n",
       " '₹645',\n",
       " '₹1,099',\n",
       " '₹1,036',\n",
       " '₹299',\n",
       " '₹1,179',\n",
       " '₹9,149',\n",
       " '₹1,302',\n",
       " '₹499',\n",
       " '₹299',\n",
       " '₹1,119',\n",
       " '₹1,139',\n",
       " '₹1,119',\n",
       " '₹549',\n",
       " '₹377',\n",
       " '₹299',\n",
       " '₹5,700',\n",
       " '₹9,000',\n",
       " '₹1,127',\n",
       " '₹449',\n",
       " '₹1,379',\n",
       " '₹1,949',\n",
       " '₹1,789',\n",
       " '₹999',\n",
       " '₹638',\n",
       " '₹1,679',\n",
       " '₹449']"
      ]
     },
     "execution_count": 56,
     "metadata": {},
     "output_type": "execute_result"
    }
   ],
   "source": [
    "S_price"
   ]
  },
  {
   "cell_type": "code",
   "execution_count": 59,
   "id": "b9d57ca2",
   "metadata": {},
   "outputs": [
    {
     "data": {
      "text/html": [
       "<div>\n",
       "<style scoped>\n",
       "    .dataframe tbody tr th:only-of-type {\n",
       "        vertical-align: middle;\n",
       "    }\n",
       "\n",
       "    .dataframe tbody tr th {\n",
       "        vertical-align: top;\n",
       "    }\n",
       "\n",
       "    .dataframe thead th {\n",
       "        text-align: right;\n",
       "    }\n",
       "</style>\n",
       "<table border=\"1\" class=\"dataframe\">\n",
       "  <thead>\n",
       "    <tr style=\"text-align: right;\">\n",
       "      <th></th>\n",
       "      <th>Brand</th>\n",
       "      <th>Price</th>\n",
       "    </tr>\n",
       "  </thead>\n",
       "  <tbody>\n",
       "    <tr>\n",
       "      <th>0</th>\n",
       "      <td>aadi</td>\n",
       "      <td>₹299</td>\n",
       "    </tr>\n",
       "    <tr>\n",
       "      <th>1</th>\n",
       "      <td>BRUTON</td>\n",
       "      <td>₹470</td>\n",
       "    </tr>\n",
       "    <tr>\n",
       "      <th>2</th>\n",
       "      <td>URBANBOX</td>\n",
       "      <td>₹299</td>\n",
       "    </tr>\n",
       "    <tr>\n",
       "      <th>3</th>\n",
       "      <td>RED TAPE</td>\n",
       "      <td>₹1,179</td>\n",
       "    </tr>\n",
       "    <tr>\n",
       "      <th>4</th>\n",
       "      <td>BRUTON</td>\n",
       "      <td>₹276</td>\n",
       "    </tr>\n",
       "    <tr>\n",
       "      <th>...</th>\n",
       "      <td>...</td>\n",
       "      <td>...</td>\n",
       "    </tr>\n",
       "    <tr>\n",
       "      <th>95</th>\n",
       "      <td>RED TAPE</td>\n",
       "      <td>₹1,099</td>\n",
       "    </tr>\n",
       "    <tr>\n",
       "      <th>96</th>\n",
       "      <td>ATOM</td>\n",
       "      <td>₹1,036</td>\n",
       "    </tr>\n",
       "    <tr>\n",
       "      <th>97</th>\n",
       "      <td>aadi</td>\n",
       "      <td>₹299</td>\n",
       "    </tr>\n",
       "    <tr>\n",
       "      <th>98</th>\n",
       "      <td>RED TAPE</td>\n",
       "      <td>₹1,179</td>\n",
       "    </tr>\n",
       "    <tr>\n",
       "      <th>99</th>\n",
       "      <td>LACOSTE</td>\n",
       "      <td>₹9,149</td>\n",
       "    </tr>\n",
       "  </tbody>\n",
       "</table>\n",
       "<p>100 rows × 2 columns</p>\n",
       "</div>"
      ],
      "text/plain": [
       "       Brand   Price\n",
       "0       aadi    ₹299\n",
       "1     BRUTON    ₹470\n",
       "2   URBANBOX    ₹299\n",
       "3   RED TAPE  ₹1,179\n",
       "4     BRUTON    ₹276\n",
       "..       ...     ...\n",
       "95  RED TAPE  ₹1,099\n",
       "96      ATOM  ₹1,036\n",
       "97      aadi    ₹299\n",
       "98  RED TAPE  ₹1,179\n",
       "99   LACOSTE  ₹9,149\n",
       "\n",
       "[100 rows x 2 columns]"
      ]
     },
     "execution_count": 59,
     "metadata": {},
     "output_type": "execute_result"
    }
   ],
   "source": [
    "df=pd.DataFrame({'Brand':S_brand,'Price':S_price})\n",
    "df.head(100)"
   ]
  },
  {
   "cell_type": "code",
   "execution_count": 39,
   "id": "c94cb4cc",
   "metadata": {},
   "outputs": [],
   "source": [
    "start=0\n",
    "end=3\n",
    "for page in range(start,end):\n",
    "    brand=driver.find_elements(By.XPATH,'//div[@class=\"syl9yP\"]')\n",
    "    for i in brand:\n",
    "        S_brand.append(i.text)\n",
    "    next_button=driver.find_elements(By.XPATH,'/html/body/div/div/div[3]/div[1]/div[2]/div[12]/div/div/nav/a[11]/span')\n",
    "    next_button\n",
    "    time.sleep(3)"
   ]
  },
  {
   "cell_type": "code",
   "execution_count": 40,
   "id": "b56493b5",
   "metadata": {},
   "outputs": [
    {
     "data": {
      "text/plain": [
       "['aadi',\n",
       " 'BRUTON',\n",
       " 'URBANBOX',\n",
       " 'RED TAPE',\n",
       " 'BRUTON',\n",
       " 'RED TAPE',\n",
       " 'RapidBox',\n",
       " 'BRUTON',\n",
       " \"Neeman's\",\n",
       " 'RED TAPE',\n",
       " 'aadi',\n",
       " 'Footox',\n",
       " 'Shozie',\n",
       " 'Deals4you',\n",
       " 'Red Eleven',\n",
       " 'RED TAPE',\n",
       " 'ATOM',\n",
       " 'aadi',\n",
       " 'RED TAPE',\n",
       " 'LACOSTE',\n",
       " 'ATOM',\n",
       " 'BRUTON',\n",
       " 'URBANBOX',\n",
       " 'RED TAPE',\n",
       " 'RED TAPE',\n",
       " 'RED TAPE',\n",
       " 'RapidBox',\n",
       " 'aadi',\n",
       " 'aadi',\n",
       " 'TOMMY HILFIGER',\n",
       " 'New Balance',\n",
       " 'RUN SEVEN',\n",
       " 'Robbie jones',\n",
       " 'RED TAPE',\n",
       " 'RED TAPE',\n",
       " 'FLYING MACHINE',\n",
       " 'RUN SEVEN',\n",
       " 'aadi',\n",
       " 'RED TAPE',\n",
       " 'Robbie jones',\n",
       " 'aadi',\n",
       " 'BRUTON',\n",
       " 'URBANBOX',\n",
       " 'RED TAPE',\n",
       " 'BRUTON',\n",
       " 'RED TAPE',\n",
       " 'RapidBox',\n",
       " 'BRUTON',\n",
       " \"Neeman's\",\n",
       " 'RED TAPE',\n",
       " 'aadi',\n",
       " 'Footox',\n",
       " 'Shozie',\n",
       " 'Deals4you',\n",
       " 'Red Eleven',\n",
       " 'RED TAPE',\n",
       " 'ATOM',\n",
       " 'aadi',\n",
       " 'RED TAPE',\n",
       " 'LACOSTE',\n",
       " 'ATOM',\n",
       " 'BRUTON',\n",
       " 'URBANBOX',\n",
       " 'RED TAPE',\n",
       " 'RED TAPE',\n",
       " 'RED TAPE',\n",
       " 'RapidBox',\n",
       " 'aadi',\n",
       " 'aadi',\n",
       " 'TOMMY HILFIGER',\n",
       " 'New Balance',\n",
       " 'RUN SEVEN',\n",
       " 'Robbie jones',\n",
       " 'RED TAPE',\n",
       " 'RED TAPE',\n",
       " 'FLYING MACHINE',\n",
       " 'RUN SEVEN',\n",
       " 'aadi',\n",
       " 'RED TAPE',\n",
       " 'Robbie jones',\n",
       " 'aadi',\n",
       " 'BRUTON',\n",
       " 'URBANBOX',\n",
       " 'RED TAPE',\n",
       " 'BRUTON',\n",
       " 'RED TAPE',\n",
       " 'RapidBox',\n",
       " 'BRUTON',\n",
       " \"Neeman's\",\n",
       " 'RED TAPE',\n",
       " 'aadi',\n",
       " 'Footox',\n",
       " 'Shozie',\n",
       " 'Deals4you',\n",
       " 'Red Eleven',\n",
       " 'RED TAPE',\n",
       " 'ATOM',\n",
       " 'aadi',\n",
       " 'RED TAPE',\n",
       " 'LACOSTE',\n",
       " 'ATOM',\n",
       " 'BRUTON',\n",
       " 'URBANBOX',\n",
       " 'RED TAPE',\n",
       " 'RED TAPE',\n",
       " 'RED TAPE',\n",
       " 'RapidBox',\n",
       " 'aadi',\n",
       " 'aadi',\n",
       " 'TOMMY HILFIGER',\n",
       " 'New Balance',\n",
       " 'RUN SEVEN',\n",
       " 'Robbie jones',\n",
       " 'RED TAPE',\n",
       " 'RED TAPE',\n",
       " 'FLYING MACHINE',\n",
       " 'RUN SEVEN',\n",
       " 'aadi',\n",
       " 'RED TAPE',\n",
       " 'Robbie jones',\n",
       " 'aadi',\n",
       " 'BRUTON',\n",
       " 'URBANBOX',\n",
       " 'RED TAPE',\n",
       " 'BRUTON',\n",
       " 'RED TAPE',\n",
       " 'RapidBox',\n",
       " 'BRUTON',\n",
       " \"Neeman's\",\n",
       " 'RED TAPE',\n",
       " 'aadi',\n",
       " 'Footox',\n",
       " 'Shozie',\n",
       " 'Deals4you',\n",
       " 'Red Eleven',\n",
       " 'RED TAPE',\n",
       " 'ATOM',\n",
       " 'aadi',\n",
       " 'RED TAPE',\n",
       " 'LACOSTE',\n",
       " 'ATOM',\n",
       " 'BRUTON',\n",
       " 'URBANBOX',\n",
       " 'RED TAPE',\n",
       " 'RED TAPE',\n",
       " 'RED TAPE',\n",
       " 'RapidBox',\n",
       " 'aadi',\n",
       " 'aadi',\n",
       " 'TOMMY HILFIGER',\n",
       " 'New Balance',\n",
       " 'RUN SEVEN',\n",
       " 'Robbie jones',\n",
       " 'RED TAPE',\n",
       " 'RED TAPE',\n",
       " 'FLYING MACHINE',\n",
       " 'RUN SEVEN',\n",
       " 'aadi',\n",
       " 'RED TAPE',\n",
       " 'Robbie jones',\n",
       " 'aadi',\n",
       " 'BRUTON',\n",
       " 'URBANBOX',\n",
       " 'RED TAPE',\n",
       " 'BRUTON',\n",
       " 'RED TAPE',\n",
       " 'RapidBox',\n",
       " 'BRUTON',\n",
       " \"Neeman's\",\n",
       " 'RED TAPE',\n",
       " 'aadi',\n",
       " 'Footox',\n",
       " 'Shozie',\n",
       " 'Deals4you',\n",
       " 'Red Eleven',\n",
       " 'RED TAPE',\n",
       " 'ATOM',\n",
       " 'aadi',\n",
       " 'RED TAPE',\n",
       " 'LACOSTE',\n",
       " 'ATOM',\n",
       " 'BRUTON',\n",
       " 'URBANBOX',\n",
       " 'RED TAPE',\n",
       " 'RED TAPE',\n",
       " 'RED TAPE',\n",
       " 'RapidBox',\n",
       " 'aadi',\n",
       " 'aadi',\n",
       " 'TOMMY HILFIGER',\n",
       " 'New Balance',\n",
       " 'RUN SEVEN',\n",
       " 'Robbie jones',\n",
       " 'RED TAPE',\n",
       " 'RED TAPE',\n",
       " 'FLYING MACHINE',\n",
       " 'RUN SEVEN',\n",
       " 'aadi',\n",
       " 'RED TAPE',\n",
       " 'Robbie jones',\n",
       " 'aadi',\n",
       " 'BRUTON',\n",
       " 'URBANBOX',\n",
       " 'RED TAPE',\n",
       " 'BRUTON',\n",
       " 'RED TAPE',\n",
       " 'RapidBox',\n",
       " 'BRUTON',\n",
       " \"Neeman's\",\n",
       " 'RED TAPE',\n",
       " 'aadi',\n",
       " 'Footox',\n",
       " 'Shozie',\n",
       " 'Deals4you',\n",
       " 'Red Eleven',\n",
       " 'RED TAPE',\n",
       " 'ATOM',\n",
       " 'aadi',\n",
       " 'RED TAPE',\n",
       " 'LACOSTE',\n",
       " 'ATOM',\n",
       " 'BRUTON',\n",
       " 'URBANBOX',\n",
       " 'RED TAPE',\n",
       " 'RED TAPE',\n",
       " 'RED TAPE',\n",
       " 'RapidBox',\n",
       " 'aadi',\n",
       " 'aadi',\n",
       " 'TOMMY HILFIGER',\n",
       " 'New Balance',\n",
       " 'RUN SEVEN',\n",
       " 'Robbie jones',\n",
       " 'RED TAPE',\n",
       " 'RED TAPE',\n",
       " 'FLYING MACHINE',\n",
       " 'RUN SEVEN',\n",
       " 'aadi',\n",
       " 'RED TAPE',\n",
       " 'Robbie jones',\n",
       " 'aadi',\n",
       " 'BRUTON',\n",
       " 'URBANBOX',\n",
       " 'RED TAPE',\n",
       " 'BRUTON',\n",
       " 'RED TAPE',\n",
       " 'RapidBox',\n",
       " 'BRUTON',\n",
       " \"Neeman's\",\n",
       " 'RED TAPE',\n",
       " 'aadi',\n",
       " 'Footox',\n",
       " 'Shozie',\n",
       " 'Deals4you',\n",
       " 'Red Eleven',\n",
       " 'RED TAPE',\n",
       " 'ATOM',\n",
       " 'aadi',\n",
       " 'RED TAPE',\n",
       " 'LACOSTE',\n",
       " 'ATOM',\n",
       " 'BRUTON',\n",
       " 'URBANBOX',\n",
       " 'RED TAPE',\n",
       " 'RED TAPE',\n",
       " 'RED TAPE',\n",
       " 'RapidBox',\n",
       " 'aadi',\n",
       " 'aadi',\n",
       " 'TOMMY HILFIGER',\n",
       " 'New Balance',\n",
       " 'RUN SEVEN',\n",
       " 'Robbie jones',\n",
       " 'RED TAPE',\n",
       " 'RED TAPE',\n",
       " 'FLYING MACHINE',\n",
       " 'RUN SEVEN',\n",
       " 'aadi',\n",
       " 'RED TAPE',\n",
       " 'Robbie jones',\n",
       " 'aadi',\n",
       " 'BRUTON',\n",
       " 'URBANBOX',\n",
       " 'RED TAPE',\n",
       " 'BRUTON',\n",
       " 'RED TAPE',\n",
       " 'RapidBox',\n",
       " 'BRUTON',\n",
       " \"Neeman's\",\n",
       " 'RED TAPE',\n",
       " 'aadi',\n",
       " 'Footox',\n",
       " 'Shozie',\n",
       " 'Deals4you',\n",
       " 'Red Eleven',\n",
       " 'RED TAPE',\n",
       " 'ATOM',\n",
       " 'aadi',\n",
       " 'RED TAPE',\n",
       " 'LACOSTE',\n",
       " 'ATOM',\n",
       " 'BRUTON',\n",
       " 'URBANBOX',\n",
       " 'RED TAPE',\n",
       " 'RED TAPE',\n",
       " 'RED TAPE',\n",
       " 'RapidBox',\n",
       " 'aadi',\n",
       " 'aadi',\n",
       " 'TOMMY HILFIGER',\n",
       " 'New Balance',\n",
       " 'RUN SEVEN',\n",
       " 'Robbie jones',\n",
       " 'RED TAPE',\n",
       " 'RED TAPE',\n",
       " 'FLYING MACHINE',\n",
       " 'RUN SEVEN',\n",
       " 'aadi',\n",
       " 'RED TAPE',\n",
       " 'Robbie jones',\n",
       " 'aadi',\n",
       " 'BRUTON',\n",
       " 'URBANBOX',\n",
       " 'RED TAPE',\n",
       " 'BRUTON',\n",
       " 'RED TAPE',\n",
       " 'RapidBox',\n",
       " 'BRUTON',\n",
       " \"Neeman's\",\n",
       " 'RED TAPE',\n",
       " 'aadi',\n",
       " 'Footox',\n",
       " 'Shozie',\n",
       " 'Deals4you',\n",
       " 'Red Eleven',\n",
       " 'RED TAPE',\n",
       " 'ATOM',\n",
       " 'aadi',\n",
       " 'RED TAPE',\n",
       " 'LACOSTE',\n",
       " 'ATOM',\n",
       " 'BRUTON',\n",
       " 'URBANBOX',\n",
       " 'RED TAPE',\n",
       " 'RED TAPE',\n",
       " 'RED TAPE',\n",
       " 'RapidBox',\n",
       " 'aadi',\n",
       " 'aadi',\n",
       " 'TOMMY HILFIGER',\n",
       " 'New Balance',\n",
       " 'RUN SEVEN',\n",
       " 'Robbie jones',\n",
       " 'RED TAPE',\n",
       " 'RED TAPE',\n",
       " 'FLYING MACHINE',\n",
       " 'RUN SEVEN',\n",
       " 'aadi',\n",
       " 'RED TAPE',\n",
       " 'Robbie jones',\n",
       " 'aadi',\n",
       " 'BRUTON',\n",
       " 'URBANBOX',\n",
       " 'RED TAPE',\n",
       " 'BRUTON',\n",
       " 'RED TAPE',\n",
       " 'RapidBox',\n",
       " 'BRUTON',\n",
       " \"Neeman's\",\n",
       " 'RED TAPE',\n",
       " 'aadi',\n",
       " 'Footox',\n",
       " 'Shozie',\n",
       " 'Deals4you',\n",
       " 'Red Eleven',\n",
       " 'RED TAPE',\n",
       " 'ATOM',\n",
       " 'aadi',\n",
       " 'RED TAPE',\n",
       " 'LACOSTE',\n",
       " 'ATOM',\n",
       " 'BRUTON',\n",
       " 'URBANBOX',\n",
       " 'RED TAPE',\n",
       " 'RED TAPE',\n",
       " 'RED TAPE',\n",
       " 'RapidBox',\n",
       " 'aadi',\n",
       " 'aadi',\n",
       " 'TOMMY HILFIGER',\n",
       " 'New Balance',\n",
       " 'RUN SEVEN',\n",
       " 'Robbie jones',\n",
       " 'RED TAPE',\n",
       " 'RED TAPE',\n",
       " 'FLYING MACHINE',\n",
       " 'RUN SEVEN',\n",
       " 'aadi',\n",
       " 'RED TAPE',\n",
       " 'Robbie jones',\n",
       " 'aadi',\n",
       " 'BRUTON',\n",
       " 'URBANBOX',\n",
       " 'RED TAPE',\n",
       " 'BRUTON',\n",
       " 'RED TAPE',\n",
       " 'RapidBox',\n",
       " 'BRUTON',\n",
       " \"Neeman's\",\n",
       " 'RED TAPE',\n",
       " 'aadi',\n",
       " 'Footox',\n",
       " 'Shozie',\n",
       " 'Deals4you',\n",
       " 'Red Eleven',\n",
       " 'RED TAPE',\n",
       " 'ATOM',\n",
       " 'aadi',\n",
       " 'RED TAPE',\n",
       " 'LACOSTE',\n",
       " 'ATOM',\n",
       " 'BRUTON',\n",
       " 'URBANBOX',\n",
       " 'RED TAPE',\n",
       " 'RED TAPE',\n",
       " 'RED TAPE',\n",
       " 'RapidBox',\n",
       " 'aadi',\n",
       " 'aadi',\n",
       " 'TOMMY HILFIGER',\n",
       " 'New Balance',\n",
       " 'RUN SEVEN',\n",
       " 'Robbie jones',\n",
       " 'RED TAPE',\n",
       " 'RED TAPE',\n",
       " 'FLYING MACHINE',\n",
       " 'RUN SEVEN',\n",
       " 'aadi',\n",
       " 'RED TAPE',\n",
       " 'Robbie jones',\n",
       " 'aadi',\n",
       " 'BRUTON',\n",
       " 'URBANBOX',\n",
       " 'RED TAPE',\n",
       " 'BRUTON',\n",
       " 'RED TAPE',\n",
       " 'RapidBox',\n",
       " 'BRUTON',\n",
       " \"Neeman's\",\n",
       " 'RED TAPE',\n",
       " 'aadi',\n",
       " 'Footox',\n",
       " 'Shozie',\n",
       " 'Deals4you',\n",
       " 'Red Eleven',\n",
       " 'RED TAPE',\n",
       " 'ATOM',\n",
       " 'aadi',\n",
       " 'RED TAPE',\n",
       " 'LACOSTE',\n",
       " 'ATOM',\n",
       " 'BRUTON',\n",
       " 'URBANBOX',\n",
       " 'RED TAPE',\n",
       " 'RED TAPE',\n",
       " 'RED TAPE',\n",
       " 'RapidBox',\n",
       " 'aadi',\n",
       " 'aadi',\n",
       " 'TOMMY HILFIGER',\n",
       " 'New Balance',\n",
       " 'RUN SEVEN',\n",
       " 'Robbie jones',\n",
       " 'RED TAPE',\n",
       " 'RED TAPE',\n",
       " 'FLYING MACHINE',\n",
       " 'RUN SEVEN',\n",
       " 'aadi',\n",
       " 'RED TAPE',\n",
       " 'Robbie jones',\n",
       " 'aadi',\n",
       " 'BRUTON',\n",
       " 'URBANBOX',\n",
       " 'RED TAPE',\n",
       " 'BRUTON',\n",
       " 'RED TAPE',\n",
       " 'RapidBox',\n",
       " 'BRUTON',\n",
       " \"Neeman's\",\n",
       " 'RED TAPE',\n",
       " 'aadi',\n",
       " 'Footox',\n",
       " 'Shozie',\n",
       " 'Deals4you',\n",
       " 'Red Eleven',\n",
       " 'RED TAPE',\n",
       " 'ATOM',\n",
       " 'aadi',\n",
       " 'RED TAPE',\n",
       " 'LACOSTE',\n",
       " 'ATOM',\n",
       " 'BRUTON',\n",
       " 'URBANBOX',\n",
       " 'RED TAPE',\n",
       " 'RED TAPE',\n",
       " 'RED TAPE',\n",
       " 'RapidBox',\n",
       " 'aadi',\n",
       " 'aadi',\n",
       " 'TOMMY HILFIGER',\n",
       " 'New Balance',\n",
       " 'RUN SEVEN',\n",
       " 'Robbie jones',\n",
       " 'RED TAPE',\n",
       " 'RED TAPE',\n",
       " 'FLYING MACHINE',\n",
       " 'RUN SEVEN',\n",
       " 'aadi',\n",
       " 'RED TAPE',\n",
       " 'Robbie jones',\n",
       " 'aadi',\n",
       " 'BRUTON',\n",
       " 'URBANBOX',\n",
       " 'RED TAPE',\n",
       " 'BRUTON',\n",
       " 'RED TAPE',\n",
       " 'RapidBox',\n",
       " 'BRUTON',\n",
       " \"Neeman's\",\n",
       " 'RED TAPE',\n",
       " 'aadi',\n",
       " 'Footox',\n",
       " 'Shozie',\n",
       " 'Deals4you',\n",
       " 'Red Eleven',\n",
       " 'RED TAPE',\n",
       " 'ATOM',\n",
       " 'aadi',\n",
       " 'RED TAPE',\n",
       " 'LACOSTE',\n",
       " 'ATOM',\n",
       " 'BRUTON',\n",
       " 'URBANBOX',\n",
       " 'RED TAPE',\n",
       " 'RED TAPE',\n",
       " 'RED TAPE',\n",
       " 'RapidBox',\n",
       " 'aadi',\n",
       " 'aadi',\n",
       " 'TOMMY HILFIGER',\n",
       " 'New Balance',\n",
       " 'RUN SEVEN',\n",
       " 'Robbie jones',\n",
       " 'RED TAPE',\n",
       " 'RED TAPE',\n",
       " 'FLYING MACHINE',\n",
       " 'RUN SEVEN',\n",
       " 'aadi',\n",
       " 'RED TAPE',\n",
       " 'Robbie jones',\n",
       " 'aadi',\n",
       " 'BRUTON',\n",
       " 'URBANBOX',\n",
       " 'RED TAPE',\n",
       " 'BRUTON',\n",
       " 'RED TAPE',\n",
       " 'RapidBox',\n",
       " 'BRUTON',\n",
       " \"Neeman's\",\n",
       " 'RED TAPE',\n",
       " 'aadi',\n",
       " 'Footox',\n",
       " 'Shozie',\n",
       " 'Deals4you',\n",
       " 'Red Eleven',\n",
       " 'RED TAPE',\n",
       " 'ATOM',\n",
       " 'aadi',\n",
       " 'RED TAPE',\n",
       " 'LACOSTE',\n",
       " 'ATOM',\n",
       " 'BRUTON',\n",
       " 'URBANBOX',\n",
       " 'RED TAPE',\n",
       " 'RED TAPE',\n",
       " 'RED TAPE',\n",
       " 'RapidBox',\n",
       " 'aadi',\n",
       " 'aadi',\n",
       " 'TOMMY HILFIGER',\n",
       " 'New Balance',\n",
       " 'RUN SEVEN',\n",
       " 'Robbie jones',\n",
       " 'RED TAPE',\n",
       " 'RED TAPE',\n",
       " 'FLYING MACHINE',\n",
       " 'RUN SEVEN',\n",
       " 'aadi',\n",
       " 'RED TAPE',\n",
       " 'Robbie jones']"
      ]
     },
     "execution_count": 40,
     "metadata": {},
     "output_type": "execute_result"
    }
   ],
   "source": [
    "S_brand"
   ]
  },
  {
   "cell_type": "markdown",
   "id": "74946b17",
   "metadata": {},
   "source": [
    "Q5: Go to webpage https://www.amazon.in/ Enter “Laptop” in the search field and then click the search icon. Then set CPU \n",
    "Type filter to “Intel Core i7” as shown in the below image:"
   ]
  },
  {
   "cell_type": "code",
   "execution_count": 60,
   "id": "91fe7a3c",
   "metadata": {},
   "outputs": [],
   "source": [
    "import selenium\n",
    "import pandas as pd\n",
    "from selenium import webdriver\n",
    "import warnings\n",
    "warnings.filterwarnings('ignore')\n",
    "from selenium.webdriver.common.by import By\n",
    "import time\n",
    "driver=webdriver.Chrome()"
   ]
  },
  {
   "cell_type": "code",
   "execution_count": 61,
   "id": "b68334ce",
   "metadata": {},
   "outputs": [],
   "source": [
    "driver.get(' https://www.amazon.in/')"
   ]
  },
  {
   "cell_type": "code",
   "execution_count": 64,
   "id": "eed93328",
   "metadata": {},
   "outputs": [],
   "source": [
    "L_title=[]\n",
    "L_rating=[]\n",
    "L_price=[]"
   ]
  },
  {
   "cell_type": "code",
   "execution_count": 65,
   "id": "a3776ec3",
   "metadata": {},
   "outputs": [],
   "source": [
    "title_tags=driver.find_elements(By.XPATH,'//h2[@class=\"a-size-mini a-spacing-none a-color-base s-line-clamp-2\"]')\n",
    "for i in title_tags:\n",
    "    title=i.text\n",
    "    L_title.append(title)"
   ]
  },
  {
   "cell_type": "code",
   "execution_count": 66,
   "id": "ab8110dc",
   "metadata": {},
   "outputs": [],
   "source": [
    "L_rating=[]\n",
    "rating_tags=driver.find_elements(By.XPATH,'//span[@class=\"a-size-base s-underline-text\"]')\n",
    "for i in rating_tags:\n",
    "    rating=i.text\n",
    "    L_rating.append(rating)"
   ]
  },
  {
   "cell_type": "code",
   "execution_count": 70,
   "id": "7e2c869b",
   "metadata": {},
   "outputs": [],
   "source": [
    "L_price=[]\n",
    "price_tags=driver.find_elements(By.XPATH,'//div[@class=\"a-row a-size-base a-color-base\"]')\n",
    "for i in price_tags:\n",
    "    price=i.text\n",
    "    L_price.append(price)"
   ]
  },
  {
   "cell_type": "code",
   "execution_count": 69,
   "id": "afbbee8c",
   "metadata": {},
   "outputs": [
    {
     "name": "stdout",
     "output_type": "stream",
     "text": [
      "24 16 23\n"
     ]
    }
   ],
   "source": [
    "print(len(L_title),len(L_rating),len(L_price))"
   ]
  },
  {
   "cell_type": "code",
   "execution_count": 71,
   "id": "fb37e021",
   "metadata": {},
   "outputs": [
    {
     "data": {
      "text/html": [
       "<div>\n",
       "<style scoped>\n",
       "    .dataframe tbody tr th:only-of-type {\n",
       "        vertical-align: middle;\n",
       "    }\n",
       "\n",
       "    .dataframe tbody tr th {\n",
       "        vertical-align: top;\n",
       "    }\n",
       "\n",
       "    .dataframe thead th {\n",
       "        text-align: right;\n",
       "    }\n",
       "</style>\n",
       "<table border=\"1\" class=\"dataframe\">\n",
       "  <thead>\n",
       "    <tr style=\"text-align: right;\">\n",
       "      <th></th>\n",
       "      <th>title</th>\n",
       "      <th>Price</th>\n",
       "    </tr>\n",
       "  </thead>\n",
       "  <tbody>\n",
       "    <tr>\n",
       "      <th>0</th>\n",
       "      <td>Lenovo IdeaPad Slim 3 Intel Core i7 11th Gen 1...</td>\n",
       "      <td>₹54,990 M.R.P:\\n₹79,690 (31% off)</td>\n",
       "    </tr>\n",
       "    <tr>\n",
       "      <th>1</th>\n",
       "      <td>Lenovo ThinkBook 15 Intel 12th Gen Core i7 15....</td>\n",
       "      <td></td>\n",
       "    </tr>\n",
       "    <tr>\n",
       "      <th>2</th>\n",
       "      <td>Lenovo IdeaPad Slim 5 Intel Core i7 13700H 16\"...</td>\n",
       "      <td>₹86,990 M.R.P:\\n₹1,25,890 (31% off)</td>\n",
       "    </tr>\n",
       "    <tr>\n",
       "      <th>3</th>\n",
       "      <td>Lenovo ThinkPad E14 Intel Core i7 13th Gen 14\"...</td>\n",
       "      <td>₹96,990 M.R.P:\\n₹1,28,650 (25% off)</td>\n",
       "    </tr>\n",
       "    <tr>\n",
       "      <th>4</th>\n",
       "      <td>Lenovo IdeaPad Pro 5 Intel Core i7 13700H 16 I...</td>\n",
       "      <td>₹1,08,990 M.R.P:\\n₹1,53,890 (29% off)</td>\n",
       "    </tr>\n",
       "    <tr>\n",
       "      <th>5</th>\n",
       "      <td>(Refurbished) Lenovo IdeaPad Slim 3 Intel Core...</td>\n",
       "      <td>₹50,991 New Price:\\n₹59,990 (15% off)</td>\n",
       "    </tr>\n",
       "    <tr>\n",
       "      <th>6</th>\n",
       "      <td>Lenovo ThinkPad P16s Gen 2 21HK003EUS 16 Mobil...</td>\n",
       "      <td>₹1,59,990 M.R.P:\\n₹1,99,990 (20% off)</td>\n",
       "    </tr>\n",
       "    <tr>\n",
       "      <th>7</th>\n",
       "      <td>Lenovo IdeaPad Gaming 3 Intel Core i7-12700H 1...</td>\n",
       "      <td>₹89,990 M.R.P:\\n₹1,59,490 (44% off)</td>\n",
       "    </tr>\n",
       "    <tr>\n",
       "      <th>8</th>\n",
       "      <td>Lenovo ThinkPad E14 Intel Core i7 12th Gen 14\"...</td>\n",
       "      <td>₹93,000 M.R.P:\\n₹1,05,000 (11% off)</td>\n",
       "    </tr>\n",
       "    <tr>\n",
       "      <th>9</th>\n",
       "      <td>Lenovo ThinkBook 15 Intel 12th Gen Core i7 15....</td>\n",
       "      <td>₹82,990 M.R.P:\\n₹1,32,300 (37% off)</td>\n",
       "    </tr>\n",
       "    <tr>\n",
       "      <th>10</th>\n",
       "      <td>(Refurbished) LENOVO THINKPAD T450 (Core i5 5t...</td>\n",
       "      <td>₹13,597 M.R.P.:\\n₹59,999 (77% off)</td>\n",
       "    </tr>\n",
       "    <tr>\n",
       "      <th>11</th>\n",
       "      <td>Lenovo IdeaPad Slim 5 Intel Core i7 12th Gen 1...</td>\n",
       "      <td>₹87,990 M.R.P:\\n₹1,25,990 (30% off)</td>\n",
       "    </tr>\n",
       "    <tr>\n",
       "      <th>12</th>\n",
       "      <td>Lenovo Yoga 9 13th Gen Intel Evo i7 1360P 14\"(...</td>\n",
       "      <td>₹1,75,190 M.R.P:\\n₹2,44,890 (28% off)</td>\n",
       "    </tr>\n",
       "    <tr>\n",
       "      <th>13</th>\n",
       "      <td>Lenovo Yoga Slim 7Pro Intel Evo i7 1260P 14\"(3...</td>\n",
       "      <td>₹87,990 M.R.P:\\n₹1,39,890 (37% off)</td>\n",
       "    </tr>\n",
       "    <tr>\n",
       "      <th>14</th>\n",
       "      <td>Lenovo Yoga Slim7 Carbon Intel Evo i7 1260P 13...</td>\n",
       "      <td>₹1,16,990 M.R.P:\\n₹1,81,890 (36% off)</td>\n",
       "    </tr>\n",
       "    <tr>\n",
       "      <th>15</th>\n",
       "      <td>(Renewed) Lenovo T430 14-inch Laptop (Core i7/...</td>\n",
       "      <td>₹16,595 M.R.P.:\\n₹1,00,000 (83% off)</td>\n",
       "    </tr>\n",
       "    <tr>\n",
       "      <th>16</th>\n",
       "      <td>Lenovo Yoga Slim7 ProX Intel Evo i7 12700H 14....</td>\n",
       "      <td>₹1,14,990 M.R.P:\\n₹2,23,890 (49% off)</td>\n",
       "    </tr>\n",
       "    <tr>\n",
       "      <th>17</th>\n",
       "      <td>(Refurbished) Lenovo Thinkpad Laptop T470 Inte...</td>\n",
       "      <td>₹18,999 M.R.P.:\\n₹1,00,000 (81% off)</td>\n",
       "    </tr>\n",
       "    <tr>\n",
       "      <th>18</th>\n",
       "      <td>(Refurbished) Lenovo Thinkpad Laptop T480 Inte...</td>\n",
       "      <td>₹23,500 M.R.P.:\\n₹49,999 (53% off)</td>\n",
       "    </tr>\n",
       "    <tr>\n",
       "      <th>19</th>\n",
       "      <td>Lenovo ThinkPad T14 Intel 11th Gen Core i7 14\"...</td>\n",
       "      <td>₹89,999 M.R.P:\\n₹1,05,900 (15% off)</td>\n",
       "    </tr>\n",
       "    <tr>\n",
       "      <th>20</th>\n",
       "      <td>Lenovo Yoga 9 Intel Evo i7 1280P 14\"(35.56cm) ...</td>\n",
       "      <td>₹1,71,664\\n80 M.R.P:\\n₹2,37,890 (28% off)</td>\n",
       "    </tr>\n",
       "    <tr>\n",
       "      <th>21</th>\n",
       "      <td>(Renewed) Lenovo Intel Core i7-4th Gen 14 Inch...</td>\n",
       "      <td>₹18,169 M.R.P.:\\n₹1,00,000 (82% off)</td>\n",
       "    </tr>\n",
       "    <tr>\n",
       "      <th>22</th>\n",
       "      <td>Lenovo ThinkPad T15g Intel 11th Gen Core i7 15...</td>\n",
       "      <td>₹1,69,990 M.R.P:\\n₹3,00,249 (43% off)</td>\n",
       "    </tr>\n",
       "    <tr>\n",
       "      <th>23</th>\n",
       "      <td>(Renewed) Lenovo Intel 6th Gen Core i7 12.5 In...</td>\n",
       "      <td>₹19,999 M.R.P.:\\n₹59,999 (67% off)</td>\n",
       "    </tr>\n",
       "  </tbody>\n",
       "</table>\n",
       "</div>"
      ],
      "text/plain": [
       "                                                title  \\\n",
       "0   Lenovo IdeaPad Slim 3 Intel Core i7 11th Gen 1...   \n",
       "1   Lenovo ThinkBook 15 Intel 12th Gen Core i7 15....   \n",
       "2   Lenovo IdeaPad Slim 5 Intel Core i7 13700H 16\"...   \n",
       "3   Lenovo ThinkPad E14 Intel Core i7 13th Gen 14\"...   \n",
       "4   Lenovo IdeaPad Pro 5 Intel Core i7 13700H 16 I...   \n",
       "5   (Refurbished) Lenovo IdeaPad Slim 3 Intel Core...   \n",
       "6   Lenovo ThinkPad P16s Gen 2 21HK003EUS 16 Mobil...   \n",
       "7   Lenovo IdeaPad Gaming 3 Intel Core i7-12700H 1...   \n",
       "8   Lenovo ThinkPad E14 Intel Core i7 12th Gen 14\"...   \n",
       "9   Lenovo ThinkBook 15 Intel 12th Gen Core i7 15....   \n",
       "10  (Refurbished) LENOVO THINKPAD T450 (Core i5 5t...   \n",
       "11  Lenovo IdeaPad Slim 5 Intel Core i7 12th Gen 1...   \n",
       "12  Lenovo Yoga 9 13th Gen Intel Evo i7 1360P 14\"(...   \n",
       "13  Lenovo Yoga Slim 7Pro Intel Evo i7 1260P 14\"(3...   \n",
       "14  Lenovo Yoga Slim7 Carbon Intel Evo i7 1260P 13...   \n",
       "15  (Renewed) Lenovo T430 14-inch Laptop (Core i7/...   \n",
       "16  Lenovo Yoga Slim7 ProX Intel Evo i7 12700H 14....   \n",
       "17  (Refurbished) Lenovo Thinkpad Laptop T470 Inte...   \n",
       "18  (Refurbished) Lenovo Thinkpad Laptop T480 Inte...   \n",
       "19  Lenovo ThinkPad T14 Intel 11th Gen Core i7 14\"...   \n",
       "20  Lenovo Yoga 9 Intel Evo i7 1280P 14\"(35.56cm) ...   \n",
       "21  (Renewed) Lenovo Intel Core i7-4th Gen 14 Inch...   \n",
       "22  Lenovo ThinkPad T15g Intel 11th Gen Core i7 15...   \n",
       "23  (Renewed) Lenovo Intel 6th Gen Core i7 12.5 In...   \n",
       "\n",
       "                                        Price  \n",
       "0           ₹54,990 M.R.P:\\n₹79,690 (31% off)  \n",
       "1                                              \n",
       "2         ₹86,990 M.R.P:\\n₹1,25,890 (31% off)  \n",
       "3         ₹96,990 M.R.P:\\n₹1,28,650 (25% off)  \n",
       "4       ₹1,08,990 M.R.P:\\n₹1,53,890 (29% off)  \n",
       "5       ₹50,991 New Price:\\n₹59,990 (15% off)  \n",
       "6       ₹1,59,990 M.R.P:\\n₹1,99,990 (20% off)  \n",
       "7         ₹89,990 M.R.P:\\n₹1,59,490 (44% off)  \n",
       "8         ₹93,000 M.R.P:\\n₹1,05,000 (11% off)  \n",
       "9         ₹82,990 M.R.P:\\n₹1,32,300 (37% off)  \n",
       "10         ₹13,597 M.R.P.:\\n₹59,999 (77% off)  \n",
       "11        ₹87,990 M.R.P:\\n₹1,25,990 (30% off)  \n",
       "12      ₹1,75,190 M.R.P:\\n₹2,44,890 (28% off)  \n",
       "13        ₹87,990 M.R.P:\\n₹1,39,890 (37% off)  \n",
       "14      ₹1,16,990 M.R.P:\\n₹1,81,890 (36% off)  \n",
       "15       ₹16,595 M.R.P.:\\n₹1,00,000 (83% off)  \n",
       "16      ₹1,14,990 M.R.P:\\n₹2,23,890 (49% off)  \n",
       "17       ₹18,999 M.R.P.:\\n₹1,00,000 (81% off)  \n",
       "18         ₹23,500 M.R.P.:\\n₹49,999 (53% off)  \n",
       "19        ₹89,999 M.R.P:\\n₹1,05,900 (15% off)  \n",
       "20  ₹1,71,664\\n80 M.R.P:\\n₹2,37,890 (28% off)  \n",
       "21       ₹18,169 M.R.P.:\\n₹1,00,000 (82% off)  \n",
       "22      ₹1,69,990 M.R.P:\\n₹3,00,249 (43% off)  \n",
       "23         ₹19,999 M.R.P.:\\n₹59,999 (67% off)  "
      ]
     },
     "execution_count": 71,
     "metadata": {},
     "output_type": "execute_result"
    }
   ],
   "source": [
    "df=pd.DataFrame({'title':L_title,'Price':L_price})\n",
    "df"
   ]
  },
  {
   "cell_type": "code",
   "execution_count": 72,
   "id": "f51e68f9",
   "metadata": {},
   "outputs": [
    {
     "data": {
      "text/html": [
       "<div>\n",
       "<style scoped>\n",
       "    .dataframe tbody tr th:only-of-type {\n",
       "        vertical-align: middle;\n",
       "    }\n",
       "\n",
       "    .dataframe tbody tr th {\n",
       "        vertical-align: top;\n",
       "    }\n",
       "\n",
       "    .dataframe thead th {\n",
       "        text-align: right;\n",
       "    }\n",
       "</style>\n",
       "<table border=\"1\" class=\"dataframe\">\n",
       "  <thead>\n",
       "    <tr style=\"text-align: right;\">\n",
       "      <th></th>\n",
       "      <th>title</th>\n",
       "      <th>Price</th>\n",
       "    </tr>\n",
       "  </thead>\n",
       "  <tbody>\n",
       "    <tr>\n",
       "      <th>0</th>\n",
       "      <td>Lenovo IdeaPad Slim 3 Intel Core i7 11th Gen 1...</td>\n",
       "      <td>₹54,990 M.R.P:\\n₹79,690 (31% off)</td>\n",
       "    </tr>\n",
       "    <tr>\n",
       "      <th>1</th>\n",
       "      <td>Lenovo ThinkBook 15 Intel 12th Gen Core i7 15....</td>\n",
       "      <td></td>\n",
       "    </tr>\n",
       "    <tr>\n",
       "      <th>2</th>\n",
       "      <td>Lenovo IdeaPad Slim 5 Intel Core i7 13700H 16\"...</td>\n",
       "      <td>₹86,990 M.R.P:\\n₹1,25,890 (31% off)</td>\n",
       "    </tr>\n",
       "    <tr>\n",
       "      <th>3</th>\n",
       "      <td>Lenovo ThinkPad E14 Intel Core i7 13th Gen 14\"...</td>\n",
       "      <td>₹96,990 M.R.P:\\n₹1,28,650 (25% off)</td>\n",
       "    </tr>\n",
       "    <tr>\n",
       "      <th>4</th>\n",
       "      <td>Lenovo IdeaPad Pro 5 Intel Core i7 13700H 16 I...</td>\n",
       "      <td>₹1,08,990 M.R.P:\\n₹1,53,890 (29% off)</td>\n",
       "    </tr>\n",
       "    <tr>\n",
       "      <th>5</th>\n",
       "      <td>(Refurbished) Lenovo IdeaPad Slim 3 Intel Core...</td>\n",
       "      <td>₹50,991 New Price:\\n₹59,990 (15% off)</td>\n",
       "    </tr>\n",
       "    <tr>\n",
       "      <th>6</th>\n",
       "      <td>Lenovo ThinkPad P16s Gen 2 21HK003EUS 16 Mobil...</td>\n",
       "      <td>₹1,59,990 M.R.P:\\n₹1,99,990 (20% off)</td>\n",
       "    </tr>\n",
       "    <tr>\n",
       "      <th>7</th>\n",
       "      <td>Lenovo IdeaPad Gaming 3 Intel Core i7-12700H 1...</td>\n",
       "      <td>₹89,990 M.R.P:\\n₹1,59,490 (44% off)</td>\n",
       "    </tr>\n",
       "    <tr>\n",
       "      <th>8</th>\n",
       "      <td>Lenovo ThinkPad E14 Intel Core i7 12th Gen 14\"...</td>\n",
       "      <td>₹93,000 M.R.P:\\n₹1,05,000 (11% off)</td>\n",
       "    </tr>\n",
       "    <tr>\n",
       "      <th>9</th>\n",
       "      <td>Lenovo ThinkBook 15 Intel 12th Gen Core i7 15....</td>\n",
       "      <td>₹82,990 M.R.P:\\n₹1,32,300 (37% off)</td>\n",
       "    </tr>\n",
       "  </tbody>\n",
       "</table>\n",
       "</div>"
      ],
      "text/plain": [
       "                                               title  \\\n",
       "0  Lenovo IdeaPad Slim 3 Intel Core i7 11th Gen 1...   \n",
       "1  Lenovo ThinkBook 15 Intel 12th Gen Core i7 15....   \n",
       "2  Lenovo IdeaPad Slim 5 Intel Core i7 13700H 16\"...   \n",
       "3  Lenovo ThinkPad E14 Intel Core i7 13th Gen 14\"...   \n",
       "4  Lenovo IdeaPad Pro 5 Intel Core i7 13700H 16 I...   \n",
       "5  (Refurbished) Lenovo IdeaPad Slim 3 Intel Core...   \n",
       "6  Lenovo ThinkPad P16s Gen 2 21HK003EUS 16 Mobil...   \n",
       "7  Lenovo IdeaPad Gaming 3 Intel Core i7-12700H 1...   \n",
       "8  Lenovo ThinkPad E14 Intel Core i7 12th Gen 14\"...   \n",
       "9  Lenovo ThinkBook 15 Intel 12th Gen Core i7 15....   \n",
       "\n",
       "                                   Price  \n",
       "0      ₹54,990 M.R.P:\\n₹79,690 (31% off)  \n",
       "1                                         \n",
       "2    ₹86,990 M.R.P:\\n₹1,25,890 (31% off)  \n",
       "3    ₹96,990 M.R.P:\\n₹1,28,650 (25% off)  \n",
       "4  ₹1,08,990 M.R.P:\\n₹1,53,890 (29% off)  \n",
       "5  ₹50,991 New Price:\\n₹59,990 (15% off)  \n",
       "6  ₹1,59,990 M.R.P:\\n₹1,99,990 (20% off)  \n",
       "7    ₹89,990 M.R.P:\\n₹1,59,490 (44% off)  \n",
       "8    ₹93,000 M.R.P:\\n₹1,05,000 (11% off)  \n",
       "9    ₹82,990 M.R.P:\\n₹1,32,300 (37% off)  "
      ]
     },
     "execution_count": 72,
     "metadata": {},
     "output_type": "execute_result"
    }
   ],
   "source": [
    "df.head(10)"
   ]
  },
  {
   "cell_type": "markdown",
   "id": "f45d8962",
   "metadata": {},
   "source": [
    "Q6: Write a python program to scrape data for Top 1000 Quotes of All Time. \n",
    "The above task will be done in following steps: \n",
    "1. First get the webpagehttps://www.azquotes.com/ \n",
    "2. Click on Top Quote \n",
    "3. Than scrap a) Quote b) Author c) Type Of Quotes"
   ]
  },
  {
   "cell_type": "code",
   "execution_count": 81,
   "id": "0566a775",
   "metadata": {},
   "outputs": [],
   "source": [
    "import selenium\n",
    "import pandas as pd\n",
    "from selenium import webdriver\n",
    "import warnings\n",
    "warnings.filterwarnings('ignore')\n",
    "from selenium.webdriver.common.by import By\n",
    "import time\n",
    "driver=webdriver.Chrome()"
   ]
  },
  {
   "cell_type": "code",
   "execution_count": 82,
   "id": "11a768ff",
   "metadata": {},
   "outputs": [],
   "source": [
    "driver.get('https://www.azquotes.com/')"
   ]
  },
  {
   "cell_type": "code",
   "execution_count": 83,
   "id": "35bf2ce6",
   "metadata": {},
   "outputs": [],
   "source": [
    "T_quotes=[]\n",
    "start=0\n",
    "end=10\n",
    "for page in range(start,end):\n",
    "    quotes=driver.find_elements(By.XPATH,'//a[@class=\"title\"]')\n",
    "    for i in quotes:\n",
    "        T_quotes.append(i.text)\n",
    "    next_button=driver.find_elements(By.XPATH,'/html/body/div[1]/div[3]/div/div/div/div[1]/div/div[4]/li[12]/a')\n",
    "    next_button\n",
    "    time.sleep(3)"
   ]
  },
  {
   "cell_type": "code",
   "execution_count": 84,
   "id": "ef0404c5",
   "metadata": {},
   "outputs": [],
   "source": [
    "T_author=[]\n",
    "start=0\n",
    "end=10\n",
    "for page in range(start,end):\n",
    "    author=driver.find_elements(By.XPATH,'//div[@class=\"author\"]')\n",
    "    for i in author:\n",
    "        T_author.append(i.text)\n",
    "    next_button=driver.find_elements(By.XPATH,'/html/body/div[1]/div[3]/div/div/div/div[1]/div/div[4]/li[12]/a')\n",
    "    next_button\n",
    "    time.sleep(3)"
   ]
  },
  {
   "cell_type": "code",
   "execution_count": 85,
   "id": "13afbbf0",
   "metadata": {},
   "outputs": [],
   "source": [
    "T_types=[]\n",
    "start=0\n",
    "end=10\n",
    "for page in range(start,end):\n",
    "    types=driver.find_elements(By.XPATH,'//div[@class=\"tags\"]')\n",
    "    for i in types:\n",
    "        T_types.append(i.text)\n",
    "    next_button=driver.find_elements(By.XPATH,'/html/body/div[1]/div[3]/div/div/div/div[1]/div/div[4]/li[12]/a')\n",
    "    next_button\n",
    "    time.sleep(3)"
   ]
  },
  {
   "cell_type": "code",
   "execution_count": 86,
   "id": "5d68360a",
   "metadata": {
    "scrolled": false
   },
   "outputs": [
    {
     "name": "stdout",
     "output_type": "stream",
     "text": [
      "1000 1000 1000\n"
     ]
    }
   ],
   "source": [
    "print(len(T_quotes),len(T_author),len(T_types))"
   ]
  },
  {
   "cell_type": "code",
   "execution_count": 87,
   "id": "f40f9cbb",
   "metadata": {
    "scrolled": true
   },
   "outputs": [
    {
     "data": {
      "text/html": [
       "<div>\n",
       "<style scoped>\n",
       "    .dataframe tbody tr th:only-of-type {\n",
       "        vertical-align: middle;\n",
       "    }\n",
       "\n",
       "    .dataframe tbody tr th {\n",
       "        vertical-align: top;\n",
       "    }\n",
       "\n",
       "    .dataframe thead th {\n",
       "        text-align: right;\n",
       "    }\n",
       "</style>\n",
       "<table border=\"1\" class=\"dataframe\">\n",
       "  <thead>\n",
       "    <tr style=\"text-align: right;\">\n",
       "      <th></th>\n",
       "      <th>Quotes</th>\n",
       "      <th>Author</th>\n",
       "      <th>Types</th>\n",
       "    </tr>\n",
       "  </thead>\n",
       "  <tbody>\n",
       "    <tr>\n",
       "      <th>0</th>\n",
       "      <td>The essence of strategy is choosing what not t...</td>\n",
       "      <td>Michael Porter</td>\n",
       "      <td>Essence, Deep Thought, Transcendentalism</td>\n",
       "    </tr>\n",
       "    <tr>\n",
       "      <th>1</th>\n",
       "      <td>One cannot and must not try to erase the past ...</td>\n",
       "      <td>Golda Meir</td>\n",
       "      <td>Inspiration, Past, Trying</td>\n",
       "    </tr>\n",
       "    <tr>\n",
       "      <th>2</th>\n",
       "      <td>Patriotism means to stand by the country. It d...</td>\n",
       "      <td>Theodore Roosevelt</td>\n",
       "      <td>Country, Peace, War</td>\n",
       "    </tr>\n",
       "    <tr>\n",
       "      <th>3</th>\n",
       "      <td>Death is something inevitable. When a man has ...</td>\n",
       "      <td>Nelson Mandela</td>\n",
       "      <td>Inspirational, Motivational, Death</td>\n",
       "    </tr>\n",
       "    <tr>\n",
       "      <th>4</th>\n",
       "      <td>You have to love a nation that celebrates its ...</td>\n",
       "      <td>Erma Bombeck</td>\n",
       "      <td>4th Of July, Food, Patriotic</td>\n",
       "    </tr>\n",
       "    <tr>\n",
       "      <th>...</th>\n",
       "      <td>...</td>\n",
       "      <td>...</td>\n",
       "      <td>...</td>\n",
       "    </tr>\n",
       "    <tr>\n",
       "      <th>995</th>\n",
       "      <td>When the going gets weird, the weird turn pro.</td>\n",
       "      <td>Hunter S. Thompson</td>\n",
       "      <td>Music, Sports, Hunting</td>\n",
       "    </tr>\n",
       "    <tr>\n",
       "      <th>996</th>\n",
       "      <td>When a train goes through a tunnel and it gets...</td>\n",
       "      <td>Corrie Ten Boom</td>\n",
       "      <td>Trust, Encouraging, Uplifting</td>\n",
       "    </tr>\n",
       "    <tr>\n",
       "      <th>997</th>\n",
       "      <td>If you think you are too small to make a diffe...</td>\n",
       "      <td>Dalai Lama</td>\n",
       "      <td>Inspirational, Funny, Change</td>\n",
       "    </tr>\n",
       "    <tr>\n",
       "      <th>998</th>\n",
       "      <td>God doesn't require us to succeed, he only req...</td>\n",
       "      <td>Mother Teresa</td>\n",
       "      <td>Success, God, Mother</td>\n",
       "    </tr>\n",
       "    <tr>\n",
       "      <th>999</th>\n",
       "      <td>Change your thoughts and you change your world.</td>\n",
       "      <td>Norman Vincent Peale</td>\n",
       "      <td>Inspirational, Motivational, Change</td>\n",
       "    </tr>\n",
       "  </tbody>\n",
       "</table>\n",
       "<p>1000 rows × 3 columns</p>\n",
       "</div>"
      ],
      "text/plain": [
       "                                                Quotes                Author  \\\n",
       "0    The essence of strategy is choosing what not t...        Michael Porter   \n",
       "1    One cannot and must not try to erase the past ...            Golda Meir   \n",
       "2    Patriotism means to stand by the country. It d...    Theodore Roosevelt   \n",
       "3    Death is something inevitable. When a man has ...        Nelson Mandela   \n",
       "4    You have to love a nation that celebrates its ...          Erma Bombeck   \n",
       "..                                                 ...                   ...   \n",
       "995     When the going gets weird, the weird turn pro.    Hunter S. Thompson   \n",
       "996  When a train goes through a tunnel and it gets...       Corrie Ten Boom   \n",
       "997  If you think you are too small to make a diffe...            Dalai Lama   \n",
       "998  God doesn't require us to succeed, he only req...         Mother Teresa   \n",
       "999    Change your thoughts and you change your world.  Norman Vincent Peale   \n",
       "\n",
       "                                        Types  \n",
       "0    Essence, Deep Thought, Transcendentalism  \n",
       "1                   Inspiration, Past, Trying  \n",
       "2                         Country, Peace, War  \n",
       "3          Inspirational, Motivational, Death  \n",
       "4                4th Of July, Food, Patriotic  \n",
       "..                                        ...  \n",
       "995                    Music, Sports, Hunting  \n",
       "996             Trust, Encouraging, Uplifting  \n",
       "997              Inspirational, Funny, Change  \n",
       "998                      Success, God, Mother  \n",
       "999       Inspirational, Motivational, Change  \n",
       "\n",
       "[1000 rows x 3 columns]"
      ]
     },
     "execution_count": 87,
     "metadata": {},
     "output_type": "execute_result"
    }
   ],
   "source": [
    "df=pd.DataFrame({'Quotes':T_quotes,'Author':T_author,'Types':T_types})\n",
    "df"
   ]
  },
  {
   "cell_type": "markdown",
   "id": "cef47153",
   "metadata": {},
   "source": [
    "Q7: Write a python program to display list of respected former Prime Ministers of India (i.e. Name, \n",
    "Born-Dead, Term of office, Remarks) from https://www.jagranjosh.com/general-knowledge/list-of\n",
    "all-prime-ministers-of-india-1473165149-1  \n",
    "scrap the mentioned data and make the DataFrame"
   ]
  },
  {
   "cell_type": "code",
   "execution_count": 131,
   "id": "858458b7",
   "metadata": {},
   "outputs": [],
   "source": [
    "import selenium\n",
    "import pandas as pd\n",
    "from selenium import webdriver\n",
    "import warnings\n",
    "warnings.filterwarnings('ignore')\n",
    "from selenium.webdriver.common.by import By\n",
    "import time\n",
    "driver=webdriver.Chrome()"
   ]
  },
  {
   "cell_type": "code",
   "execution_count": 132,
   "id": "1dc31d09",
   "metadata": {},
   "outputs": [],
   "source": [
    "driver.get('https://www.jagranjosh.com/general-knowledge/list-ofall-prime-ministers-of-india-1473165149-1 ')"
   ]
  },
  {
   "cell_type": "code",
   "execution_count": 102,
   "id": "5254b40e",
   "metadata": {},
   "outputs": [],
   "source": [
    "P_name=[]\n",
    "name_tags=driver.find_elements(By.XPATH,'/html/body/div[1]/main/div[1]/div[1]/article/div[3]/div[7]/div/table/tbody/tr[2]/td[2]/div/strong')\n",
    "for i in name_tags:\n",
    "    name=i.text\n",
    "    P_name.append(name)\n",
    "    "
   ]
  },
  {
   "cell_type": "code",
   "execution_count": 103,
   "id": "6f92063d",
   "metadata": {},
   "outputs": [
    {
     "data": {
      "text/plain": [
       "['Jawahar Lal Nehru']"
      ]
     },
     "execution_count": 103,
     "metadata": {},
     "output_type": "execute_result"
    }
   ],
   "source": [
    "P_name"
   ]
  },
  {
   "cell_type": "code",
   "execution_count": 108,
   "id": "26bb2979",
   "metadata": {},
   "outputs": [],
   "source": [
    "P_date=[]\n",
    "date_tags=driver.find_elements(By.XPATH,'/html/body/div[1]/main/div[1]/div[1]/article/div[3]/div[7]/div/table/tbody/tr[3]/td[3]/div')\n",
    "for i in date_tags:\n",
    "    date=i.text\n",
    "    P_date.append(date)\n",
    "    "
   ]
  },
  {
   "cell_type": "code",
   "execution_count": 109,
   "id": "c35ec94a",
   "metadata": {},
   "outputs": [
    {
     "data": {
      "text/plain": [
       "['(1898-1998)']"
      ]
     },
     "execution_count": 109,
     "metadata": {},
     "output_type": "execute_result"
    }
   ],
   "source": [
    "P_date"
   ]
  },
  {
   "cell_type": "code",
   "execution_count": 110,
   "id": "aad66a8a",
   "metadata": {},
   "outputs": [],
   "source": [
    "T_office=[]\n",
    "office_tags=driver.find_elements(By.XPATH,'/html/body/div[1]/main/div[1]/div[1]/article/div[3]/div[7]/div/table/tbody/tr[2]/td[4]/div[1]/span')\n",
    "for i in office_tags:\n",
    "    office=i.text\n",
    "    T_office.append(office)\n",
    "    "
   ]
  },
  {
   "cell_type": "code",
   "execution_count": 111,
   "id": "f8483269",
   "metadata": {},
   "outputs": [
    {
     "data": {
      "text/plain": [
       "['15 August 1947 to 27 May 1964']"
      ]
     },
     "execution_count": 111,
     "metadata": {},
     "output_type": "execute_result"
    }
   ],
   "source": [
    "T_office"
   ]
  },
  {
   "cell_type": "code",
   "execution_count": 113,
   "id": "aea6fe7e",
   "metadata": {},
   "outputs": [],
   "source": [
    "P_remarks=[]\n",
    "remarks_tags=driver.find_elements(By.XPATH,'/html/body/div[1]/main/div[1]/div[1]/article/div[3]/div[7]/div/table/tbody/tr[2]/td[5]/div')\n",
    "for i in remarks_tags:\n",
    "    remarks=i.text\n",
    "    P_remarks.append(remarks)\n",
    "    "
   ]
  },
  {
   "cell_type": "code",
   "execution_count": 114,
   "id": "fcb5ef56",
   "metadata": {},
   "outputs": [
    {
     "data": {
      "text/plain": [
       "['The first prime minister of India and the longest-serving PM of India, the first to die in office.']"
      ]
     },
     "execution_count": 114,
     "metadata": {},
     "output_type": "execute_result"
    }
   ],
   "source": [
    "P_remarks"
   ]
  },
  {
   "cell_type": "code",
   "execution_count": 117,
   "id": "a02f8e82",
   "metadata": {},
   "outputs": [],
   "source": [
    "P1_name=[]\n",
    "name_tags=driver.find_elements(By.XPATH,'/html/body/div[1]/main/div[1]/div[1]/article/div[3]/div[7]/div/table/tbody/tr[9]/td[2]/div/strong/a')\n",
    "for i in name_tags:\n",
    "    name=i.text\n",
    "    P1_name.append(name)\n",
    "    "
   ]
  },
  {
   "cell_type": "code",
   "execution_count": 118,
   "id": "313888cf",
   "metadata": {},
   "outputs": [
    {
     "data": {
      "text/plain": [
       "['Indira Gandhi']"
      ]
     },
     "execution_count": 118,
     "metadata": {},
     "output_type": "execute_result"
    }
   ],
   "source": [
    "P1_name"
   ]
  },
  {
   "cell_type": "code",
   "execution_count": 119,
   "id": "944ed765",
   "metadata": {},
   "outputs": [],
   "source": [
    "P1_date=[]\n",
    "date_tags=driver.find_elements(By.XPATH,'//*[@id=\"itemdiv\"]/div[3]/div[7]/div/table/tbody/tr[6]/td[3]/div')\n",
    "for i in date_tags:\n",
    "    date=i.text\n",
    "    P1_date.append(date)\n",
    "    "
   ]
  },
  {
   "cell_type": "code",
   "execution_count": 120,
   "id": "629dcb37",
   "metadata": {},
   "outputs": [
    {
     "data": {
      "text/plain": [
       "['(1917–1984)']"
      ]
     },
     "execution_count": 120,
     "metadata": {},
     "output_type": "execute_result"
    }
   ],
   "source": [
    "P1_date"
   ]
  },
  {
   "cell_type": "code",
   "execution_count": 121,
   "id": "a2b57501",
   "metadata": {},
   "outputs": [],
   "source": [
    "T1_office=[]\n",
    "office_tags=driver.find_elements(By.XPATH,'//*[@id=\"itemdiv\"]/div[3]/div[7]/div/table/tbody/tr[7]/td[4]/div[1]/span')\n",
    "for i in office_tags:\n",
    "    office=i.text\n",
    "    T1_office.append(office)"
   ]
  },
  {
   "cell_type": "code",
   "execution_count": 122,
   "id": "bcfeba43",
   "metadata": {},
   "outputs": [
    {
     "data": {
      "text/plain": [
       "['24 March 1977 to  28 July 1979 ']"
      ]
     },
     "execution_count": 122,
     "metadata": {},
     "output_type": "execute_result"
    }
   ],
   "source": [
    "T1_office"
   ]
  },
  {
   "cell_type": "code",
   "execution_count": 123,
   "id": "1b94b387",
   "metadata": {},
   "outputs": [],
   "source": [
    "P1_remarks=[]\n",
    "remarks_tags=driver.find_elements(By.XPATH,'//*[@id=\"itemdiv\"]/div[3]/div[7]/div/table/tbody/tr[6]/td[5]/div')\n",
    "for i in remarks_tags:\n",
    "    remarks=i.text\n",
    "    P1_remarks.append(remarks)"
   ]
  },
  {
   "cell_type": "code",
   "execution_count": 124,
   "id": "ad4e8d2e",
   "metadata": {},
   "outputs": [
    {
     "data": {
      "text/plain": [
       "['First female Prime Minister of India']"
      ]
     },
     "execution_count": 124,
     "metadata": {},
     "output_type": "execute_result"
    }
   ],
   "source": [
    "P1_remarks"
   ]
  },
  {
   "cell_type": "code",
   "execution_count": 125,
   "id": "3621eeac",
   "metadata": {},
   "outputs": [],
   "source": [
    "P2_name=[]\n",
    "name_tags=driver.find_elements(By.XPATH,'//*[@id=\"itemdiv\"]/div[3]/div[7]/div/table/tbody/tr[9]/td[2]/div/strong/a')\n",
    "for i in name_tags:\n",
    "    name=i.text\n",
    "    P2_name.append(name)\n",
    "    "
   ]
  },
  {
   "cell_type": "code",
   "execution_count": 126,
   "id": "93cfdb72",
   "metadata": {},
   "outputs": [
    {
     "data": {
      "text/plain": [
       "['Indira Gandhi']"
      ]
     },
     "execution_count": 126,
     "metadata": {},
     "output_type": "execute_result"
    }
   ],
   "source": [
    "P2_name"
   ]
  },
  {
   "cell_type": "code",
   "execution_count": 133,
   "id": "cc1b93ce",
   "metadata": {},
   "outputs": [],
   "source": [
    "P2_date=[]\n",
    "date_tags=driver.find_elements(By.XPATH,'//*[@id=\"itemdiv\"]/div[3]/div[7]/div/table/tbody/tr[9]/td[3]/div')\n",
    "for i in date_tags:\n",
    "    date=i.text\n",
    "    P2_date.append(date)\n",
    "    "
   ]
  },
  {
   "cell_type": "code",
   "execution_count": 134,
   "id": "34c404b4",
   "metadata": {},
   "outputs": [
    {
     "data": {
      "text/plain": [
       "['(1917–1984)']"
      ]
     },
     "execution_count": 134,
     "metadata": {},
     "output_type": "execute_result"
    }
   ],
   "source": [
    "P2_date"
   ]
  },
  {
   "cell_type": "code",
   "execution_count": 135,
   "id": "2b696f17",
   "metadata": {},
   "outputs": [],
   "source": [
    "T2_office=[]\n",
    "office_tags=driver.find_elements(By.XPATH,'//*[@id=\"itemdiv\"]/div[3]/div[7]/div/table/tbody/tr[9]/td[4]/div[1]')\n",
    "for i in office_tags:\n",
    "    office=i.text\n",
    "    T2_office.append(office)"
   ]
  },
  {
   "cell_type": "code",
   "execution_count": 136,
   "id": "75117e11",
   "metadata": {},
   "outputs": [
    {
     "data": {
      "text/plain": [
       "['14 January 1980 to 31 October 1984']"
      ]
     },
     "execution_count": 136,
     "metadata": {},
     "output_type": "execute_result"
    }
   ],
   "source": [
    "T2_office"
   ]
  },
  {
   "cell_type": "code",
   "execution_count": 137,
   "id": "fa4c4613",
   "metadata": {},
   "outputs": [],
   "source": [
    "P2_remarks=[]\n",
    "remarks_tags=driver.find_elements(By.XPATH,'//*[@id=\"itemdiv\"]/div[3]/div[7]/div/table/tbody/tr[9]/td[5]/div')\n",
    "for i in remarks_tags:\n",
    "    remarks=i.text\n",
    "    P2_remarks.append(remarks)"
   ]
  },
  {
   "cell_type": "code",
   "execution_count": 138,
   "id": "75e822b9",
   "metadata": {},
   "outputs": [
    {
     "data": {
      "text/plain": [
       "['The first lady who served as PM for the second term']"
      ]
     },
     "execution_count": 138,
     "metadata": {},
     "output_type": "execute_result"
    }
   ],
   "source": [
    "P2_remarks"
   ]
  },
  {
   "cell_type": "code",
   "execution_count": 139,
   "id": "b5098024",
   "metadata": {},
   "outputs": [],
   "source": [
    "P3_name=[]\n",
    "name_tags=driver.find_elements(By.XPATH,'//*[@id=\"itemdiv\"]/div[3]/div[7]/div/table/tbody/tr[10]/td[2]/div/a/strong')\n",
    "for i in name_tags:\n",
    "    name=i.text\n",
    "    P3_name.append(name)\n",
    "    "
   ]
  },
  {
   "cell_type": "code",
   "execution_count": 140,
   "id": "de245a4a",
   "metadata": {},
   "outputs": [
    {
     "data": {
      "text/plain": [
       "['Rajiv Gandhi']"
      ]
     },
     "execution_count": 140,
     "metadata": {},
     "output_type": "execute_result"
    }
   ],
   "source": [
    "P3_name"
   ]
  },
  {
   "cell_type": "code",
   "execution_count": 141,
   "id": "de63c2e3",
   "metadata": {},
   "outputs": [],
   "source": [
    "P3_date=[]\n",
    "date_tags=driver.find_elements(By.XPATH,'//*[@id=\"itemdiv\"]/div[3]/div[7]/div/table/tbody/tr[10]/td[3]/div')\n",
    "for i in date_tags:\n",
    "    date=i.text\n",
    "    P3_date.append(date)\n",
    "    "
   ]
  },
  {
   "cell_type": "code",
   "execution_count": 142,
   "id": "f07e5839",
   "metadata": {},
   "outputs": [
    {
     "data": {
      "text/plain": [
       "['(1944–1991)']"
      ]
     },
     "execution_count": 142,
     "metadata": {},
     "output_type": "execute_result"
    }
   ],
   "source": [
    "P3_date"
   ]
  },
  {
   "cell_type": "code",
   "execution_count": 143,
   "id": "5dafb982",
   "metadata": {},
   "outputs": [],
   "source": [
    "T3_office=[]\n",
    "office_tags=driver.find_elements(By.XPATH,'//*[@id=\"itemdiv\"]/div[3]/div[7]/div/table/tbody/tr[10]/td[4]/div[1]/span')\n",
    "for i in office_tags:\n",
    "    office=i.text\n",
    "    T3_office.append(office)"
   ]
  },
  {
   "cell_type": "code",
   "execution_count": 144,
   "id": "a77a3ffb",
   "metadata": {},
   "outputs": [
    {
     "data": {
      "text/plain": [
       "['31 October 1984 to 2 December 1989']"
      ]
     },
     "execution_count": 144,
     "metadata": {},
     "output_type": "execute_result"
    }
   ],
   "source": [
    "T3_office"
   ]
  },
  {
   "cell_type": "code",
   "execution_count": 145,
   "id": "21eff644",
   "metadata": {},
   "outputs": [],
   "source": [
    "P3_remarks=[]\n",
    "remarks_tags=driver.find_elements(By.XPATH,'//*[@id=\"itemdiv\"]/div[3]/div[7]/div/table/tbody/tr[10]/td[5]/div')\n",
    "for i in remarks_tags:\n",
    "    remarks=i.text\n",
    "    P3_remarks.append(remarks)"
   ]
  },
  {
   "cell_type": "code",
   "execution_count": 147,
   "id": "97ce7502",
   "metadata": {
    "scrolled": true
   },
   "outputs": [
    {
     "data": {
      "text/plain": [
       "['Youngest to become PM (40 years old)']"
      ]
     },
     "execution_count": 147,
     "metadata": {},
     "output_type": "execute_result"
    }
   ],
   "source": [
    "P3_remarks"
   ]
  },
  {
   "cell_type": "code",
   "execution_count": 148,
   "id": "f0758b79",
   "metadata": {},
   "outputs": [],
   "source": [
    "P4_name=[]\n",
    "name_tags=driver.find_elements(By.XPATH,'//*[@id=\"itemdiv\"]/div[3]/div[7]/div/table/tbody/tr[12]/td[2]/div/strong/a')\n",
    "for i in name_tags:\n",
    "    name=i.text\n",
    "    P4_name.append(name)"
   ]
  },
  {
   "cell_type": "code",
   "execution_count": 149,
   "id": "bfe77dfa",
   "metadata": {},
   "outputs": [
    {
     "data": {
      "text/plain": [
       "['Chandra Shekhar']"
      ]
     },
     "execution_count": 149,
     "metadata": {},
     "output_type": "execute_result"
    }
   ],
   "source": [
    "P4_name"
   ]
  },
  {
   "cell_type": "code",
   "execution_count": 150,
   "id": "5a4edced",
   "metadata": {},
   "outputs": [],
   "source": [
    "P4_date=[]\n",
    "date_tags=driver.find_elements(By.XPATH,'//*[@id=\"itemdiv\"]/div[3]/div[7]/div/table/tbody/tr[12]/td[3]/div')\n",
    "for i in date_tags:\n",
    "    date=i.text\n",
    "    P4_date.append(date)"
   ]
  },
  {
   "cell_type": "code",
   "execution_count": 151,
   "id": "09190640",
   "metadata": {},
   "outputs": [
    {
     "data": {
      "text/plain": [
       "['(1927–2007)']"
      ]
     },
     "execution_count": 151,
     "metadata": {},
     "output_type": "execute_result"
    }
   ],
   "source": [
    "P4_date"
   ]
  },
  {
   "cell_type": "code",
   "execution_count": 152,
   "id": "189ea88f",
   "metadata": {},
   "outputs": [],
   "source": [
    "T4_office=[]\n",
    "office_tags=driver.find_elements(By.XPATH,'//*[@id=\"itemdiv\"]/div[3]/div[7]/div/table/tbody/tr[12]/td[4]/div[1]/span')\n",
    "for i in office_tags:\n",
    "    office=i.text\n",
    "    T4_office.append(office)"
   ]
  },
  {
   "cell_type": "code",
   "execution_count": 153,
   "id": "7eef1af4",
   "metadata": {},
   "outputs": [
    {
     "data": {
      "text/plain": [
       "['10 November 1990 to 21 June 1991']"
      ]
     },
     "execution_count": 153,
     "metadata": {},
     "output_type": "execute_result"
    }
   ],
   "source": [
    "T4_office"
   ]
  },
  {
   "cell_type": "code",
   "execution_count": 154,
   "id": "716bf489",
   "metadata": {},
   "outputs": [],
   "source": [
    "P4_remarks=[]\n",
    "remarks_tags=driver.find_elements(By.XPATH,'//*[@id=\"itemdiv\"]/div[3]/div[7]/div/table/tbody/tr[12]/td[5]/div')\n",
    "for i in remarks_tags:\n",
    "    remarks=i.text\n",
    "    P4_remarks.append(remarks)"
   ]
  },
  {
   "cell_type": "code",
   "execution_count": 155,
   "id": "68393a0a",
   "metadata": {},
   "outputs": [
    {
     "data": {
      "text/plain": [
       "['He belongs to  Samajwadi Janata Party']"
      ]
     },
     "execution_count": 155,
     "metadata": {},
     "output_type": "execute_result"
    }
   ],
   "source": [
    "P4_remarks"
   ]
  },
  {
   "cell_type": "code",
   "execution_count": 156,
   "id": "a0ec6d32",
   "metadata": {},
   "outputs": [],
   "source": [
    "P5_name=[]\n",
    "name_tags=driver.find_elements(By.XPATH,'//*[@id=\"itemdiv\"]/div[3]/div[7]/div/table/tbody/tr[14]/td[2]/div')\n",
    "for i in name_tags:\n",
    "    name=i.text\n",
    "    P5_name.append(name)"
   ]
  },
  {
   "cell_type": "code",
   "execution_count": 157,
   "id": "a833f0c2",
   "metadata": {},
   "outputs": [
    {
     "data": {
      "text/plain": [
       "['Atal Bihari Vajpayee']"
      ]
     },
     "execution_count": 157,
     "metadata": {},
     "output_type": "execute_result"
    }
   ],
   "source": [
    "P5_name"
   ]
  },
  {
   "cell_type": "code",
   "execution_count": 158,
   "id": "df073489",
   "metadata": {},
   "outputs": [],
   "source": [
    "P5_date=[]\n",
    "date_tags=driver.find_elements(By.XPATH,'//*[@id=\"itemdiv\"]/div[3]/div[7]/div/table/tbody/tr[14]/td[3]/div')\n",
    "for i in date_tags:\n",
    "    date=i.text\n",
    "    P5_date.append(date)"
   ]
  },
  {
   "cell_type": "code",
   "execution_count": 159,
   "id": "c40dbfcc",
   "metadata": {},
   "outputs": [
    {
     "data": {
      "text/plain": [
       "['(1924- 2018)']"
      ]
     },
     "execution_count": 159,
     "metadata": {},
     "output_type": "execute_result"
    }
   ],
   "source": [
    "P5_date"
   ]
  },
  {
   "cell_type": "code",
   "execution_count": 160,
   "id": "d696e595",
   "metadata": {},
   "outputs": [],
   "source": [
    "T5_office=[]\n",
    "office_tags=driver.find_elements(By.XPATH,'//*[@id=\"itemdiv\"]/div[3]/div[7]/div/table/tbody/tr[14]/td[4]/div[1]')\n",
    "for i in office_tags:\n",
    "    office=i.text\n",
    "    T5_office.append(office)"
   ]
  },
  {
   "cell_type": "code",
   "execution_count": 161,
   "id": "f2c57238",
   "metadata": {},
   "outputs": [
    {
     "data": {
      "text/plain": [
       "['16 May 1996 to 1 June 1996']"
      ]
     },
     "execution_count": 161,
     "metadata": {},
     "output_type": "execute_result"
    }
   ],
   "source": [
    "T5_office"
   ]
  },
  {
   "cell_type": "code",
   "execution_count": 162,
   "id": "d32ff5a5",
   "metadata": {},
   "outputs": [],
   "source": [
    "P5_remarks=[]\n",
    "remarks_tags=driver.find_elements(By.XPATH,'//*[@id=\"itemdiv\"]/div[3]/div[7]/div/table/tbody/tr[14]/td[5]/div')\n",
    "for i in remarks_tags:\n",
    "    remarks=i.text\n",
    "    P5_remarks.append(remarks)"
   ]
  },
  {
   "cell_type": "code",
   "execution_count": 163,
   "id": "1e1989fe",
   "metadata": {},
   "outputs": [
    {
     "data": {
      "text/plain": [
       "['PM for shortest tenure']"
      ]
     },
     "execution_count": 163,
     "metadata": {},
     "output_type": "execute_result"
    }
   ],
   "source": [
    "P5_remarks"
   ]
  },
  {
   "cell_type": "code",
   "execution_count": 164,
   "id": "739aa74b",
   "metadata": {},
   "outputs": [],
   "source": [
    "P6_name=[]\n",
    "name_tags=driver.find_elements(By.XPATH,'//*[@id=\"itemdiv\"]/div[3]/div[7]/div/table/tbody/tr[17]/td[2]/div')\n",
    "for i in name_tags:\n",
    "    name=i.text\n",
    "    P6_name.append(name)"
   ]
  },
  {
   "cell_type": "code",
   "execution_count": 165,
   "id": "fa95aa95",
   "metadata": {},
   "outputs": [
    {
     "data": {
      "text/plain": [
       "['Atal Bihari Vajpayee']"
      ]
     },
     "execution_count": 165,
     "metadata": {},
     "output_type": "execute_result"
    }
   ],
   "source": [
    "P6_name"
   ]
  },
  {
   "cell_type": "code",
   "execution_count": 166,
   "id": "9d06d6aa",
   "metadata": {},
   "outputs": [],
   "source": [
    "P6_date=[]\n",
    "date_tags=driver.find_elements(By.XPATH,'//*[@id=\"itemdiv\"]/div[3]/div[7]/div/table/tbody/tr[17]/td[3]/div')\n",
    "for i in date_tags:\n",
    "    date=i.text\n",
    "    P6_date.append(date)"
   ]
  },
  {
   "cell_type": "code",
   "execution_count": 167,
   "id": "f8f8f13d",
   "metadata": {},
   "outputs": [
    {
     "data": {
      "text/plain": [
       "['(1924-2018)']"
      ]
     },
     "execution_count": 167,
     "metadata": {},
     "output_type": "execute_result"
    }
   ],
   "source": [
    "P6_date"
   ]
  },
  {
   "cell_type": "code",
   "execution_count": 168,
   "id": "97463ee9",
   "metadata": {},
   "outputs": [],
   "source": [
    "T6_office=[]\n",
    "office_tags=driver.find_elements(By.XPATH,'//*[@id=\"itemdiv\"]/div[3]/div[7]/div/table/tbody/tr[17]/td[4]/div[1]/span')\n",
    "for i in office_tags:\n",
    "    office=i.text\n",
    "    T6_office.append(office)"
   ]
  },
  {
   "cell_type": "code",
   "execution_count": 169,
   "id": "77be738d",
   "metadata": {},
   "outputs": [
    {
     "data": {
      "text/plain": [
       "['19 March 1998 to 22 May 2004 ']"
      ]
     },
     "execution_count": 169,
     "metadata": {},
     "output_type": "execute_result"
    }
   ],
   "source": [
    "T6_office"
   ]
  },
  {
   "cell_type": "code",
   "execution_count": 170,
   "id": "22f81ab2",
   "metadata": {},
   "outputs": [],
   "source": [
    "P6_remarks=[]\n",
    "remarks_tags=driver.find_elements(By.XPATH,'//*[@id=\"itemdiv\"]/div[3]/div[7]/div/table/tbody/tr[17]/td[5]/div')\n",
    "for i in remarks_tags:\n",
    "    remarks=i.text\n",
    "    P6_remarks.append(remarks)"
   ]
  },
  {
   "cell_type": "code",
   "execution_count": 171,
   "id": "b5866f17",
   "metadata": {},
   "outputs": [
    {
     "data": {
      "text/plain": [
       "[' The first non-congress PM who completed a full term as PM']"
      ]
     },
     "execution_count": 171,
     "metadata": {},
     "output_type": "execute_result"
    }
   ],
   "source": [
    "P6_remarks"
   ]
  },
  {
   "cell_type": "code",
   "execution_count": 172,
   "id": "fb7816bc",
   "metadata": {},
   "outputs": [],
   "source": [
    "P7_name=[]\n",
    "name_tags=driver.find_elements(By.XPATH,'//*[@id=\"itemdiv\"]/div[3]/div[7]/div/table/tbody/tr[18]/td[2]/div')\n",
    "for i in name_tags:\n",
    "    name=i.text\n",
    "    P7_name.append(name)"
   ]
  },
  {
   "cell_type": "code",
   "execution_count": 173,
   "id": "e2e0e540",
   "metadata": {},
   "outputs": [
    {
     "data": {
      "text/plain": [
       "['Manmohan Singh']"
      ]
     },
     "execution_count": 173,
     "metadata": {},
     "output_type": "execute_result"
    }
   ],
   "source": [
    "P7_name"
   ]
  },
  {
   "cell_type": "code",
   "execution_count": 174,
   "id": "b6f43418",
   "metadata": {},
   "outputs": [],
   "source": [
    "P7_date=[]\n",
    "date_tags=driver.find_elements(By.XPATH,'//*[@id=\"itemdiv\"]/div[3]/div[7]/div/table/tbody/tr[18]/td[3]/div')\n",
    "for i in date_tags:\n",
    "    date=i.text\n",
    "    P7_date.append(date)"
   ]
  },
  {
   "cell_type": "code",
   "execution_count": 175,
   "id": "504d0a10",
   "metadata": {},
   "outputs": [
    {
     "data": {
      "text/plain": [
       "['(born 1932)']"
      ]
     },
     "execution_count": 175,
     "metadata": {},
     "output_type": "execute_result"
    }
   ],
   "source": [
    "P7_date"
   ]
  },
  {
   "cell_type": "code",
   "execution_count": 176,
   "id": "55beed66",
   "metadata": {},
   "outputs": [],
   "source": [
    "T7_office=[]\n",
    "office_tags=driver.find_elements(By.XPATH,'//*[@id=\"itemdiv\"]/div[3]/div[7]/div/table/tbody/tr[18]/td[4]/div[1]/span')\n",
    "for i in office_tags:\n",
    "    office=i.text\n",
    "    T7_office.append(office)"
   ]
  },
  {
   "cell_type": "code",
   "execution_count": 177,
   "id": "00bf4ee4",
   "metadata": {},
   "outputs": [
    {
     "data": {
      "text/plain": [
       "['22 May 2004 to 26 May 2014   ']"
      ]
     },
     "execution_count": 177,
     "metadata": {},
     "output_type": "execute_result"
    }
   ],
   "source": [
    "T7_office"
   ]
  },
  {
   "cell_type": "code",
   "execution_count": 178,
   "id": "9a8636dd",
   "metadata": {},
   "outputs": [],
   "source": [
    "P7_remarks=[]\n",
    "remarks_tags=driver.find_elements(By.XPATH,'//*[@id=\"itemdiv\"]/div[3]/div[7]/div/table/tbody/tr[18]/td[5]/div')\n",
    "for i in remarks_tags:\n",
    "    remarks=i.text\n",
    "    P7_remarks.append(remarks)"
   ]
  },
  {
   "cell_type": "code",
   "execution_count": 179,
   "id": "df398176",
   "metadata": {},
   "outputs": [
    {
     "data": {
      "text/plain": [
       "[' First Sikh PM']"
      ]
     },
     "execution_count": 179,
     "metadata": {},
     "output_type": "execute_result"
    }
   ],
   "source": [
    "P7_remarks"
   ]
  },
  {
   "cell_type": "code",
   "execution_count": 180,
   "id": "60fcc9e3",
   "metadata": {},
   "outputs": [],
   "source": [
    "P8_name=[]\n",
    "name_tags=driver.find_elements(By.XPATH,'//*[@id=\"itemdiv\"]/div[3]/div[7]/div/table/tbody/tr[19]/td[2]/div/a/strong')\n",
    "for i in name_tags:\n",
    "    name=i.text\n",
    "    P8_name.append(name)"
   ]
  },
  {
   "cell_type": "code",
   "execution_count": 181,
   "id": "c774d88d",
   "metadata": {},
   "outputs": [
    {
     "data": {
      "text/plain": [
       "['Narendra Modi']"
      ]
     },
     "execution_count": 181,
     "metadata": {},
     "output_type": "execute_result"
    }
   ],
   "source": [
    "P8_name"
   ]
  },
  {
   "cell_type": "code",
   "execution_count": 182,
   "id": "f6f9a63a",
   "metadata": {},
   "outputs": [],
   "source": [
    "P8_date=[]\n",
    "date_tags=driver.find_elements(By.XPATH,'//*[@id=\"itemdiv\"]/div[3]/div[7]/div/table/tbody/tr[19]/td[3]/div')\n",
    "for i in date_tags:\n",
    "    date=i.text\n",
    "    P8_date.append(date)"
   ]
  },
  {
   "cell_type": "code",
   "execution_count": 183,
   "id": "2708b05d",
   "metadata": {},
   "outputs": [
    {
     "data": {
      "text/plain": [
       "['(born 1950)']"
      ]
     },
     "execution_count": 183,
     "metadata": {},
     "output_type": "execute_result"
    }
   ],
   "source": [
    "P8_date"
   ]
  },
  {
   "cell_type": "code",
   "execution_count": 184,
   "id": "43df2044",
   "metadata": {},
   "outputs": [],
   "source": [
    "T8_office=[]\n",
    "office_tags=driver.find_elements(By.XPATH,'//*[@id=\"itemdiv\"]/div[3]/div[7]/div/table/tbody/tr[19]/td[4]/div/span')\n",
    "for i in office_tags:\n",
    "    office=i.text\n",
    "    T8_office.append(office)"
   ]
  },
  {
   "cell_type": "code",
   "execution_count": 185,
   "id": "da5dffe3",
   "metadata": {},
   "outputs": [
    {
     "data": {
      "text/plain": [
       "['26 May 2014 - 2019']"
      ]
     },
     "execution_count": 185,
     "metadata": {},
     "output_type": "execute_result"
    }
   ],
   "source": [
    "T8_office"
   ]
  },
  {
   "cell_type": "code",
   "execution_count": 186,
   "id": "8bfcc39e",
   "metadata": {},
   "outputs": [],
   "source": [
    "P8_remarks=[]\n",
    "remarks_tags=driver.find_elements(By.XPATH,'//*[@id=\"itemdiv\"]/div[3]/div[7]/div/table/tbody/tr[19]/td[5]/div')\n",
    "for i in remarks_tags:\n",
    "    remarks=i.text\n",
    "    P8_remarks.append(remarks)"
   ]
  },
  {
   "cell_type": "code",
   "execution_count": 187,
   "id": "a4b5fd4a",
   "metadata": {},
   "outputs": [
    {
     "data": {
      "text/plain": [
       "['4th Prime Minister of India who served two consecutive tenures']"
      ]
     },
     "execution_count": 187,
     "metadata": {},
     "output_type": "execute_result"
    }
   ],
   "source": [
    "P8_remarks"
   ]
  },
  {
   "cell_type": "code",
   "execution_count": 196,
   "id": "34276675",
   "metadata": {
    "scrolled": true
   },
   "outputs": [
    {
     "data": {
      "text/html": [
       "<div>\n",
       "<style scoped>\n",
       "    .dataframe tbody tr th:only-of-type {\n",
       "        vertical-align: middle;\n",
       "    }\n",
       "\n",
       "    .dataframe tbody tr th {\n",
       "        vertical-align: top;\n",
       "    }\n",
       "\n",
       "    .dataframe thead th {\n",
       "        text-align: right;\n",
       "    }\n",
       "</style>\n",
       "<table border=\"1\" class=\"dataframe\">\n",
       "  <thead>\n",
       "    <tr style=\"text-align: right;\">\n",
       "      <th></th>\n",
       "      <th>Name</th>\n",
       "      <th>Date</th>\n",
       "      <th>Term</th>\n",
       "      <th>Remarks</th>\n",
       "    </tr>\n",
       "  </thead>\n",
       "  <tbody>\n",
       "    <tr>\n",
       "      <th>0</th>\n",
       "      <td>[Jawahar Lal Nehru]</td>\n",
       "      <td>[(1898-1998)]</td>\n",
       "      <td>[15 August 1947 to 27 May 1964]</td>\n",
       "      <td>[The first prime minister of India and the lon...</td>\n",
       "    </tr>\n",
       "    <tr>\n",
       "      <th>1</th>\n",
       "      <td>[Indira Gandhi]</td>\n",
       "      <td>[(1917–1984)]</td>\n",
       "      <td>[24 March 1977 to  28 July 1979 ]</td>\n",
       "      <td>[First female Prime Minister of India]</td>\n",
       "    </tr>\n",
       "    <tr>\n",
       "      <th>2</th>\n",
       "      <td>[Indira Gandhi]</td>\n",
       "      <td>[(1917–1984)]</td>\n",
       "      <td>[14 January 1980 to 31 October 1984]</td>\n",
       "      <td>[The first lady who served as PM for the secon...</td>\n",
       "    </tr>\n",
       "    <tr>\n",
       "      <th>3</th>\n",
       "      <td>[Rajiv Gandhi]</td>\n",
       "      <td>[(1944–1991)]</td>\n",
       "      <td>[31 October 1984 to 2 December 1989]</td>\n",
       "      <td>[Youngest to become PM (40 years old)]</td>\n",
       "    </tr>\n",
       "    <tr>\n",
       "      <th>4</th>\n",
       "      <td>[Chandra Shekhar]</td>\n",
       "      <td>[(1927–2007)]</td>\n",
       "      <td>[10 November 1990 to 21 June 1991]</td>\n",
       "      <td>[He belongs to  Samajwadi Janata Party]</td>\n",
       "    </tr>\n",
       "    <tr>\n",
       "      <th>5</th>\n",
       "      <td>[Atal Bihari Vajpayee]</td>\n",
       "      <td>[(1924- 2018)]</td>\n",
       "      <td>[16 May 1996 to 1 June 1996]</td>\n",
       "      <td>[PM for shortest tenure]</td>\n",
       "    </tr>\n",
       "    <tr>\n",
       "      <th>6</th>\n",
       "      <td>[Atal Bihari Vajpayee]</td>\n",
       "      <td>[(1924-2018)]</td>\n",
       "      <td>[19 March 1998 to 22 May 2004 ]</td>\n",
       "      <td>[ The first non-congress PM who completed a fu...</td>\n",
       "    </tr>\n",
       "    <tr>\n",
       "      <th>7</th>\n",
       "      <td>[Manmohan Singh]</td>\n",
       "      <td>[(born 1932)]</td>\n",
       "      <td>[22 May 2004 to 26 May 2014   ]</td>\n",
       "      <td>[ First Sikh PM]</td>\n",
       "    </tr>\n",
       "    <tr>\n",
       "      <th>8</th>\n",
       "      <td>[Narendra Modi]</td>\n",
       "      <td>[(born 1950)]</td>\n",
       "      <td>[26 May 2014 - 2019]</td>\n",
       "      <td>[4th Prime Minister of India who served two co...</td>\n",
       "    </tr>\n",
       "  </tbody>\n",
       "</table>\n",
       "</div>"
      ],
      "text/plain": [
       "                     Name            Date  \\\n",
       "0     [Jawahar Lal Nehru]   [(1898-1998)]   \n",
       "1         [Indira Gandhi]   [(1917–1984)]   \n",
       "2         [Indira Gandhi]   [(1917–1984)]   \n",
       "3          [Rajiv Gandhi]   [(1944–1991)]   \n",
       "4       [Chandra Shekhar]   [(1927–2007)]   \n",
       "5  [Atal Bihari Vajpayee]  [(1924- 2018)]   \n",
       "6  [Atal Bihari Vajpayee]   [(1924-2018)]   \n",
       "7        [Manmohan Singh]   [(born 1932)]   \n",
       "8         [Narendra Modi]   [(born 1950)]   \n",
       "\n",
       "                                   Term  \\\n",
       "0       [15 August 1947 to 27 May 1964]   \n",
       "1     [24 March 1977 to  28 July 1979 ]   \n",
       "2  [14 January 1980 to 31 October 1984]   \n",
       "3  [31 October 1984 to 2 December 1989]   \n",
       "4    [10 November 1990 to 21 June 1991]   \n",
       "5          [16 May 1996 to 1 June 1996]   \n",
       "6       [19 March 1998 to 22 May 2004 ]   \n",
       "7       [22 May 2004 to 26 May 2014   ]   \n",
       "8                  [26 May 2014 - 2019]   \n",
       "\n",
       "                                             Remarks  \n",
       "0  [The first prime minister of India and the lon...  \n",
       "1             [First female Prime Minister of India]  \n",
       "2  [The first lady who served as PM for the secon...  \n",
       "3             [Youngest to become PM (40 years old)]  \n",
       "4            [He belongs to  Samajwadi Janata Party]  \n",
       "5                           [PM for shortest tenure]  \n",
       "6  [ The first non-congress PM who completed a fu...  \n",
       "7                                   [ First Sikh PM]  \n",
       "8  [4th Prime Minister of India who served two co...  "
      ]
     },
     "execution_count": 196,
     "metadata": {},
     "output_type": "execute_result"
    }
   ],
   "source": [
    "import pandas as pd\n",
    "data={'Name':[P_name,P1_name,P2_name,P3_name,P4_name,P5_name,P6_name,P7_name,P8_name],'Date':[P_date,P1_date,P2_date,P3_date,P4_date,P5_date,P6_date,P7_date,P8_date],'Term':[T_office,T1_office,T2_office,T3_office,T4_office,T5_office,T6_office,T7_office,T8_office],'Remarks':[P_remarks,P1_remarks,P2_remarks,P3_remarks,P4_remarks,P5_remarks,P6_remarks,P7_remarks,P8_remarks]}\n",
    "df=pd.DataFrame(data)\n",
    "df"
   ]
  },
  {
   "cell_type": "code",
   "execution_count": null,
   "id": "1aa09521",
   "metadata": {},
   "outputs": [],
   "source": []
  }
 ],
 "metadata": {
  "kernelspec": {
   "display_name": "Python 3 (ipykernel)",
   "language": "python",
   "name": "python3"
  },
  "language_info": {
   "codemirror_mode": {
    "name": "ipython",
    "version": 3
   },
   "file_extension": ".py",
   "mimetype": "text/x-python",
   "name": "python",
   "nbconvert_exporter": "python",
   "pygments_lexer": "ipython3",
   "version": "3.10.9"
  }
 },
 "nbformat": 4,
 "nbformat_minor": 5
}
