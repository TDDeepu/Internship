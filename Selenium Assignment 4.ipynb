{
 "cells": [
  {
   "cell_type": "code",
   "execution_count": null,
   "id": "d7facfba",
   "metadata": {},
   "outputs": [],
   "source": [
    "1. Scrape the details of most viewed videos on YouTube from Wikipedia. Url\n",
    "= https://en.wikipedia.org/wiki/List_of_most-viewed_YouTube_videos You need to find following details: A)\n",
    "Rank\n",
    "B) Name\n",
    "C) Artist\n",
    "D) Upload date\n",
    "E) Views "
   ]
  },
  {
   "cell_type": "code",
   "execution_count": 36,
   "id": "14fcff9f",
   "metadata": {},
   "outputs": [],
   "source": [
    "import selenium\n",
    "import pandas as pd\n",
    "import time\n",
    "from selenium import webdriver\n",
    "from selenium .common.exceptions import StaleElementReferenceException,NoSuchElementException\n",
    "import requests\n",
    "from selenium.webdriver.common.by import By\n",
    "\n"
   ]
  },
  {
   "cell_type": "code",
   "execution_count": 37,
   "id": "45601a75",
   "metadata": {},
   "outputs": [],
   "source": [
    "driver=webdriver.Chrome()"
   ]
  },
  {
   "cell_type": "code",
   "execution_count": 38,
   "id": "6afa6366",
   "metadata": {},
   "outputs": [],
   "source": [
    "driver.get(' https://en.wikipedia.org/wiki/List_of_most-viewed_YouTube_videos ')"
   ]
  },
  {
   "cell_type": "code",
   "execution_count": 9,
   "id": "d9b1d17e",
   "metadata": {},
   "outputs": [],
   "source": [
    "Y1_name=[]\n",
    "name_tags=driver.find_elements(By.XPATH,'/html/body/div[2]/div/div[3]/main/div[3]/div[3]/div[1]/table[1]/tbody/tr[1]/td[1]')\n",
    "for i in name_tags:\n",
    "    name=i.text\n",
    "Y1_name.append(name)"
   ]
  },
  {
   "cell_type": "code",
   "execution_count": 10,
   "id": "42f1ea3d",
   "metadata": {},
   "outputs": [
    {
     "data": {
      "text/plain": [
       "['\"Baby Shark Dance\"[7]']"
      ]
     },
     "execution_count": 10,
     "metadata": {},
     "output_type": "execute_result"
    }
   ],
   "source": [
    "Y1_name"
   ]
  },
  {
   "cell_type": "code",
   "execution_count": 12,
   "id": "84516a2b",
   "metadata": {},
   "outputs": [],
   "source": [
    "A1_artist=[]\n",
    "artist_tags=driver.find_elements(By.XPATH,'/html/body/div[2]/div/div[3]/main/div[3]/div[3]/div[1]/table[1]/tbody/tr[1]/td[2]/a')\n",
    "for i in artist_tags:\n",
    "    artist=i.text\n",
    "A1_artist.append(artist)\n",
    "\n"
   ]
  },
  {
   "cell_type": "code",
   "execution_count": 13,
   "id": "8b02b850",
   "metadata": {},
   "outputs": [
    {
     "data": {
      "text/plain": [
       "[\"Pinkfong Baby Shark - Kids' Songs & Stories\"]"
      ]
     },
     "execution_count": 13,
     "metadata": {},
     "output_type": "execute_result"
    }
   ],
   "source": [
    "A1_artist"
   ]
  },
  {
   "cell_type": "code",
   "execution_count": 14,
   "id": "484d5bc4",
   "metadata": {},
   "outputs": [],
   "source": [
    "U1_date=[]\n",
    "date_tags=driver.find_elements(By.XPATH,'/html/body/div[2]/div/div[3]/main/div[3]/div[3]/div[1]/table[1]/tbody/tr[1]/td[4]')\n",
    "for i in date_tags:\n",
    "    date=i.text\n",
    "U1_date.append(date)"
   ]
  },
  {
   "cell_type": "code",
   "execution_count": 15,
   "id": "fb462ce0",
   "metadata": {},
   "outputs": [
    {
     "data": {
      "text/plain": [
       "['June 17, 2016']"
      ]
     },
     "execution_count": 15,
     "metadata": {},
     "output_type": "execute_result"
    }
   ],
   "source": [
    "U1_date"
   ]
  },
  {
   "cell_type": "code",
   "execution_count": 16,
   "id": "d3e5a7bf",
   "metadata": {},
   "outputs": [],
   "source": [
    "V1_views=[]\n",
    "views_tags=driver.find_elements(By.XPATH,'/html/body/div[2]/div/div[3]/main/div[3]/div[3]/div[1]/table[1]/tbody/tr[1]/td[3]')\n",
    "for i in views_tags:\n",
    "    views=i.text\n",
    "V1_views.append(views)"
   ]
  },
  {
   "cell_type": "code",
   "execution_count": 17,
   "id": "dd832b53",
   "metadata": {},
   "outputs": [
    {
     "data": {
      "text/plain": [
       "['14.52']"
      ]
     },
     "execution_count": 17,
     "metadata": {},
     "output_type": "execute_result"
    }
   ],
   "source": [
    "V1_views"
   ]
  },
  {
   "cell_type": "code",
   "execution_count": 18,
   "id": "0b5db184",
   "metadata": {},
   "outputs": [],
   "source": [
    "Y2_name=[]\n",
    "name_tags=driver.find_elements(By.XPATH,'/html/body/div[2]/div/div[3]/main/div[3]/div[3]/div[1]/table[1]/tbody/tr[2]/td[1]/a')\n",
    "for i in name_tags:\n",
    "    name=i.text\n",
    "Y2_name.append(name)"
   ]
  },
  {
   "cell_type": "code",
   "execution_count": 19,
   "id": "e1049d22",
   "metadata": {},
   "outputs": [
    {
     "data": {
      "text/plain": [
       "['Despacito']"
      ]
     },
     "execution_count": 19,
     "metadata": {},
     "output_type": "execute_result"
    }
   ],
   "source": [
    "Y2_name"
   ]
  },
  {
   "cell_type": "code",
   "execution_count": 20,
   "id": "08cdef7a",
   "metadata": {},
   "outputs": [],
   "source": [
    "A2_artist=[]\n",
    "artist_tags=driver.find_elements(By.XPATH,'/html/body/div[2]/div/div[3]/main/div[3]/div[3]/div[1]/table[1]/tbody/tr[2]/td[2]/a')\n",
    "for i in artist_tags:\n",
    "    artist=i.text\n",
    "A2_artist.append(artist)"
   ]
  },
  {
   "cell_type": "code",
   "execution_count": 21,
   "id": "1dfc7874",
   "metadata": {},
   "outputs": [
    {
     "data": {
      "text/plain": [
       "['Luis Fonsi']"
      ]
     },
     "execution_count": 21,
     "metadata": {},
     "output_type": "execute_result"
    }
   ],
   "source": [
    "A2_artist"
   ]
  },
  {
   "cell_type": "code",
   "execution_count": 23,
   "id": "3f37c3bf",
   "metadata": {},
   "outputs": [],
   "source": [
    "U2_date=[]\n",
    "date_tags=driver.find_elements(By.XPATH,'/html/body/div[2]/div/div[3]/main/div[3]/div[3]/div[1]/table[1]/tbody/tr[2]/td[4]')\n",
    "for i in date_tags:\n",
    "    date=i.text\n",
    "U2_date.append(date)"
   ]
  },
  {
   "cell_type": "code",
   "execution_count": 24,
   "id": "a7027c65",
   "metadata": {},
   "outputs": [
    {
     "data": {
      "text/plain": [
       "['January 12, 2017']"
      ]
     },
     "execution_count": 24,
     "metadata": {},
     "output_type": "execute_result"
    }
   ],
   "source": [
    "U2_date"
   ]
  },
  {
   "cell_type": "code",
   "execution_count": 25,
   "id": "0d76813a",
   "metadata": {},
   "outputs": [],
   "source": [
    "V2_views=[]\n",
    "views_tags=driver.find_elements(By.XPATH,'/html/body/div[2]/div/div[3]/main/div[3]/div[3]/div[1]/table[1]/tbody/tr[2]/td[3]')\n",
    "for i in views_tags:\n",
    "    views=i.text\n",
    "V2_views.append(views)"
   ]
  },
  {
   "cell_type": "code",
   "execution_count": 26,
   "id": "55b4524a",
   "metadata": {},
   "outputs": [
    {
     "data": {
      "text/plain": [
       "['8.44']"
      ]
     },
     "execution_count": 26,
     "metadata": {},
     "output_type": "execute_result"
    }
   ],
   "source": [
    "V2_views"
   ]
  },
  {
   "cell_type": "code",
   "execution_count": 27,
   "id": "288099de",
   "metadata": {},
   "outputs": [],
   "source": [
    "Y3_name=[]\n",
    "name_tags=driver.find_elements(By.XPATH,'/html/body/div[2]/div/div[3]/main/div[3]/div[3]/div[1]/table[1]/tbody/tr[3]/td[1]/a')\n",
    "for i in name_tags:\n",
    "    name=i.text\n",
    "Y3_name.append(name)"
   ]
  },
  {
   "cell_type": "code",
   "execution_count": 28,
   "id": "f9216df8",
   "metadata": {},
   "outputs": [
    {
     "data": {
      "text/plain": [
       "['Johny Johny Yes Papa']"
      ]
     },
     "execution_count": 28,
     "metadata": {},
     "output_type": "execute_result"
    }
   ],
   "source": [
    "Y3_name"
   ]
  },
  {
   "cell_type": "code",
   "execution_count": 29,
   "id": "4786b88b",
   "metadata": {},
   "outputs": [],
   "source": [
    "A3_artist=[]\n",
    "artist_tags=driver.find_elements(By.XPATH,'/html/body/div[2]/div/div[3]/main/div[3]/div[3]/div[1]/table[1]/tbody/tr[3]/td[2]/a')\n",
    "for i in artist_tags:\n",
    "    artist=i.text\n",
    "A3_artist.append(artist)"
   ]
  },
  {
   "cell_type": "code",
   "execution_count": 30,
   "id": "0bcdc63e",
   "metadata": {},
   "outputs": [
    {
     "data": {
      "text/plain": [
       "[\"LooLoo Kids - Nursery Rhymes and Children's Songs\"]"
      ]
     },
     "execution_count": 30,
     "metadata": {},
     "output_type": "execute_result"
    }
   ],
   "source": [
    "A3_artist"
   ]
  },
  {
   "cell_type": "code",
   "execution_count": 31,
   "id": "a0b5f68b",
   "metadata": {},
   "outputs": [],
   "source": [
    "U3_date=[]\n",
    "date_tags=driver.find_elements(By.XPATH,'/html/body/div[2]/div/div[3]/main/div[3]/div[3]/div[1]/table[1]/tbody/tr[3]/td[4]')\n",
    "for i in date_tags:\n",
    "    date=i.text\n",
    "U3_date.append(date)"
   ]
  },
  {
   "cell_type": "code",
   "execution_count": 32,
   "id": "d93a3561",
   "metadata": {},
   "outputs": [
    {
     "data": {
      "text/plain": [
       "['October 8, 2016']"
      ]
     },
     "execution_count": 32,
     "metadata": {},
     "output_type": "execute_result"
    }
   ],
   "source": [
    "U3_date"
   ]
  },
  {
   "cell_type": "code",
   "execution_count": 33,
   "id": "4aba11a0",
   "metadata": {},
   "outputs": [],
   "source": [
    "V3_views=[]\n",
    "views_tags=driver.find_elements(By.XPATH,'/html/body/div[2]/div/div[3]/main/div[3]/div[3]/div[1]/table[1]/tbody/tr[3]/td[3]')\n",
    "for i in views_tags:\n",
    "    views=i.text\n",
    "V3_views.append(views)"
   ]
  },
  {
   "cell_type": "code",
   "execution_count": 34,
   "id": "4c749f7f",
   "metadata": {},
   "outputs": [
    {
     "data": {
      "text/plain": [
       "['6.91']"
      ]
     },
     "execution_count": 34,
     "metadata": {},
     "output_type": "execute_result"
    }
   ],
   "source": [
    "V3_views"
   ]
  },
  {
   "cell_type": "code",
   "execution_count": 39,
   "id": "f1f4a666",
   "metadata": {},
   "outputs": [],
   "source": [
    "Y4_name=[]\n",
    "name_tags=driver.find_elements(By.XPATH,'/html/body/div[2]/div/div[3]/main/div[3]/div[3]/div[1]/table[1]/tbody/tr[4]/td[1]/a')\n",
    "for i in name_tags:\n",
    "    name=i.text\n",
    "Y4_name.append(name)"
   ]
  },
  {
   "cell_type": "code",
   "execution_count": 40,
   "id": "847e58f5",
   "metadata": {},
   "outputs": [
    {
     "data": {
      "text/plain": [
       "['Bath Song']"
      ]
     },
     "execution_count": 40,
     "metadata": {},
     "output_type": "execute_result"
    }
   ],
   "source": [
    "Y4_name"
   ]
  },
  {
   "cell_type": "code",
   "execution_count": 41,
   "id": "4563de89",
   "metadata": {},
   "outputs": [],
   "source": [
    "A4_artist=[]\n",
    "artist_tags=driver.find_elements(By.XPATH,'/html/body/div[2]/div/div[3]/main/div[3]/div[3]/div[1]/table[1]/tbody/tr[4]/td[2]/a')\n",
    "for i in artist_tags:\n",
    "    artist=i.text\n",
    "A4_artist.append(artist)"
   ]
  },
  {
   "cell_type": "code",
   "execution_count": 42,
   "id": "fd331578",
   "metadata": {},
   "outputs": [
    {
     "data": {
      "text/plain": [
       "['Cocomelon - Nursery Rhymes']"
      ]
     },
     "execution_count": 42,
     "metadata": {},
     "output_type": "execute_result"
    }
   ],
   "source": [
    "A4_artist"
   ]
  },
  {
   "cell_type": "code",
   "execution_count": 43,
   "id": "875b9760",
   "metadata": {},
   "outputs": [],
   "source": [
    "U4_date=[]\n",
    "date_tags=driver.find_elements(By.XPATH,'/html/body/div[2]/div/div[3]/main/div[3]/div[3]/div[1]/table[1]/tbody/tr[4]/td[4]')\n",
    "for i in date_tags:\n",
    "    date=i.text\n",
    "U4_date.append(date)"
   ]
  },
  {
   "cell_type": "code",
   "execution_count": 44,
   "id": "0d13c67d",
   "metadata": {},
   "outputs": [
    {
     "data": {
      "text/plain": [
       "['May 2, 2018']"
      ]
     },
     "execution_count": 44,
     "metadata": {},
     "output_type": "execute_result"
    }
   ],
   "source": [
    "U4_date"
   ]
  },
  {
   "cell_type": "code",
   "execution_count": 46,
   "id": "7532f15e",
   "metadata": {},
   "outputs": [],
   "source": [
    "V4_views=[]\n",
    "views_tags=driver.find_elements(By.XPATH,'/html/body/div[2]/div/div[3]/main/div[3]/div[3]/div[1]/table[1]/tbody/tr[4]/td[3]')\n",
    "for i in views_tags:\n",
    "    views=i.text\n",
    "V4_views.append(views)"
   ]
  },
  {
   "cell_type": "code",
   "execution_count": 47,
   "id": "843cd66f",
   "metadata": {},
   "outputs": [
    {
     "data": {
      "text/plain": [
       "['6.70']"
      ]
     },
     "execution_count": 47,
     "metadata": {},
     "output_type": "execute_result"
    }
   ],
   "source": [
    "V4_views"
   ]
  },
  {
   "cell_type": "code",
   "execution_count": 64,
   "id": "6e22158d",
   "metadata": {},
   "outputs": [],
   "source": [
    "Y5_name=[]\n",
    "name_tags=driver.find_elements(By.XPATH,'/html/body/div[2]/div/div[3]/main/div[3]/div[3]/div[1]/table[1]/tbody/tr[5]/td[1]/a')\n",
    "for i in name_tags:\n",
    "    name=i.text\n",
    "Y5_name.append(name)"
   ]
  },
  {
   "cell_type": "code",
   "execution_count": 65,
   "id": "4984d6c2",
   "metadata": {},
   "outputs": [
    {
     "data": {
      "text/plain": [
       "['See You Again']"
      ]
     },
     "execution_count": 65,
     "metadata": {},
     "output_type": "execute_result"
    }
   ],
   "source": [
    "Y5_name"
   ]
  },
  {
   "cell_type": "code",
   "execution_count": 66,
   "id": "8cc21bbc",
   "metadata": {},
   "outputs": [],
   "source": [
    "A5_artist=[]\n",
    "artist_tags=driver.find_elements(By.XPATH,'/html/body/div[2]/div/div[3]/main/div[3]/div[3]/div[1]/table[1]/tbody/tr[5]/td[2]/a')\n",
    "for i in artist_tags:\n",
    "    artist=i.text\n",
    "A5_artist.append(artist)"
   ]
  },
  {
   "cell_type": "code",
   "execution_count": 67,
   "id": "9af43aef",
   "metadata": {},
   "outputs": [
    {
     "data": {
      "text/plain": [
       "['Wiz Khalifa']"
      ]
     },
     "execution_count": 67,
     "metadata": {},
     "output_type": "execute_result"
    }
   ],
   "source": [
    "A5_artist"
   ]
  },
  {
   "cell_type": "code",
   "execution_count": 68,
   "id": "baab3ac5",
   "metadata": {},
   "outputs": [],
   "source": [
    "U5_date=[]\n",
    "date_tags=driver.find_elements(By.XPATH,'/html/body/div[2]/div/div[3]/main/div[3]/div[3]/div[1]/table[1]/tbody/tr[5]/td[4]')\n",
    "for i in date_tags:\n",
    "    date=i.text\n",
    "U5_date.append(date)"
   ]
  },
  {
   "cell_type": "code",
   "execution_count": 69,
   "id": "e12609ab",
   "metadata": {},
   "outputs": [
    {
     "data": {
      "text/plain": [
       "['April 6, 2015']"
      ]
     },
     "execution_count": 69,
     "metadata": {},
     "output_type": "execute_result"
    }
   ],
   "source": [
    "U5_date"
   ]
  },
  {
   "cell_type": "code",
   "execution_count": 70,
   "id": "20522eae",
   "metadata": {},
   "outputs": [],
   "source": [
    "V5_views=[]\n",
    "views_tags=driver.find_elements(By.XPATH,'/html/body/div[2]/div/div[3]/main/div[3]/div[3]/div[1]/table[1]/tbody/tr[5]/td[3]')\n",
    "for i in views_tags:\n",
    "    views=i.text\n",
    "V5_views.append(views)"
   ]
  },
  {
   "cell_type": "code",
   "execution_count": 71,
   "id": "0da59bca",
   "metadata": {},
   "outputs": [
    {
     "data": {
      "text/plain": [
       "['6.27']"
      ]
     },
     "execution_count": 71,
     "metadata": {},
     "output_type": "execute_result"
    }
   ],
   "source": [
    "V5_views"
   ]
  },
  {
   "cell_type": "code",
   "execution_count": 72,
   "id": "df750887",
   "metadata": {},
   "outputs": [],
   "source": [
    "Y6_name=[]\n",
    "name_tags=driver.find_elements(By.XPATH,'/html/body/div[2]/div/div[3]/main/div[3]/div[3]/div[1]/table[1]/tbody/tr[6]/td[1]/a')\n",
    "for i in name_tags:\n",
    "    name=i.text\n",
    "Y6_name.append(name)"
   ]
  },
  {
   "cell_type": "code",
   "execution_count": 73,
   "id": "cc5ab49a",
   "metadata": {},
   "outputs": [
    {
     "data": {
      "text/plain": [
       "['Shape of You']"
      ]
     },
     "execution_count": 73,
     "metadata": {},
     "output_type": "execute_result"
    }
   ],
   "source": [
    "Y6_name"
   ]
  },
  {
   "cell_type": "code",
   "execution_count": 74,
   "id": "6206992b",
   "metadata": {},
   "outputs": [],
   "source": [
    "A6_artist=[]\n",
    "artist_tags=driver.find_elements(By.XPATH,'/html/body/div[2]/div/div[3]/main/div[3]/div[3]/div[1]/table[1]/tbody/tr[6]/td[2]/a')\n",
    "for i in artist_tags:\n",
    "    artist=i.text\n",
    "A6_artist.append(artist)"
   ]
  },
  {
   "cell_type": "code",
   "execution_count": 75,
   "id": "9cd622a3",
   "metadata": {},
   "outputs": [
    {
     "data": {
      "text/plain": [
       "['Ed Sheeran']"
      ]
     },
     "execution_count": 75,
     "metadata": {},
     "output_type": "execute_result"
    }
   ],
   "source": [
    "A6_artist"
   ]
  },
  {
   "cell_type": "code",
   "execution_count": 77,
   "id": "28a704c7",
   "metadata": {},
   "outputs": [],
   "source": [
    "U6_date=[]\n",
    "date_tags=driver.find_elements(By.XPATH,'/html/body/div[2]/div/div[3]/main/div[3]/div[3]/div[1]/table[1]/tbody/tr[6]/td[4]')\n",
    "for i in date_tags:\n",
    "    date=i.text\n",
    "U6_date.append(date)"
   ]
  },
  {
   "cell_type": "code",
   "execution_count": 78,
   "id": "b7fb8471",
   "metadata": {},
   "outputs": [
    {
     "data": {
      "text/plain": [
       "['January 30, 2017']"
      ]
     },
     "execution_count": 78,
     "metadata": {},
     "output_type": "execute_result"
    }
   ],
   "source": [
    "U6_date"
   ]
  },
  {
   "cell_type": "code",
   "execution_count": 79,
   "id": "8431706f",
   "metadata": {},
   "outputs": [],
   "source": [
    "V6_views=[]\n",
    "views_tags=driver.find_elements(By.XPATH,'/html/body/div[2]/div/div[3]/main/div[3]/div[3]/div[1]/table[1]/tbody/tr[6]/td[3]')\n",
    "for i in views_tags:\n",
    "    views=i.text\n",
    "V6_views.append(views)"
   ]
  },
  {
   "cell_type": "code",
   "execution_count": 80,
   "id": "d89d2302",
   "metadata": {},
   "outputs": [
    {
     "data": {
      "text/plain": [
       "['6.26']"
      ]
     },
     "execution_count": 80,
     "metadata": {},
     "output_type": "execute_result"
    }
   ],
   "source": [
    "V6_views"
   ]
  },
  {
   "cell_type": "code",
   "execution_count": 84,
   "id": "cc847c83",
   "metadata": {},
   "outputs": [],
   "source": [
    "Y7_name=[]\n",
    "name_tags=driver.find_elements(By.XPATH,'/html/body/div[2]/div/div[3]/main/div[3]/div[3]/div[1]/table[1]/tbody/tr[7]/td[1]/a')\n",
    "for i in name_tags:\n",
    "    name=i.text\n",
    "Y7_name.append(name)"
   ]
  },
  {
   "cell_type": "code",
   "execution_count": 85,
   "id": "8707b099",
   "metadata": {},
   "outputs": [
    {
     "data": {
      "text/plain": [
       "['Wheels on the Bus']"
      ]
     },
     "execution_count": 85,
     "metadata": {},
     "output_type": "execute_result"
    }
   ],
   "source": [
    "Y7_name"
   ]
  },
  {
   "cell_type": "code",
   "execution_count": 86,
   "id": "94492243",
   "metadata": {},
   "outputs": [],
   "source": [
    "A7_artist=[]\n",
    "artist_tags=driver.find_elements(By.XPATH,'/html/body/div[2]/div/div[3]/main/div[3]/div[3]/div[1]/table[1]/tbody/tr[7]/td[2]/a')\n",
    "for i in artist_tags:\n",
    "    artist=i.text\n",
    "A7_artist.append(artist)"
   ]
  },
  {
   "cell_type": "code",
   "execution_count": 87,
   "id": "5026d3e1",
   "metadata": {},
   "outputs": [
    {
     "data": {
      "text/plain": [
       "['Cocomelon - Nursery Rhymes']"
      ]
     },
     "execution_count": 87,
     "metadata": {},
     "output_type": "execute_result"
    }
   ],
   "source": [
    "A7_artist"
   ]
  },
  {
   "cell_type": "code",
   "execution_count": 88,
   "id": "2c325fb8",
   "metadata": {},
   "outputs": [],
   "source": [
    "U7_date=[]\n",
    "date_tags=driver.find_elements(By.XPATH,'/html/body/div[2]/div/div[3]/main/div[3]/div[3]/div[1]/table[1]/tbody/tr[7]/td[4]')\n",
    "for i in date_tags:\n",
    "    date=i.text\n",
    "U7_date.append(date)"
   ]
  },
  {
   "cell_type": "code",
   "execution_count": 89,
   "id": "d9d3dda7",
   "metadata": {},
   "outputs": [
    {
     "data": {
      "text/plain": [
       "['May 24, 2018']"
      ]
     },
     "execution_count": 89,
     "metadata": {},
     "output_type": "execute_result"
    }
   ],
   "source": [
    "U7_date"
   ]
  },
  {
   "cell_type": "code",
   "execution_count": 90,
   "id": "a75f7eaa",
   "metadata": {},
   "outputs": [],
   "source": [
    "V7_views=[]\n",
    "views_tags=driver.find_elements(By.XPATH,'/html/body/div[2]/div/div[3]/main/div[3]/div[3]/div[1]/table[1]/tbody/tr[7]/td[3]')\n",
    "for i in views_tags:\n",
    "    views=i.text\n",
    "V7_views.append(views)"
   ]
  },
  {
   "cell_type": "code",
   "execution_count": 91,
   "id": "f3b8df72",
   "metadata": {},
   "outputs": [
    {
     "data": {
      "text/plain": [
       "['6.13']"
      ]
     },
     "execution_count": 91,
     "metadata": {},
     "output_type": "execute_result"
    }
   ],
   "source": [
    "V7_views"
   ]
  },
  {
   "cell_type": "code",
   "execution_count": 92,
   "id": "c86036e2",
   "metadata": {},
   "outputs": [],
   "source": [
    "Y8_name=[]\n",
    "name_tags=driver.find_elements(By.XPATH,'/html/body/div[2]/div/div[3]/main/div[3]/div[3]/div[1]/table[1]/tbody/tr[8]/td[1]/a')\n",
    "for i in name_tags:\n",
    "    name=i.text\n",
    "Y8_name.append(name)"
   ]
  },
  {
   "cell_type": "code",
   "execution_count": 93,
   "id": "cc469e6c",
   "metadata": {},
   "outputs": [
    {
     "data": {
      "text/plain": [
       "['Phonics Song with Two Words']"
      ]
     },
     "execution_count": 93,
     "metadata": {},
     "output_type": "execute_result"
    }
   ],
   "source": [
    "Y8_name"
   ]
  },
  {
   "cell_type": "code",
   "execution_count": 94,
   "id": "e439c716",
   "metadata": {},
   "outputs": [],
   "source": [
    "A8_artist=[]\n",
    "artist_tags=driver.find_elements(By.XPATH,'/html/body/div[2]/div/div[3]/main/div[3]/div[3]/div[1]/table[1]/tbody/tr[8]/td[2]/a')\n",
    "for i in artist_tags:\n",
    "    artist=i.text\n",
    "A8_artist.append(artist)"
   ]
  },
  {
   "cell_type": "code",
   "execution_count": 95,
   "id": "b1e1fa40",
   "metadata": {},
   "outputs": [
    {
     "data": {
      "text/plain": [
       "['ChuChu TV Nursery Rhymes & Kids Songs']"
      ]
     },
     "execution_count": 95,
     "metadata": {},
     "output_type": "execute_result"
    }
   ],
   "source": [
    "A8_artist"
   ]
  },
  {
   "cell_type": "code",
   "execution_count": 96,
   "id": "7f275c35",
   "metadata": {},
   "outputs": [],
   "source": [
    "U8_date=[]\n",
    "date_tags=driver.find_elements(By.XPATH,'/html/body/div[2]/div/div[3]/main/div[3]/div[3]/div[1]/table[1]/tbody/tr[8]/td[4]')\n",
    "for i in date_tags:\n",
    "    date=i.text\n",
    "U8_date.append(date)"
   ]
  },
  {
   "cell_type": "code",
   "execution_count": 97,
   "id": "d4ead386",
   "metadata": {},
   "outputs": [
    {
     "data": {
      "text/plain": [
       "['March 6, 2014']"
      ]
     },
     "execution_count": 97,
     "metadata": {},
     "output_type": "execute_result"
    }
   ],
   "source": [
    "U8_date"
   ]
  },
  {
   "cell_type": "code",
   "execution_count": 98,
   "id": "4616311f",
   "metadata": {},
   "outputs": [],
   "source": [
    "V8_views=[]\n",
    "views_tags=driver.find_elements(By.XPATH,'/html/body/div[2]/div/div[3]/main/div[3]/div[3]/div[1]/table[1]/tbody/tr[8]/td[3]')\n",
    "for i in views_tags:\n",
    "    views=i.text\n",
    "V8_views.append(views)"
   ]
  },
  {
   "cell_type": "code",
   "execution_count": 99,
   "id": "6d5d5616",
   "metadata": {},
   "outputs": [
    {
     "data": {
      "text/plain": [
       "['5.80']"
      ]
     },
     "execution_count": 99,
     "metadata": {},
     "output_type": "execute_result"
    }
   ],
   "source": [
    "V8_views"
   ]
  },
  {
   "cell_type": "code",
   "execution_count": 100,
   "id": "6a88081e",
   "metadata": {},
   "outputs": [],
   "source": [
    "Y9_name=[]\n",
    "name_tags=driver.find_elements(By.XPATH,'/html/body/div[2]/div/div[3]/main/div[3]/div[3]/div[1]/table[1]/tbody/tr[9]/td[1]/a')\n",
    "for i in name_tags:\n",
    "    name=i.text\n",
    "Y9_name.append(name)"
   ]
  },
  {
   "cell_type": "code",
   "execution_count": 101,
   "id": "1646e5db",
   "metadata": {},
   "outputs": [
    {
     "data": {
      "text/plain": [
       "['Uptown Funk']"
      ]
     },
     "execution_count": 101,
     "metadata": {},
     "output_type": "execute_result"
    }
   ],
   "source": [
    "Y9_name"
   ]
  },
  {
   "cell_type": "code",
   "execution_count": 102,
   "id": "afb06d8f",
   "metadata": {},
   "outputs": [],
   "source": [
    "A9_artist=[]\n",
    "artist_tags=driver.find_elements(By.XPATH,'/html/body/div[2]/div/div[3]/main/div[3]/div[3]/div[1]/table[1]/tbody/tr[9]/td[2]/a')\n",
    "for i in artist_tags:\n",
    "    artist=i.text\n",
    "A9_artist.append(artist)"
   ]
  },
  {
   "cell_type": "code",
   "execution_count": 103,
   "id": "e54a612f",
   "metadata": {},
   "outputs": [
    {
     "data": {
      "text/plain": [
       "['Mark Ronson']"
      ]
     },
     "execution_count": 103,
     "metadata": {},
     "output_type": "execute_result"
    }
   ],
   "source": [
    "A9_artist"
   ]
  },
  {
   "cell_type": "code",
   "execution_count": 104,
   "id": "1201886d",
   "metadata": {},
   "outputs": [],
   "source": [
    "U9_date=[]\n",
    "date_tags=driver.find_elements(By.XPATH,'/html/body/div[2]/div/div[3]/main/div[3]/div[3]/div[1]/table[1]/tbody/tr[9]/td[4]')\n",
    "for i in date_tags:\n",
    "    date=i.text\n",
    "U9_date.append(date)"
   ]
  },
  {
   "cell_type": "code",
   "execution_count": 105,
   "id": "9b671775",
   "metadata": {},
   "outputs": [
    {
     "data": {
      "text/plain": [
       "['November 19, 2014']"
      ]
     },
     "execution_count": 105,
     "metadata": {},
     "output_type": "execute_result"
    }
   ],
   "source": [
    "U9_date"
   ]
  },
  {
   "cell_type": "code",
   "execution_count": 106,
   "id": "a5326d95",
   "metadata": {},
   "outputs": [],
   "source": [
    "V9_views=[]\n",
    "views_tags=driver.find_elements(By.XPATH,'/html/body/div[2]/div/div[3]/main/div[3]/div[3]/div[1]/table[1]/tbody/tr[9]/td[3]')\n",
    "for i in views_tags:\n",
    "    views=i.text\n",
    "V9_views.append(views)"
   ]
  },
  {
   "cell_type": "code",
   "execution_count": 107,
   "id": "eaca5cc9",
   "metadata": {},
   "outputs": [
    {
     "data": {
      "text/plain": [
       "['5.23']"
      ]
     },
     "execution_count": 107,
     "metadata": {},
     "output_type": "execute_result"
    }
   ],
   "source": [
    "V9_views"
   ]
  },
  {
   "cell_type": "code",
   "execution_count": 108,
   "id": "c82d46dd",
   "metadata": {},
   "outputs": [],
   "source": [
    "Y10_name=[]\n",
    "name_tags=driver.find_elements(By.XPATH,'/html/body/div[2]/div/div[3]/main/div[3]/div[3]/div[1]/table[1]/tbody/tr[10]/td[1]/a')\n",
    "for i in name_tags:\n",
    "    name=i.text\n",
    "Y10_name.append(name)"
   ]
  },
  {
   "cell_type": "code",
   "execution_count": 109,
   "id": "7e70332b",
   "metadata": {},
   "outputs": [
    {
     "data": {
      "text/plain": [
       "['Gangnam Style']"
      ]
     },
     "execution_count": 109,
     "metadata": {},
     "output_type": "execute_result"
    }
   ],
   "source": [
    "Y10_name"
   ]
  },
  {
   "cell_type": "code",
   "execution_count": 110,
   "id": "c1261d40",
   "metadata": {},
   "outputs": [],
   "source": [
    "A10_artist=[]\n",
    "artist_tags=driver.find_elements(By.XPATH,'/html/body/div[2]/div/div[3]/main/div[3]/div[3]/div[1]/table[1]/tbody/tr[10]/td[2]')\n",
    "for i in artist_tags:\n",
    "    artist=i.text\n",
    "A10_artist.append(artist)"
   ]
  },
  {
   "cell_type": "code",
   "execution_count": 111,
   "id": "ad4afcd8",
   "metadata": {},
   "outputs": [
    {
     "data": {
      "text/plain": [
       "['Psy']"
      ]
     },
     "execution_count": 111,
     "metadata": {},
     "output_type": "execute_result"
    }
   ],
   "source": [
    "A10_artist"
   ]
  },
  {
   "cell_type": "code",
   "execution_count": 112,
   "id": "c2f73606",
   "metadata": {},
   "outputs": [],
   "source": [
    "U10_date=[]\n",
    "date_tags=driver.find_elements(By.XPATH,'/html/body/div[2]/div/div[3]/main/div[3]/div[3]/div[1]/table[1]/tbody/tr[10]/td[4]')\n",
    "for i in date_tags:\n",
    "    date=i.text\n",
    "U10_date.append(date)"
   ]
  },
  {
   "cell_type": "code",
   "execution_count": 113,
   "id": "7e010586",
   "metadata": {},
   "outputs": [
    {
     "data": {
      "text/plain": [
       "['July 15, 2012']"
      ]
     },
     "execution_count": 113,
     "metadata": {},
     "output_type": "execute_result"
    }
   ],
   "source": [
    "U10_date"
   ]
  },
  {
   "cell_type": "code",
   "execution_count": 125,
   "id": "ffe8f17a",
   "metadata": {},
   "outputs": [],
   "source": [
    "V10_views=[]\n",
    "views_tags=driver.find_elements(By.XPATH,'/html/body/div[2]/div/div[3]/main/div[3]/div[3]/div[1]/table[1]/tbody/tr[10]/td[3]')\n",
    "for i in views_tags:\n",
    "    views=i.text\n",
    "V10_views.append(views)"
   ]
  },
  {
   "cell_type": "code",
   "execution_count": 115,
   "id": "327b1fcc",
   "metadata": {},
   "outputs": [
    {
     "data": {
      "text/plain": [
       "['5.15']"
      ]
     },
     "execution_count": 115,
     "metadata": {},
     "output_type": "execute_result"
    }
   ],
   "source": [
    "V10_views"
   ]
  },
  {
   "cell_type": "code",
   "execution_count": 132,
   "id": "70d884ff",
   "metadata": {},
   "outputs": [],
   "source": [
    "import pandas as pd\n",
    "data={'Name':[Y1_name,Y2_name,Y3_name,Y4_name,Y5_name,Y6_name,Y7_name,Y8_name,Y9_name,Y10_name],'Artist':[A1_artist,A2_artist,A3_artist,A4_artist,A5_artist,A6_artist,A7_artist,A8_artist,A9_artist,A10_artist],\n",
    "     'Upload Date':[U1_date,U2_date,U3_date,U4_date,U5_date,U6_date,U7_date,U8_date,U9_date,U10_date],\n",
    "     'Views':[V1_views,V2_views,V3_views,V4_views,V5_views,V6_views,V7_views,V8_views,V9_views,V10_views]}\n",
    "df=pd.DataFrame(data,index=[1,2,3,4,5,6,7,8,9,10])"
   ]
  },
  {
   "cell_type": "code",
   "execution_count": 127,
   "id": "08064355",
   "metadata": {},
   "outputs": [
    {
     "data": {
      "text/html": [
       "<div>\n",
       "<style scoped>\n",
       "    .dataframe tbody tr th:only-of-type {\n",
       "        vertical-align: middle;\n",
       "    }\n",
       "\n",
       "    .dataframe tbody tr th {\n",
       "        vertical-align: top;\n",
       "    }\n",
       "\n",
       "    .dataframe thead th {\n",
       "        text-align: right;\n",
       "    }\n",
       "</style>\n",
       "<table border=\"1\" class=\"dataframe\">\n",
       "  <thead>\n",
       "    <tr style=\"text-align: right;\">\n",
       "      <th></th>\n",
       "      <th>Name</th>\n",
       "      <th>Artist</th>\n",
       "      <th>Upload Date</th>\n",
       "      <th>Views</th>\n",
       "    </tr>\n",
       "  </thead>\n",
       "  <tbody>\n",
       "    <tr>\n",
       "      <th>1</th>\n",
       "      <td>[\"Baby Shark Dance\"[7]]</td>\n",
       "      <td>[Pinkfong Baby Shark - Kids' Songs &amp; Stories]</td>\n",
       "      <td>[June 17, 2016]</td>\n",
       "      <td>[14.52]</td>\n",
       "    </tr>\n",
       "    <tr>\n",
       "      <th>2</th>\n",
       "      <td>[Despacito]</td>\n",
       "      <td>[Luis Fonsi]</td>\n",
       "      <td>[January 12, 2017]</td>\n",
       "      <td>[8.44]</td>\n",
       "    </tr>\n",
       "    <tr>\n",
       "      <th>3</th>\n",
       "      <td>[Johny Johny Yes Papa]</td>\n",
       "      <td>[LooLoo Kids - Nursery Rhymes and Children's S...</td>\n",
       "      <td>[October 8, 2016]</td>\n",
       "      <td>[6.91]</td>\n",
       "    </tr>\n",
       "    <tr>\n",
       "      <th>4</th>\n",
       "      <td>[Bath Song, See You Again, See You Again, See ...</td>\n",
       "      <td>[Cocomelon - Nursery Rhymes]</td>\n",
       "      <td>[May 2, 2018]</td>\n",
       "      <td>[6.70]</td>\n",
       "    </tr>\n",
       "    <tr>\n",
       "      <th>5</th>\n",
       "      <td>[See You Again]</td>\n",
       "      <td>[Wiz Khalifa]</td>\n",
       "      <td>[April 6, 2015]</td>\n",
       "      <td>[6.27]</td>\n",
       "    </tr>\n",
       "    <tr>\n",
       "      <th>6</th>\n",
       "      <td>[Shape of You]</td>\n",
       "      <td>[Ed Sheeran]</td>\n",
       "      <td>[January 30, 2017]</td>\n",
       "      <td>[6.26]</td>\n",
       "    </tr>\n",
       "    <tr>\n",
       "      <th>7</th>\n",
       "      <td>[Wheels on the Bus]</td>\n",
       "      <td>[Cocomelon - Nursery Rhymes]</td>\n",
       "      <td>[May 24, 2018]</td>\n",
       "      <td>[6.13]</td>\n",
       "    </tr>\n",
       "    <tr>\n",
       "      <th>8</th>\n",
       "      <td>[Phonics Song with Two Words]</td>\n",
       "      <td>[ChuChu TV Nursery Rhymes &amp; Kids Songs]</td>\n",
       "      <td>[March 6, 2014]</td>\n",
       "      <td>[5.80]</td>\n",
       "    </tr>\n",
       "    <tr>\n",
       "      <th>9</th>\n",
       "      <td>[Uptown Funk]</td>\n",
       "      <td>[Mark Ronson]</td>\n",
       "      <td>[November 19, 2014]</td>\n",
       "      <td>[5.23]</td>\n",
       "    </tr>\n",
       "    <tr>\n",
       "      <th>10</th>\n",
       "      <td>[Gangnam Style]</td>\n",
       "      <td>[Psy]</td>\n",
       "      <td>[July 15, 2012]</td>\n",
       "      <td>[5.15]</td>\n",
       "    </tr>\n",
       "  </tbody>\n",
       "</table>\n",
       "</div>"
      ],
      "text/plain": [
       "                                                 Name  \\\n",
       "1                             [\"Baby Shark Dance\"[7]]   \n",
       "2                                         [Despacito]   \n",
       "3                              [Johny Johny Yes Papa]   \n",
       "4   [Bath Song, See You Again, See You Again, See ...   \n",
       "5                                     [See You Again]   \n",
       "6                                      [Shape of You]   \n",
       "7                                 [Wheels on the Bus]   \n",
       "8                       [Phonics Song with Two Words]   \n",
       "9                                       [Uptown Funk]   \n",
       "10                                    [Gangnam Style]   \n",
       "\n",
       "                                               Artist          Upload Date  \\\n",
       "1       [Pinkfong Baby Shark - Kids' Songs & Stories]      [June 17, 2016]   \n",
       "2                                        [Luis Fonsi]   [January 12, 2017]   \n",
       "3   [LooLoo Kids - Nursery Rhymes and Children's S...    [October 8, 2016]   \n",
       "4                        [Cocomelon - Nursery Rhymes]        [May 2, 2018]   \n",
       "5                                       [Wiz Khalifa]      [April 6, 2015]   \n",
       "6                                        [Ed Sheeran]   [January 30, 2017]   \n",
       "7                        [Cocomelon - Nursery Rhymes]       [May 24, 2018]   \n",
       "8             [ChuChu TV Nursery Rhymes & Kids Songs]      [March 6, 2014]   \n",
       "9                                       [Mark Ronson]  [November 19, 2014]   \n",
       "10                                              [Psy]      [July 15, 2012]   \n",
       "\n",
       "      Views  \n",
       "1   [14.52]  \n",
       "2    [8.44]  \n",
       "3    [6.91]  \n",
       "4    [6.70]  \n",
       "5    [6.27]  \n",
       "6    [6.26]  \n",
       "7    [6.13]  \n",
       "8    [5.80]  \n",
       "9    [5.23]  \n",
       "10   [5.15]  "
      ]
     },
     "execution_count": 127,
     "metadata": {},
     "output_type": "execute_result"
    }
   ],
   "source": [
    "df"
   ]
  },
  {
   "cell_type": "markdown",
   "id": "1a09bea9",
   "metadata": {},
   "source": [
    "4. Scrape the details of trending repositories on Github.com.\n",
    "Url = https://github.com/\n",
    "You have to find the following details:\n",
    "A) Repository title\n",
    "B) Repository description\n",
    "C) Contributors count\n",
    "D) Language used "
   ]
  },
  {
   "cell_type": "code",
   "execution_count": 36,
   "id": "0afd6b49",
   "metadata": {},
   "outputs": [],
   "source": [
    "import selenium\n",
    "import pandas as pd\n",
    "import time\n",
    "from selenium import webdriver\n",
    "from selenium .common.exceptions import StaleElementReferenceException,NoSuchElementException\n",
    "import requests\n",
    "from selenium.webdriver.common.by import By"
   ]
  },
  {
   "cell_type": "code",
   "execution_count": 37,
   "id": "3700d68d",
   "metadata": {},
   "outputs": [],
   "source": [
    "driver=webdriver.Chrome()"
   ]
  },
  {
   "cell_type": "code",
   "execution_count": 38,
   "id": "3228f2b8",
   "metadata": {},
   "outputs": [],
   "source": [
    "driver.get(' https://github.com/')"
   ]
  },
  {
   "cell_type": "code",
   "execution_count": 40,
   "id": "37cf2cb6",
   "metadata": {},
   "outputs": [],
   "source": [
    "user_tags=driver.find_element(By.XPATH,'/html/body/div[1]/div[1]/header/div/div[2]/div/div/qbsearch-input/div[1]/div/modal-dialog/div/div/div/form/query-builder/div[1]/div[1]/div/div[2]/input')\n",
    "user_tags.send_keys('Repository title')\n",
    "search=driver.find_element(By.XPATH,'/html/body/div[1]/div[1]/header/div/div[2]/div/div/qbsearch-input/div[1]/div/modal-dialog/div/div/div/form/query-builder/div[1]/div[1]/span[1]')\n",
    "search.click()\n",
    "\n",
    "\n"
   ]
  },
  {
   "cell_type": "code",
   "execution_count": 61,
   "id": "23bbd2fc",
   "metadata": {},
   "outputs": [],
   "source": [
    "R_title=[]\n",
    "R_description=[]\n",
    "C_contributor=[]\n",
    "l_used=[]\n",
    "start=1\n",
    "end=5\n",
    "for page in range (start,end):\n",
    "    title=driver.find_elements(By.XPATH,'//span[@class=\"Text-sc-17v1xeu-0 qaOIC search-match\"]')\n",
    "    for i in title:\n",
    "        R_title.append(i.text)\n",
    "    next_button=driver.find_element(By.XPATH,'/html/body/div[1]/div[4]/main/react-app/div/div/div[1]/div/div/div[2]/div[2]/div/div[1]/div[5]/div/nav/div/button')\n",
    "    next_button.click()"
   ]
  },
  {
   "cell_type": "code",
   "execution_count": 62,
   "id": "612bed70",
   "metadata": {},
   "outputs": [
    {
     "data": {
      "text/plain": [
       "40"
      ]
     },
     "execution_count": 62,
     "metadata": {},
     "output_type": "execute_result"
    }
   ],
   "source": [
    "len(R_title)"
   ]
  },
  {
   "cell_type": "code",
   "execution_count": 63,
   "id": "5b891766",
   "metadata": {},
   "outputs": [
    {
     "data": {
      "text/plain": [
       "['strato-emu/compat-list',\n",
       " 'CoderPat/structured-neural-summarization',\n",
       " 'AndreLouisIssa/Borderlands-Cheat-Tables',\n",
       " 'project-valhalla/main',\n",
       " 'MadkaT182/CdTitles',\n",
       " 'conda-forge/titlecase-feedstock',\n",
       " 'rtoal/cmsi401-fall2015-presentation',\n",
       " 'premaseem/DesignPatternsJava9',\n",
       " 'britt-allen/ecfr_xml_parsing',\n",
       " 't1ffi/INF202JointProjectStage3CreativeTitle',\n",
       " 'strato-emu/compat-list',\n",
       " 'CoderPat/structured-neural-summarization',\n",
       " 'AndreLouisIssa/Borderlands-Cheat-Tables',\n",
       " 'project-valhalla/main',\n",
       " 'MadkaT182/CdTitles',\n",
       " 'conda-forge/titlecase-feedstock',\n",
       " 'rtoal/cmsi401-fall2015-presentation',\n",
       " 'premaseem/DesignPatternsJava9',\n",
       " 'britt-allen/ecfr_xml_parsing',\n",
       " 't1ffi/INF202JointProjectStage3CreativeTitle',\n",
       " 'strato-emu/compat-list',\n",
       " 'CoderPat/structured-neural-summarization',\n",
       " 'AndreLouisIssa/Borderlands-Cheat-Tables',\n",
       " 'project-valhalla/main',\n",
       " 'MadkaT182/CdTitles',\n",
       " 'conda-forge/titlecase-feedstock',\n",
       " 'rtoal/cmsi401-fall2015-presentation',\n",
       " 'premaseem/DesignPatternsJava9',\n",
       " 'britt-allen/ecfr_xml_parsing',\n",
       " 't1ffi/INF202JointProjectStage3CreativeTitle',\n",
       " 'strato-emu/compat-list',\n",
       " 'CoderPat/structured-neural-summarization',\n",
       " 'AndreLouisIssa/Borderlands-Cheat-Tables',\n",
       " 'project-valhalla/main',\n",
       " 'MadkaT182/CdTitles',\n",
       " 'conda-forge/titlecase-feedstock',\n",
       " 'rtoal/cmsi401-fall2015-presentation',\n",
       " 'premaseem/DesignPatternsJava9',\n",
       " 'britt-allen/ecfr_xml_parsing',\n",
       " 't1ffi/INF202JointProjectStage3CreativeTitle']"
      ]
     },
     "execution_count": 63,
     "metadata": {},
     "output_type": "execute_result"
    }
   ],
   "source": [
    "R_title"
   ]
  },
  {
   "cell_type": "code",
   "execution_count": 65,
   "id": "4301eb4e",
   "metadata": {},
   "outputs": [],
   "source": [
    "R_description=[]\n",
    "start=1\n",
    "end=5\n",
    "for page in range (start,end):\n",
    "    description=driver.find_elements(By.XPATH,'//span[@class=\"Text-sc-17v1xeu-0 kWPXhV search-match\"]')\n",
    "    for i in description:\n",
    "        R_description.append(i.text)\n",
    "    next_button=driver.find_element(By.XPATH,'/html/body/div[1]/div[4]/main/react-app/div/div/div[1]/div/div/div[2]/div[2]/div/div[1]/div[5]/div/nav/div/button')\n",
    "    next_button.click()\n"
   ]
  },
  {
   "cell_type": "code",
   "execution_count": 66,
   "id": "9845ab0a",
   "metadata": {},
   "outputs": [
    {
     "data": {
      "text/plain": [
       "['A repository for collection of compatibility data for Nintendo Switch titles with Strato',\n",
       " 'A repository with the code for the paper with the same title',\n",
       " 'A repository for cheat table compilations for Borderlands titles.',\n",
       " 'Main repository for Valhalla, a first-person shooter game project inspired by old school and modern titles.',\n",
       " 'Repository of cdtitles for Stepmania',\n",
       " 'A conda-smithy repository for titlecase.',\n",
       " 'Just what the repository title says it is',\n",
       " 'This repository has all 23 GOF design patterns coded in Java 9 with around 50+ working project code used for Video Course by Packt Public…',\n",
       " \"Parsing CFR Title 16 Commercial Practices from the GPO's Bulk Data Repository\",\n",
       " 'A testing repository for INF 202 Joint Project Stage 3 assignment.',\n",
       " 'A repository for collection of compatibility data for Nintendo Switch titles with Strato',\n",
       " 'A repository with the code for the paper with the same title',\n",
       " 'A repository for cheat table compilations for Borderlands titles.',\n",
       " 'Main repository for Valhalla, a first-person shooter game project inspired by old school and modern titles.',\n",
       " 'Repository of cdtitles for Stepmania',\n",
       " 'A conda-smithy repository for titlecase.',\n",
       " 'Just what the repository title says it is',\n",
       " 'This repository has all 23 GOF design patterns coded in Java 9 with around 50+ working project code used for Video Course by Packt Public…',\n",
       " \"Parsing CFR Title 16 Commercial Practices from the GPO's Bulk Data Repository\",\n",
       " 'A testing repository for INF 202 Joint Project Stage 3 assignment.',\n",
       " 'A repository for collection of compatibility data for Nintendo Switch titles with Strato',\n",
       " 'A repository with the code for the paper with the same title',\n",
       " 'A repository for cheat table compilations for Borderlands titles.',\n",
       " 'Main repository for Valhalla, a first-person shooter game project inspired by old school and modern titles.',\n",
       " 'Repository of cdtitles for Stepmania',\n",
       " 'A conda-smithy repository for titlecase.',\n",
       " 'Just what the repository title says it is',\n",
       " 'This repository has all 23 GOF design patterns coded in Java 9 with around 50+ working project code used for Video Course by Packt Public…',\n",
       " \"Parsing CFR Title 16 Commercial Practices from the GPO's Bulk Data Repository\",\n",
       " 'A testing repository for INF 202 Joint Project Stage 3 assignment.',\n",
       " 'A repository for collection of compatibility data for Nintendo Switch titles with Strato',\n",
       " 'A repository with the code for the paper with the same title',\n",
       " 'A repository for cheat table compilations for Borderlands titles.',\n",
       " 'Main repository for Valhalla, a first-person shooter game project inspired by old school and modern titles.',\n",
       " 'Repository of cdtitles for Stepmania',\n",
       " 'A conda-smithy repository for titlecase.',\n",
       " 'Just what the repository title says it is',\n",
       " 'This repository has all 23 GOF design patterns coded in Java 9 with around 50+ working project code used for Video Course by Packt Public…',\n",
       " \"Parsing CFR Title 16 Commercial Practices from the GPO's Bulk Data Repository\",\n",
       " 'A testing repository for INF 202 Joint Project Stage 3 assignment.']"
      ]
     },
     "execution_count": 66,
     "metadata": {},
     "output_type": "execute_result"
    }
   ],
   "source": [
    "R_description"
   ]
  },
  {
   "cell_type": "code",
   "execution_count": 67,
   "id": "3b355ccd",
   "metadata": {},
   "outputs": [
    {
     "data": {
      "text/plain": [
       "40"
      ]
     },
     "execution_count": 67,
     "metadata": {},
     "output_type": "execute_result"
    }
   ],
   "source": [
    "len(R_description)"
   ]
  },
  {
   "cell_type": "code",
   "execution_count": 68,
   "id": "74826425",
   "metadata": {},
   "outputs": [],
   "source": [
    "l_used=[]\n",
    "start=1\n",
    "end=5\n",
    "for page in range (start,end):\n",
    "    used=driver.find_elements(By.XPATH,'//span[@class=\"Text-sc-17v1xeu-0 gPDEWA\"]')\n",
    "    for i in used:\n",
    "        l_used.append(i.text)\n",
    "    next_button=driver.find_element(By.XPATH,'/html/body/div[1]/div[4]/main/react-app/div/div/div[1]/div/div/div[2]/div[2]/div/div[1]/div[5]/div/nav/div/button')\n",
    "    next_button.click()\n",
    "\n"
   ]
  },
  {
   "cell_type": "code",
   "execution_count": 69,
   "id": "b9976b27",
   "metadata": {},
   "outputs": [
    {
     "data": {
      "text/plain": [
       "['',\n",
       " '',\n",
       " '',\n",
       " '',\n",
       " '',\n",
       " '',\n",
       " '',\n",
       " '',\n",
       " '',\n",
       " '',\n",
       " '',\n",
       " '',\n",
       " '',\n",
       " '',\n",
       " '',\n",
       " '',\n",
       " '1.2k',\n",
       " '',\n",
       " '388',\n",
       " 'Updated on 27 Apr',\n",
       " 'on 27 Apr',\n",
       " 'Python',\n",
       " '74',\n",
       " 'Updated on 9 May 2019',\n",
       " 'on 9 May 2019',\n",
       " '14',\n",
       " 'Updated on 17 Aug 2019',\n",
       " 'on 17 Aug 2019',\n",
       " 'C',\n",
       " '46',\n",
       " 'Updated 2 hours ago',\n",
       " '2 hours ago',\n",
       " '4',\n",
       " 'Updated on 4 Aug 2020',\n",
       " 'on 4 Aug 2020',\n",
       " '2',\n",
       " 'Updated 25 days ago',\n",
       " '25 days ago',\n",
       " '0',\n",
       " 'Updated on 15 Dec 2015',\n",
       " 'on 15 Dec 2015',\n",
       " 'Java',\n",
       " '82',\n",
       " 'Updated on 12 Aug 2018',\n",
       " 'on 12 Aug 2018',\n",
       " 'Jupyter Notebook',\n",
       " '8',\n",
       " 'Updated on 25 Apr 2020',\n",
       " 'on 25 Apr 2020',\n",
       " '0',\n",
       " 'Updated on 4 Jul 2018',\n",
       " 'on 4 Jul 2018',\n",
       " 'Press the / key to activate the search input again and adjust your query.',\n",
       " '',\n",
       " '',\n",
       " '',\n",
       " '',\n",
       " '',\n",
       " '',\n",
       " '',\n",
       " '',\n",
       " '',\n",
       " '',\n",
       " '',\n",
       " '',\n",
       " '',\n",
       " '',\n",
       " '',\n",
       " '',\n",
       " '',\n",
       " '1.2k',\n",
       " '',\n",
       " '388',\n",
       " 'Updated on 27 Apr',\n",
       " 'on 27 Apr',\n",
       " 'Python',\n",
       " '74',\n",
       " 'Updated on 9 May 2019',\n",
       " 'on 9 May 2019',\n",
       " '14',\n",
       " 'Updated on 17 Aug 2019',\n",
       " 'on 17 Aug 2019',\n",
       " 'C',\n",
       " '46',\n",
       " 'Updated 2 hours ago',\n",
       " '2 hours ago',\n",
       " '4',\n",
       " 'Updated on 4 Aug 2020',\n",
       " 'on 4 Aug 2020',\n",
       " '2',\n",
       " 'Updated 25 days ago',\n",
       " '25 days ago',\n",
       " '0',\n",
       " 'Updated on 15 Dec 2015',\n",
       " 'on 15 Dec 2015',\n",
       " 'Java',\n",
       " '82',\n",
       " 'Updated on 12 Aug 2018',\n",
       " 'on 12 Aug 2018',\n",
       " 'Jupyter Notebook',\n",
       " '8',\n",
       " 'Updated on 25 Apr 2020',\n",
       " 'on 25 Apr 2020',\n",
       " '0',\n",
       " 'Updated on 4 Jul 2018',\n",
       " 'on 4 Jul 2018',\n",
       " 'Press the / key to activate the search input again and adjust your query.',\n",
       " '',\n",
       " '',\n",
       " '',\n",
       " '',\n",
       " '',\n",
       " '',\n",
       " '',\n",
       " '',\n",
       " '',\n",
       " '',\n",
       " '',\n",
       " '',\n",
       " '',\n",
       " '',\n",
       " '',\n",
       " '',\n",
       " '',\n",
       " '1.2k',\n",
       " '',\n",
       " '388',\n",
       " 'Updated on 27 Apr',\n",
       " 'on 27 Apr',\n",
       " 'Python',\n",
       " '74',\n",
       " 'Updated on 9 May 2019',\n",
       " 'on 9 May 2019',\n",
       " '14',\n",
       " 'Updated on 17 Aug 2019',\n",
       " 'on 17 Aug 2019',\n",
       " 'C',\n",
       " '46',\n",
       " 'Updated 2 hours ago',\n",
       " '2 hours ago',\n",
       " '4',\n",
       " 'Updated on 4 Aug 2020',\n",
       " 'on 4 Aug 2020',\n",
       " '2',\n",
       " 'Updated 25 days ago',\n",
       " '25 days ago',\n",
       " '0',\n",
       " 'Updated on 15 Dec 2015',\n",
       " 'on 15 Dec 2015',\n",
       " 'Java',\n",
       " '82',\n",
       " 'Updated on 12 Aug 2018',\n",
       " 'on 12 Aug 2018',\n",
       " 'Jupyter Notebook',\n",
       " '8',\n",
       " 'Updated on 25 Apr 2020',\n",
       " 'on 25 Apr 2020',\n",
       " '0',\n",
       " 'Updated on 4 Jul 2018',\n",
       " 'on 4 Jul 2018',\n",
       " 'Press the / key to activate the search input again and adjust your query.',\n",
       " '',\n",
       " '',\n",
       " '',\n",
       " '',\n",
       " '',\n",
       " '',\n",
       " '',\n",
       " '',\n",
       " '',\n",
       " '',\n",
       " '',\n",
       " '',\n",
       " '',\n",
       " '',\n",
       " '',\n",
       " '',\n",
       " '',\n",
       " '1.2k',\n",
       " '',\n",
       " '388',\n",
       " 'Updated on 27 Apr',\n",
       " 'on 27 Apr',\n",
       " 'Python',\n",
       " '74',\n",
       " 'Updated on 9 May 2019',\n",
       " 'on 9 May 2019',\n",
       " '14',\n",
       " 'Updated on 17 Aug 2019',\n",
       " 'on 17 Aug 2019',\n",
       " 'C',\n",
       " '46',\n",
       " 'Updated 2 hours ago',\n",
       " '2 hours ago',\n",
       " '4',\n",
       " 'Updated on 4 Aug 2020',\n",
       " 'on 4 Aug 2020',\n",
       " '2',\n",
       " 'Updated 25 days ago',\n",
       " '25 days ago',\n",
       " '0',\n",
       " 'Updated on 15 Dec 2015',\n",
       " 'on 15 Dec 2015',\n",
       " 'Java',\n",
       " '82',\n",
       " 'Updated on 12 Aug 2018',\n",
       " 'on 12 Aug 2018',\n",
       " 'Jupyter Notebook',\n",
       " '8',\n",
       " 'Updated on 25 Apr 2020',\n",
       " 'on 25 Apr 2020',\n",
       " '0',\n",
       " 'Updated on 4 Jul 2018',\n",
       " 'on 4 Jul 2018',\n",
       " 'Press the / key to activate the search input again and adjust your query.',\n",
       " '']"
      ]
     },
     "execution_count": 69,
     "metadata": {},
     "output_type": "execute_result"
    }
   ],
   "source": [
    "l_used"
   ]
  },
  {
   "cell_type": "code",
   "execution_count": 70,
   "id": "59e85387",
   "metadata": {},
   "outputs": [
    {
     "data": {
      "text/plain": [
       "216"
      ]
     },
     "execution_count": 70,
     "metadata": {},
     "output_type": "execute_result"
    }
   ],
   "source": [
    "len(l_used)"
   ]
  },
  {
   "cell_type": "code",
   "execution_count": 71,
   "id": "92fa1700",
   "metadata": {},
   "outputs": [
    {
     "data": {
      "text/html": [
       "<div>\n",
       "<style scoped>\n",
       "    .dataframe tbody tr th:only-of-type {\n",
       "        vertical-align: middle;\n",
       "    }\n",
       "\n",
       "    .dataframe tbody tr th {\n",
       "        vertical-align: top;\n",
       "    }\n",
       "\n",
       "    .dataframe thead th {\n",
       "        text-align: right;\n",
       "    }\n",
       "</style>\n",
       "<table border=\"1\" class=\"dataframe\">\n",
       "  <thead>\n",
       "    <tr style=\"text-align: right;\">\n",
       "      <th></th>\n",
       "      <th>Title</th>\n",
       "      <th>Description</th>\n",
       "    </tr>\n",
       "  </thead>\n",
       "  <tbody>\n",
       "    <tr>\n",
       "      <th>0</th>\n",
       "      <td>strato-emu/compat-list</td>\n",
       "      <td>A repository for collection of compatibility d...</td>\n",
       "    </tr>\n",
       "    <tr>\n",
       "      <th>1</th>\n",
       "      <td>CoderPat/structured-neural-summarization</td>\n",
       "      <td>A repository with the code for the paper with ...</td>\n",
       "    </tr>\n",
       "    <tr>\n",
       "      <th>2</th>\n",
       "      <td>AndreLouisIssa/Borderlands-Cheat-Tables</td>\n",
       "      <td>A repository for cheat table compilations for ...</td>\n",
       "    </tr>\n",
       "    <tr>\n",
       "      <th>3</th>\n",
       "      <td>project-valhalla/main</td>\n",
       "      <td>Main repository for Valhalla, a first-person s...</td>\n",
       "    </tr>\n",
       "    <tr>\n",
       "      <th>4</th>\n",
       "      <td>MadkaT182/CdTitles</td>\n",
       "      <td>Repository of cdtitles for Stepmania</td>\n",
       "    </tr>\n",
       "    <tr>\n",
       "      <th>5</th>\n",
       "      <td>conda-forge/titlecase-feedstock</td>\n",
       "      <td>A conda-smithy repository for titlecase.</td>\n",
       "    </tr>\n",
       "    <tr>\n",
       "      <th>6</th>\n",
       "      <td>rtoal/cmsi401-fall2015-presentation</td>\n",
       "      <td>Just what the repository title says it is</td>\n",
       "    </tr>\n",
       "    <tr>\n",
       "      <th>7</th>\n",
       "      <td>premaseem/DesignPatternsJava9</td>\n",
       "      <td>This repository has all 23 GOF design patterns...</td>\n",
       "    </tr>\n",
       "    <tr>\n",
       "      <th>8</th>\n",
       "      <td>britt-allen/ecfr_xml_parsing</td>\n",
       "      <td>Parsing CFR Title 16 Commercial Practices from...</td>\n",
       "    </tr>\n",
       "    <tr>\n",
       "      <th>9</th>\n",
       "      <td>t1ffi/INF202JointProjectStage3CreativeTitle</td>\n",
       "      <td>A testing repository for INF 202 Joint Project...</td>\n",
       "    </tr>\n",
       "    <tr>\n",
       "      <th>10</th>\n",
       "      <td>strato-emu/compat-list</td>\n",
       "      <td>A repository for collection of compatibility d...</td>\n",
       "    </tr>\n",
       "    <tr>\n",
       "      <th>11</th>\n",
       "      <td>CoderPat/structured-neural-summarization</td>\n",
       "      <td>A repository with the code for the paper with ...</td>\n",
       "    </tr>\n",
       "    <tr>\n",
       "      <th>12</th>\n",
       "      <td>AndreLouisIssa/Borderlands-Cheat-Tables</td>\n",
       "      <td>A repository for cheat table compilations for ...</td>\n",
       "    </tr>\n",
       "    <tr>\n",
       "      <th>13</th>\n",
       "      <td>project-valhalla/main</td>\n",
       "      <td>Main repository for Valhalla, a first-person s...</td>\n",
       "    </tr>\n",
       "    <tr>\n",
       "      <th>14</th>\n",
       "      <td>MadkaT182/CdTitles</td>\n",
       "      <td>Repository of cdtitles for Stepmania</td>\n",
       "    </tr>\n",
       "    <tr>\n",
       "      <th>15</th>\n",
       "      <td>conda-forge/titlecase-feedstock</td>\n",
       "      <td>A conda-smithy repository for titlecase.</td>\n",
       "    </tr>\n",
       "    <tr>\n",
       "      <th>16</th>\n",
       "      <td>rtoal/cmsi401-fall2015-presentation</td>\n",
       "      <td>Just what the repository title says it is</td>\n",
       "    </tr>\n",
       "    <tr>\n",
       "      <th>17</th>\n",
       "      <td>premaseem/DesignPatternsJava9</td>\n",
       "      <td>This repository has all 23 GOF design patterns...</td>\n",
       "    </tr>\n",
       "    <tr>\n",
       "      <th>18</th>\n",
       "      <td>britt-allen/ecfr_xml_parsing</td>\n",
       "      <td>Parsing CFR Title 16 Commercial Practices from...</td>\n",
       "    </tr>\n",
       "    <tr>\n",
       "      <th>19</th>\n",
       "      <td>t1ffi/INF202JointProjectStage3CreativeTitle</td>\n",
       "      <td>A testing repository for INF 202 Joint Project...</td>\n",
       "    </tr>\n",
       "    <tr>\n",
       "      <th>20</th>\n",
       "      <td>strato-emu/compat-list</td>\n",
       "      <td>A repository for collection of compatibility d...</td>\n",
       "    </tr>\n",
       "    <tr>\n",
       "      <th>21</th>\n",
       "      <td>CoderPat/structured-neural-summarization</td>\n",
       "      <td>A repository with the code for the paper with ...</td>\n",
       "    </tr>\n",
       "    <tr>\n",
       "      <th>22</th>\n",
       "      <td>AndreLouisIssa/Borderlands-Cheat-Tables</td>\n",
       "      <td>A repository for cheat table compilations for ...</td>\n",
       "    </tr>\n",
       "    <tr>\n",
       "      <th>23</th>\n",
       "      <td>project-valhalla/main</td>\n",
       "      <td>Main repository for Valhalla, a first-person s...</td>\n",
       "    </tr>\n",
       "    <tr>\n",
       "      <th>24</th>\n",
       "      <td>MadkaT182/CdTitles</td>\n",
       "      <td>Repository of cdtitles for Stepmania</td>\n",
       "    </tr>\n",
       "    <tr>\n",
       "      <th>25</th>\n",
       "      <td>conda-forge/titlecase-feedstock</td>\n",
       "      <td>A conda-smithy repository for titlecase.</td>\n",
       "    </tr>\n",
       "    <tr>\n",
       "      <th>26</th>\n",
       "      <td>rtoal/cmsi401-fall2015-presentation</td>\n",
       "      <td>Just what the repository title says it is</td>\n",
       "    </tr>\n",
       "    <tr>\n",
       "      <th>27</th>\n",
       "      <td>premaseem/DesignPatternsJava9</td>\n",
       "      <td>This repository has all 23 GOF design patterns...</td>\n",
       "    </tr>\n",
       "    <tr>\n",
       "      <th>28</th>\n",
       "      <td>britt-allen/ecfr_xml_parsing</td>\n",
       "      <td>Parsing CFR Title 16 Commercial Practices from...</td>\n",
       "    </tr>\n",
       "    <tr>\n",
       "      <th>29</th>\n",
       "      <td>t1ffi/INF202JointProjectStage3CreativeTitle</td>\n",
       "      <td>A testing repository for INF 202 Joint Project...</td>\n",
       "    </tr>\n",
       "    <tr>\n",
       "      <th>30</th>\n",
       "      <td>strato-emu/compat-list</td>\n",
       "      <td>A repository for collection of compatibility d...</td>\n",
       "    </tr>\n",
       "    <tr>\n",
       "      <th>31</th>\n",
       "      <td>CoderPat/structured-neural-summarization</td>\n",
       "      <td>A repository with the code for the paper with ...</td>\n",
       "    </tr>\n",
       "    <tr>\n",
       "      <th>32</th>\n",
       "      <td>AndreLouisIssa/Borderlands-Cheat-Tables</td>\n",
       "      <td>A repository for cheat table compilations for ...</td>\n",
       "    </tr>\n",
       "    <tr>\n",
       "      <th>33</th>\n",
       "      <td>project-valhalla/main</td>\n",
       "      <td>Main repository for Valhalla, a first-person s...</td>\n",
       "    </tr>\n",
       "    <tr>\n",
       "      <th>34</th>\n",
       "      <td>MadkaT182/CdTitles</td>\n",
       "      <td>Repository of cdtitles for Stepmania</td>\n",
       "    </tr>\n",
       "    <tr>\n",
       "      <th>35</th>\n",
       "      <td>conda-forge/titlecase-feedstock</td>\n",
       "      <td>A conda-smithy repository for titlecase.</td>\n",
       "    </tr>\n",
       "    <tr>\n",
       "      <th>36</th>\n",
       "      <td>rtoal/cmsi401-fall2015-presentation</td>\n",
       "      <td>Just what the repository title says it is</td>\n",
       "    </tr>\n",
       "    <tr>\n",
       "      <th>37</th>\n",
       "      <td>premaseem/DesignPatternsJava9</td>\n",
       "      <td>This repository has all 23 GOF design patterns...</td>\n",
       "    </tr>\n",
       "    <tr>\n",
       "      <th>38</th>\n",
       "      <td>britt-allen/ecfr_xml_parsing</td>\n",
       "      <td>Parsing CFR Title 16 Commercial Practices from...</td>\n",
       "    </tr>\n",
       "    <tr>\n",
       "      <th>39</th>\n",
       "      <td>t1ffi/INF202JointProjectStage3CreativeTitle</td>\n",
       "      <td>A testing repository for INF 202 Joint Project...</td>\n",
       "    </tr>\n",
       "  </tbody>\n",
       "</table>\n",
       "</div>"
      ],
      "text/plain": [
       "                                          Title  \\\n",
       "0                        strato-emu/compat-list   \n",
       "1      CoderPat/structured-neural-summarization   \n",
       "2       AndreLouisIssa/Borderlands-Cheat-Tables   \n",
       "3                         project-valhalla/main   \n",
       "4                            MadkaT182/CdTitles   \n",
       "5               conda-forge/titlecase-feedstock   \n",
       "6           rtoal/cmsi401-fall2015-presentation   \n",
       "7                 premaseem/DesignPatternsJava9   \n",
       "8                  britt-allen/ecfr_xml_parsing   \n",
       "9   t1ffi/INF202JointProjectStage3CreativeTitle   \n",
       "10                       strato-emu/compat-list   \n",
       "11     CoderPat/structured-neural-summarization   \n",
       "12      AndreLouisIssa/Borderlands-Cheat-Tables   \n",
       "13                        project-valhalla/main   \n",
       "14                           MadkaT182/CdTitles   \n",
       "15              conda-forge/titlecase-feedstock   \n",
       "16          rtoal/cmsi401-fall2015-presentation   \n",
       "17                premaseem/DesignPatternsJava9   \n",
       "18                 britt-allen/ecfr_xml_parsing   \n",
       "19  t1ffi/INF202JointProjectStage3CreativeTitle   \n",
       "20                       strato-emu/compat-list   \n",
       "21     CoderPat/structured-neural-summarization   \n",
       "22      AndreLouisIssa/Borderlands-Cheat-Tables   \n",
       "23                        project-valhalla/main   \n",
       "24                           MadkaT182/CdTitles   \n",
       "25              conda-forge/titlecase-feedstock   \n",
       "26          rtoal/cmsi401-fall2015-presentation   \n",
       "27                premaseem/DesignPatternsJava9   \n",
       "28                 britt-allen/ecfr_xml_parsing   \n",
       "29  t1ffi/INF202JointProjectStage3CreativeTitle   \n",
       "30                       strato-emu/compat-list   \n",
       "31     CoderPat/structured-neural-summarization   \n",
       "32      AndreLouisIssa/Borderlands-Cheat-Tables   \n",
       "33                        project-valhalla/main   \n",
       "34                           MadkaT182/CdTitles   \n",
       "35              conda-forge/titlecase-feedstock   \n",
       "36          rtoal/cmsi401-fall2015-presentation   \n",
       "37                premaseem/DesignPatternsJava9   \n",
       "38                 britt-allen/ecfr_xml_parsing   \n",
       "39  t1ffi/INF202JointProjectStage3CreativeTitle   \n",
       "\n",
       "                                          Description  \n",
       "0   A repository for collection of compatibility d...  \n",
       "1   A repository with the code for the paper with ...  \n",
       "2   A repository for cheat table compilations for ...  \n",
       "3   Main repository for Valhalla, a first-person s...  \n",
       "4                Repository of cdtitles for Stepmania  \n",
       "5            A conda-smithy repository for titlecase.  \n",
       "6           Just what the repository title says it is  \n",
       "7   This repository has all 23 GOF design patterns...  \n",
       "8   Parsing CFR Title 16 Commercial Practices from...  \n",
       "9   A testing repository for INF 202 Joint Project...  \n",
       "10  A repository for collection of compatibility d...  \n",
       "11  A repository with the code for the paper with ...  \n",
       "12  A repository for cheat table compilations for ...  \n",
       "13  Main repository for Valhalla, a first-person s...  \n",
       "14               Repository of cdtitles for Stepmania  \n",
       "15           A conda-smithy repository for titlecase.  \n",
       "16          Just what the repository title says it is  \n",
       "17  This repository has all 23 GOF design patterns...  \n",
       "18  Parsing CFR Title 16 Commercial Practices from...  \n",
       "19  A testing repository for INF 202 Joint Project...  \n",
       "20  A repository for collection of compatibility d...  \n",
       "21  A repository with the code for the paper with ...  \n",
       "22  A repository for cheat table compilations for ...  \n",
       "23  Main repository for Valhalla, a first-person s...  \n",
       "24               Repository of cdtitles for Stepmania  \n",
       "25           A conda-smithy repository for titlecase.  \n",
       "26          Just what the repository title says it is  \n",
       "27  This repository has all 23 GOF design patterns...  \n",
       "28  Parsing CFR Title 16 Commercial Practices from...  \n",
       "29  A testing repository for INF 202 Joint Project...  \n",
       "30  A repository for collection of compatibility d...  \n",
       "31  A repository with the code for the paper with ...  \n",
       "32  A repository for cheat table compilations for ...  \n",
       "33  Main repository for Valhalla, a first-person s...  \n",
       "34               Repository of cdtitles for Stepmania  \n",
       "35           A conda-smithy repository for titlecase.  \n",
       "36          Just what the repository title says it is  \n",
       "37  This repository has all 23 GOF design patterns...  \n",
       "38  Parsing CFR Title 16 Commercial Practices from...  \n",
       "39  A testing repository for INF 202 Joint Project...  "
      ]
     },
     "execution_count": 71,
     "metadata": {},
     "output_type": "execute_result"
    }
   ],
   "source": [
    "import pandas as pd\n",
    "df=pd.DataFrame({'Title':R_title,'Description':R_description})\n",
    "df"
   ]
  },
  {
   "cell_type": "code",
   "execution_count": 72,
   "id": "c72f3773",
   "metadata": {},
   "outputs": [
    {
     "data": {
      "text/html": [
       "<div>\n",
       "<style scoped>\n",
       "    .dataframe tbody tr th:only-of-type {\n",
       "        vertical-align: middle;\n",
       "    }\n",
       "\n",
       "    .dataframe tbody tr th {\n",
       "        vertical-align: top;\n",
       "    }\n",
       "\n",
       "    .dataframe thead th {\n",
       "        text-align: right;\n",
       "    }\n",
       "</style>\n",
       "<table border=\"1\" class=\"dataframe\">\n",
       "  <thead>\n",
       "    <tr style=\"text-align: right;\">\n",
       "      <th></th>\n",
       "      <th>Title</th>\n",
       "      <th>Description</th>\n",
       "    </tr>\n",
       "  </thead>\n",
       "  <tbody>\n",
       "    <tr>\n",
       "      <th>0</th>\n",
       "      <td>strato-emu/compat-list</td>\n",
       "      <td>A repository for collection of compatibility d...</td>\n",
       "    </tr>\n",
       "    <tr>\n",
       "      <th>1</th>\n",
       "      <td>CoderPat/structured-neural-summarization</td>\n",
       "      <td>A repository with the code for the paper with ...</td>\n",
       "    </tr>\n",
       "    <tr>\n",
       "      <th>2</th>\n",
       "      <td>AndreLouisIssa/Borderlands-Cheat-Tables</td>\n",
       "      <td>A repository for cheat table compilations for ...</td>\n",
       "    </tr>\n",
       "    <tr>\n",
       "      <th>3</th>\n",
       "      <td>project-valhalla/main</td>\n",
       "      <td>Main repository for Valhalla, a first-person s...</td>\n",
       "    </tr>\n",
       "    <tr>\n",
       "      <th>4</th>\n",
       "      <td>MadkaT182/CdTitles</td>\n",
       "      <td>Repository of cdtitles for Stepmania</td>\n",
       "    </tr>\n",
       "    <tr>\n",
       "      <th>5</th>\n",
       "      <td>conda-forge/titlecase-feedstock</td>\n",
       "      <td>A conda-smithy repository for titlecase.</td>\n",
       "    </tr>\n",
       "    <tr>\n",
       "      <th>6</th>\n",
       "      <td>rtoal/cmsi401-fall2015-presentation</td>\n",
       "      <td>Just what the repository title says it is</td>\n",
       "    </tr>\n",
       "    <tr>\n",
       "      <th>7</th>\n",
       "      <td>premaseem/DesignPatternsJava9</td>\n",
       "      <td>This repository has all 23 GOF design patterns...</td>\n",
       "    </tr>\n",
       "    <tr>\n",
       "      <th>8</th>\n",
       "      <td>britt-allen/ecfr_xml_parsing</td>\n",
       "      <td>Parsing CFR Title 16 Commercial Practices from...</td>\n",
       "    </tr>\n",
       "    <tr>\n",
       "      <th>9</th>\n",
       "      <td>t1ffi/INF202JointProjectStage3CreativeTitle</td>\n",
       "      <td>A testing repository for INF 202 Joint Project...</td>\n",
       "    </tr>\n",
       "  </tbody>\n",
       "</table>\n",
       "</div>"
      ],
      "text/plain": [
       "                                         Title  \\\n",
       "0                       strato-emu/compat-list   \n",
       "1     CoderPat/structured-neural-summarization   \n",
       "2      AndreLouisIssa/Borderlands-Cheat-Tables   \n",
       "3                        project-valhalla/main   \n",
       "4                           MadkaT182/CdTitles   \n",
       "5              conda-forge/titlecase-feedstock   \n",
       "6          rtoal/cmsi401-fall2015-presentation   \n",
       "7                premaseem/DesignPatternsJava9   \n",
       "8                 britt-allen/ecfr_xml_parsing   \n",
       "9  t1ffi/INF202JointProjectStage3CreativeTitle   \n",
       "\n",
       "                                         Description  \n",
       "0  A repository for collection of compatibility d...  \n",
       "1  A repository with the code for the paper with ...  \n",
       "2  A repository for cheat table compilations for ...  \n",
       "3  Main repository for Valhalla, a first-person s...  \n",
       "4               Repository of cdtitles for Stepmania  \n",
       "5           A conda-smithy repository for titlecase.  \n",
       "6          Just what the repository title says it is  \n",
       "7  This repository has all 23 GOF design patterns...  \n",
       "8  Parsing CFR Title 16 Commercial Practices from...  \n",
       "9  A testing repository for INF 202 Joint Project...  "
      ]
     },
     "execution_count": 72,
     "metadata": {},
     "output_type": "execute_result"
    }
   ],
   "source": [
    "df.head(10)"
   ]
  },
  {
   "cell_type": "markdown",
   "id": "82451d2f",
   "metadata": {},
   "source": [
    "5. Scrape the details of top 100 songs on billiboard.com. Url = https:/www.billboard.com/ You have to find the\n",
    "following details:\n",
    "A) Song name\n",
    "B) Artist name\n",
    "C) Last week rank\n",
    "D) Peak rank\n",
    "E) Weeks on board\n",
    " Note: - From the home page you have to click on the charts option then hot 100-page link through code. "
   ]
  },
  {
   "cell_type": "code",
   "execution_count": 2,
   "id": "8ea6d6cd",
   "metadata": {},
   "outputs": [],
   "source": [
    "import selenium\n",
    "import pandas as pd\n",
    "import time\n",
    "from selenium import webdriver\n",
    "from selenium .common.exceptions import StaleElementReferenceException,NoSuchElementException\n",
    "import requests\n",
    "from selenium.webdriver.common.by import By"
   ]
  },
  {
   "cell_type": "code",
   "execution_count": 3,
   "id": "3a4d1995",
   "metadata": {},
   "outputs": [],
   "source": [
    "driver=webdriver.Chrome()"
   ]
  },
  {
   "cell_type": "code",
   "execution_count": 4,
   "id": "85f952e7",
   "metadata": {},
   "outputs": [],
   "source": [
    "driver.get('https:/www.billboard.com/')"
   ]
  },
  {
   "cell_type": "code",
   "execution_count": 6,
   "id": "7cc9962a",
   "metadata": {},
   "outputs": [],
   "source": [
    "\n",
    "\n",
    "chart=driver.find_elements(By.XPATH,'/html/body/div[3]/div[9]/div/div/div/ul/li[1]/h3')\n",
    "board=driver.find_element(By.XPATH,'//*[@id=\"main-wrapper\"]/div[9]/div/div/div/ul/li[1]/ul/li[2]/a')\n",
    "board.click()\n",
    "\n"
   ]
  },
  {
   "cell_type": "code",
   "execution_count": 157,
   "id": "b4f8852d",
   "metadata": {},
   "outputs": [],
   "source": [
    "S1_name=[]\n",
    "name_tags=driver.find_elements(By.XPATH,'/html/body/div[3]/main/div[2]/div[3]/div/div/div/div[2]/div[2]/ul/li[4]/ul/li[1]/h3')\n",
    "for i in name_tags:\n",
    "    name=i.text\n",
    "S1_name.append(name)"
   ]
  },
  {
   "cell_type": "code",
   "execution_count": 158,
   "id": "7c445eae",
   "metadata": {},
   "outputs": [
    {
     "data": {
      "text/plain": [
       "1"
      ]
     },
     "execution_count": 158,
     "metadata": {},
     "output_type": "execute_result"
    }
   ],
   "source": [
    "len(S1_name)"
   ]
  },
  {
   "cell_type": "code",
   "execution_count": 159,
   "id": "71749695",
   "metadata": {},
   "outputs": [
    {
     "data": {
      "text/plain": [
       "['I Had Some Help']"
      ]
     },
     "execution_count": 159,
     "metadata": {},
     "output_type": "execute_result"
    }
   ],
   "source": [
    "S1_name"
   ]
  },
  {
   "cell_type": "code",
   "execution_count": 43,
   "id": "b0b1e7e7",
   "metadata": {},
   "outputs": [],
   "source": [
    "S2_name=[]\n",
    "name_tags=driver.find_elements(By.XPATH,'/html/body/div[4]/main/div[2]/div[3]/div/div/div/div[2]/div[3]/ul/li[4]/ul/li[1]/h3')\n",
    "for i in name_tags:\n",
    "    name=i.text\n",
    "S2_name.append(name)"
   ]
  },
  {
   "cell_type": "code",
   "execution_count": 44,
   "id": "4747606b",
   "metadata": {},
   "outputs": [
    {
     "data": {
      "text/plain": [
       "['Not Like Us']"
      ]
     },
     "execution_count": 44,
     "metadata": {},
     "output_type": "execute_result"
    }
   ],
   "source": [
    "S2_name"
   ]
  },
  {
   "cell_type": "code",
   "execution_count": 47,
   "id": "9db2968f",
   "metadata": {},
   "outputs": [],
   "source": [
    "S3_name=[]\n",
    "name_tags=driver.find_elements(By.XPATH,'/html/body/div[4]/main/div[2]/div[3]/div/div/div/div[2]/div[4]/ul/li[4]/ul/li[1]/h3')\n",
    "for i in name_tags:\n",
    "    name=i.text\n",
    "S3_name.append(name)\n"
   ]
  },
  {
   "cell_type": "code",
   "execution_count": 48,
   "id": "63c5d2d0",
   "metadata": {},
   "outputs": [
    {
     "data": {
      "text/plain": [
       "['Million Dollar Baby']"
      ]
     },
     "execution_count": 48,
     "metadata": {},
     "output_type": "execute_result"
    }
   ],
   "source": [
    "S3_name"
   ]
  },
  {
   "cell_type": "code",
   "execution_count": 55,
   "id": "52aa795c",
   "metadata": {},
   "outputs": [],
   "source": [
    "S4_name=[]\n",
    "name_tags=driver.find_elements(By.XPATH,'/html/body/div[4]/main/div[2]/div[3]/div/div/div/div[2]/div[5]/ul/li[4]/ul/li[1]/h3')\n",
    "for i in name_tags:\n",
    "    name=i.text\n",
    "S4_name.append(name)\n"
   ]
  },
  {
   "cell_type": "code",
   "execution_count": 56,
   "id": "9c20b1f0",
   "metadata": {},
   "outputs": [
    {
     "data": {
      "text/plain": [
       "['A Bar Song (Tipsy)']"
      ]
     },
     "execution_count": 56,
     "metadata": {},
     "output_type": "execute_result"
    }
   ],
   "source": [
    "S4_name"
   ]
  },
  {
   "cell_type": "code",
   "execution_count": 57,
   "id": "9cc5cd77",
   "metadata": {},
   "outputs": [],
   "source": [
    "S5_name=[]\n",
    "name_tags=driver.find_elements(By.XPATH,'/html/body/div[4]/main/div[2]/div[3]/div/div/div/div[2]/div[6]/ul/li[4]/ul/li[1]/h3')\n",
    "for i in name_tags:\n",
    "    name=i.text\n",
    "S5_name.append(name)\n"
   ]
  },
  {
   "cell_type": "code",
   "execution_count": 58,
   "id": "ed2f1508",
   "metadata": {},
   "outputs": [
    {
     "data": {
      "text/plain": [
       "['Espresso']"
      ]
     },
     "execution_count": 58,
     "metadata": {},
     "output_type": "execute_result"
    }
   ],
   "source": [
    "S5_name"
   ]
  },
  {
   "cell_type": "code",
   "execution_count": 59,
   "id": "3a036d14",
   "metadata": {},
   "outputs": [],
   "source": [
    "S6_name=[]\n",
    "name_tags=driver.find_elements(By.XPATH,'/html/body/div[4]/main/div[2]/div[3]/div/div/div/div[2]/div[7]/ul/li[4]/ul/li[1]/h3')\n",
    "for i in name_tags:\n",
    "    name=i.text\n",
    "S6_name.append(name)\n"
   ]
  },
  {
   "cell_type": "code",
   "execution_count": 60,
   "id": "0a7c4dc3",
   "metadata": {},
   "outputs": [
    {
     "data": {
      "text/plain": [
       "['Pink Skies']"
      ]
     },
     "execution_count": 60,
     "metadata": {},
     "output_type": "execute_result"
    }
   ],
   "source": [
    "S6_name"
   ]
  },
  {
   "cell_type": "code",
   "execution_count": 61,
   "id": "68ebc631",
   "metadata": {},
   "outputs": [],
   "source": [
    "S7_name=[]\n",
    "name_tags=driver.find_elements(By.XPATH,'/html/body/div[4]/main/div[2]/div[3]/div/div/div/div[2]/div[8]/ul/li[4]/ul/li[1]/h3')\n",
    "for i in name_tags:\n",
    "    name=i.text\n",
    "S7_name.append(name)\n"
   ]
  },
  {
   "cell_type": "code",
   "execution_count": 62,
   "id": "1b4c6ff6",
   "metadata": {},
   "outputs": [
    {
     "data": {
      "text/plain": [
       "['Lose Control']"
      ]
     },
     "execution_count": 62,
     "metadata": {},
     "output_type": "execute_result"
    }
   ],
   "source": [
    "S7_name"
   ]
  },
  {
   "cell_type": "code",
   "execution_count": 63,
   "id": "a7b9c59a",
   "metadata": {},
   "outputs": [],
   "source": [
    "S8_name=[]\n",
    "name_tags=driver.find_elements(By.XPATH,'/html/body/div[4]/main/div[2]/div[3]/div/div/div/div[2]/div[9]/ul/li[4]/ul/li[1]/h3')\n",
    "for i in name_tags:\n",
    "    name=i.text\n",
    "S8_name.append(name)\n"
   ]
  },
  {
   "cell_type": "code",
   "execution_count": 64,
   "id": "0ec19080",
   "metadata": {},
   "outputs": [
    {
     "data": {
      "text/plain": [
       "['Too Sweet']"
      ]
     },
     "execution_count": 64,
     "metadata": {},
     "output_type": "execute_result"
    }
   ],
   "source": [
    "S8_name"
   ]
  },
  {
   "cell_type": "code",
   "execution_count": 66,
   "id": "685651db",
   "metadata": {},
   "outputs": [],
   "source": [
    "S9_name=[]\n",
    "name_tags=driver.find_elements(By.XPATH,'/html/body/div[4]/main/div[2]/div[3]/div/div/div/div[2]/div[10]/ul/li[4]/ul/li[1]/h3')\n",
    "for i in name_tags:\n",
    "    name=i.text\n",
    "S9_name.append(name)\n"
   ]
  },
  {
   "cell_type": "code",
   "execution_count": 67,
   "id": "51edcccc",
   "metadata": {},
   "outputs": [
    {
     "data": {
      "text/plain": [
       "['Beautiful Things']"
      ]
     },
     "execution_count": 67,
     "metadata": {},
     "output_type": "execute_result"
    }
   ],
   "source": [
    "S9_name"
   ]
  },
  {
   "cell_type": "code",
   "execution_count": 68,
   "id": "e654924d",
   "metadata": {},
   "outputs": [],
   "source": [
    "S10_name=[]\n",
    "name_tags=driver.find_elements(By.XPATH,'/html/body/div[4]/main/div[2]/div[3]/div/div/div/div[2]/div[11]/ul/li[4]/ul/li[1]/h3')\n",
    "for i in name_tags:\n",
    "    name=i.text\n",
    "S10_name.append(name)\n"
   ]
  },
  {
   "cell_type": "code",
   "execution_count": 69,
   "id": "395fcf9a",
   "metadata": {},
   "outputs": [
    {
     "data": {
      "text/plain": [
       "['Lunch']"
      ]
     },
     "execution_count": 69,
     "metadata": {},
     "output_type": "execute_result"
    }
   ],
   "source": [
    "S10_name"
   ]
  },
  {
   "cell_type": "code",
   "execution_count": 70,
   "id": "6b293707",
   "metadata": {},
   "outputs": [],
   "source": [
    "A1_name=[]\n",
    "name_tags=driver.find_elements(By.XPATH,'/html/body/div[3]/main/div[2]/div[3]/div/div/div/div[2]/div[2]/ul/li[4]/ul/li[1]/span')\n",
    "for i in name_tags:\n",
    "    name=i.text\n",
    "A1_name.append(name)\n"
   ]
  },
  {
   "cell_type": "code",
   "execution_count": 71,
   "id": "6cb63e56",
   "metadata": {},
   "outputs": [
    {
     "data": {
      "text/plain": [
       "['Post Malone Featuring Morgan Wallen']"
      ]
     },
     "execution_count": 71,
     "metadata": {},
     "output_type": "execute_result"
    }
   ],
   "source": [
    "A1_name"
   ]
  },
  {
   "cell_type": "code",
   "execution_count": 72,
   "id": "75b44df3",
   "metadata": {},
   "outputs": [],
   "source": [
    "A2_name=[]\n",
    "name_tags=driver.find_elements(By.XPATH,'/html/body/div[3]/main/div[2]/div[3]/div/div/div/div[2]/div[3]/ul/li[4]/ul/li[1]/span')\n",
    "for i in name_tags:\n",
    "    name=i.text\n",
    "A2_name.append(name)\n"
   ]
  },
  {
   "cell_type": "code",
   "execution_count": 73,
   "id": "306fd7c1",
   "metadata": {},
   "outputs": [
    {
     "data": {
      "text/plain": [
       "['Kendrick Lamar']"
      ]
     },
     "execution_count": 73,
     "metadata": {},
     "output_type": "execute_result"
    }
   ],
   "source": [
    "A2_name"
   ]
  },
  {
   "cell_type": "code",
   "execution_count": 74,
   "id": "ff364e33",
   "metadata": {},
   "outputs": [],
   "source": [
    "A3_name=[]\n",
    "name_tags=driver.find_elements(By.XPATH,'/html/body/div[3]/main/div[2]/div[3]/div/div/div/div[2]/div[4]/ul/li[4]/ul/li[1]/span')\n",
    "for i in name_tags:\n",
    "    name=i.text\n",
    "A3_name.append(name)\n"
   ]
  },
  {
   "cell_type": "code",
   "execution_count": 75,
   "id": "6209904d",
   "metadata": {},
   "outputs": [
    {
     "data": {
      "text/plain": [
       "['Tommy Richman']"
      ]
     },
     "execution_count": 75,
     "metadata": {},
     "output_type": "execute_result"
    }
   ],
   "source": [
    "A3_name"
   ]
  },
  {
   "cell_type": "code",
   "execution_count": 77,
   "id": "7df1b555",
   "metadata": {},
   "outputs": [],
   "source": [
    "A4_name=[]\n",
    "name_tags=driver.find_elements(By.XPATH,'/html/body/div[3]/main/div[2]/div[3]/div/div/div/div[2]/div[5]/ul/li[4]/ul/li[1]/span')\n",
    "for i in name_tags:\n",
    "    name=i.text\n",
    "A4_name.append(name)\n"
   ]
  },
  {
   "cell_type": "code",
   "execution_count": 78,
   "id": "205972f0",
   "metadata": {},
   "outputs": [
    {
     "data": {
      "text/plain": [
       "['Shaboozey']"
      ]
     },
     "execution_count": 78,
     "metadata": {},
     "output_type": "execute_result"
    }
   ],
   "source": [
    "A4_name"
   ]
  },
  {
   "cell_type": "code",
   "execution_count": 79,
   "id": "314bec9c",
   "metadata": {},
   "outputs": [],
   "source": [
    "A5_name=[]\n",
    "name_tags=driver.find_elements(By.XPATH,'/html/body/div[3]/main/div[2]/div[3]/div/div/div/div[2]/div[6]/ul/li[4]/ul/li[1]/span')\n",
    "for i in name_tags:\n",
    "    name=i.text\n",
    "A5_name.append(name)\n"
   ]
  },
  {
   "cell_type": "code",
   "execution_count": 80,
   "id": "e268ebb2",
   "metadata": {},
   "outputs": [
    {
     "data": {
      "text/plain": [
       "['Sabrina Carpenter']"
      ]
     },
     "execution_count": 80,
     "metadata": {},
     "output_type": "execute_result"
    }
   ],
   "source": [
    "A5_name"
   ]
  },
  {
   "cell_type": "code",
   "execution_count": 81,
   "id": "55b1c7b7",
   "metadata": {},
   "outputs": [],
   "source": [
    "A6_name=[]\n",
    "name_tags=driver.find_elements(By.XPATH,'/html/body/div[3]/main/div[2]/div[3]/div/div/div/div[2]/div[7]/ul/li[4]/ul/li[1]/span')\n",
    "for i in name_tags:\n",
    "    name=i.text\n",
    "A6_name.append(name)\n"
   ]
  },
  {
   "cell_type": "code",
   "execution_count": 82,
   "id": "50ae08c5",
   "metadata": {},
   "outputs": [
    {
     "data": {
      "text/plain": [
       "['Zach Bryan']"
      ]
     },
     "execution_count": 82,
     "metadata": {},
     "output_type": "execute_result"
    }
   ],
   "source": [
    "A6_name"
   ]
  },
  {
   "cell_type": "code",
   "execution_count": 83,
   "id": "3d1862dd",
   "metadata": {},
   "outputs": [],
   "source": [
    "A7_name=[]\n",
    "name_tags=driver.find_elements(By.XPATH,'/html/body/div[3]/main/div[2]/div[3]/div/div/div/div[2]/div[8]/ul/li[4]/ul/li[1]/span')\n",
    "for i in name_tags:\n",
    "    name=i.text\n",
    "A7_name.append(name)\n"
   ]
  },
  {
   "cell_type": "code",
   "execution_count": 84,
   "id": "68cce17d",
   "metadata": {},
   "outputs": [
    {
     "data": {
      "text/plain": [
       "['Teddy Swims']"
      ]
     },
     "execution_count": 84,
     "metadata": {},
     "output_type": "execute_result"
    }
   ],
   "source": [
    "A7_name"
   ]
  },
  {
   "cell_type": "code",
   "execution_count": 85,
   "id": "b35d6b9a",
   "metadata": {},
   "outputs": [],
   "source": [
    "A8_name=[]\n",
    "name_tags=driver.find_elements(By.XPATH,'/html/body/div[3]/main/div[2]/div[3]/div/div/div/div[2]/div[9]/ul/li[4]/ul/li[1]/span')\n",
    "for i in name_tags:\n",
    "    name=i.text\n",
    "A8_name.append(name)\n"
   ]
  },
  {
   "cell_type": "code",
   "execution_count": 86,
   "id": "3102bdef",
   "metadata": {},
   "outputs": [
    {
     "data": {
      "text/plain": [
       "['Hozier']"
      ]
     },
     "execution_count": 86,
     "metadata": {},
     "output_type": "execute_result"
    }
   ],
   "source": [
    "A8_name"
   ]
  },
  {
   "cell_type": "code",
   "execution_count": 87,
   "id": "ced0db0c",
   "metadata": {},
   "outputs": [],
   "source": [
    "A9_name=[]\n",
    "name_tags=driver.find_elements(By.XPATH,'/html/body/div[3]/main/div[2]/div[3]/div/div/div/div[2]/div[10]/ul/li[4]/ul/li[1]/span')\n",
    "for i in name_tags:\n",
    "    name=i.text\n",
    "A9_name.append(name)\n"
   ]
  },
  {
   "cell_type": "code",
   "execution_count": 88,
   "id": "503ca818",
   "metadata": {},
   "outputs": [
    {
     "data": {
      "text/plain": [
       "['Benson Boone']"
      ]
     },
     "execution_count": 88,
     "metadata": {},
     "output_type": "execute_result"
    }
   ],
   "source": [
    "A9_name"
   ]
  },
  {
   "cell_type": "code",
   "execution_count": 89,
   "id": "1ecb2403",
   "metadata": {},
   "outputs": [],
   "source": [
    "A10_name=[]\n",
    "name_tags=driver.find_elements(By.XPATH,'/html/body/div[3]/main/div[2]/div[3]/div/div/div/div[2]/div[11]/ul/li[4]/ul/li[1]/span')\n",
    "for i in name_tags:\n",
    "    name=i.text\n",
    "A10_name.append(name)\n"
   ]
  },
  {
   "cell_type": "code",
   "execution_count": 90,
   "id": "a5f93c35",
   "metadata": {},
   "outputs": [
    {
     "data": {
      "text/plain": [
       "['Billie Eilish']"
      ]
     },
     "execution_count": 90,
     "metadata": {},
     "output_type": "execute_result"
    }
   ],
   "source": [
    "A10_name"
   ]
  },
  {
   "cell_type": "code",
   "execution_count": 161,
   "id": "76edfd18",
   "metadata": {},
   "outputs": [],
   "source": [
    "l1_rank=[]\n",
    "rank_tags=driver.find_elements(By.XPATH,'/html/body/div[3]/main/div[2]/div[3]/div/div/div/div[2]/div[2]/ul/li[4]/ul/li[7]/ul/li[3]')\n",
    "for i in rank_tags:\n",
    "    rank=i.text\n",
    "l1_rank.append(rank)\n"
   ]
  },
  {
   "cell_type": "code",
   "execution_count": 162,
   "id": "d354007d",
   "metadata": {},
   "outputs": [
    {
     "data": {
      "text/plain": [
       "['1']"
      ]
     },
     "execution_count": 162,
     "metadata": {},
     "output_type": "execute_result"
    }
   ],
   "source": [
    "l1_rank"
   ]
  },
  {
   "cell_type": "code",
   "execution_count": 164,
   "id": "4512c15f",
   "metadata": {},
   "outputs": [],
   "source": [
    "l2_rank=[]\n",
    "rank_tags=driver.find_elements(By.XPATH,'/html/body/div[3]/main/div[2]/div[3]/div/div/div/div[2]/div[3]/ul/li[4]/ul/li[7]/ul/li[3]')\n",
    "for i in rank_tags:\n",
    "    rank=i.text\n",
    "l2_rank.append(rank)\n"
   ]
  },
  {
   "cell_type": "code",
   "execution_count": 165,
   "id": "40693648",
   "metadata": {},
   "outputs": [
    {
     "data": {
      "text/plain": [
       "['2']"
      ]
     },
     "execution_count": 165,
     "metadata": {},
     "output_type": "execute_result"
    }
   ],
   "source": [
    "l2_rank"
   ]
  },
  {
   "cell_type": "code",
   "execution_count": 166,
   "id": "7bc871e2",
   "metadata": {},
   "outputs": [],
   "source": [
    "l3_rank=[]\n",
    "rank_tags=driver.find_elements(By.XPATH,'/html/body/div[3]/main/div[2]/div[3]/div/div/div/div[2]/div[4]/ul/li[4]/ul/li[7]/ul/li[3]')\n",
    "for i in rank_tags:\n",
    "    rank=i.text\n",
    "l3_rank.append(rank)\n"
   ]
  },
  {
   "cell_type": "code",
   "execution_count": 167,
   "id": "6e69b5f5",
   "metadata": {},
   "outputs": [
    {
     "data": {
      "text/plain": [
       "['3']"
      ]
     },
     "execution_count": 167,
     "metadata": {},
     "output_type": "execute_result"
    }
   ],
   "source": [
    "l3_rank"
   ]
  },
  {
   "cell_type": "code",
   "execution_count": 168,
   "id": "955f141a",
   "metadata": {},
   "outputs": [],
   "source": [
    "l4_rank=[]\n",
    "rank_tags=driver.find_elements(By.XPATH,'/html/body/div[3]/main/div[2]/div[3]/div/div/div/div[2]/div[5]/ul/li[4]/ul/li[7]/ul/li[3]')\n",
    "for i in rank_tags:\n",
    "    rank=i.text\n",
    "l4_rank.append(rank)\n"
   ]
  },
  {
   "cell_type": "code",
   "execution_count": 169,
   "id": "463e7be8",
   "metadata": {},
   "outputs": [
    {
     "data": {
      "text/plain": [
       "['4']"
      ]
     },
     "execution_count": 169,
     "metadata": {},
     "output_type": "execute_result"
    }
   ],
   "source": [
    "l4_rank"
   ]
  },
  {
   "cell_type": "code",
   "execution_count": 170,
   "id": "e41a30fc",
   "metadata": {},
   "outputs": [],
   "source": [
    "l5_rank=[]\n",
    "rank_tags=driver.find_elements(By.XPATH,'/html/body/div[3]/main/div[2]/div[3]/div/div/div/div[2]/div[6]/ul/li[4]/ul/li[7]/ul/li[3]')\n",
    "for i in rank_tags:\n",
    "    rank=i.text\n",
    "l5_rank.append(rank)\n"
   ]
  },
  {
   "cell_type": "code",
   "execution_count": 171,
   "id": "5bbb39f1",
   "metadata": {},
   "outputs": [
    {
     "data": {
      "text/plain": [
       "['6']"
      ]
     },
     "execution_count": 171,
     "metadata": {},
     "output_type": "execute_result"
    }
   ],
   "source": [
    "l5_rank"
   ]
  },
  {
   "cell_type": "code",
   "execution_count": 172,
   "id": "3a9aee4a",
   "metadata": {},
   "outputs": [],
   "source": [
    "l6_rank=[]\n",
    "rank_tags=driver.find_elements(By.XPATH,'/html/body/div[3]/main/div[2]/div[3]/div/div/div/div[2]/div[7]/ul/li[4]/ul/li[7]/ul/li[3]')\n",
    "for i in rank_tags:\n",
    "    rank=i.text\n",
    "l6_rank.append(rank)\n"
   ]
  },
  {
   "cell_type": "code",
   "execution_count": 173,
   "id": "52134abe",
   "metadata": {},
   "outputs": [
    {
     "data": {
      "text/plain": [
       "['-']"
      ]
     },
     "execution_count": 173,
     "metadata": {},
     "output_type": "execute_result"
    }
   ],
   "source": [
    "l6_rank"
   ]
  },
  {
   "cell_type": "code",
   "execution_count": 174,
   "id": "980c4509",
   "metadata": {},
   "outputs": [],
   "source": [
    "l7_rank=[]\n",
    "rank_tags=driver.find_elements(By.XPATH,'/html/body/div[3]/main/div[2]/div[3]/div/div/div/div[2]/div[7]/ul/li[4]/ul/li[7]/ul/li[3]')\n",
    "for i in rank_tags:\n",
    "    rank=i.text\n",
    "l7_rank.append(rank)\n"
   ]
  },
  {
   "cell_type": "code",
   "execution_count": 175,
   "id": "229803a6",
   "metadata": {},
   "outputs": [
    {
     "data": {
      "text/plain": [
       "['-']"
      ]
     },
     "execution_count": 175,
     "metadata": {},
     "output_type": "execute_result"
    }
   ],
   "source": [
    "l7_rank"
   ]
  },
  {
   "cell_type": "code",
   "execution_count": 176,
   "id": "2f5b0558",
   "metadata": {},
   "outputs": [],
   "source": [
    "l8_rank=[]\n",
    "rank_tags=driver.find_elements(By.XPATH,'/html/body/div[3]/main/div[2]/div[3]/div/div/div/div[2]/div[9]/ul/li[4]/ul/li[7]/ul/li[3]')\n",
    "for i in rank_tags:\n",
    "    rank=i.text\n",
    "l8_rank.append(rank)\n"
   ]
  },
  {
   "cell_type": "code",
   "execution_count": 177,
   "id": "a02b7de0",
   "metadata": {},
   "outputs": [
    {
     "data": {
      "text/plain": [
       "['9']"
      ]
     },
     "execution_count": 177,
     "metadata": {},
     "output_type": "execute_result"
    }
   ],
   "source": [
    "l8_rank"
   ]
  },
  {
   "cell_type": "code",
   "execution_count": 178,
   "id": "0c84e4cb",
   "metadata": {},
   "outputs": [],
   "source": [
    "l9_rank=[]\n",
    "rank_tags=driver.find_elements(By.XPATH,'/html/body/div[3]/main/div[2]/div[3]/div/div/div/div[2]/div[10]/ul/li[4]/ul/li[7]/ul/li[3]')\n",
    "for i in rank_tags:\n",
    "    rank=i.text\n",
    "l9_rank.append(rank)\n"
   ]
  },
  {
   "cell_type": "code",
   "execution_count": 179,
   "id": "a12af04f",
   "metadata": {},
   "outputs": [
    {
     "data": {
      "text/plain": [
       "['8']"
      ]
     },
     "execution_count": 179,
     "metadata": {},
     "output_type": "execute_result"
    }
   ],
   "source": [
    "l9_rank"
   ]
  },
  {
   "cell_type": "code",
   "execution_count": 180,
   "id": "2b669906",
   "metadata": {},
   "outputs": [],
   "source": [
    "l10_rank=[]\n",
    "rank_tags=driver.find_elements(By.XPATH,'/html/body/div[3]/main/div[2]/div[3]/div/div/div/div[2]/div[11]/ul/li[4]/ul/li[7]/ul/li[3]')\n",
    "for i in rank_tags:\n",
    "    rank=i.text\n",
    "l10_rank.append(rank)\n"
   ]
  },
  {
   "cell_type": "code",
   "execution_count": 181,
   "id": "280b632f",
   "metadata": {},
   "outputs": [
    {
     "data": {
      "text/plain": [
       "['5']"
      ]
     },
     "execution_count": 181,
     "metadata": {},
     "output_type": "execute_result"
    }
   ],
   "source": [
    "l10_rank"
   ]
  },
  {
   "cell_type": "code",
   "execution_count": 182,
   "id": "cbee11ba",
   "metadata": {},
   "outputs": [],
   "source": [
    "p1_rank=[]\n",
    "rank_tags=driver.find_elements(By.XPATH,'/html/body/div[3]/main/div[2]/div[3]/div/div/div/div[2]/div[2]/ul/li[4]/ul/li[7]/ul/li[4]')\n",
    "for i in rank_tags:\n",
    "    rank=i.text\n",
    "p1_rank.append(rank)\n"
   ]
  },
  {
   "cell_type": "code",
   "execution_count": 183,
   "id": "eb7d8392",
   "metadata": {},
   "outputs": [
    {
     "data": {
      "text/plain": [
       "['1']"
      ]
     },
     "execution_count": 183,
     "metadata": {},
     "output_type": "execute_result"
    }
   ],
   "source": [
    "p1_rank"
   ]
  },
  {
   "cell_type": "code",
   "execution_count": 184,
   "id": "c486bc5e",
   "metadata": {},
   "outputs": [],
   "source": [
    "p2_rank=[]\n",
    "rank_tags=driver.find_elements(By.XPATH,'/html/body/div[3]/main/div[2]/div[3]/div/div/div/div[2]/div[3]/ul/li[4]/ul/li[7]/ul/li[4]')\n",
    "for i in rank_tags:\n",
    "    rank=i.text\n",
    "p2_rank.append(rank)\n"
   ]
  },
  {
   "cell_type": "code",
   "execution_count": 185,
   "id": "dfff396c",
   "metadata": {},
   "outputs": [
    {
     "data": {
      "text/plain": [
       "['1']"
      ]
     },
     "execution_count": 185,
     "metadata": {},
     "output_type": "execute_result"
    }
   ],
   "source": [
    "p2_rank"
   ]
  },
  {
   "cell_type": "code",
   "execution_count": 186,
   "id": "8215a08e",
   "metadata": {},
   "outputs": [],
   "source": [
    "p3_rank=[]\n",
    "rank_tags=driver.find_elements(By.XPATH,'/html/body/div[3]/main/div[2]/div[3]/div/div/div/div[2]/div[4]/ul/li[4]/ul/li[7]/ul/li[4]')\n",
    "for i in rank_tags:\n",
    "    rank=i.text\n",
    "p3_rank.append(rank)\n"
   ]
  },
  {
   "cell_type": "code",
   "execution_count": 187,
   "id": "c35531e1",
   "metadata": {},
   "outputs": [
    {
     "data": {
      "text/plain": [
       "['2']"
      ]
     },
     "execution_count": 187,
     "metadata": {},
     "output_type": "execute_result"
    }
   ],
   "source": [
    "p3_rank"
   ]
  },
  {
   "cell_type": "code",
   "execution_count": 188,
   "id": "8c08ffa7",
   "metadata": {},
   "outputs": [],
   "source": [
    "p4_rank=[]\n",
    "rank_tags=driver.find_elements(By.XPATH,'/html/body/div[3]/main/div[2]/div[3]/div/div/div/div[2]/div[5]/ul/li[4]/ul/li[7]/ul/li[4]')\n",
    "for i in rank_tags:\n",
    "    rank=i.text\n",
    "p4_rank.append(rank)\n"
   ]
  },
  {
   "cell_type": "code",
   "execution_count": 189,
   "id": "b6694a68",
   "metadata": {},
   "outputs": [
    {
     "data": {
      "text/plain": [
       "['3']"
      ]
     },
     "execution_count": 189,
     "metadata": {},
     "output_type": "execute_result"
    }
   ],
   "source": [
    "p4_rank"
   ]
  },
  {
   "cell_type": "code",
   "execution_count": 190,
   "id": "df04682b",
   "metadata": {},
   "outputs": [],
   "source": [
    "p5_rank=[]\n",
    "rank_tags=driver.find_elements(By.XPATH,'/html/body/div[3]/main/div[2]/div[3]/div/div/div/div[2]/div[6]/ul/li[4]/ul/li[7]/ul/li[4]')\n",
    "for i in rank_tags:\n",
    "    rank=i.text\n",
    "p5_rank.append(rank)\n"
   ]
  },
  {
   "cell_type": "code",
   "execution_count": 191,
   "id": "8bab9e73",
   "metadata": {},
   "outputs": [
    {
     "data": {
      "text/plain": [
       "['4']"
      ]
     },
     "execution_count": 191,
     "metadata": {},
     "output_type": "execute_result"
    }
   ],
   "source": [
    "p5_rank"
   ]
  },
  {
   "cell_type": "code",
   "execution_count": 192,
   "id": "1dac7dc3",
   "metadata": {},
   "outputs": [],
   "source": [
    "p6_rank=[]\n",
    "rank_tags=driver.find_elements(By.XPATH,'/html/body/div[3]/main/div[2]/div[3]/div/div/div/div[2]/div[7]/ul/li[4]/ul/li[7]/ul/li[4]')\n",
    "for i in rank_tags:\n",
    "    rank=i.text\n",
    "p6_rank.append(rank)\n"
   ]
  },
  {
   "cell_type": "code",
   "execution_count": 193,
   "id": "843ac948",
   "metadata": {},
   "outputs": [
    {
     "data": {
      "text/plain": [
       "['6']"
      ]
     },
     "execution_count": 193,
     "metadata": {},
     "output_type": "execute_result"
    }
   ],
   "source": [
    "p6_rank"
   ]
  },
  {
   "cell_type": "code",
   "execution_count": 194,
   "id": "819d9be3",
   "metadata": {},
   "outputs": [],
   "source": [
    "p7_rank=[]\n",
    "rank_tags=driver.find_elements(By.XPATH,'/html/body/div[3]/main/div[2]/div[3]/div/div/div/div[2]/div[8]/ul/li[4]/ul/li[7]/ul/li[4]')\n",
    "for i in rank_tags:\n",
    "    rank=i.text\n",
    "p7_rank.append(rank)\n"
   ]
  },
  {
   "cell_type": "code",
   "execution_count": 195,
   "id": "ef15e6a0",
   "metadata": {},
   "outputs": [
    {
     "data": {
      "text/plain": [
       "['1']"
      ]
     },
     "execution_count": 195,
     "metadata": {},
     "output_type": "execute_result"
    }
   ],
   "source": [
    "p7_rank"
   ]
  },
  {
   "cell_type": "code",
   "execution_count": 196,
   "id": "208a95b2",
   "metadata": {},
   "outputs": [],
   "source": [
    "p8_rank=[]\n",
    "rank_tags=driver.find_elements(By.XPATH,'/html/body/div[3]/main/div[2]/div[3]/div/div/div/div[2]/div[9]/ul/li[4]/ul/li[7]/ul/li[4]')\n",
    "for i in rank_tags:\n",
    "    rank=i.text\n",
    "p8_rank.append(rank)\n"
   ]
  },
  {
   "cell_type": "code",
   "execution_count": 197,
   "id": "d93a7d58",
   "metadata": {},
   "outputs": [
    {
     "data": {
      "text/plain": [
       "['1']"
      ]
     },
     "execution_count": 197,
     "metadata": {},
     "output_type": "execute_result"
    }
   ],
   "source": [
    "p8_rank"
   ]
  },
  {
   "cell_type": "code",
   "execution_count": 198,
   "id": "6d4a4c69",
   "metadata": {},
   "outputs": [],
   "source": [
    "p9_rank=[]\n",
    "rank_tags=driver.find_elements(By.XPATH,'/html/body/div[3]/main/div[2]/div[3]/div/div/div/div[2]/div[10]/ul/li[4]/ul/li[7]/ul/li[4]')\n",
    "for i in rank_tags:\n",
    "    rank=i.text\n",
    "p9_rank.append(rank)\n"
   ]
  },
  {
   "cell_type": "code",
   "execution_count": 199,
   "id": "7d005620",
   "metadata": {},
   "outputs": [
    {
     "data": {
      "text/plain": [
       "['2']"
      ]
     },
     "execution_count": 199,
     "metadata": {},
     "output_type": "execute_result"
    }
   ],
   "source": [
    "p9_rank"
   ]
  },
  {
   "cell_type": "code",
   "execution_count": 200,
   "id": "b129ed3e",
   "metadata": {},
   "outputs": [],
   "source": [
    "p10_rank=[]\n",
    "rank_tags=driver.find_elements(By.XPATH,'/html/body/div[3]/main/div[2]/div[3]/div/div/div/div[2]/div[11]/ul/li[4]/ul/li[7]/ul/li[4]')\n",
    "for i in rank_tags:\n",
    "    rank=i.text\n",
    "p10_rank.append(rank)\n"
   ]
  },
  {
   "cell_type": "code",
   "execution_count": 201,
   "id": "a3edfd76",
   "metadata": {},
   "outputs": [
    {
     "data": {
      "text/plain": [
       "['5']"
      ]
     },
     "execution_count": 201,
     "metadata": {},
     "output_type": "execute_result"
    }
   ],
   "source": [
    "p10_rank"
   ]
  },
  {
   "cell_type": "code",
   "execution_count": 202,
   "id": "7ae7cf7a",
   "metadata": {},
   "outputs": [],
   "source": [
    "w1_board=[]\n",
    "board_tags=driver.find_elements(By.XPATH,'/html/body/div[3]/main/div[2]/div[3]/div/div/div/div[2]/div[2]/ul/li[4]/ul/li[7]/ul/li[5]')\n",
    "for i in board_tags:\n",
    "    board=i.text\n",
    "w1_board.append(board)\n"
   ]
  },
  {
   "cell_type": "code",
   "execution_count": 203,
   "id": "14f686e9",
   "metadata": {},
   "outputs": [
    {
     "data": {
      "text/plain": [
       "['3']"
      ]
     },
     "execution_count": 203,
     "metadata": {},
     "output_type": "execute_result"
    }
   ],
   "source": [
    "w1_board"
   ]
  },
  {
   "cell_type": "code",
   "execution_count": 204,
   "id": "46eb6b44",
   "metadata": {},
   "outputs": [],
   "source": [
    "w2_board=[]\n",
    "board_tags=driver.find_elements(By.XPATH,'/html/body/div[3]/main/div[2]/div[3]/div/div/div/div[2]/div[3]/ul/li[4]/ul/li[7]/ul/li[5]')\n",
    "for i in board_tags:\n",
    "    board=i.text\n",
    "w2_board.append(board)\n"
   ]
  },
  {
   "cell_type": "code",
   "execution_count": 205,
   "id": "18fb3549",
   "metadata": {},
   "outputs": [
    {
     "data": {
      "text/plain": [
       "['4']"
      ]
     },
     "execution_count": 205,
     "metadata": {},
     "output_type": "execute_result"
    }
   ],
   "source": [
    "w2_board"
   ]
  },
  {
   "cell_type": "code",
   "execution_count": 206,
   "id": "9fbd4533",
   "metadata": {},
   "outputs": [],
   "source": [
    "w3_board=[]\n",
    "board_tags=driver.find_elements(By.XPATH,'/html/body/div[3]/main/div[2]/div[3]/div/div/div/div[2]/div[4]/ul/li[4]/ul/li[7]/ul/li[5]')\n",
    "for i in board_tags:\n",
    "    board=i.text\n",
    "w3_board.append(board)\n"
   ]
  },
  {
   "cell_type": "code",
   "execution_count": 207,
   "id": "4b017d9a",
   "metadata": {},
   "outputs": [
    {
     "data": {
      "text/plain": [
       "['5']"
      ]
     },
     "execution_count": 207,
     "metadata": {},
     "output_type": "execute_result"
    }
   ],
   "source": [
    "w3_board"
   ]
  },
  {
   "cell_type": "code",
   "execution_count": 208,
   "id": "e259bed8",
   "metadata": {},
   "outputs": [],
   "source": [
    "w4_board=[]\n",
    "board_tags=driver.find_elements(By.XPATH,'/html/body/div[3]/main/div[2]/div[3]/div/div/div/div[2]/div[5]/ul/li[4]/ul/li[7]/ul/li[5]')\n",
    "for i in board_tags:\n",
    "    board=i.text\n",
    "w4_board.append(board)\n"
   ]
  },
  {
   "cell_type": "code",
   "execution_count": 209,
   "id": "782be80e",
   "metadata": {},
   "outputs": [
    {
     "data": {
      "text/plain": [
       "['7']"
      ]
     },
     "execution_count": 209,
     "metadata": {},
     "output_type": "execute_result"
    }
   ],
   "source": [
    "w4_board"
   ]
  },
  {
   "cell_type": "code",
   "execution_count": 210,
   "id": "9da8201b",
   "metadata": {},
   "outputs": [],
   "source": [
    "w5_board=[]\n",
    "board_tags=driver.find_elements(By.XPATH,'/html/body/div[3]/main/div[2]/div[3]/div/div/div/div[2]/div[6]/ul/li[4]/ul/li[7]/ul/li[5]')\n",
    "for i in board_tags:\n",
    "    board=i.text\n",
    "w5_board.append(board)\n"
   ]
  },
  {
   "cell_type": "code",
   "execution_count": 211,
   "id": "cf1239c6",
   "metadata": {},
   "outputs": [
    {
     "data": {
      "text/plain": [
       "['7']"
      ]
     },
     "execution_count": 211,
     "metadata": {},
     "output_type": "execute_result"
    }
   ],
   "source": [
    "w5_board"
   ]
  },
  {
   "cell_type": "code",
   "execution_count": 212,
   "id": "33237234",
   "metadata": {},
   "outputs": [],
   "source": [
    "w6_board=[]\n",
    "board_tags=driver.find_elements(By.XPATH,'/html/body/div[3]/main/div[2]/div[3]/div/div/div/div[2]/div[7]/ul/li[4]/ul/li[7]/ul/li[5]')\n",
    "for i in board_tags:\n",
    "    board=i.text\n",
    "w6_board.append(board)\n"
   ]
  },
  {
   "cell_type": "code",
   "execution_count": 213,
   "id": "ed95a87e",
   "metadata": {},
   "outputs": [
    {
     "data": {
      "text/plain": [
       "['1']"
      ]
     },
     "execution_count": 213,
     "metadata": {},
     "output_type": "execute_result"
    }
   ],
   "source": [
    "w6_board"
   ]
  },
  {
   "cell_type": "code",
   "execution_count": 214,
   "id": "830c861c",
   "metadata": {},
   "outputs": [],
   "source": [
    "w7_board=[]\n",
    "board_tags=driver.find_elements(By.XPATH,'/html/body/div[3]/main/div[2]/div[3]/div/div/div/div[2]/div[8]/ul/li[4]/ul/li[7]/ul/li[5]')\n",
    "for i in board_tags:\n",
    "    board=i.text\n",
    "w7_board.append(board)\n"
   ]
  },
  {
   "cell_type": "code",
   "execution_count": 215,
   "id": "2b2f3004",
   "metadata": {},
   "outputs": [
    {
     "data": {
      "text/plain": [
       "['42']"
      ]
     },
     "execution_count": 215,
     "metadata": {},
     "output_type": "execute_result"
    }
   ],
   "source": [
    "w7_board"
   ]
  },
  {
   "cell_type": "code",
   "execution_count": 216,
   "id": "412ced39",
   "metadata": {},
   "outputs": [],
   "source": [
    "w8_board=[]\n",
    "board_tags=driver.find_elements(By.XPATH,'/html/body/div[3]/main/div[2]/div[3]/div/div/div/div[2]/div[9]/ul/li[4]/ul/li[7]/ul/li[5]')\n",
    "for i in board_tags:\n",
    "    board=i.text\n",
    "w8_board.append(board)\n"
   ]
  },
  {
   "cell_type": "code",
   "execution_count": 217,
   "id": "fff48bba",
   "metadata": {},
   "outputs": [
    {
     "data": {
      "text/plain": [
       "['10']"
      ]
     },
     "execution_count": 217,
     "metadata": {},
     "output_type": "execute_result"
    }
   ],
   "source": [
    "w8_board"
   ]
  },
  {
   "cell_type": "code",
   "execution_count": 218,
   "id": "706e2fc2",
   "metadata": {},
   "outputs": [],
   "source": [
    "w9_board=[]\n",
    "board_tags=driver.find_elements(By.XPATH,'/html/body/div[3]/main/div[2]/div[3]/div/div/div/div[2]/div[10]/ul/li[4]/ul/li[7]/ul/li[5]')\n",
    "for i in board_tags:\n",
    "    board=i.text\n",
    "w9_board.append(board)\n"
   ]
  },
  {
   "cell_type": "code",
   "execution_count": 219,
   "id": "81f14e96",
   "metadata": {},
   "outputs": [
    {
     "data": {
      "text/plain": [
       "['19']"
      ]
     },
     "execution_count": 219,
     "metadata": {},
     "output_type": "execute_result"
    }
   ],
   "source": [
    "w9_board"
   ]
  },
  {
   "cell_type": "code",
   "execution_count": 220,
   "id": "56cc358f",
   "metadata": {},
   "outputs": [],
   "source": [
    "w10_board=[]\n",
    "board_tags=driver.find_elements(By.XPATH,'/html/body/div[3]/main/div[2]/div[3]/div/div/div/div[2]/div[11]/ul/li[4]/ul/li[7]/ul/li[5]')\n",
    "for i in board_tags:\n",
    "    board=i.text\n",
    "w10_board.append(board)\n"
   ]
  },
  {
   "cell_type": "code",
   "execution_count": 221,
   "id": "cbf50742",
   "metadata": {},
   "outputs": [
    {
     "data": {
      "text/plain": [
       "['2']"
      ]
     },
     "execution_count": 221,
     "metadata": {},
     "output_type": "execute_result"
    }
   ],
   "source": [
    "w10_board"
   ]
  },
  {
   "cell_type": "code",
   "execution_count": 223,
   "id": "c3e9bfda",
   "metadata": {},
   "outputs": [
    {
     "data": {
      "text/html": [
       "<div>\n",
       "<style scoped>\n",
       "    .dataframe tbody tr th:only-of-type {\n",
       "        vertical-align: middle;\n",
       "    }\n",
       "\n",
       "    .dataframe tbody tr th {\n",
       "        vertical-align: top;\n",
       "    }\n",
       "\n",
       "    .dataframe thead th {\n",
       "        text-align: right;\n",
       "    }\n",
       "</style>\n",
       "<table border=\"1\" class=\"dataframe\">\n",
       "  <thead>\n",
       "    <tr style=\"text-align: right;\">\n",
       "      <th></th>\n",
       "      <th>Song</th>\n",
       "      <th>Artist</th>\n",
       "      <th>L_Rank</th>\n",
       "      <th>P_Rank</th>\n",
       "      <th>W_board</th>\n",
       "    </tr>\n",
       "  </thead>\n",
       "  <tbody>\n",
       "    <tr>\n",
       "      <th>0</th>\n",
       "      <td>[I Had Some Help]</td>\n",
       "      <td>[Post Malone Featuring Morgan Wallen]</td>\n",
       "      <td>[1]</td>\n",
       "      <td>[1]</td>\n",
       "      <td>[3]</td>\n",
       "    </tr>\n",
       "    <tr>\n",
       "      <th>1</th>\n",
       "      <td>[Not Like Us]</td>\n",
       "      <td>[Kendrick Lamar]</td>\n",
       "      <td>[2]</td>\n",
       "      <td>[1]</td>\n",
       "      <td>[4]</td>\n",
       "    </tr>\n",
       "    <tr>\n",
       "      <th>2</th>\n",
       "      <td>[Million Dollar Baby]</td>\n",
       "      <td>[Tommy Richman]</td>\n",
       "      <td>[3]</td>\n",
       "      <td>[2]</td>\n",
       "      <td>[5]</td>\n",
       "    </tr>\n",
       "    <tr>\n",
       "      <th>3</th>\n",
       "      <td>[A Bar Song (Tipsy)]</td>\n",
       "      <td>[Shaboozey]</td>\n",
       "      <td>[4]</td>\n",
       "      <td>[3]</td>\n",
       "      <td>[7]</td>\n",
       "    </tr>\n",
       "    <tr>\n",
       "      <th>4</th>\n",
       "      <td>[Espresso]</td>\n",
       "      <td>[Sabrina Carpenter]</td>\n",
       "      <td>[6]</td>\n",
       "      <td>[4]</td>\n",
       "      <td>[7]</td>\n",
       "    </tr>\n",
       "    <tr>\n",
       "      <th>5</th>\n",
       "      <td>[Pink Skies]</td>\n",
       "      <td>[Zach Bryan]</td>\n",
       "      <td>[-]</td>\n",
       "      <td>[6]</td>\n",
       "      <td>[1]</td>\n",
       "    </tr>\n",
       "    <tr>\n",
       "      <th>6</th>\n",
       "      <td>[Lose Control]</td>\n",
       "      <td>[Teddy Swims]</td>\n",
       "      <td>[-]</td>\n",
       "      <td>[1]</td>\n",
       "      <td>[42]</td>\n",
       "    </tr>\n",
       "    <tr>\n",
       "      <th>7</th>\n",
       "      <td>[]</td>\n",
       "      <td>[Hozier]</td>\n",
       "      <td>[9]</td>\n",
       "      <td>[1]</td>\n",
       "      <td>[10]</td>\n",
       "    </tr>\n",
       "    <tr>\n",
       "      <th>8</th>\n",
       "      <td>[Beautiful Things]</td>\n",
       "      <td>[Benson Boone]</td>\n",
       "      <td>[8]</td>\n",
       "      <td>[2]</td>\n",
       "      <td>[19]</td>\n",
       "    </tr>\n",
       "    <tr>\n",
       "      <th>9</th>\n",
       "      <td>[Lunch]</td>\n",
       "      <td>[Billie Eilish]</td>\n",
       "      <td>[5]</td>\n",
       "      <td>[5]</td>\n",
       "      <td>[2]</td>\n",
       "    </tr>\n",
       "  </tbody>\n",
       "</table>\n",
       "</div>"
      ],
      "text/plain": [
       "                    Song                                 Artist L_Rank P_Rank  \\\n",
       "0      [I Had Some Help]  [Post Malone Featuring Morgan Wallen]    [1]    [1]   \n",
       "1          [Not Like Us]                       [Kendrick Lamar]    [2]    [1]   \n",
       "2  [Million Dollar Baby]                        [Tommy Richman]    [3]    [2]   \n",
       "3   [A Bar Song (Tipsy)]                            [Shaboozey]    [4]    [3]   \n",
       "4             [Espresso]                    [Sabrina Carpenter]    [6]    [4]   \n",
       "5           [Pink Skies]                           [Zach Bryan]    [-]    [6]   \n",
       "6         [Lose Control]                          [Teddy Swims]    [-]    [1]   \n",
       "7                     []                               [Hozier]    [9]    [1]   \n",
       "8     [Beautiful Things]                         [Benson Boone]    [8]    [2]   \n",
       "9                [Lunch]                        [Billie Eilish]    [5]    [5]   \n",
       "\n",
       "  W_board  \n",
       "0     [3]  \n",
       "1     [4]  \n",
       "2     [5]  \n",
       "3     [7]  \n",
       "4     [7]  \n",
       "5     [1]  \n",
       "6    [42]  \n",
       "7    [10]  \n",
       "8    [19]  \n",
       "9     [2]  "
      ]
     },
     "execution_count": 223,
     "metadata": {},
     "output_type": "execute_result"
    }
   ],
   "source": [
    "import pandas as pd\n",
    "df=pd.DataFrame({'Song':[S1_name,S2_name,S3_name,S4_name,S5_name,S6_name,S7_name,S8_name,S9_name,S10_name],\n",
    "                'Artist':[A1_name,A2_name,A3_name,A4_name,A5_name,A6_name,A7_name,A8_name,A9_name,A10_name],\n",
    "                'L_Rank':[l1_rank,l2_rank,l3_rank,l4_rank,l5_rank,l6_rank,l7_rank,l8_rank,l9_rank,l10_rank],\n",
    "                'P_Rank':[p1_rank,p2_rank,p3_rank,p4_rank,p5_rank,p6_rank,p7_rank,p8_rank,p9_rank,p10_rank],\n",
    "                'W_board':[w1_board,w2_board,w3_board,w4_board,w5_board,w6_board,w7_board,w8_board,w9_board,w10_board]})\n",
    "df"
   ]
  },
  {
   "cell_type": "code",
   "execution_count": 224,
   "id": "0f74db3b",
   "metadata": {},
   "outputs": [
    {
     "data": {
      "text/html": [
       "<div>\n",
       "<style scoped>\n",
       "    .dataframe tbody tr th:only-of-type {\n",
       "        vertical-align: middle;\n",
       "    }\n",
       "\n",
       "    .dataframe tbody tr th {\n",
       "        vertical-align: top;\n",
       "    }\n",
       "\n",
       "    .dataframe thead th {\n",
       "        text-align: right;\n",
       "    }\n",
       "</style>\n",
       "<table border=\"1\" class=\"dataframe\">\n",
       "  <thead>\n",
       "    <tr style=\"text-align: right;\">\n",
       "      <th></th>\n",
       "      <th>Song</th>\n",
       "      <th>Artist</th>\n",
       "      <th>L_Rank</th>\n",
       "      <th>P_Rank</th>\n",
       "      <th>W_board</th>\n",
       "    </tr>\n",
       "  </thead>\n",
       "  <tbody>\n",
       "    <tr>\n",
       "      <th>0</th>\n",
       "      <td>[I Had Some Help]</td>\n",
       "      <td>[Post Malone Featuring Morgan Wallen]</td>\n",
       "      <td>[1]</td>\n",
       "      <td>[1]</td>\n",
       "      <td>[3]</td>\n",
       "    </tr>\n",
       "    <tr>\n",
       "      <th>1</th>\n",
       "      <td>[Not Like Us]</td>\n",
       "      <td>[Kendrick Lamar]</td>\n",
       "      <td>[2]</td>\n",
       "      <td>[1]</td>\n",
       "      <td>[4]</td>\n",
       "    </tr>\n",
       "    <tr>\n",
       "      <th>2</th>\n",
       "      <td>[Million Dollar Baby]</td>\n",
       "      <td>[Tommy Richman]</td>\n",
       "      <td>[3]</td>\n",
       "      <td>[2]</td>\n",
       "      <td>[5]</td>\n",
       "    </tr>\n",
       "    <tr>\n",
       "      <th>3</th>\n",
       "      <td>[A Bar Song (Tipsy)]</td>\n",
       "      <td>[Shaboozey]</td>\n",
       "      <td>[4]</td>\n",
       "      <td>[3]</td>\n",
       "      <td>[7]</td>\n",
       "    </tr>\n",
       "    <tr>\n",
       "      <th>4</th>\n",
       "      <td>[Espresso]</td>\n",
       "      <td>[Sabrina Carpenter]</td>\n",
       "      <td>[6]</td>\n",
       "      <td>[4]</td>\n",
       "      <td>[7]</td>\n",
       "    </tr>\n",
       "    <tr>\n",
       "      <th>5</th>\n",
       "      <td>[Pink Skies]</td>\n",
       "      <td>[Zach Bryan]</td>\n",
       "      <td>[-]</td>\n",
       "      <td>[6]</td>\n",
       "      <td>[1]</td>\n",
       "    </tr>\n",
       "    <tr>\n",
       "      <th>6</th>\n",
       "      <td>[Lose Control]</td>\n",
       "      <td>[Teddy Swims]</td>\n",
       "      <td>[-]</td>\n",
       "      <td>[1]</td>\n",
       "      <td>[42]</td>\n",
       "    </tr>\n",
       "    <tr>\n",
       "      <th>7</th>\n",
       "      <td>[]</td>\n",
       "      <td>[Hozier]</td>\n",
       "      <td>[9]</td>\n",
       "      <td>[1]</td>\n",
       "      <td>[10]</td>\n",
       "    </tr>\n",
       "    <tr>\n",
       "      <th>8</th>\n",
       "      <td>[Beautiful Things]</td>\n",
       "      <td>[Benson Boone]</td>\n",
       "      <td>[8]</td>\n",
       "      <td>[2]</td>\n",
       "      <td>[19]</td>\n",
       "    </tr>\n",
       "    <tr>\n",
       "      <th>9</th>\n",
       "      <td>[Lunch]</td>\n",
       "      <td>[Billie Eilish]</td>\n",
       "      <td>[5]</td>\n",
       "      <td>[5]</td>\n",
       "      <td>[2]</td>\n",
       "    </tr>\n",
       "  </tbody>\n",
       "</table>\n",
       "</div>"
      ],
      "text/plain": [
       "                    Song                                 Artist L_Rank P_Rank  \\\n",
       "0      [I Had Some Help]  [Post Malone Featuring Morgan Wallen]    [1]    [1]   \n",
       "1          [Not Like Us]                       [Kendrick Lamar]    [2]    [1]   \n",
       "2  [Million Dollar Baby]                        [Tommy Richman]    [3]    [2]   \n",
       "3   [A Bar Song (Tipsy)]                            [Shaboozey]    [4]    [3]   \n",
       "4             [Espresso]                    [Sabrina Carpenter]    [6]    [4]   \n",
       "5           [Pink Skies]                           [Zach Bryan]    [-]    [6]   \n",
       "6         [Lose Control]                          [Teddy Swims]    [-]    [1]   \n",
       "7                     []                               [Hozier]    [9]    [1]   \n",
       "8     [Beautiful Things]                         [Benson Boone]    [8]    [2]   \n",
       "9                [Lunch]                        [Billie Eilish]    [5]    [5]   \n",
       "\n",
       "  W_board  \n",
       "0     [3]  \n",
       "1     [4]  \n",
       "2     [5]  \n",
       "3     [7]  \n",
       "4     [7]  \n",
       "5     [1]  \n",
       "6    [42]  \n",
       "7    [10]  \n",
       "8    [19]  \n",
       "9     [2]  "
      ]
     },
     "execution_count": 224,
     "metadata": {},
     "output_type": "execute_result"
    }
   ],
   "source": [
    "df"
   ]
  },
  {
   "cell_type": "markdown",
   "id": "fbd80b3e",
   "metadata": {},
   "source": [
    "6. Scrape the details of Highest selling novels.\n",
    "A) Book name\n",
    "B) Author name\n",
    "C) Volumes sold\n",
    "D) Publisher\n",
    "E) Genre\n",
    " Url - https://www.theguardian.com/news/datablog/2012/aug/09/best-selling-books-all-time-fifty-shades-grey-compare"
   ]
  },
  {
   "cell_type": "code",
   "execution_count": 1,
   "id": "ad04e904",
   "metadata": {},
   "outputs": [],
   "source": [
    "import selenium\n",
    "import pandas as pd\n",
    "import time\n",
    "from selenium import webdriver\n",
    "from selenium .common.exceptions import StaleElementReferenceException,NoSuchElementException\n",
    "import requests\n",
    "from selenium.webdriver.common.by import By"
   ]
  },
  {
   "cell_type": "code",
   "execution_count": 2,
   "id": "4db59df6",
   "metadata": {},
   "outputs": [],
   "source": [
    "driver=webdriver.Chrome()"
   ]
  },
  {
   "cell_type": "code",
   "execution_count": 3,
   "id": "f0be911a",
   "metadata": {},
   "outputs": [],
   "source": [
    "driver.get('https://www.theguardian.com/news/datablog/2012/aug/09/best-selling-books-all-time-fifty-shades-grey-compare')"
   ]
  },
  {
   "cell_type": "code",
   "execution_count": 28,
   "id": "3a50c2a8",
   "metadata": {},
   "outputs": [],
   "source": [
    "b1_name=[]\n",
    "name_tags=driver.find_elements(By.XPATH,'/html/body/div/div[2]/div[2]/div/div[2]/div/table/tbody/tr[1]')\n",
    "for i in name_tags:\n",
    "    name=i.text\n",
    "b1_name.append(name)\n"
   ]
  },
  {
   "cell_type": "code",
   "execution_count": 29,
   "id": "56b696ca",
   "metadata": {},
   "outputs": [
    {
     "data": {
      "text/plain": [
       "['1 Da Vinci Code,The Brown, Dan 5,094,805 Transworld Crime, Thriller & Adventure']"
      ]
     },
     "execution_count": 29,
     "metadata": {},
     "output_type": "execute_result"
    }
   ],
   "source": [
    "b1_name"
   ]
  },
  {
   "cell_type": "code",
   "execution_count": 30,
   "id": "520a504a",
   "metadata": {},
   "outputs": [],
   "source": [
    "b2_name=[]\n",
    "name_tags=driver.find_elements(By.XPATH,'/html/body/div/div[2]/div[2]/div/div[2]/div/table/tbody/tr[2]')\n",
    "for i in name_tags:\n",
    "    name=i.text\n",
    "b2_name.append(name)"
   ]
  },
  {
   "cell_type": "code",
   "execution_count": 31,
   "id": "de9b310f",
   "metadata": {},
   "outputs": [
    {
     "data": {
      "text/plain": [
       "[\"2 Harry Potter and the Deathly Hallows Rowling, J.K. 4,475,152 Bloomsbury Children's Fiction\"]"
      ]
     },
     "execution_count": 31,
     "metadata": {},
     "output_type": "execute_result"
    }
   ],
   "source": [
    "b2_name"
   ]
  },
  {
   "cell_type": "code",
   "execution_count": 32,
   "id": "2e9dde21",
   "metadata": {},
   "outputs": [],
   "source": [
    "b3_name=[]\n",
    "name_tags=driver.find_elements(By.XPATH,'/html/body/div/div[2]/div[2]/div/div[2]/div/table/tbody/tr[3]')\n",
    "for i in name_tags:\n",
    "    name=i.text\n",
    "b3_name.append(name)"
   ]
  },
  {
   "cell_type": "code",
   "execution_count": 33,
   "id": "30f0f93d",
   "metadata": {},
   "outputs": [
    {
     "data": {
      "text/plain": [
       "[\"3 Harry Potter and the Philosopher's Stone Rowling, J.K. 4,200,654 Bloomsbury Children's Fiction\"]"
      ]
     },
     "execution_count": 33,
     "metadata": {},
     "output_type": "execute_result"
    }
   ],
   "source": [
    "b3_name"
   ]
  },
  {
   "cell_type": "code",
   "execution_count": 41,
   "id": "0db72c72",
   "metadata": {},
   "outputs": [],
   "source": [
    "t_name=[]\n",
    "name_tags=driver.find_elements(By.XPATH,'/html/body/div/div[2]/div[2]/div/div[2]/div/table/thead/tr')\n",
    "for i in name_tags:\n",
    "    name=i.text\n",
    "t_name.append(name)"
   ]
  },
  {
   "cell_type": "code",
   "execution_count": 42,
   "id": "28186889",
   "metadata": {},
   "outputs": [
    {
     "data": {
      "text/plain": [
       "['Rank\\nTitle\\nAuthor\\nVolume Sales\\nPublisher\\nGenre']"
      ]
     },
     "execution_count": 42,
     "metadata": {},
     "output_type": "execute_result"
    }
   ],
   "source": [
    "t_name"
   ]
  },
  {
   "cell_type": "code",
   "execution_count": 44,
   "id": "fc66429d",
   "metadata": {},
   "outputs": [],
   "source": [
    "b4_name=[]\n",
    "name_tags=driver.find_elements(By.XPATH,'/html/body/div/div[2]/div[2]/div/div[2]/div/table/tbody/tr[4]')\n",
    "for i in name_tags:\n",
    "    name=i.text\n",
    "b4_name.append(name)"
   ]
  },
  {
   "cell_type": "code",
   "execution_count": 45,
   "id": "a2ccba1f",
   "metadata": {},
   "outputs": [
    {
     "data": {
      "text/plain": [
       "[\"4 Harry Potter and the Order of the Phoenix Rowling, J.K. 4,179,479 Bloomsbury Children's Fiction\"]"
      ]
     },
     "execution_count": 45,
     "metadata": {},
     "output_type": "execute_result"
    }
   ],
   "source": [
    "b4_name"
   ]
  },
  {
   "cell_type": "code",
   "execution_count": 46,
   "id": "31174956",
   "metadata": {},
   "outputs": [],
   "source": [
    "b5_name=[]\n",
    "name_tags=driver.find_elements(By.XPATH,'/html/body/div/div[2]/div[2]/div/div[2]/div/table/tbody/tr[5]')\n",
    "for i in name_tags:\n",
    "    name=i.text\n",
    "b5_name.append(name)"
   ]
  },
  {
   "cell_type": "code",
   "execution_count": 47,
   "id": "8ed204f7",
   "metadata": {},
   "outputs": [
    {
     "data": {
      "text/plain": [
       "['5 Fifty Shades of Grey James, E. L. 3,758,936 Random House Romance & Sagas']"
      ]
     },
     "execution_count": 47,
     "metadata": {},
     "output_type": "execute_result"
    }
   ],
   "source": [
    "b5_name"
   ]
  },
  {
   "cell_type": "code",
   "execution_count": 48,
   "id": "83528c94",
   "metadata": {},
   "outputs": [],
   "source": [
    "b6_name=[]\n",
    "name_tags=driver.find_elements(By.XPATH,'/html/body/div/div[2]/div[2]/div/div[2]/div/table/tbody/tr[6]')\n",
    "for i in name_tags:\n",
    "    name=i.text\n",
    "b6_name.append(name)"
   ]
  },
  {
   "cell_type": "code",
   "execution_count": 49,
   "id": "dcf93e7b",
   "metadata": {},
   "outputs": [
    {
     "data": {
      "text/plain": [
       "[\"6 Harry Potter and the Goblet of Fire Rowling, J.K. 3,583,215 Bloomsbury Children's Fiction\"]"
      ]
     },
     "execution_count": 49,
     "metadata": {},
     "output_type": "execute_result"
    }
   ],
   "source": [
    "b6_name"
   ]
  },
  {
   "cell_type": "code",
   "execution_count": 50,
   "id": "286b63e2",
   "metadata": {},
   "outputs": [],
   "source": [
    "b7_name=[]\n",
    "name_tags=driver.find_elements(By.XPATH,'/html/body/div/div[2]/div[2]/div/div[2]/div/table/tbody/tr[7]')\n",
    "for i in name_tags:\n",
    "    name=i.text\n",
    "b7_name.append(name)"
   ]
  },
  {
   "cell_type": "code",
   "execution_count": 51,
   "id": "448965a4",
   "metadata": {},
   "outputs": [
    {
     "data": {
      "text/plain": [
       "[\"7 Harry Potter and the Chamber of Secrets Rowling, J.K. 3,484,047 Bloomsbury Children's Fiction\"]"
      ]
     },
     "execution_count": 51,
     "metadata": {},
     "output_type": "execute_result"
    }
   ],
   "source": [
    "b7_name"
   ]
  },
  {
   "cell_type": "code",
   "execution_count": 52,
   "id": "3d08ee71",
   "metadata": {},
   "outputs": [],
   "source": [
    "b8_name=[]\n",
    "name_tags=driver.find_elements(By.XPATH,'/html/body/div/div[2]/div[2]/div/div[2]/div/table/tbody/tr[8]')\n",
    "for i in name_tags:\n",
    "    name=i.text\n",
    "b8_name.append(name)"
   ]
  },
  {
   "cell_type": "code",
   "execution_count": 53,
   "id": "f6ca886d",
   "metadata": {},
   "outputs": [
    {
     "data": {
      "text/plain": [
       "[\"8 Harry Potter and the Prisoner of Azkaban Rowling, J.K. 3,377,906 Bloomsbury Children's Fiction\"]"
      ]
     },
     "execution_count": 53,
     "metadata": {},
     "output_type": "execute_result"
    }
   ],
   "source": [
    "b8_name"
   ]
  },
  {
   "cell_type": "code",
   "execution_count": 54,
   "id": "345c0ca1",
   "metadata": {},
   "outputs": [],
   "source": [
    "b9_name=[]\n",
    "name_tags=driver.find_elements(By.XPATH,'/html/body/div/div[2]/div[2]/div/div[2]/div/table/tbody/tr[9]')\n",
    "for i in name_tags:\n",
    "    name=i.text\n",
    "b9_name.append(name)"
   ]
  },
  {
   "cell_type": "code",
   "execution_count": 55,
   "id": "6471c997",
   "metadata": {},
   "outputs": [
    {
     "data": {
      "text/plain": [
       "['9 Angels and Demons Brown, Dan 3,193,946 Transworld Crime, Thriller & Adventure']"
      ]
     },
     "execution_count": 55,
     "metadata": {},
     "output_type": "execute_result"
    }
   ],
   "source": [
    "b9_name"
   ]
  },
  {
   "cell_type": "code",
   "execution_count": 56,
   "id": "f18406a5",
   "metadata": {},
   "outputs": [],
   "source": [
    "b10_name=[]\n",
    "name_tags=driver.find_elements(By.XPATH,'/html/body/div/div[2]/div[2]/div/div[2]/div/table/tbody/tr[10]')\n",
    "for i in name_tags:\n",
    "    name=i.text\n",
    "b10_name.append(name)"
   ]
  },
  {
   "cell_type": "code",
   "execution_count": 57,
   "id": "dbb14778",
   "metadata": {},
   "outputs": [
    {
     "data": {
      "text/plain": [
       "[\"10 Harry Potter and the Half-blood Prince:Children's Edition Rowling, J.K. 2,950,264 Bloomsbury Children's Fiction\"]"
      ]
     },
     "execution_count": 57,
     "metadata": {},
     "output_type": "execute_result"
    }
   ],
   "source": [
    "b10_name"
   ]
  },
  {
   "cell_type": "code",
   "execution_count": 58,
   "id": "96b0766c",
   "metadata": {},
   "outputs": [],
   "source": [
    "b11_name=[]\n",
    "name_tags=driver.find_elements(By.XPATH,'/html/body/div/div[2]/div[2]/div/div[2]/div/table/tbody/tr[11]')\n",
    "for i in name_tags:\n",
    "    name=i.text\n",
    "b11_name.append(name)"
   ]
  },
  {
   "cell_type": "code",
   "execution_count": 59,
   "id": "ecf60583",
   "metadata": {},
   "outputs": [
    {
     "data": {
      "text/plain": [
       "['11 Fifty Shades Darker James, E. L. 2,479,784 Random House Romance & Sagas']"
      ]
     },
     "execution_count": 59,
     "metadata": {},
     "output_type": "execute_result"
    }
   ],
   "source": [
    "b11_name"
   ]
  },
  {
   "cell_type": "code",
   "execution_count": 60,
   "id": "eda2aa1f",
   "metadata": {},
   "outputs": [],
   "source": [
    "b12_name=[]\n",
    "name_tags=driver.find_elements(By.XPATH,'/html/body/div/div[2]/div[2]/div/div[2]/div/table/tbody/tr[12]')\n",
    "for i in name_tags:\n",
    "    name=i.text\n",
    "b12_name.append(name)"
   ]
  },
  {
   "cell_type": "code",
   "execution_count": 61,
   "id": "16d46e17",
   "metadata": {},
   "outputs": [
    {
     "data": {
      "text/plain": [
       "['12 Twilight Meyer, Stephenie 2,315,405 Little, Brown Book Young Adult Fiction']"
      ]
     },
     "execution_count": 61,
     "metadata": {},
     "output_type": "execute_result"
    }
   ],
   "source": [
    "b12_name"
   ]
  },
  {
   "cell_type": "code",
   "execution_count": 62,
   "id": "9ee0dfeb",
   "metadata": {},
   "outputs": [],
   "source": [
    "b13_name=[]\n",
    "name_tags=driver.find_elements(By.XPATH,'/html/body/div/div[2]/div[2]/div/div[2]/div/table/tbody/tr[13]')\n",
    "for i in name_tags:\n",
    "    name=i.text\n",
    "b13_name.append(name)"
   ]
  },
  {
   "cell_type": "code",
   "execution_count": 63,
   "id": "0d3686ea",
   "metadata": {},
   "outputs": [
    {
     "data": {
      "text/plain": [
       "['13 Girl with the Dragon Tattoo,The:Millennium Trilogy Larsson, Stieg 2,233,570 Quercus Crime, Thriller & Adventure']"
      ]
     },
     "execution_count": 63,
     "metadata": {},
     "output_type": "execute_result"
    }
   ],
   "source": [
    "b13_name"
   ]
  },
  {
   "cell_type": "code",
   "execution_count": 64,
   "id": "ce5662d4",
   "metadata": {},
   "outputs": [],
   "source": [
    "b14_name=[]\n",
    "name_tags=driver.find_elements(By.XPATH,'/html/body/div/div[2]/div[2]/div/div[2]/div/table/tbody/tr[14]')\n",
    "for i in name_tags:\n",
    "    name=i.text\n",
    "b14_name.append(name)"
   ]
  },
  {
   "cell_type": "code",
   "execution_count": 65,
   "id": "d0f166cc",
   "metadata": {},
   "outputs": [
    {
     "data": {
      "text/plain": [
       "['14 Fifty Shades Freed James, E. L. 2,193,928 Random House Romance & Sagas']"
      ]
     },
     "execution_count": 65,
     "metadata": {},
     "output_type": "execute_result"
    }
   ],
   "source": [
    "b14_name"
   ]
  },
  {
   "cell_type": "code",
   "execution_count": 66,
   "id": "c547c0e7",
   "metadata": {},
   "outputs": [],
   "source": [
    "b15_name=[]\n",
    "name_tags=driver.find_elements(By.XPATH,'/html/body/div/div[2]/div[2]/div/div[2]/div/table/tbody/tr[15]')\n",
    "for i in name_tags:\n",
    "    name=i.text\n",
    "b15_name.append(name)"
   ]
  },
  {
   "cell_type": "code",
   "execution_count": 67,
   "id": "65bc70d4",
   "metadata": {},
   "outputs": [
    {
     "data": {
      "text/plain": [
       "['15 Lost Symbol,The Brown, Dan 2,183,031 Transworld Crime, Thriller & Adventure']"
      ]
     },
     "execution_count": 67,
     "metadata": {},
     "output_type": "execute_result"
    }
   ],
   "source": [
    "b15_name"
   ]
  },
  {
   "cell_type": "code",
   "execution_count": 68,
   "id": "7f3118ba",
   "metadata": {},
   "outputs": [],
   "source": [
    "b16_name=[]\n",
    "name_tags=driver.find_elements(By.XPATH,'/html/body/div/div[2]/div[2]/div/div[2]/div/table/tbody/tr[16]')\n",
    "for i in name_tags:\n",
    "    name=i.text\n",
    "b16_name.append(name)"
   ]
  },
  {
   "cell_type": "code",
   "execution_count": 69,
   "id": "fcd0f33f",
   "metadata": {},
   "outputs": [
    {
     "data": {
      "text/plain": [
       "['16 New Moon Meyer, Stephenie 2,152,737 Little, Brown Book Young Adult Fiction']"
      ]
     },
     "execution_count": 69,
     "metadata": {},
     "output_type": "execute_result"
    }
   ],
   "source": [
    "b16_name"
   ]
  },
  {
   "cell_type": "code",
   "execution_count": 70,
   "id": "276dfaff",
   "metadata": {},
   "outputs": [],
   "source": [
    "b17_name=[]\n",
    "name_tags=driver.find_elements(By.XPATH,'/html/body/div/div[2]/div[2]/div/div[2]/div/table/tbody/tr[17]')\n",
    "for i in name_tags:\n",
    "    name=i.text\n",
    "b17_name.append(name)"
   ]
  },
  {
   "cell_type": "code",
   "execution_count": 71,
   "id": "a0ff4934",
   "metadata": {},
   "outputs": [
    {
     "data": {
      "text/plain": [
       "['17 Deception Point Brown, Dan 2,062,145 Transworld Crime, Thriller & Adventure']"
      ]
     },
     "execution_count": 71,
     "metadata": {},
     "output_type": "execute_result"
    }
   ],
   "source": [
    "b17_name"
   ]
  },
  {
   "cell_type": "code",
   "execution_count": 72,
   "id": "201b4346",
   "metadata": {},
   "outputs": [],
   "source": [
    "b18_name=[]\n",
    "name_tags=driver.find_elements(By.XPATH,'/html/body/div/div[2]/div[2]/div/div[2]/div/table/tbody/tr[18]')\n",
    "for i in name_tags:\n",
    "    name=i.text\n",
    "b18_name.append(name)"
   ]
  },
  {
   "cell_type": "code",
   "execution_count": 73,
   "id": "caea2cca",
   "metadata": {},
   "outputs": [
    {
     "data": {
      "text/plain": [
       "['18 Eclipse Meyer, Stephenie 2,052,876 Little, Brown Book Young Adult Fiction']"
      ]
     },
     "execution_count": 73,
     "metadata": {},
     "output_type": "execute_result"
    }
   ],
   "source": [
    "b18_name"
   ]
  },
  {
   "cell_type": "code",
   "execution_count": 74,
   "id": "fc0bb178",
   "metadata": {},
   "outputs": [],
   "source": [
    "b19_name=[]\n",
    "name_tags=driver.find_elements(By.XPATH,'/html/body/div/div[2]/div[2]/div/div[2]/div/table/tbody/tr[19]')\n",
    "for i in name_tags:\n",
    "    name=i.text\n",
    "b19_name.append(name)"
   ]
  },
  {
   "cell_type": "code",
   "execution_count": 75,
   "id": "dba440f7",
   "metadata": {},
   "outputs": [
    {
     "data": {
      "text/plain": [
       "['19 Lovely Bones,The Sebold, Alice 2,005,598 Pan Macmillan General & Literary Fiction']"
      ]
     },
     "execution_count": 75,
     "metadata": {},
     "output_type": "execute_result"
    }
   ],
   "source": [
    "b19_name"
   ]
  },
  {
   "cell_type": "code",
   "execution_count": 76,
   "id": "57923afa",
   "metadata": {},
   "outputs": [],
   "source": [
    "b20_name=[]\n",
    "name_tags=driver.find_elements(By.XPATH,'/html/body/div/div[2]/div[2]/div/div[2]/div/table/tbody/tr[20]')\n",
    "for i in name_tags:\n",
    "    name=i.text\n",
    "b20_name.append(name)"
   ]
  },
  {
   "cell_type": "code",
   "execution_count": 77,
   "id": "ad06b9cf",
   "metadata": {},
   "outputs": [
    {
     "data": {
      "text/plain": [
       "['20 Curious Incident of the Dog in the Night-time,The Haddon, Mark 1,979,552 Random House General & Literary Fiction']"
      ]
     },
     "execution_count": 77,
     "metadata": {},
     "output_type": "execute_result"
    }
   ],
   "source": [
    "b20_name"
   ]
  },
  {
   "cell_type": "code",
   "execution_count": 82,
   "id": "21e7f83d",
   "metadata": {},
   "outputs": [
    {
     "data": {
      "text/html": [
       "<div>\n",
       "<style scoped>\n",
       "    .dataframe tbody tr th:only-of-type {\n",
       "        vertical-align: middle;\n",
       "    }\n",
       "\n",
       "    .dataframe tbody tr th {\n",
       "        vertical-align: top;\n",
       "    }\n",
       "\n",
       "    .dataframe thead th {\n",
       "        text-align: right;\n",
       "    }\n",
       "</style>\n",
       "<table border=\"1\" class=\"dataframe\">\n",
       "  <thead>\n",
       "    <tr style=\"text-align: right;\">\n",
       "      <th></th>\n",
       "      <th>0</th>\n",
       "    </tr>\n",
       "  </thead>\n",
       "  <tbody>\n",
       "    <tr>\n",
       "      <th>0</th>\n",
       "      <td>Rank\\nTitle\\nAuthor\\nVolume Sales\\nPublisher\\n...</td>\n",
       "    </tr>\n",
       "    <tr>\n",
       "      <th>1</th>\n",
       "      <td>1 Da Vinci Code,The Brown, Dan 5,094,805 Trans...</td>\n",
       "    </tr>\n",
       "    <tr>\n",
       "      <th>2</th>\n",
       "      <td>2 Harry Potter and the Deathly Hallows Rowling...</td>\n",
       "    </tr>\n",
       "    <tr>\n",
       "      <th>3</th>\n",
       "      <td>3 Harry Potter and the Philosopher's Stone Row...</td>\n",
       "    </tr>\n",
       "    <tr>\n",
       "      <th>4</th>\n",
       "      <td>4 Harry Potter and the Order of the Phoenix Ro...</td>\n",
       "    </tr>\n",
       "    <tr>\n",
       "      <th>5</th>\n",
       "      <td>5 Fifty Shades of Grey James, E. L. 3,758,936 ...</td>\n",
       "    </tr>\n",
       "    <tr>\n",
       "      <th>6</th>\n",
       "      <td>6 Harry Potter and the Goblet of Fire Rowling,...</td>\n",
       "    </tr>\n",
       "    <tr>\n",
       "      <th>7</th>\n",
       "      <td>7 Harry Potter and the Chamber of Secrets Rowl...</td>\n",
       "    </tr>\n",
       "    <tr>\n",
       "      <th>8</th>\n",
       "      <td>8 Harry Potter and the Prisoner of Azkaban Row...</td>\n",
       "    </tr>\n",
       "    <tr>\n",
       "      <th>9</th>\n",
       "      <td>9 Angels and Demons Brown, Dan 3,193,946 Trans...</td>\n",
       "    </tr>\n",
       "    <tr>\n",
       "      <th>10</th>\n",
       "      <td>10 Harry Potter and the Half-blood Prince:Chil...</td>\n",
       "    </tr>\n",
       "    <tr>\n",
       "      <th>11</th>\n",
       "      <td>11 Fifty Shades Darker James, E. L. 2,479,784 ...</td>\n",
       "    </tr>\n",
       "    <tr>\n",
       "      <th>12</th>\n",
       "      <td>12 Twilight Meyer, Stephenie 2,315,405 Little,...</td>\n",
       "    </tr>\n",
       "    <tr>\n",
       "      <th>13</th>\n",
       "      <td>13 Girl with the Dragon Tattoo,The:Millennium ...</td>\n",
       "    </tr>\n",
       "    <tr>\n",
       "      <th>14</th>\n",
       "      <td>14 Fifty Shades Freed James, E. L. 2,193,928 R...</td>\n",
       "    </tr>\n",
       "    <tr>\n",
       "      <th>15</th>\n",
       "      <td>15 Lost Symbol,The Brown, Dan 2,183,031 Transw...</td>\n",
       "    </tr>\n",
       "    <tr>\n",
       "      <th>16</th>\n",
       "      <td>16 New Moon Meyer, Stephenie 2,152,737 Little,...</td>\n",
       "    </tr>\n",
       "    <tr>\n",
       "      <th>17</th>\n",
       "      <td>17 Deception Point Brown, Dan 2,062,145 Transw...</td>\n",
       "    </tr>\n",
       "    <tr>\n",
       "      <th>18</th>\n",
       "      <td>18 Eclipse Meyer, Stephenie 2,052,876 Little, ...</td>\n",
       "    </tr>\n",
       "    <tr>\n",
       "      <th>19</th>\n",
       "      <td>19 Lovely Bones,The Sebold, Alice 2,005,598 Pa...</td>\n",
       "    </tr>\n",
       "    <tr>\n",
       "      <th>20</th>\n",
       "      <td>20 Curious Incident of the Dog in the Night-ti...</td>\n",
       "    </tr>\n",
       "  </tbody>\n",
       "</table>\n",
       "</div>"
      ],
      "text/plain": [
       "                                                    0\n",
       "0   Rank\\nTitle\\nAuthor\\nVolume Sales\\nPublisher\\n...\n",
       "1   1 Da Vinci Code,The Brown, Dan 5,094,805 Trans...\n",
       "2   2 Harry Potter and the Deathly Hallows Rowling...\n",
       "3   3 Harry Potter and the Philosopher's Stone Row...\n",
       "4   4 Harry Potter and the Order of the Phoenix Ro...\n",
       "5   5 Fifty Shades of Grey James, E. L. 3,758,936 ...\n",
       "6   6 Harry Potter and the Goblet of Fire Rowling,...\n",
       "7   7 Harry Potter and the Chamber of Secrets Rowl...\n",
       "8   8 Harry Potter and the Prisoner of Azkaban Row...\n",
       "9   9 Angels and Demons Brown, Dan 3,193,946 Trans...\n",
       "10  10 Harry Potter and the Half-blood Prince:Chil...\n",
       "11  11 Fifty Shades Darker James, E. L. 2,479,784 ...\n",
       "12  12 Twilight Meyer, Stephenie 2,315,405 Little,...\n",
       "13  13 Girl with the Dragon Tattoo,The:Millennium ...\n",
       "14  14 Fifty Shades Freed James, E. L. 2,193,928 R...\n",
       "15  15 Lost Symbol,The Brown, Dan 2,183,031 Transw...\n",
       "16  16 New Moon Meyer, Stephenie 2,152,737 Little,...\n",
       "17  17 Deception Point Brown, Dan 2,062,145 Transw...\n",
       "18  18 Eclipse Meyer, Stephenie 2,052,876 Little, ...\n",
       "19  19 Lovely Bones,The Sebold, Alice 2,005,598 Pa...\n",
       "20  20 Curious Incident of the Dog in the Night-ti..."
      ]
     },
     "execution_count": 82,
     "metadata": {},
     "output_type": "execute_result"
    }
   ],
   "source": [
    "import pandas as pd\n",
    "pd.DataFrame([t_name,b1_name,b2_name,b3_name,b4_name,b5_name,b6_name,b7_name,b8_name,b9_name,b10_name,b11_name,b12_name,\n",
    "             b13_name,b14_name,b15_name,b16_name,b17_name,b18_name,b19_name,b20_name])"
   ]
  },
  {
   "cell_type": "markdown",
   "id": "956796f5",
   "metadata": {},
   "source": [
    "\n",
    "7. Scrape the details most watched tv series of all time from imdb.com.\n",
    "Url = https://www.imdb.com/list/ls095964455/ You have\n",
    "to find the following details:\n",
    "A) Name\n",
    "B) Year span\n",
    "C) Genre\n",
    "D) Run time\n",
    "E) Ratings\n",
    "F) Votes \n"
   ]
  },
  {
   "cell_type": "code",
   "execution_count": 162,
   "id": "8b24a026",
   "metadata": {},
   "outputs": [],
   "source": [
    "import selenium\n",
    "import pandas as pd\n",
    "import time\n",
    "from selenium import webdriver\n",
    "from selenium .common.exceptions import StaleElementReferenceException,NoSuchElementException\n",
    "import requests\n",
    "from selenium.webdriver.common.by import By"
   ]
  },
  {
   "cell_type": "code",
   "execution_count": 163,
   "id": "3546c828",
   "metadata": {},
   "outputs": [],
   "source": [
    "driver=webdriver.Chrome()"
   ]
  },
  {
   "cell_type": "code",
   "execution_count": 164,
   "id": "ae113540",
   "metadata": {},
   "outputs": [],
   "source": [
    "driver.get('https://www.imdb.com/list/ls095964455/ ')"
   ]
  },
  {
   "cell_type": "markdown",
   "id": "c8f3c1fa",
   "metadata": {},
   "source": [
    "8. Details of Datasets from UCI machine learning repositories.\n",
    "Url = https://archive.ics.uci.edu/ You\n",
    "have to find the following details:\n",
    "A) Dataset name\n",
    "B) Data type\n",
    "C) Task\n",
    "D) Attribute type\n",
    "E) No of instances\n",
    "F) No of attribute G) Year\n",
    " Note: - from the home page you have to go to the Show All Dataset page through code. "
   ]
  },
  {
   "cell_type": "code",
   "execution_count": 241,
   "id": "d4db95fe",
   "metadata": {},
   "outputs": [],
   "source": [
    "import selenium\n",
    "import pandas as pd\n",
    "import time\n",
    "from selenium import webdriver\n",
    "from selenium .common.exceptions import StaleElementReferenceException,NoSuchElementException\n",
    "import requests\n",
    "from selenium.webdriver.common.by import By"
   ]
  },
  {
   "cell_type": "code",
   "execution_count": 242,
   "id": "ed0f6ede",
   "metadata": {},
   "outputs": [],
   "source": [
    "driver=webdriver.Chrome()"
   ]
  },
  {
   "cell_type": "code",
   "execution_count": 243,
   "id": "fc0100d9",
   "metadata": {},
   "outputs": [],
   "source": [
    "driver.get(' https://archive.ics.uci.edu/ ')"
   ]
  },
  {
   "cell_type": "code",
   "execution_count": 244,
   "id": "3c87c2f0",
   "metadata": {},
   "outputs": [],
   "source": [
    "\n",
    "dataset=driver.find_element(By.XPATH,'/html/body/div/div[1]/div[1]/main/div/div[1]/div/div/div/a[1]')\n",
    "dataset.click()\n",
    "\n"
   ]
  },
  {
   "cell_type": "code",
   "execution_count": 177,
   "id": "ccfb0869",
   "metadata": {},
   "outputs": [],
   "source": [
    "D1_name=[]\n",
    "name_tags=driver.find_elements(By.XPATH,'/html/body/div/div[1]/div[1]/main/div/div[2]/div[2]/div[1]/div[1]/div[2]/h2/a')\n",
    "for i in name_tags:\n",
    "    name=i.text\n",
    "D1_name.append(name)"
   ]
  },
  {
   "cell_type": "code",
   "execution_count": 178,
   "id": "a19a8abc",
   "metadata": {},
   "outputs": [
    {
     "data": {
      "text/plain": [
       "['Iris']"
      ]
     },
     "execution_count": 178,
     "metadata": {},
     "output_type": "execute_result"
    }
   ],
   "source": [
    "D1_name"
   ]
  },
  {
   "cell_type": "code",
   "execution_count": 179,
   "id": "f5156848",
   "metadata": {},
   "outputs": [],
   "source": [
    "D2_name=[]\n",
    "name_tags=driver.find_elements(By.XPATH,'/html/body/div/div[1]/div[1]/main/div/div[2]/div[2]/div[3]/div/div[2]/h2/a')\n",
    "for i in name_tags:\n",
    "    name=i.text\n",
    "D2_name.append(name)"
   ]
  },
  {
   "cell_type": "code",
   "execution_count": 180,
   "id": "cb417d95",
   "metadata": {},
   "outputs": [
    {
     "data": {
      "text/plain": [
       "['Dry Bean']"
      ]
     },
     "execution_count": 180,
     "metadata": {},
     "output_type": "execute_result"
    }
   ],
   "source": [
    "D2_name"
   ]
  },
  {
   "cell_type": "code",
   "execution_count": 181,
   "id": "2fa21a6b",
   "metadata": {},
   "outputs": [],
   "source": [
    "D3_name=[]\n",
    "name_tags=driver.find_elements(By.XPATH,'/html/body/div/div[1]/div[1]/main/div/div[2]/div[2]/div[5]/div/div[2]/h2/a')\n",
    "for i in name_tags:\n",
    "    name=i.text\n",
    "D3_name.append(name)"
   ]
  },
  {
   "cell_type": "code",
   "execution_count": 182,
   "id": "24bf244c",
   "metadata": {},
   "outputs": [
    {
     "data": {
      "text/plain": [
       "['Heart Disease']"
      ]
     },
     "execution_count": 182,
     "metadata": {},
     "output_type": "execute_result"
    }
   ],
   "source": [
    "D3_name"
   ]
  },
  {
   "cell_type": "code",
   "execution_count": 195,
   "id": "31983ecd",
   "metadata": {},
   "outputs": [],
   "source": [
    "D4_name=[]\n",
    "name_tags=driver.find_elements(By.XPATH,'/html/body/div/div[1]/div[1]/main/div/div[2]/div[2]/div[7]/div/div[2]/h2/a')\n",
    "for i in name_tags:\n",
    "    name=i.text\n",
    "D4_name.append(name)"
   ]
  },
  {
   "cell_type": "code",
   "execution_count": 196,
   "id": "5c433f8b",
   "metadata": {},
   "outputs": [
    {
     "data": {
      "text/plain": [
       "['Rice (Cammeo and Osmancik)']"
      ]
     },
     "execution_count": 196,
     "metadata": {},
     "output_type": "execute_result"
    }
   ],
   "source": [
    "D4_name"
   ]
  },
  {
   "cell_type": "code",
   "execution_count": 197,
   "id": "9414d81b",
   "metadata": {},
   "outputs": [],
   "source": [
    "D5_name=[]\n",
    "name_tags=driver.find_elements(By.XPATH,'/html/body/div/div[1]/div[1]/main/div/div[2]/div[2]/div[9]/div/div[2]/h2/a')\n",
    "for i in name_tags:\n",
    "    name=i.text\n",
    "D5_name.append(name)"
   ]
  },
  {
   "cell_type": "code",
   "execution_count": 198,
   "id": "2bd5d040",
   "metadata": {},
   "outputs": [
    {
     "data": {
      "text/plain": [
       "['Raisin']"
      ]
     },
     "execution_count": 198,
     "metadata": {},
     "output_type": "execute_result"
    }
   ],
   "source": [
    "D5_name"
   ]
  },
  {
   "cell_type": "code",
   "execution_count": 199,
   "id": "c00112f6",
   "metadata": {},
   "outputs": [],
   "source": [
    "D6_name=[]\n",
    "name_tags=driver.find_elements(By.XPATH,'/html/body/div/div[1]/div[1]/main/div/div[2]/div[2]/div[11]/div/div[2]/h2/a')\n",
    "for i in name_tags:\n",
    "    name=i.text\n",
    "D6_name.append(name)"
   ]
  },
  {
   "cell_type": "code",
   "execution_count": 200,
   "id": "983e1dab",
   "metadata": {},
   "outputs": [
    {
     "data": {
      "text/plain": [
       "['Adult']"
      ]
     },
     "execution_count": 200,
     "metadata": {},
     "output_type": "execute_result"
    }
   ],
   "source": [
    "D6_name"
   ]
  },
  {
   "cell_type": "code",
   "execution_count": 201,
   "id": "286dec07",
   "metadata": {},
   "outputs": [],
   "source": [
    "D7_name=[]\n",
    "name_tags=driver.find_elements(By.XPATH,'/html/body/div/div[1]/div[1]/main/div/div[2]/div[2]/div[13]/div/div[2]/h2/a')\n",
    "for i in name_tags:\n",
    "    name=i.text\n",
    "D7_name.append(name)"
   ]
  },
  {
   "cell_type": "code",
   "execution_count": 202,
   "id": "10db932c",
   "metadata": {},
   "outputs": [
    {
     "data": {
      "text/plain": [
       "['Breast Cancer Wisconsin (Diagnostic)']"
      ]
     },
     "execution_count": 202,
     "metadata": {},
     "output_type": "execute_result"
    }
   ],
   "source": [
    "D7_name"
   ]
  },
  {
   "cell_type": "code",
   "execution_count": 203,
   "id": "bc2bd12d",
   "metadata": {},
   "outputs": [],
   "source": [
    "D8_name=[]\n",
    "name_tags=driver.find_elements(By.XPATH,'/html/body/div/div[1]/div[1]/main/div/div[2]/div[2]/div[15]/div/div[2]/h2/a')\n",
    "for i in name_tags:\n",
    "    name=i.text\n",
    "D8_name.append(name)"
   ]
  },
  {
   "cell_type": "code",
   "execution_count": 204,
   "id": "ee3caf34",
   "metadata": {},
   "outputs": [
    {
     "data": {
      "text/plain": [
       "['Wine']"
      ]
     },
     "execution_count": 204,
     "metadata": {},
     "output_type": "execute_result"
    }
   ],
   "source": [
    "D8_name"
   ]
  },
  {
   "cell_type": "code",
   "execution_count": 207,
   "id": "3f5b8546",
   "metadata": {},
   "outputs": [],
   "source": [
    "D9_name=[]\n",
    "name_tags=driver.find_elements(By.XPATH,'/html/body/div/div[1]/div[1]/main/div/div[2]/div[2]/div[17]/div/div[2]/h2/a')\n",
    "for i in name_tags:\n",
    "    name=i.text\n",
    "D9_name.append(name)"
   ]
  },
  {
   "cell_type": "code",
   "execution_count": 208,
   "id": "831b0c6a",
   "metadata": {},
   "outputs": [
    {
     "data": {
      "text/plain": [
       "['Wine Quality']"
      ]
     },
     "execution_count": 208,
     "metadata": {},
     "output_type": "execute_result"
    }
   ],
   "source": [
    "D9_name"
   ]
  },
  {
   "cell_type": "code",
   "execution_count": 209,
   "id": "896aca8c",
   "metadata": {},
   "outputs": [],
   "source": [
    "D10_name=[]\n",
    "name_tags=driver.find_elements(By.XPATH,'/html/body/div/div[1]/div[1]/main/div/div[2]/div[2]/div[19]/div/div[2]/h2/a')\n",
    "for i in name_tags:\n",
    "    name=i.text\n",
    "D10_name.append(name)"
   ]
  },
  {
   "cell_type": "code",
   "execution_count": 210,
   "id": "cf57c1d6",
   "metadata": {},
   "outputs": [
    {
     "data": {
      "text/plain": [
       "['Bank Marketing']"
      ]
     },
     "execution_count": 210,
     "metadata": {},
     "output_type": "execute_result"
    }
   ],
   "source": [
    "D10_name"
   ]
  },
  {
   "cell_type": "code",
   "execution_count": 211,
   "id": "95e754b6",
   "metadata": {},
   "outputs": [],
   "source": [
    "T_name=[]\n",
    "name_tags=driver.find_elements(By.XPATH,'/html/body/div/div[1]/div[1]/main/div/div[2]/div[2]/div[1]/div/div[2]/p')\n",
    "for i in name_tags:\n",
    "    name=i.text\n",
    "T_name.append(name)"
   ]
  },
  {
   "cell_type": "code",
   "execution_count": 212,
   "id": "6bb3a5e8",
   "metadata": {},
   "outputs": [
    {
     "data": {
      "text/plain": [
       "['A small classic dataset from Fisher, 1936. One of the earliest known datasets used for evaluating classification methods.']"
      ]
     },
     "execution_count": 212,
     "metadata": {},
     "output_type": "execute_result"
    }
   ],
   "source": [
    "T_name"
   ]
  },
  {
   "cell_type": "code",
   "execution_count": 250,
   "id": "bfe89549",
   "metadata": {},
   "outputs": [],
   "source": [
    "product_urls=[]\n",
    "start=0\n",
    "end=2\n",
    "for page in range(start,end):\n",
    "    url=driver.find_elements(By.XPATH,'//a[@class=\"link-hover link text-xl font-semibold\"]')\n",
    "    for i in url:\n",
    "        product_urls.append(i.get_attribute('href'))\n",
    "    next_button=driver.find_element(By.XPATH,'/html/body/div/div[1]/div[1]/main/div/div[2]/div[3]/div/button[2]')\n",
    "    next_button.click()\n",
    "    time.sleep(2)"
   ]
  },
  {
   "cell_type": "code",
   "execution_count": 251,
   "id": "3d4040ef",
   "metadata": {},
   "outputs": [
    {
     "data": {
      "text/plain": [
       "20"
      ]
     },
     "execution_count": 251,
     "metadata": {},
     "output_type": "execute_result"
    }
   ],
   "source": [
    "len(product_urls)"
   ]
  },
  {
   "cell_type": "code",
   "execution_count": 252,
   "id": "9e295565",
   "metadata": {},
   "outputs": [],
   "source": [
    "dataset=[]\n",
    "datatype=[]\n",
    "task=[]\n",
    "instance=[]\n",
    "year=[]\n"
   ]
  },
  {
   "cell_type": "code",
   "execution_count": 253,
   "id": "c6daee90",
   "metadata": {},
   "outputs": [],
   "source": [
    "for url in product_urls:\n",
    "    driver.get(url)\n",
    "    \n",
    "    \n",
    "    try:\n",
    "        dataset=driver.find_elements(By.XPATH,'/html/body/div/div[1]/div[1]/main/div/div[1]/div[1]/div[2]/div[2]/div[1]/p')\n",
    "        dataset.append(dataset)\n",
    "        \n",
    "    except NoSuchElementException:\n",
    "        dataset.append('-')\n",
    "    \n",
    "    try:\n",
    "        datatype= driver.find_elements(By.XPATH,'/html/body/div/div[1]/div[1]/main/div/div[1]/div[1]/div[2]/div[2]/div[4]/p')\n",
    "        datatype.append(datatype)\n",
    "    \n",
    "        \n",
    "    except NoSuchElementException:\n",
    "        datatype.append('-')\n",
    "        \n",
    "    try:\n",
    "        task=driver.find_elements(By.XPATH,'/html/body/div/div[1]/div[1]/main/div/div[1]/div[1]/div[2]/div[2]/div[3]/p')\n",
    "        task.append(task)\n",
    "        \n",
    "    except NoSuchelementException:\n",
    "        task.append('-')\n",
    "        \n",
    "    try:\n",
    "        instance=driver.find_elements(By.XPATH,'/html/body/div/div[1]/div[1]/main/div/div[1]/div[1]/div[2]/div[2]/div[5]/p')\n",
    "        instance.append(instance)\n",
    "        \n",
    "    except NoSuchElementException:\n",
    "        instance.append('-')\n",
    "        \n",
    "    try:\n",
    "        date=driver.find_elements(By.XPATH,'/html/body/div/div[1]/div[1]/main/div/div[1]/div[1]/div[1]/div[2]/h2')\n",
    "        date.append(date)\n",
    "        \n",
    "    except NoSuchElementException:\n",
    "        date.append('-')\n",
    "\n",
    "    \n",
    "    \n",
    "   \n",
    "    "
   ]
  },
  {
   "cell_type": "code",
   "execution_count": 254,
   "id": "87795187",
   "metadata": {},
   "outputs": [
    {
     "data": {
      "text/plain": [
       "[<selenium.webdriver.remote.webelement.WebElement (session=\"7f3340a6f9778603f94da9388abffb55\", element=\"f.14B666C4BA5936971D4A76D1081CF964.d.DE0C0CF32DDCABC0F8B155BC87D2D117.e.43450\")>,\n",
       " [...]]"
      ]
     },
     "execution_count": 254,
     "metadata": {},
     "output_type": "execute_result"
    }
   ],
   "source": [
    "dataset\n",
    "datatype\n",
    "task\n",
    "instance\n",
    "date"
   ]
  },
  {
   "cell_type": "code",
   "execution_count": 258,
   "id": "ccddf8b3",
   "metadata": {},
   "outputs": [],
   "source": [
    "t1_name=[]\n",
    "name_tags=driver.find_elements(By.XPATH,'/html/body/div/div[1]/div[1]/main/div/div[2]/div[2]/div[1]/div/div[2]/p')\n",
    "for i in name_tags:\n",
    "    name=i.text\n",
    "t1_name.append(name)"
   ]
  },
  {
   "cell_type": "code",
   "execution_count": 259,
   "id": "fa7932df",
   "metadata": {},
   "outputs": [
    {
     "data": {
      "text/plain": [
       "['A small classic dataset from Fisher, 1936. One of the earliest known datasets used for evaluating classification methods.']"
      ]
     },
     "execution_count": 259,
     "metadata": {},
     "output_type": "execute_result"
    }
   ],
   "source": [
    "t1_name"
   ]
  },
  {
   "cell_type": "code",
   "execution_count": 260,
   "id": "ea8bbe82",
   "metadata": {},
   "outputs": [],
   "source": [
    "t2_name=[]\n",
    "name_tags=driver.find_elements(By.XPATH,'/html/body/div/div[1]/div[1]/main/div/div[2]/div[2]/div[3]/div/div[2]/p')\n",
    "for i in name_tags:\n",
    "    name=i.text\n",
    "t2_name.append(name)"
   ]
  },
  {
   "cell_type": "code",
   "execution_count": 261,
   "id": "7080d143",
   "metadata": {},
   "outputs": [
    {
     "data": {
      "text/plain": [
       "['Images of 13,611 grains of 7 different registered dry beans were taken with a high-resolution camera. A total of 16 features; 12 dimensions and 4 shape forms, were obtained from the grains.']"
      ]
     },
     "execution_count": 261,
     "metadata": {},
     "output_type": "execute_result"
    }
   ],
   "source": [
    "t2_name"
   ]
  },
  {
   "cell_type": "code",
   "execution_count": 262,
   "id": "bb94be90",
   "metadata": {},
   "outputs": [],
   "source": [
    "t3_name=[]\n",
    "name_tags=driver.find_elements(By.XPATH,'/html/body/div/div[1]/div[1]/main/div/div[2]/div[2]/div[5]/div/div[2]/p')\n",
    "for i in name_tags:\n",
    "    name=i.text\n",
    "t3_name.append(name)"
   ]
  },
  {
   "cell_type": "code",
   "execution_count": 263,
   "id": "2ab2d4a9",
   "metadata": {},
   "outputs": [
    {
     "data": {
      "text/plain": [
       "['4 databases: Cleveland, Hungary, Switzerland, and the VA Long Beach']"
      ]
     },
     "execution_count": 263,
     "metadata": {},
     "output_type": "execute_result"
    }
   ],
   "source": [
    "t3_name"
   ]
  },
  {
   "cell_type": "code",
   "execution_count": 264,
   "id": "4e42a520",
   "metadata": {},
   "outputs": [],
   "source": [
    "t4_name=[]\n",
    "name_tags=driver.find_elements(By.XPATH,'/html/body/div/div[1]/div[1]/main/div/div[2]/div[2]/div[7]/div/div[2]/p')\n",
    "for i in name_tags:\n",
    "    name=i.text\n",
    "t4_name.append(name)"
   ]
  },
  {
   "cell_type": "code",
   "execution_count": 265,
   "id": "11f5474d",
   "metadata": {},
   "outputs": [
    {
     "data": {
      "text/plain": [
       "[\"A total of 3810 rice grain's images were taken for the two species, processed and feature inferences were made. 7 morphological features were obtained for each grain of rice.\"]"
      ]
     },
     "execution_count": 265,
     "metadata": {},
     "output_type": "execute_result"
    }
   ],
   "source": [
    "t4_name"
   ]
  },
  {
   "cell_type": "code",
   "execution_count": 266,
   "id": "f7d97dc1",
   "metadata": {},
   "outputs": [],
   "source": [
    "t5_name=[]\n",
    "name_tags=driver.find_elements(By.XPATH,'/html/body/div/div[1]/div[1]/main/div/div[2]/div[2]/div[9]/div/div[2]/p')\n",
    "for i in name_tags:\n",
    "    name=i.text\n",
    "t5_name.append(name)"
   ]
  },
  {
   "cell_type": "code",
   "execution_count": 267,
   "id": "2a50114f",
   "metadata": {},
   "outputs": [
    {
     "data": {
      "text/plain": [
       "['Images of the Kecimen and Besni raisin varieties were obtained with CVS. A total of 900 raisins were used, including 450 from both varieties, and 7 morphological features were extracted.']"
      ]
     },
     "execution_count": 267,
     "metadata": {},
     "output_type": "execute_result"
    }
   ],
   "source": [
    "t5_name"
   ]
  },
  {
   "cell_type": "code",
   "execution_count": 268,
   "id": "2f2c5a5d",
   "metadata": {},
   "outputs": [],
   "source": [
    "t6_name=[]\n",
    "name_tags=driver.find_elements(By.XPATH,'/html/body/div/div[1]/div[1]/main/div/div[2]/div[2]/div[11]/div/div[2]/p')\n",
    "for i in name_tags:\n",
    "    name=i.text\n",
    "t6_name.append(name)"
   ]
  },
  {
   "cell_type": "code",
   "execution_count": 269,
   "id": "ce501bd7",
   "metadata": {},
   "outputs": [
    {
     "data": {
      "text/plain": [
       "['Predict whether income exceeds $50K/yr based on census data. Also known as \"Census Income\" dataset.']"
      ]
     },
     "execution_count": 269,
     "metadata": {},
     "output_type": "execute_result"
    }
   ],
   "source": [
    "t6_name"
   ]
  },
  {
   "cell_type": "code",
   "execution_count": 270,
   "id": "a226e0c2",
   "metadata": {},
   "outputs": [],
   "source": [
    "t7_name=[]\n",
    "name_tags=driver.find_elements(By.XPATH,'/html/body/div/div[1]/div[1]/main/div/div[2]/div[2]/div[13]/div/div[2]/p')\n",
    "for i in name_tags:\n",
    "    name=i.text\n",
    "t7_name.append(name)"
   ]
  },
  {
   "cell_type": "code",
   "execution_count": 271,
   "id": "eff46f59",
   "metadata": {},
   "outputs": [
    {
     "data": {
      "text/plain": [
       "['Diagnostic Wisconsin Breast Cancer Database.']"
      ]
     },
     "execution_count": 271,
     "metadata": {},
     "output_type": "execute_result"
    }
   ],
   "source": [
    "t7_name"
   ]
  },
  {
   "cell_type": "code",
   "execution_count": 272,
   "id": "34136da5",
   "metadata": {},
   "outputs": [],
   "source": [
    "t8_name=[]\n",
    "name_tags=driver.find_elements(By.XPATH,'/html/body/div/div[1]/div[1]/main/div/div[2]/div[2]/div[15]/div/div[2]/p')\n",
    "for i in name_tags:\n",
    "    name=i.text\n",
    "t8_name.append(name)"
   ]
  },
  {
   "cell_type": "code",
   "execution_count": 273,
   "id": "c7536e22",
   "metadata": {},
   "outputs": [
    {
     "data": {
      "text/plain": [
       "['Using chemical analysis to determine the origin of wines']"
      ]
     },
     "execution_count": 273,
     "metadata": {},
     "output_type": "execute_result"
    }
   ],
   "source": [
    "t8_name"
   ]
  },
  {
   "cell_type": "code",
   "execution_count": 274,
   "id": "1037af1d",
   "metadata": {},
   "outputs": [],
   "source": [
    "t9_name=[]\n",
    "name_tags=driver.find_elements(By.XPATH,'/html/body/div/div[1]/div[1]/main/div/div[2]/div[2]/div[17]/div/div[2]/p')\n",
    "for i in name_tags:\n",
    "    name=i.text\n",
    "t9_name.append(name)"
   ]
  },
  {
   "cell_type": "code",
   "execution_count": 275,
   "id": "04a1ee85",
   "metadata": {},
   "outputs": [
    {
     "data": {
      "text/plain": [
       "['Two datasets are included, related to red and white vinho verde wine samples, from the north of Portugal. The goal is to model wine quality based on physicochemical tests (see [Cortez et al., 2009], http://www3.dsi.uminho.pt/pcortez/wine/).']"
      ]
     },
     "execution_count": 275,
     "metadata": {},
     "output_type": "execute_result"
    }
   ],
   "source": [
    "t9_name"
   ]
  },
  {
   "cell_type": "code",
   "execution_count": 276,
   "id": "45e5d578",
   "metadata": {},
   "outputs": [],
   "source": [
    "t10_name=[]\n",
    "name_tags=driver.find_elements(By.XPATH,'/html/body/div/div[1]/div[1]/main/div/div[2]/div[2]/div[19]/div/div[2]/p')\n",
    "for i in name_tags:\n",
    "    name=i.text\n",
    "t10_name.append(name)"
   ]
  },
  {
   "cell_type": "code",
   "execution_count": 277,
   "id": "a9552623",
   "metadata": {},
   "outputs": [
    {
     "data": {
      "text/plain": [
       "['The data is related with direct marketing campaigns (phone calls) of a Portuguese banking institution. The classification goal is to predict if the client will subscribe a term deposit (variable y).']"
      ]
     },
     "execution_count": 277,
     "metadata": {},
     "output_type": "execute_result"
    }
   ],
   "source": [
    "t10_name"
   ]
  },
  {
   "cell_type": "code",
   "execution_count": 279,
   "id": "f46f10ab",
   "metadata": {},
   "outputs": [
    {
     "data": {
      "text/html": [
       "<div>\n",
       "<style scoped>\n",
       "    .dataframe tbody tr th:only-of-type {\n",
       "        vertical-align: middle;\n",
       "    }\n",
       "\n",
       "    .dataframe tbody tr th {\n",
       "        vertical-align: top;\n",
       "    }\n",
       "\n",
       "    .dataframe thead th {\n",
       "        text-align: right;\n",
       "    }\n",
       "</style>\n",
       "<table border=\"1\" class=\"dataframe\">\n",
       "  <thead>\n",
       "    <tr style=\"text-align: right;\">\n",
       "      <th></th>\n",
       "      <th>DataName</th>\n",
       "      <th>Datatype</th>\n",
       "    </tr>\n",
       "  </thead>\n",
       "  <tbody>\n",
       "    <tr>\n",
       "      <th>0</th>\n",
       "      <td>[Iris]</td>\n",
       "      <td>[A small classic dataset from Fisher, 1936. On...</td>\n",
       "    </tr>\n",
       "    <tr>\n",
       "      <th>1</th>\n",
       "      <td>[Dry Bean]</td>\n",
       "      <td>[Images of 13,611 grains of 7 different regist...</td>\n",
       "    </tr>\n",
       "    <tr>\n",
       "      <th>2</th>\n",
       "      <td>[Heart Disease]</td>\n",
       "      <td>[4 databases: Cleveland, Hungary, Switzerland,...</td>\n",
       "    </tr>\n",
       "    <tr>\n",
       "      <th>3</th>\n",
       "      <td>[Rice (Cammeo and Osmancik)]</td>\n",
       "      <td>[A total of 3810 rice grain's images were take...</td>\n",
       "    </tr>\n",
       "    <tr>\n",
       "      <th>4</th>\n",
       "      <td>[Raisin]</td>\n",
       "      <td>[Images of the Kecimen and Besni raisin variet...</td>\n",
       "    </tr>\n",
       "    <tr>\n",
       "      <th>5</th>\n",
       "      <td>[Adult]</td>\n",
       "      <td>[Predict whether income exceeds $50K/yr based ...</td>\n",
       "    </tr>\n",
       "    <tr>\n",
       "      <th>6</th>\n",
       "      <td>[Breast Cancer Wisconsin (Diagnostic)]</td>\n",
       "      <td>[Diagnostic Wisconsin Breast Cancer Database.]</td>\n",
       "    </tr>\n",
       "    <tr>\n",
       "      <th>7</th>\n",
       "      <td>[Wine]</td>\n",
       "      <td>[Using chemical analysis to determine the orig...</td>\n",
       "    </tr>\n",
       "    <tr>\n",
       "      <th>8</th>\n",
       "      <td>[Wine Quality]</td>\n",
       "      <td>[Two datasets are included, related to red and...</td>\n",
       "    </tr>\n",
       "    <tr>\n",
       "      <th>9</th>\n",
       "      <td>[Bank Marketing]</td>\n",
       "      <td>[The data is related with direct marketing cam...</td>\n",
       "    </tr>\n",
       "  </tbody>\n",
       "</table>\n",
       "</div>"
      ],
      "text/plain": [
       "                                 DataName  \\\n",
       "0                                  [Iris]   \n",
       "1                              [Dry Bean]   \n",
       "2                         [Heart Disease]   \n",
       "3            [Rice (Cammeo and Osmancik)]   \n",
       "4                                [Raisin]   \n",
       "5                                 [Adult]   \n",
       "6  [Breast Cancer Wisconsin (Diagnostic)]   \n",
       "7                                  [Wine]   \n",
       "8                          [Wine Quality]   \n",
       "9                        [Bank Marketing]   \n",
       "\n",
       "                                            Datatype  \n",
       "0  [A small classic dataset from Fisher, 1936. On...  \n",
       "1  [Images of 13,611 grains of 7 different regist...  \n",
       "2  [4 databases: Cleveland, Hungary, Switzerland,...  \n",
       "3  [A total of 3810 rice grain's images were take...  \n",
       "4  [Images of the Kecimen and Besni raisin variet...  \n",
       "5  [Predict whether income exceeds $50K/yr based ...  \n",
       "6     [Diagnostic Wisconsin Breast Cancer Database.]  \n",
       "7  [Using chemical analysis to determine the orig...  \n",
       "8  [Two datasets are included, related to red and...  \n",
       "9  [The data is related with direct marketing cam...  "
      ]
     },
     "execution_count": 279,
     "metadata": {},
     "output_type": "execute_result"
    }
   ],
   "source": [
    "import pandas as pd\n",
    "pd.DataFrame({'DataName':[D1_name,D2_name,D3_name,D4_name,D5_name,D6_name,D7_name,D8_name,D9_name,D10_name],\n",
    "              'Datatype':[t1_name,t2_name,t3_name,t4_name,t5_name,t6_name,t7_name,t8_name,t9_name,t10_name]})"
   ]
  },
  {
   "cell_type": "markdown",
   "id": "e9792c2b",
   "metadata": {},
   "source": [
    "2. Scrape the details team India’s international fixtures from bcci.tv.\n",
    "Url = https://www.bcci.tv/.\n",
    "You need to find following details:\n",
    "A) Series\n",
    "B) Place\n",
    "C) Date\n",
    "D) Time\n",
    "Note: - From bcci.tv home page you have reach to the international fixture page through code. "
   ]
  },
  {
   "cell_type": "code",
   "execution_count": 1,
   "id": "5226c024",
   "metadata": {},
   "outputs": [],
   "source": [
    "import selenium\n",
    "import pandas as pd\n",
    "import time\n",
    "from selenium import webdriver\n",
    "from selenium .common.exceptions import StaleElementReferenceException,NoSuchElementException\n",
    "import requests\n",
    "from selenium.webdriver.common.by import By"
   ]
  },
  {
   "cell_type": "code",
   "execution_count": 2,
   "id": "ad78c902",
   "metadata": {},
   "outputs": [],
   "source": [
    "driver=webdriver.Chrome()"
   ]
  },
  {
   "cell_type": "code",
   "execution_count": 3,
   "id": "a5ee83a1",
   "metadata": {},
   "outputs": [],
   "source": [
    "driver.get(' https://www.bcci.tv/')"
   ]
  },
  {
   "cell_type": "code",
   "execution_count": 4,
   "id": "d6000231",
   "metadata": {},
   "outputs": [],
   "source": [
    "\n",
    "fixtures=driver.find_element(By.XPATH,'/html/body/header/div[3]/div[2]/ul/div[1]/a[2]')\n",
    "fixtures.click()\n",
    "\n"
   ]
  },
  {
   "cell_type": "code",
   "execution_count": 13,
   "id": "c496c233",
   "metadata": {},
   "outputs": [],
   "source": [
    "s1_name=[]\n",
    "name_tags=driver.find_elements(By.XPATH,'/html/body/section/div/div/div/div/div/div[2]/div[3]/div[1]/div[1]/div[2]/div[1]/div/div[2]/h5')\n",
    "for i in name_tags:\n",
    "    name=i.text\n",
    "s1_name.append(name)"
   ]
  },
  {
   "cell_type": "code",
   "execution_count": 14,
   "id": "863f5b1d",
   "metadata": {},
   "outputs": [
    {
     "data": {
      "text/plain": [
       "['ICC Mens T20 World Cup 2024']"
      ]
     },
     "execution_count": 14,
     "metadata": {},
     "output_type": "execute_result"
    }
   ],
   "source": [
    "s1_name"
   ]
  },
  {
   "cell_type": "code",
   "execution_count": 15,
   "id": "50a0e774",
   "metadata": {},
   "outputs": [],
   "source": [
    "s2_name=[]\n",
    "name_tags=driver.find_elements(By.XPATH,'/html/body/section/div/div/div/div/div/div[2]/div[3]/div[1]/div[2]/div/div[1]/div/div[2]/h5')\n",
    "for i in name_tags:\n",
    "    name=i.text\n",
    "s2_name.append(name)"
   ]
  },
  {
   "cell_type": "code",
   "execution_count": 16,
   "id": "dc602398",
   "metadata": {},
   "outputs": [
    {
     "data": {
      "text/plain": [
       "['South Africa Women Tour Of India Warm Up Match 2024']"
      ]
     },
     "execution_count": 16,
     "metadata": {},
     "output_type": "execute_result"
    }
   ],
   "source": [
    "s2_name\n"
   ]
  },
  {
   "cell_type": "code",
   "execution_count": 17,
   "id": "0db35cd0",
   "metadata": {},
   "outputs": [],
   "source": [
    "s3_name=[]\n",
    "name_tags=driver.find_elements(By.XPATH,'/html/body/section/div/div/div/div/div/div[2]/div[3]/div[1]/div[3]/div/div[1]/div/div[2]/h5')\n",
    "for i in name_tags:\n",
    "    name=i.text\n",
    "s3_name.append(name)"
   ]
  },
  {
   "cell_type": "code",
   "execution_count": 18,
   "id": "70a5e684",
   "metadata": {},
   "outputs": [
    {
     "data": {
      "text/plain": [
       "['ICC Mens T20 World Cup 2024']"
      ]
     },
     "execution_count": 18,
     "metadata": {},
     "output_type": "execute_result"
    }
   ],
   "source": [
    "s3_name"
   ]
  },
  {
   "cell_type": "code",
   "execution_count": 19,
   "id": "887b32db",
   "metadata": {},
   "outputs": [],
   "source": [
    "s4_name=[]\n",
    "name_tags=driver.find_elements(By.XPATH,'/html/body/section/div/div/div/div/div/div[2]/div[3]/div[1]/div[4]/div/div[1]/div/div[2]/h5')\n",
    "for i in name_tags:\n",
    "    name=i.text\n",
    "s4_name.append(name)"
   ]
  },
  {
   "cell_type": "code",
   "execution_count": 20,
   "id": "e52792d8",
   "metadata": {},
   "outputs": [
    {
     "data": {
      "text/plain": [
       "['South Africa Women Tour Of India ODI Series 2024']"
      ]
     },
     "execution_count": 20,
     "metadata": {},
     "output_type": "execute_result"
    }
   ],
   "source": [
    "s4_name"
   ]
  },
  {
   "cell_type": "code",
   "execution_count": 21,
   "id": "03fc3720",
   "metadata": {},
   "outputs": [],
   "source": [
    "s5_name=[]\n",
    "name_tags=driver.find_elements(By.XPATH,'/html/body/section/div/div/div/div/div/div[2]/div[3]/div[1]/div[5]/div/div[1]/div/div[2]/h5')\n",
    "for i in name_tags:\n",
    "    name=i.text\n",
    "s5_name.append(name)"
   ]
  },
  {
   "cell_type": "code",
   "execution_count": 22,
   "id": "e59403b7",
   "metadata": {},
   "outputs": [
    {
     "data": {
      "text/plain": [
       "['South Africa Women Tour Of India ODI Series 2024']"
      ]
     },
     "execution_count": 22,
     "metadata": {},
     "output_type": "execute_result"
    }
   ],
   "source": [
    "s5_name"
   ]
  },
  {
   "cell_type": "code",
   "execution_count": 25,
   "id": "c1aef3b9",
   "metadata": {},
   "outputs": [],
   "source": [
    "p1_name=[]\n",
    "name_tags=driver.find_elements(By.XPATH,'/html/body/section/div/div/div/div/div/div[2]/div[3]/div[1]/div[1]/div[2]/div[1]/div/div[2]/div[3]/span[2]')\n",
    "for i in name_tags:\n",
    "    name=i.text\n",
    "p1_name.append(name)"
   ]
  },
  {
   "cell_type": "code",
   "execution_count": 26,
   "id": "8d32393f",
   "metadata": {},
   "outputs": [
    {
     "data": {
      "text/plain": [
       "['New York']"
      ]
     },
     "execution_count": 26,
     "metadata": {},
     "output_type": "execute_result"
    }
   ],
   "source": [
    "p1_name"
   ]
  },
  {
   "cell_type": "code",
   "execution_count": 27,
   "id": "0d1f89d5",
   "metadata": {},
   "outputs": [],
   "source": [
    "p2_name=[]\n",
    "name_tags=driver.find_elements(By.XPATH,'/html/body/section/div/div/div/div/div/div[2]/div[3]/div[1]/div[2]/div/div[1]/div/div[2]/div[3]/span[2]')\n",
    "for i in name_tags:\n",
    "    name=i.text\n",
    "p2_name.append(name)"
   ]
  },
  {
   "cell_type": "code",
   "execution_count": 28,
   "id": "7a5e2a17",
   "metadata": {},
   "outputs": [
    {
     "data": {
      "text/plain": [
       "['Bengaluru']"
      ]
     },
     "execution_count": 28,
     "metadata": {},
     "output_type": "execute_result"
    }
   ],
   "source": [
    "p2_name"
   ]
  },
  {
   "cell_type": "code",
   "execution_count": 29,
   "id": "d86fb72f",
   "metadata": {},
   "outputs": [],
   "source": [
    "p3_name=[]\n",
    "name_tags=driver.find_elements(By.XPATH,'/html/body/section/div/div/div/div/div/div[2]/div[3]/div[1]/div[3]/div/div[1]/div/div[2]/div[3]/span[2]')\n",
    "for i in name_tags:\n",
    "    name=i.text\n",
    "p3_name.append(name)"
   ]
  },
  {
   "cell_type": "code",
   "execution_count": 30,
   "id": "ebc46c03",
   "metadata": {},
   "outputs": [
    {
     "data": {
      "text/plain": [
       "['Florida']"
      ]
     },
     "execution_count": 30,
     "metadata": {},
     "output_type": "execute_result"
    }
   ],
   "source": [
    "p3_name"
   ]
  },
  {
   "cell_type": "code",
   "execution_count": 31,
   "id": "4521ebd5",
   "metadata": {},
   "outputs": [],
   "source": [
    "p4_name=[]\n",
    "name_tags=driver.find_elements(By.XPATH,'/html/body/section/div/div/div/div/div/div[2]/div[3]/div[1]/div[4]/div/div[1]/div/div[2]/div[3]/span[2]')\n",
    "for i in name_tags:\n",
    "    name=i.text\n",
    "p4_name.append(name)"
   ]
  },
  {
   "cell_type": "code",
   "execution_count": 32,
   "id": "52452c5a",
   "metadata": {},
   "outputs": [
    {
     "data": {
      "text/plain": [
       "['Bengaluru']"
      ]
     },
     "execution_count": 32,
     "metadata": {},
     "output_type": "execute_result"
    }
   ],
   "source": [
    "p4_name"
   ]
  },
  {
   "cell_type": "code",
   "execution_count": 33,
   "id": "d8db3c17",
   "metadata": {},
   "outputs": [],
   "source": [
    "p5_name=[]\n",
    "name_tags=driver.find_elements(By.XPATH,'/html/body/section/div/div/div/div/div/div[2]/div[3]/div[1]/div[5]/div/div[1]/div/div[2]/div[3]/span[2]')\n",
    "for i in name_tags:\n",
    "    name=i.text\n",
    "p5_name.append(name)"
   ]
  },
  {
   "cell_type": "code",
   "execution_count": 34,
   "id": "f6dda166",
   "metadata": {},
   "outputs": [
    {
     "data": {
      "text/plain": [
       "['Bengaluru']"
      ]
     },
     "execution_count": 34,
     "metadata": {},
     "output_type": "execute_result"
    }
   ],
   "source": [
    "p5_name"
   ]
  },
  {
   "cell_type": "code",
   "execution_count": 35,
   "id": "749e03cd",
   "metadata": {},
   "outputs": [],
   "source": [
    "d1_date=[]\n",
    "date_tags=driver.find_elements(By.XPATH,'/html/body/section/div/div/div/div/div/div[2]/div[3]/div[1]/div[1]/div[2]/div[1]/div/div[2]/div[1]/div[1]')\n",
    "for i in date_tags:\n",
    "    date=i.text\n",
    "d1_date.append(date)"
   ]
  },
  {
   "cell_type": "code",
   "execution_count": 36,
   "id": "647f3165",
   "metadata": {},
   "outputs": [
    {
     "data": {
      "text/plain": [
       "['12 Jun']"
      ]
     },
     "execution_count": 36,
     "metadata": {},
     "output_type": "execute_result"
    }
   ],
   "source": [
    "d1_date"
   ]
  },
  {
   "cell_type": "code",
   "execution_count": 37,
   "id": "7b0d90fa",
   "metadata": {},
   "outputs": [],
   "source": [
    "d2_date=[]\n",
    "date_tags=driver.find_elements(By.XPATH,'/html/body/section/div/div/div/div/div/div[2]/div[3]/div[1]/div[2]/div/div[1]/div/div[2]/div[1]/div[1]')\n",
    "for i in date_tags:\n",
    "    date=i.text\n",
    "d2_date.append(date)"
   ]
  },
  {
   "cell_type": "code",
   "execution_count": 38,
   "id": "a83ed267",
   "metadata": {},
   "outputs": [
    {
     "data": {
      "text/plain": [
       "['12 Jun']"
      ]
     },
     "execution_count": 38,
     "metadata": {},
     "output_type": "execute_result"
    }
   ],
   "source": [
    "d2_date"
   ]
  },
  {
   "cell_type": "code",
   "execution_count": 39,
   "id": "ff1fea82",
   "metadata": {},
   "outputs": [],
   "source": [
    "d3_date=[]\n",
    "date_tags=driver.find_elements(By.XPATH,'/html/body/section/div/div/div/div/div/div[2]/div[3]/div[1]/div[3]/div/div[1]/div/div[2]/div[1]/div[1]')\n",
    "for i in date_tags:\n",
    "    date=i.text\n",
    "d3_date.append(date)"
   ]
  },
  {
   "cell_type": "code",
   "execution_count": 40,
   "id": "8d8c4da5",
   "metadata": {},
   "outputs": [
    {
     "data": {
      "text/plain": [
       "['15 Jun']"
      ]
     },
     "execution_count": 40,
     "metadata": {},
     "output_type": "execute_result"
    }
   ],
   "source": [
    "d3_date"
   ]
  },
  {
   "cell_type": "code",
   "execution_count": 41,
   "id": "ad0f6c96",
   "metadata": {},
   "outputs": [],
   "source": [
    "d4_date=[]\n",
    "date_tags=driver.find_elements(By.XPATH,'/html/body/section/div/div/div/div/div/div[2]/div[3]/div[1]/div[4]/div/div[1]/div/div[2]/div[1]/div[1]')\n",
    "for i in date_tags:\n",
    "    date=i.text\n",
    "d4_date.append(date)"
   ]
  },
  {
   "cell_type": "code",
   "execution_count": 42,
   "id": "f04a8c15",
   "metadata": {},
   "outputs": [
    {
     "data": {
      "text/plain": [
       "['16 Jun']"
      ]
     },
     "execution_count": 42,
     "metadata": {},
     "output_type": "execute_result"
    }
   ],
   "source": [
    "d4_date"
   ]
  },
  {
   "cell_type": "code",
   "execution_count": 48,
   "id": "5e693113",
   "metadata": {},
   "outputs": [],
   "source": [
    "d5_date=[]\n",
    "date_tags=driver.find_elements(By.XPATH,'/html/body/section/div/div/div/div/div/div[2]/div[3]/div[1]/div[5]/div/div[1]/div/div[2]/div[1]/div[1]')\n",
    "for i in date_tags:\n",
    "    date=i.text\n",
    "d5_date.append(date)"
   ]
  },
  {
   "cell_type": "code",
   "execution_count": 44,
   "id": "4f7ffd88",
   "metadata": {},
   "outputs": [
    {
     "data": {
      "text/plain": [
       "['19 Jun']"
      ]
     },
     "execution_count": 44,
     "metadata": {},
     "output_type": "execute_result"
    }
   ],
   "source": [
    "d5_date"
   ]
  },
  {
   "cell_type": "code",
   "execution_count": 47,
   "id": "a98e193a",
   "metadata": {},
   "outputs": [],
   "source": [
    "t1_time=[]\n",
    "time_tags=driver.find_elements(By.XPATH,'/html/body/section/div/div/div/div/div/div[2]/div[3]/div[1]/div[3]/div/div[1]/div/div[2]/div[1]/div[2]')\n",
    "for i in time_tags:\n",
    "    time=i.text\n",
    "t1_time.append(time)"
   ]
  },
  {
   "cell_type": "code",
   "execution_count": 46,
   "id": "7da2c523",
   "metadata": {},
   "outputs": [
    {
     "data": {
      "text/plain": [
       "['15:30 BST']"
      ]
     },
     "execution_count": 46,
     "metadata": {},
     "output_type": "execute_result"
    }
   ],
   "source": [
    "t1_time"
   ]
  },
  {
   "cell_type": "code",
   "execution_count": 49,
   "id": "5bf0faf2",
   "metadata": {},
   "outputs": [],
   "source": [
    "t2_time=[]\n",
    "time_tags=driver.find_elements(By.XPATH,'/html/body/section/div/div/div/div/div/div[2]/div[3]/div[1]/div[2]/div/div[1]/div/div[2]/div[1]/div[2]')\n",
    "for i in time_tags:\n",
    "    time=i.text\n",
    "t2_time.append(time)"
   ]
  },
  {
   "cell_type": "code",
   "execution_count": 50,
   "id": "d32ce80e",
   "metadata": {},
   "outputs": [
    {
     "data": {
      "text/plain": [
       "['9:00 BST']"
      ]
     },
     "execution_count": 50,
     "metadata": {},
     "output_type": "execute_result"
    }
   ],
   "source": [
    "t2_time"
   ]
  },
  {
   "cell_type": "code",
   "execution_count": 51,
   "id": "0741063c",
   "metadata": {},
   "outputs": [],
   "source": [
    "t3_time=[]\n",
    "time_tags=driver.find_elements(By.XPATH,'/html/body/section/div/div/div/div/div/div[2]/div[3]/div[1]/div[3]/div/div[1]/div/div[2]/div[1]/div[2]')\n",
    "for i in time_tags:\n",
    "    time=i.text\n",
    "t3_time.append(time)"
   ]
  },
  {
   "cell_type": "code",
   "execution_count": 52,
   "id": "eea7c0f3",
   "metadata": {},
   "outputs": [
    {
     "data": {
      "text/plain": [
       "['15:30 BST']"
      ]
     },
     "execution_count": 52,
     "metadata": {},
     "output_type": "execute_result"
    }
   ],
   "source": [
    "t3_time"
   ]
  },
  {
   "cell_type": "code",
   "execution_count": 53,
   "id": "aa1b7b38",
   "metadata": {},
   "outputs": [],
   "source": [
    "t4_time=[]\n",
    "time_tags=driver.find_elements(By.XPATH,'/html/body/section/div/div/div/div/div/div[2]/div[3]/div[1]/div[4]/div/div[1]/div/div[2]/div[1]/div[2]')\n",
    "for i in time_tags:\n",
    "    time=i.text\n",
    "t4_time.append(time)"
   ]
  },
  {
   "cell_type": "code",
   "execution_count": 54,
   "id": "363d8a2d",
   "metadata": {},
   "outputs": [
    {
     "data": {
      "text/plain": [
       "['9:00 BST']"
      ]
     },
     "execution_count": 54,
     "metadata": {},
     "output_type": "execute_result"
    }
   ],
   "source": [
    "t4_time"
   ]
  },
  {
   "cell_type": "code",
   "execution_count": 55,
   "id": "42ca2fe5",
   "metadata": {},
   "outputs": [],
   "source": [
    "t5_time=[]\n",
    "time_tags=driver.find_elements(By.XPATH,'/html/body/section/div/div/div/div/div/div[2]/div[3]/div[1]/div[5]/div/div[1]/div/div[2]/div[1]/div[2]')\n",
    "for i in time_tags:\n",
    "    time=i.text\n",
    "t5_time.append(time)"
   ]
  },
  {
   "cell_type": "code",
   "execution_count": 56,
   "id": "54484f28",
   "metadata": {},
   "outputs": [
    {
     "data": {
      "text/plain": [
       "['9:00 BST']"
      ]
     },
     "execution_count": 56,
     "metadata": {},
     "output_type": "execute_result"
    }
   ],
   "source": [
    "t5_time"
   ]
  },
  {
   "cell_type": "code",
   "execution_count": 58,
   "id": "86d47365",
   "metadata": {},
   "outputs": [],
   "source": [
    "import pandas as pd\n",
    "df=pd.DataFrame({'Series':[s1_name,s2_name,s3_name,s4_name,s5_name],\n",
    "                'Place':[p1_name,p2_name,p3_name,p4_name,p5_name],\n",
    "                'Date':[d1_date,d2_date,d3_date,d4_date,d5_date],\n",
    "                'Time':[t1_time,t2_time,t3_time,t4_time,t5_time]})"
   ]
  },
  {
   "cell_type": "code",
   "execution_count": 59,
   "id": "d628d449",
   "metadata": {},
   "outputs": [
    {
     "data": {
      "text/html": [
       "<div>\n",
       "<style scoped>\n",
       "    .dataframe tbody tr th:only-of-type {\n",
       "        vertical-align: middle;\n",
       "    }\n",
       "\n",
       "    .dataframe tbody tr th {\n",
       "        vertical-align: top;\n",
       "    }\n",
       "\n",
       "    .dataframe thead th {\n",
       "        text-align: right;\n",
       "    }\n",
       "</style>\n",
       "<table border=\"1\" class=\"dataframe\">\n",
       "  <thead>\n",
       "    <tr style=\"text-align: right;\">\n",
       "      <th></th>\n",
       "      <th>Series</th>\n",
       "      <th>Place</th>\n",
       "      <th>Date</th>\n",
       "      <th>Time</th>\n",
       "    </tr>\n",
       "  </thead>\n",
       "  <tbody>\n",
       "    <tr>\n",
       "      <th>0</th>\n",
       "      <td>[ICC Mens T20 World Cup 2024]</td>\n",
       "      <td>[New York]</td>\n",
       "      <td>[12 Jun]</td>\n",
       "      <td>[15:30 BST]</td>\n",
       "    </tr>\n",
       "    <tr>\n",
       "      <th>1</th>\n",
       "      <td>[South Africa Women Tour Of India Warm Up Matc...</td>\n",
       "      <td>[Bengaluru]</td>\n",
       "      <td>[12 Jun]</td>\n",
       "      <td>[9:00 BST]</td>\n",
       "    </tr>\n",
       "    <tr>\n",
       "      <th>2</th>\n",
       "      <td>[ICC Mens T20 World Cup 2024]</td>\n",
       "      <td>[Florida]</td>\n",
       "      <td>[15 Jun]</td>\n",
       "      <td>[15:30 BST]</td>\n",
       "    </tr>\n",
       "    <tr>\n",
       "      <th>3</th>\n",
       "      <td>[South Africa Women Tour Of India ODI Series 2...</td>\n",
       "      <td>[Bengaluru]</td>\n",
       "      <td>[16 Jun]</td>\n",
       "      <td>[9:00 BST]</td>\n",
       "    </tr>\n",
       "    <tr>\n",
       "      <th>4</th>\n",
       "      <td>[South Africa Women Tour Of India ODI Series 2...</td>\n",
       "      <td>[Bengaluru]</td>\n",
       "      <td>[19 Jun]</td>\n",
       "      <td>[9:00 BST]</td>\n",
       "    </tr>\n",
       "  </tbody>\n",
       "</table>\n",
       "</div>"
      ],
      "text/plain": [
       "                                              Series        Place      Date  \\\n",
       "0                      [ICC Mens T20 World Cup 2024]   [New York]  [12 Jun]   \n",
       "1  [South Africa Women Tour Of India Warm Up Matc...  [Bengaluru]  [12 Jun]   \n",
       "2                      [ICC Mens T20 World Cup 2024]    [Florida]  [15 Jun]   \n",
       "3  [South Africa Women Tour Of India ODI Series 2...  [Bengaluru]  [16 Jun]   \n",
       "4  [South Africa Women Tour Of India ODI Series 2...  [Bengaluru]  [19 Jun]   \n",
       "\n",
       "          Time  \n",
       "0  [15:30 BST]  \n",
       "1   [9:00 BST]  \n",
       "2  [15:30 BST]  \n",
       "3   [9:00 BST]  \n",
       "4   [9:00 BST]  "
      ]
     },
     "execution_count": 59,
     "metadata": {},
     "output_type": "execute_result"
    }
   ],
   "source": [
    "df"
   ]
  },
  {
   "cell_type": "markdown",
   "id": "a4809a61",
   "metadata": {},
   "source": [
    "3. Scrape the details of State-wise GDP of India from statisticstime.com.\n",
    "Url = http://statisticstimes.com/\n",
    "You have to find following details: A) Rank\n",
    "B) State\n",
    "C) GSDP(18-19)- at current prices\n",
    "D) GSDP(19-20)- at current prices\n",
    "E) Share(18-19)\n",
    "F) GDP($ billion)\n",
    "Note: - From statisticstimes home page you have to reach to economy page through code. "
   ]
  },
  {
   "cell_type": "code",
   "execution_count": 15,
   "id": "d139ea06",
   "metadata": {},
   "outputs": [],
   "source": [
    "import selenium\n",
    "import pandas as pd\n",
    "import time\n",
    "from selenium import webdriver\n",
    "from selenium .common.exceptions import StaleElementReferenceException,NoSuchElementException\n",
    "import requests\n",
    "from selenium.webdriver.common.by import By\n",
    "from selenium.webdriver.support.ui import Select"
   ]
  },
  {
   "cell_type": "code",
   "execution_count": 16,
   "id": "2d3721d2",
   "metadata": {},
   "outputs": [],
   "source": [
    "driver=webdriver.Chrome()"
   ]
  },
  {
   "cell_type": "code",
   "execution_count": 17,
   "id": "37e10815",
   "metadata": {},
   "outputs": [],
   "source": [
    "driver.get('http://statisticstimes.com/')"
   ]
  },
  {
   "cell_type": "code",
   "execution_count": 18,
   "id": "26e2814f",
   "metadata": {},
   "outputs": [],
   "source": [
    "economy=driver.find_element(By.XPATH,'/html/body/div[2]/div[1]/div[2]/div[2]/button')\n",
    "economy.click()\n",
    "\n"
   ]
  },
  {
   "cell_type": "code",
   "execution_count": 20,
   "id": "239270ff",
   "metadata": {},
   "outputs": [],
   "source": [
    "India=driver.find_element(By.XPATH,'/html/body/div[2]/div[1]/div[2]/div[2]/div/a[3]')\n",
    "India.click()\n",
    "\n"
   ]
  },
  {
   "cell_type": "code",
   "execution_count": 21,
   "id": "bbd0924e",
   "metadata": {},
   "outputs": [],
   "source": [
    "India_gdp=driver.find_element(By.XPATH,'/html/body/div[2]/div[2]/div[2]/ul/li[1]/a')\n",
    "India_gdp.click()\n"
   ]
  },
  {
   "cell_type": "code",
   "execution_count": 22,
   "id": "7dd741a5",
   "metadata": {},
   "outputs": [],
   "source": [
    "G1_name=[]\n",
    "name_tags=driver.find_elements(By.XPATH,'/html/body/div[4]/div[2]/div[5]/div[1]/div[2]/table/thead')\n",
    "for i in name_tags:\n",
    "    name=i.text\n",
    "G1_name.append(name)"
   ]
  },
  {
   "cell_type": "code",
   "execution_count": 23,
   "id": "f9f6a1bc",
   "metadata": {},
   "outputs": [
    {
     "data": {
      "text/plain": [
       "['Rank State GSDP (Cr INR at Current prices) Share GDP ($billion) GSDP (Cr INR at 2011-12 prices)\\n23-24 22-23 21-22 21-22 2021 23-24 22-23 21-22']"
      ]
     },
     "execution_count": 23,
     "metadata": {},
     "output_type": "execute_result"
    }
   ],
   "source": [
    "G1_name"
   ]
  },
  {
   "cell_type": "code",
   "execution_count": 24,
   "id": "eedfff90",
   "metadata": {},
   "outputs": [],
   "source": [
    "G2_name=[]\n",
    "name_tags=driver.find_elements(By.XPATH,'/html/body/div[4]/div[2]/div[5]/div[1]/div[2]/table/tbody/tr[1]')\n",
    "for i in name_tags:\n",
    "    name=i.text\n",
    "G2_name.append(name)"
   ]
  },
  {
   "cell_type": "code",
   "execution_count": 25,
   "id": "8b793c9c",
   "metadata": {},
   "outputs": [
    {
     "data": {
      "text/plain": [
       "['1 Maharashtra - - 3,108,022 13.17% 414.928 - - 2,027,971']"
      ]
     },
     "execution_count": 25,
     "metadata": {},
     "output_type": "execute_result"
    }
   ],
   "source": [
    "G2_name"
   ]
  },
  {
   "cell_type": "code",
   "execution_count": 26,
   "id": "6e40894f",
   "metadata": {},
   "outputs": [],
   "source": [
    "G3_name=[]\n",
    "name_tags=driver.find_elements(By.XPATH,'/html/body/div[4]/div[2]/div[5]/div[1]/div[2]/table/tbody/tr[2]')\n",
    "for i in name_tags:\n",
    "    name=i.text\n",
    "G3_name.append(name)"
   ]
  },
  {
   "cell_type": "code",
   "execution_count": 27,
   "id": "955bd433",
   "metadata": {},
   "outputs": [
    {
     "data": {
      "text/plain": [
       "['2 Tamil Nadu 2,700,109 2,364,514 2,071,286 8.78% 276.522 1,572,601 1,453,321 1,343,287']"
      ]
     },
     "execution_count": 27,
     "metadata": {},
     "output_type": "execute_result"
    }
   ],
   "source": [
    "G3_name"
   ]
  },
  {
   "cell_type": "code",
   "execution_count": 28,
   "id": "6d9e7f6d",
   "metadata": {},
   "outputs": [],
   "source": [
    "G4_name=[]\n",
    "name_tags=driver.find_elements(By.XPATH,'/html/body/div[4]/div[2]/div[5]/div[1]/div[2]/table/tbody/tr[3]')\n",
    "for i in name_tags:\n",
    "    name=i.text\n",
    "G4_name.append(name)"
   ]
  },
  {
   "cell_type": "code",
   "execution_count": 29,
   "id": "cd3e8af1",
   "metadata": {},
   "outputs": [
    {
     "data": {
      "text/plain": [
       "['3 Karnataka 2,500,733 2,269,995 1,978,094 8.38% 264.080 1,423,229 1,335,052 1,235,377']"
      ]
     },
     "execution_count": 29,
     "metadata": {},
     "output_type": "execute_result"
    }
   ],
   "source": [
    "G4_name"
   ]
  },
  {
   "cell_type": "code",
   "execution_count": 30,
   "id": "bfb65afd",
   "metadata": {},
   "outputs": [],
   "source": [
    "G5_name=[]\n",
    "name_tags=driver.find_elements(By.XPATH,'/html/body/div[4]/div[2]/div[5]/div[1]/div[2]/table/tbody/tr[4]')\n",
    "for i in name_tags:\n",
    "    name=i.text\n",
    "G5_name.append(name)\n"
   ]
  },
  {
   "cell_type": "code",
   "execution_count": 31,
   "id": "10402316",
   "metadata": {},
   "outputs": [
    {
     "data": {
      "text/plain": [
       "['4 Uttar Pradesh 2,547,861 2,258,040 1,975,595 8.37% 263.747 1,423,358 1,318,027 1,200,093']"
      ]
     },
     "execution_count": 31,
     "metadata": {},
     "output_type": "execute_result"
    }
   ],
   "source": [
    "G5_name"
   ]
  },
  {
   "cell_type": "code",
   "execution_count": 32,
   "id": "e5689b9d",
   "metadata": {},
   "outputs": [],
   "source": [
    "G6_name=[]\n",
    "name_tags=driver.find_elements(By.XPATH,'/html/body/div[4]/div[2]/div[5]/div[1]/div[2]/table/tbody/tr[5]')\n",
    "for i in name_tags:\n",
    "    name=i.text\n",
    "G6_name.append(name)"
   ]
  },
  {
   "cell_type": "code",
   "execution_count": 33,
   "id": "cbb7a152",
   "metadata": {},
   "outputs": [
    {
     "data": {
      "text/plain": [
       "['5 Gujarat - 2,230,609 1,928,683 8.17% 257.484 - 1,475,629 1,365,922']"
      ]
     },
     "execution_count": 33,
     "metadata": {},
     "output_type": "execute_result"
    }
   ],
   "source": [
    "G6_name"
   ]
  },
  {
   "cell_type": "code",
   "execution_count": 34,
   "id": "248179d3",
   "metadata": {},
   "outputs": [],
   "source": [
    "G7_name=[]\n",
    "name_tags=driver.find_elements(By.XPATH,'/html/body/div[4]/div[2]/div[5]/div[1]/div[2]/table/tbody/tr[6]')\n",
    "for i in name_tags:\n",
    "    name=i.text\n",
    "G7_name.append(name)"
   ]
  },
  {
   "cell_type": "code",
   "execution_count": 35,
   "id": "098aec42",
   "metadata": {},
   "outputs": [
    {
     "data": {
      "text/plain": [
       "['6 West Bengal 1,700,939 1,531,758 1,329,238 5.63% 177.456 904,088 839,805 787,439']"
      ]
     },
     "execution_count": 35,
     "metadata": {},
     "output_type": "execute_result"
    }
   ],
   "source": [
    "G7_name"
   ]
  },
  {
   "cell_type": "code",
   "execution_count": 36,
   "id": "4858f4f3",
   "metadata": {},
   "outputs": [],
   "source": [
    "G8_name=[]\n",
    "name_tags=driver.find_elements(By.XPATH,'/html/body/div[4]/div[2]/div[5]/div[1]/div[2]/table/tbody/tr[7]')\n",
    "for i in name_tags:\n",
    "    name=i.text\n",
    "G8_name.append(name)"
   ]
  },
  {
   "cell_type": "code",
   "execution_count": 37,
   "id": "428f730b",
   "metadata": {},
   "outputs": [
    {
     "data": {
      "text/plain": [
       "['7 Rajasthan 1,524,030 1,365,849 1,193,489 5.06% 159.334 842,621 784,655 727,805']"
      ]
     },
     "execution_count": 37,
     "metadata": {},
     "output_type": "execute_result"
    }
   ],
   "source": [
    "G8_name"
   ]
  },
  {
   "cell_type": "code",
   "execution_count": 39,
   "id": "638b6f36",
   "metadata": {},
   "outputs": [],
   "source": [
    "G9_name=[]\n",
    "name_tags=driver.find_elements(By.XPATH,'/html/body/div[4]/div[2]/div[5]/div[1]/div[2]/table/tbody/tr[8]')\n",
    "for i in name_tags:\n",
    "    name=i.text\n",
    "G9_name.append(name)"
   ]
  },
  {
   "cell_type": "code",
   "execution_count": 40,
   "id": "e2605337",
   "metadata": {},
   "outputs": [
    {
     "data": {
      "text/plain": [
       "['8 Andhra Pradesh 1,439,674 1,303,524 1,148,471 4.87% 153.324 820,894 764,685 722,727']"
      ]
     },
     "execution_count": 40,
     "metadata": {},
     "output_type": "execute_result"
    }
   ],
   "source": [
    "G9_name"
   ]
  },
  {
   "cell_type": "code",
   "execution_count": 41,
   "id": "23e03d31",
   "metadata": {},
   "outputs": [],
   "source": [
    "G10_name=[]\n",
    "name_tags=driver.find_elements(By.XPATH,'/html/body/div[4]/div[2]/div[5]/div[1]/div[2]/table/tbody/tr[9]')\n",
    "for i in name_tags:\n",
    "    name=i.text\n",
    "G10_name.append(name)"
   ]
  },
  {
   "cell_type": "code",
   "execution_count": 42,
   "id": "5a028b92",
   "metadata": {},
   "outputs": [
    {
     "data": {
      "text/plain": [
       "['9 Telangana 1,463,960 1,308,034 1,124,204 4.76% 150.084 767,936 715,157 669,229']"
      ]
     },
     "execution_count": 42,
     "metadata": {},
     "output_type": "execute_result"
    }
   ],
   "source": [
    "G10_name"
   ]
  },
  {
   "cell_type": "code",
   "execution_count": 43,
   "id": "39ae2be2",
   "metadata": {},
   "outputs": [],
   "source": [
    "G11_name=[]\n",
    "name_tags=driver.find_elements(By.XPATH,'/html/body/div[4]/div[2]/div[5]/div[1]/div[2]/table/tbody/tr[10]')\n",
    "for i in name_tags:\n",
    "    name=i.text\n",
    "G11_name.append(name)"
   ]
  },
  {
   "cell_type": "code",
   "execution_count": 44,
   "id": "4e7dbff5",
   "metadata": {},
   "outputs": [
    {
     "data": {
      "text/plain": [
       "['10 Madhya Pradesh 1,363,327 1,246,471 1,092,964 4.63% 145.913 660,363 622,908 584,470']"
      ]
     },
     "execution_count": 44,
     "metadata": {},
     "output_type": "execute_result"
    }
   ],
   "source": [
    "G11_name"
   ]
  },
  {
   "cell_type": "code",
   "execution_count": 45,
   "id": "144adc5f",
   "metadata": {},
   "outputs": [],
   "source": [
    "G12_name=[]\n",
    "name_tags=driver.find_elements(By.XPATH,'/html/body/div[4]/div[2]/div[5]/div[1]/div[2]/table/tbody/tr[11]')\n",
    "for i in name_tags:\n",
    "    name=i.text\n",
    "G12_name.append(name)"
   ]
  },
  {
   "cell_type": "code",
   "execution_count": 46,
   "id": "d4e655f1",
   "metadata": {},
   "outputs": [
    {
     "data": {
      "text/plain": [
       "['11 Kerala - 1,046,188 934,542 3.96% 124.764 - 616,189 578,057']"
      ]
     },
     "execution_count": 46,
     "metadata": {},
     "output_type": "execute_result"
    }
   ],
   "source": [
    "G12_name"
   ]
  },
  {
   "cell_type": "code",
   "execution_count": 47,
   "id": "f62b8ced",
   "metadata": {},
   "outputs": [],
   "source": [
    "G13_name=[]\n",
    "name_tags=driver.find_elements(By.XPATH,'/html/body/div[4]/div[2]/div[5]/div[1]/div[2]/table/tbody/tr[12]')\n",
    "for i in name_tags:\n",
    "    name=i.text\n",
    "G13_name.append(name)"
   ]
  },
  {
   "cell_type": "code",
   "execution_count": 48,
   "id": "4e6b709f",
   "metadata": {},
   "outputs": [
    {
     "data": {
      "text/plain": [
       "['12 Delhi 1,107,746 1,014,688 881,336 3.73% 117.660 672,247 625,981 580,396']"
      ]
     },
     "execution_count": 48,
     "metadata": {},
     "output_type": "execute_result"
    }
   ],
   "source": [
    "G13_name"
   ]
  },
  {
   "cell_type": "code",
   "execution_count": 49,
   "id": "a830be52",
   "metadata": {},
   "outputs": [],
   "source": [
    "G14_name=[]\n",
    "name_tags=driver.find_elements(By.XPATH,'/html/body/div[4]/div[2]/div[5]/div[1]/div[2]/table/tbody/tr[13]')\n",
    "for i in name_tags:\n",
    "    name=i.text\n",
    "G14_name.append(name)"
   ]
  },
  {
   "cell_type": "code",
   "execution_count": 50,
   "id": "15262279",
   "metadata": {},
   "outputs": [
    {
     "data": {
      "text/plain": [
       "['13 Haryana 1,095,535 984,055 868,905 3.68% 116.001 634,027 587,198 544,317']"
      ]
     },
     "execution_count": 50,
     "metadata": {},
     "output_type": "execute_result"
    }
   ],
   "source": [
    "G14_name"
   ]
  },
  {
   "cell_type": "code",
   "execution_count": 51,
   "id": "f9f31333",
   "metadata": {},
   "outputs": [],
   "source": [
    "G15_name=[]\n",
    "name_tags=driver.find_elements(By.XPATH,'/html/body/div[4]/div[2]/div[5]/div[1]/div[2]/table/tbody/tr[14]')\n",
    "for i in name_tags:\n",
    "    name=i.text\n",
    "G15_name.append(name)"
   ]
  },
  {
   "cell_type": "code",
   "execution_count": 52,
   "id": "7c0b1832",
   "metadata": {},
   "outputs": [
    {
     "data": {
      "text/plain": [
       "['14 Odisha 832,790 753,177 662,886 2.81% 88.497 503,871 464,574 430,541']"
      ]
     },
     "execution_count": 52,
     "metadata": {},
     "output_type": "execute_result"
    }
   ],
   "source": [
    "G15_name"
   ]
  },
  {
   "cell_type": "code",
   "execution_count": 53,
   "id": "e4486dd4",
   "metadata": {},
   "outputs": [],
   "source": [
    "G16_name=[]\n",
    "name_tags=driver.find_elements(By.XPATH,'/html/body/div[4]/div[2]/div[5]/div[1]/div[2]/table/tbody/tr[15]')\n",
    "for i in name_tags:\n",
    "    name=i.text\n",
    "G16_name.append(name)"
   ]
  },
  {
   "cell_type": "code",
   "execution_count": 54,
   "id": "a64c0441",
   "metadata": {},
   "outputs": [
    {
     "data": {
      "text/plain": [
       "['15 Bihar - 751,396 650,302 2.76% 86.817 - 442,473 399,930']"
      ]
     },
     "execution_count": 54,
     "metadata": {},
     "output_type": "execute_result"
    }
   ],
   "source": [
    "G16_name"
   ]
  },
  {
   "cell_type": "code",
   "execution_count": 55,
   "id": "572284a9",
   "metadata": {},
   "outputs": [],
   "source": [
    "G17_name=[]\n",
    "name_tags=driver.find_elements(By.XPATH,'/html/body/div[4]/div[2]/div[5]/div[1]/div[2]/table/tbody/tr[16]')\n",
    "for i in name_tags:\n",
    "    name=i.text\n",
    "G17_name.append(name)"
   ]
  },
  {
   "cell_type": "code",
   "execution_count": 56,
   "id": "3a00df62",
   "metadata": {},
   "outputs": [
    {
     "data": {
      "text/plain": [
       "['16 Punjab 736,423 676,164 617,192 2.62% 82.397 493,283 462,053 434,261']"
      ]
     },
     "execution_count": 56,
     "metadata": {},
     "output_type": "execute_result"
    }
   ],
   "source": [
    "G17_name"
   ]
  },
  {
   "cell_type": "code",
   "execution_count": 57,
   "id": "eb57b7e2",
   "metadata": {},
   "outputs": [],
   "source": [
    "G18_name=[]\n",
    "name_tags=driver.find_elements(By.XPATH,'/html/body/div[4]/div[2]/div[5]/div[1]/div[2]/table/tbody/tr[17]')\n",
    "for i in name_tags:\n",
    "    name=i.text\n",
    "G18_name.append(name)"
   ]
  },
  {
   "cell_type": "code",
   "execution_count": 58,
   "id": "02ea97d7",
   "metadata": {},
   "outputs": [
    {
     "data": {
      "text/plain": [
       "['17 Assam 565,401 493,167 411,454 1.74% 54.930 318,559 300,799 278,835']"
      ]
     },
     "execution_count": 58,
     "metadata": {},
     "output_type": "execute_result"
    }
   ],
   "source": [
    "G18_name"
   ]
  },
  {
   "cell_type": "code",
   "execution_count": 59,
   "id": "c66e2f54",
   "metadata": {},
   "outputs": [],
   "source": [
    "G19_name=[]\n",
    "name_tags=driver.find_elements(By.XPATH,'/html/body/div[4]/div[2]/div[5]/div[1]/div[2]/table/tbody/tr[18]')\n",
    "for i in name_tags:\n",
    "    name=i.text\n",
    "G19_name.append(name)"
   ]
  },
  {
   "cell_type": "code",
   "execution_count": 60,
   "id": "fbefecb7",
   "metadata": {},
   "outputs": [
    {
     "data": {
      "text/plain": [
       "['18 Chhattisgarh 505,887 464,399 410,525 1.74% 54.806 321,945 302,119 280,609']"
      ]
     },
     "execution_count": 60,
     "metadata": {},
     "output_type": "execute_result"
    }
   ],
   "source": [
    "G19_name"
   ]
  },
  {
   "cell_type": "code",
   "execution_count": 61,
   "id": "b90e0ec6",
   "metadata": {},
   "outputs": [],
   "source": [
    "G20_name=[]\n",
    "name_tags=driver.find_elements(By.XPATH,'/html/body/div[4]/div[2]/div[5]/div[1]/div[2]/table/tbody/tr[19]')\n",
    "for i in name_tags:\n",
    "    name=i.text\n",
    "G20_name.append(name)"
   ]
  },
  {
   "cell_type": "code",
   "execution_count": 62,
   "id": "f2b5d1aa",
   "metadata": {},
   "outputs": [
    {
     "data": {
      "text/plain": [
       "['19 Jharkhand - 393,722 358,863 1.52% 47.909 - 259,800 243,348']"
      ]
     },
     "execution_count": 62,
     "metadata": {},
     "output_type": "execute_result"
    }
   ],
   "source": [
    "G20_name"
   ]
  },
  {
   "cell_type": "code",
   "execution_count": 63,
   "id": "a0d30447",
   "metadata": {},
   "outputs": [],
   "source": [
    "G21_name=[]\n",
    "name_tags=driver.find_elements(By.XPATH,'/html/body/div[4]/div[2]/div[5]/div[1]/div[2]/table/tbody/tr[20]')\n",
    "for i in name_tags:\n",
    "    name=i.text\n",
    "G21_name.append(name)"
   ]
  },
  {
   "cell_type": "code",
   "execution_count": 64,
   "id": "adfb642d",
   "metadata": {},
   "outputs": [
    {
     "data": {
      "text/plain": [
       "['20 Uttarakhand 346,206 303,781 267,143 1.13% 35.664 213,378 198,341 184,274']"
      ]
     },
     "execution_count": 64,
     "metadata": {},
     "output_type": "execute_result"
    }
   ],
   "source": [
    "G21_name"
   ]
  },
  {
   "cell_type": "code",
   "execution_count": 65,
   "id": "88cc098f",
   "metadata": {},
   "outputs": [],
   "source": [
    "G22_name=[]\n",
    "name_tags=driver.find_elements(By.XPATH,'/html/body/div[4]/div[2]/div[5]/div[1]/div[2]/table/tbody/tr[21]')\n",
    "for i in name_tags:\n",
    "    name=i.text\n",
    "G22_name.append(name)"
   ]
  },
  {
   "cell_type": "code",
   "execution_count": 66,
   "id": "3abfdc08",
   "metadata": {},
   "outputs": [
    {
     "data": {
      "text/plain": [
       "['21 Jammu & Kashmir 246,465 224,226 193,352 0.82% 25.813 139,171 129,573 119,174']"
      ]
     },
     "execution_count": 66,
     "metadata": {},
     "output_type": "execute_result"
    }
   ],
   "source": [
    "G22_name"
   ]
  },
  {
   "cell_type": "code",
   "execution_count": 67,
   "id": "44799285",
   "metadata": {},
   "outputs": [],
   "source": [
    "G23_name=[]\n",
    "name_tags=driver.find_elements(By.XPATH,'/html/body/div[4]/div[2]/div[5]/div[1]/div[2]/table/tbody/tr[22]')\n",
    "for i in name_tags:\n",
    "    name=i.text\n",
    "G23_name.append(name)"
   ]
  },
  {
   "cell_type": "code",
   "execution_count": 68,
   "id": "6011ef77",
   "metadata": {},
   "outputs": [
    {
     "data": {
      "text/plain": [
       "['22 Himachal Pradesh 207,430 191,728 172,162 0.73% 22.984 142,800 133,372 124,770']"
      ]
     },
     "execution_count": 68,
     "metadata": {},
     "output_type": "execute_result"
    }
   ],
   "source": [
    "G23_name"
   ]
  },
  {
   "cell_type": "code",
   "execution_count": 69,
   "id": "6ff894ba",
   "metadata": {},
   "outputs": [],
   "source": [
    "G24_name=[]\n",
    "name_tags=driver.find_elements(By.XPATH,'/html/body/div[4]/div[2]/div[5]/div[1]/div[2]/table/tbody/tr[23]')\n",
    "for i in name_tags:\n",
    "    name=i.text\n",
    "G24_name.append(name)"
   ]
  },
  {
   "cell_type": "code",
   "execution_count": 70,
   "id": "8ce38def",
   "metadata": {},
   "outputs": [
    {
     "data": {
      "text/plain": [
       "['23 Goa - 93,672 84,266 0.36% 11.250 - 59,867 55,342']"
      ]
     },
     "execution_count": 70,
     "metadata": {},
     "output_type": "execute_result"
    }
   ],
   "source": [
    "G24_name"
   ]
  },
  {
   "cell_type": "code",
   "execution_count": 72,
   "id": "30013e9c",
   "metadata": {},
   "outputs": [],
   "source": [
    "G25_name=[]\n",
    "name_tags=driver.find_elements(By.XPATH,'/html/body/div[4]/div[2]/div[5]/div[1]/div[2]/table/tbody/tr[24]')\n",
    "for i in name_tags:\n",
    "    name=i.text\n",
    "G25_name.append(name)"
   ]
  },
  {
   "cell_type": "code",
   "execution_count": 73,
   "id": "f24ef14d",
   "metadata": {},
   "outputs": [
    {
     "data": {
      "text/plain": [
       "['24 Tripura - 72,636 62,550 0.27% 8.351 - 42,997 39,487']"
      ]
     },
     "execution_count": 73,
     "metadata": {},
     "output_type": "execute_result"
    }
   ],
   "source": [
    "G25_name"
   ]
  },
  {
   "cell_type": "code",
   "execution_count": 74,
   "id": "df63a13f",
   "metadata": {},
   "outputs": [],
   "source": [
    "G26_name=[]\n",
    "name_tags=driver.find_elements(By.XPATH,'/html/body/div[4]/div[2]/div[5]/div[1]/div[2]/table/tbody/tr[25]')\n",
    "for i in name_tags:\n",
    "    name=i.text\n",
    "G26_name.append(name)"
   ]
  },
  {
   "cell_type": "code",
   "execution_count": 75,
   "id": "56fb6318",
   "metadata": {},
   "outputs": [
    {
     "data": {
      "text/plain": [
       "['25 Chandigarh - 54,285 46,096 0.20% 6.154 - 33,879 30,587']"
      ]
     },
     "execution_count": 75,
     "metadata": {},
     "output_type": "execute_result"
    }
   ],
   "source": [
    "G26_name"
   ]
  },
  {
   "cell_type": "code",
   "execution_count": 76,
   "id": "6563a721",
   "metadata": {},
   "outputs": [],
   "source": [
    "G27_name=[]\n",
    "name_tags=driver.find_elements(By.XPATH,'/html/body/div[4]/div[2]/div[5]/div[1]/div[2]/table/tbody/tr[26]')\n",
    "for i in name_tags:\n",
    "    name=i.text\n",
    "G27_name.append(name)"
   ]
  },
  {
   "cell_type": "code",
   "execution_count": 77,
   "id": "ff75dd0c",
   "metadata": {},
   "outputs": [
    {
     "data": {
      "text/plain": [
       "['26 Puducherry - 49,643 43,810 0.19% 5.849 - 28,849 27,131']"
      ]
     },
     "execution_count": 77,
     "metadata": {},
     "output_type": "execute_result"
    }
   ],
   "source": [
    "G27_name"
   ]
  },
  {
   "cell_type": "code",
   "execution_count": 78,
   "id": "5d936136",
   "metadata": {},
   "outputs": [],
   "source": [
    "G28_name=[]\n",
    "name_tags=driver.find_elements(By.XPATH,'/html/body/div[4]/div[2]/div[5]/div[1]/div[2]/table/tbody/tr[27]')\n",
    "for i in name_tags:\n",
    "    name=i.text\n",
    "G28_name.append(name)"
   ]
  },
  {
   "cell_type": "code",
   "execution_count": 79,
   "id": "78fe2d41",
   "metadata": {},
   "outputs": [
    {
     "data": {
      "text/plain": [
       "['27 Meghalaya 47,381 42,697 38,785 0.16% 5.178 26,524 25,209 24,267']"
      ]
     },
     "execution_count": 79,
     "metadata": {},
     "output_type": "execute_result"
    }
   ],
   "source": [
    "G28_name"
   ]
  },
  {
   "cell_type": "code",
   "execution_count": 80,
   "id": "acfa7692",
   "metadata": {},
   "outputs": [],
   "source": [
    "G29_name=[]\n",
    "name_tags=driver.find_elements(By.XPATH,'/html/body/div[4]/div[2]/div[5]/div[1]/div[2]/table/tbody/tr[28]')\n",
    "for i in name_tags:\n",
    "    name=i.text\n",
    "G29_name.append(name)"
   ]
  },
  {
   "cell_type": "code",
   "execution_count": 81,
   "id": "981672b0",
   "metadata": {},
   "outputs": [
    {
     "data": {
      "text/plain": [
       "['28 Sikkim - 42,756 37,557 0.16% 5.014 - 22,144 20,728']"
      ]
     },
     "execution_count": 81,
     "metadata": {},
     "output_type": "execute_result"
    }
   ],
   "source": [
    "G29_name"
   ]
  },
  {
   "cell_type": "code",
   "execution_count": 82,
   "id": "a9a1ec22",
   "metadata": {},
   "outputs": [],
   "source": [
    "G30_name=[]\n",
    "name_tags=driver.find_elements(By.XPATH,'/html/body/div[4]/div[2]/div[5]/div[1]/div[2]/table/tbody/tr[29]')\n",
    "for i in name_tags:\n",
    "    name=i.text\n",
    "G30_name.append(name)"
   ]
  },
  {
   "cell_type": "code",
   "execution_count": 83,
   "id": "5a41bf6b",
   "metadata": {},
   "outputs": [],
   "source": [
    "G31_name=[]\n",
    "name_tags=driver.find_elements(By.XPATH,'/html/body/div[4]/div[2]/div[5]/div[1]/div[2]/table/tbody/tr[30]')\n",
    "for i in name_tags:\n",
    "    name=i.text\n",
    "G31_name.append(name)"
   ]
  },
  {
   "cell_type": "code",
   "execution_count": 84,
   "id": "8a6d29bf",
   "metadata": {},
   "outputs": [
    {
     "data": {
      "text/plain": [
       "['30 Arunachal Pradesh - 39,630 34,775 0.15% 4.643 - 21,085 19,707']"
      ]
     },
     "execution_count": 84,
     "metadata": {},
     "output_type": "execute_result"
    }
   ],
   "source": [
    "G31_name"
   ]
  },
  {
   "cell_type": "code",
   "execution_count": 85,
   "id": "680a1d97",
   "metadata": {},
   "outputs": [],
   "source": [
    "G32_name=[]\n",
    "name_tags=driver.find_elements(By.XPATH,'/html/body/div[4]/div[2]/div[5]/div[1]/div[2]/table/tbody/tr[31]')\n",
    "for i in name_tags:\n",
    "    name=i.text\n",
    "G32_name.append(name)"
   ]
  },
  {
   "cell_type": "code",
   "execution_count": 86,
   "id": "dccca306",
   "metadata": {},
   "outputs": [
    {
     "data": {
      "text/plain": [
       "['31 Nagaland - 35,643 31,038 0.13% 4.144 - 18,993 17,336']"
      ]
     },
     "execution_count": 86,
     "metadata": {},
     "output_type": "execute_result"
    }
   ],
   "source": [
    "G32_name"
   ]
  },
  {
   "cell_type": "code",
   "execution_count": 87,
   "id": "3ca433fb",
   "metadata": {},
   "outputs": [],
   "source": [
    "G33_name=[]\n",
    "name_tags=driver.find_elements(By.XPATH,'/html/body/div[4]/div[2]/div[5]/div[1]/div[2]/table/tbody/tr[32]')\n",
    "for i in name_tags:\n",
    "    name=i.text\n",
    "G33_name.append(name)"
   ]
  },
  {
   "cell_type": "code",
   "execution_count": 88,
   "id": "f67f1c8e",
   "metadata": {},
   "outputs": [
    {
     "data": {
      "text/plain": [
       "['32 Mizoram - - 27,824 0.12% 3.715 - - 18,494']"
      ]
     },
     "execution_count": 88,
     "metadata": {},
     "output_type": "execute_result"
    }
   ],
   "source": [
    "G33_name"
   ]
  },
  {
   "cell_type": "code",
   "execution_count": 89,
   "id": "62192de3",
   "metadata": {},
   "outputs": [],
   "source": [
    "G34_name=[]\n",
    "name_tags=driver.find_elements(By.XPATH,'/html/body/div[4]/div[2]/div[5]/div[1]/div[2]/table/tbody/tr[33]')\n",
    "for i in name_tags:\n",
    "    name=i.text\n",
    "G34_name.append(name)"
   ]
  },
  {
   "cell_type": "code",
   "execution_count": 90,
   "id": "44f32a01",
   "metadata": {},
   "outputs": [
    {
     "data": {
      "text/plain": [
       "['33 Andaman & Nicobar Islands - - 10,371 0.04% 1.385 - - 7,172']"
      ]
     },
     "execution_count": 90,
     "metadata": {},
     "output_type": "execute_result"
    }
   ],
   "source": [
    "G34_name"
   ]
  },
  {
   "cell_type": "code",
   "execution_count": 91,
   "id": "d3bbbffd",
   "metadata": {},
   "outputs": [],
   "source": [
    "G35_name=[]\n",
    "name_tags=driver.find_elements(By.XPATH,'/html/body/div[4]/div[2]/div[5]/div[1]/div[2]/table/tfoot')\n",
    "for i in name_tags:\n",
    "    name=i.text\n",
    "G35_name.append(name)"
   ]
  },
  {
   "cell_type": "code",
   "execution_count": 92,
   "id": "057da246",
   "metadata": {},
   "outputs": [
    {
     "data": {
      "text/plain": [
       "['India 29,389,686 26,949,646 23,597,399 3,150 17,290,281 16,071,429 15,021,846']"
      ]
     },
     "execution_count": 92,
     "metadata": {},
     "output_type": "execute_result"
    }
   ],
   "source": [
    "G35_name"
   ]
  },
  {
   "cell_type": "code",
   "execution_count": 95,
   "id": "2e48e8ec",
   "metadata": {},
   "outputs": [],
   "source": [
    "import pandas as pd\n",
    "df=pd.DataFrame({'Rank':[G1_name,G2_name,G3_name,G4_name,G5_name,G6_name,G7_name,G8_name,G9_name,G10_name,G11_name,G12_name,G13_name,G14_name,G15_name,G16_name,G17_name,G18_name,G19_name,G20_name,G21_name,G22_name,G23_name,G24_name,G25_name,G26_name,G28_name,\n",
    "G29_name,G30_name,G31_name,G32_name,G33_name,G34_name,G35_name]})"
   ]
  },
  {
   "cell_type": "code",
   "execution_count": 96,
   "id": "6e2172e6",
   "metadata": {},
   "outputs": [
    {
     "data": {
      "text/html": [
       "<div>\n",
       "<style scoped>\n",
       "    .dataframe tbody tr th:only-of-type {\n",
       "        vertical-align: middle;\n",
       "    }\n",
       "\n",
       "    .dataframe tbody tr th {\n",
       "        vertical-align: top;\n",
       "    }\n",
       "\n",
       "    .dataframe thead th {\n",
       "        text-align: right;\n",
       "    }\n",
       "</style>\n",
       "<table border=\"1\" class=\"dataframe\">\n",
       "  <thead>\n",
       "    <tr style=\"text-align: right;\">\n",
       "      <th></th>\n",
       "      <th>Rank</th>\n",
       "    </tr>\n",
       "  </thead>\n",
       "  <tbody>\n",
       "    <tr>\n",
       "      <th>0</th>\n",
       "      <td>[Rank State GSDP (Cr INR at Current prices) Sh...</td>\n",
       "    </tr>\n",
       "    <tr>\n",
       "      <th>1</th>\n",
       "      <td>[1 Maharashtra - - 3,108,022 13.17% 414.928 - ...</td>\n",
       "    </tr>\n",
       "    <tr>\n",
       "      <th>2</th>\n",
       "      <td>[2 Tamil Nadu 2,700,109 2,364,514 2,071,286 8....</td>\n",
       "    </tr>\n",
       "    <tr>\n",
       "      <th>3</th>\n",
       "      <td>[3 Karnataka 2,500,733 2,269,995 1,978,094 8.3...</td>\n",
       "    </tr>\n",
       "    <tr>\n",
       "      <th>4</th>\n",
       "      <td>[4 Uttar Pradesh 2,547,861 2,258,040 1,975,595...</td>\n",
       "    </tr>\n",
       "    <tr>\n",
       "      <th>5</th>\n",
       "      <td>[5 Gujarat - 2,230,609 1,928,683 8.17% 257.484...</td>\n",
       "    </tr>\n",
       "    <tr>\n",
       "      <th>6</th>\n",
       "      <td>[6 West Bengal 1,700,939 1,531,758 1,329,238 5...</td>\n",
       "    </tr>\n",
       "    <tr>\n",
       "      <th>7</th>\n",
       "      <td>[7 Rajasthan 1,524,030 1,365,849 1,193,489 5.0...</td>\n",
       "    </tr>\n",
       "    <tr>\n",
       "      <th>8</th>\n",
       "      <td>[8 Andhra Pradesh 1,439,674 1,303,524 1,148,47...</td>\n",
       "    </tr>\n",
       "    <tr>\n",
       "      <th>9</th>\n",
       "      <td>[9 Telangana 1,463,960 1,308,034 1,124,204 4.7...</td>\n",
       "    </tr>\n",
       "    <tr>\n",
       "      <th>10</th>\n",
       "      <td>[10 Madhya Pradesh 1,363,327 1,246,471 1,092,9...</td>\n",
       "    </tr>\n",
       "    <tr>\n",
       "      <th>11</th>\n",
       "      <td>[11 Kerala - 1,046,188 934,542 3.96% 124.764 -...</td>\n",
       "    </tr>\n",
       "    <tr>\n",
       "      <th>12</th>\n",
       "      <td>[12 Delhi 1,107,746 1,014,688 881,336 3.73% 11...</td>\n",
       "    </tr>\n",
       "    <tr>\n",
       "      <th>13</th>\n",
       "      <td>[13 Haryana 1,095,535 984,055 868,905 3.68% 11...</td>\n",
       "    </tr>\n",
       "    <tr>\n",
       "      <th>14</th>\n",
       "      <td>[14 Odisha 832,790 753,177 662,886 2.81% 88.49...</td>\n",
       "    </tr>\n",
       "    <tr>\n",
       "      <th>15</th>\n",
       "      <td>[15 Bihar - 751,396 650,302 2.76% 86.817 - 442...</td>\n",
       "    </tr>\n",
       "    <tr>\n",
       "      <th>16</th>\n",
       "      <td>[16 Punjab 736,423 676,164 617,192 2.62% 82.39...</td>\n",
       "    </tr>\n",
       "    <tr>\n",
       "      <th>17</th>\n",
       "      <td>[17 Assam 565,401 493,167 411,454 1.74% 54.930...</td>\n",
       "    </tr>\n",
       "    <tr>\n",
       "      <th>18</th>\n",
       "      <td>[18 Chhattisgarh 505,887 464,399 410,525 1.74%...</td>\n",
       "    </tr>\n",
       "    <tr>\n",
       "      <th>19</th>\n",
       "      <td>[19 Jharkhand - 393,722 358,863 1.52% 47.909 -...</td>\n",
       "    </tr>\n",
       "    <tr>\n",
       "      <th>20</th>\n",
       "      <td>[20 Uttarakhand 346,206 303,781 267,143 1.13% ...</td>\n",
       "    </tr>\n",
       "    <tr>\n",
       "      <th>21</th>\n",
       "      <td>[21 Jammu &amp; Kashmir 246,465 224,226 193,352 0....</td>\n",
       "    </tr>\n",
       "    <tr>\n",
       "      <th>22</th>\n",
       "      <td>[22 Himachal Pradesh 207,430 191,728 172,162 0...</td>\n",
       "    </tr>\n",
       "    <tr>\n",
       "      <th>23</th>\n",
       "      <td>[23 Goa - 93,672 84,266 0.36% 11.250 - 59,867 ...</td>\n",
       "    </tr>\n",
       "    <tr>\n",
       "      <th>24</th>\n",
       "      <td>[24 Tripura - 72,636 62,550 0.27% 8.351 - 42,9...</td>\n",
       "    </tr>\n",
       "    <tr>\n",
       "      <th>25</th>\n",
       "      <td>[25 Chandigarh - 54,285 46,096 0.20% 6.154 - 3...</td>\n",
       "    </tr>\n",
       "    <tr>\n",
       "      <th>26</th>\n",
       "      <td>[27 Meghalaya 47,381 42,697 38,785 0.16% 5.178...</td>\n",
       "    </tr>\n",
       "    <tr>\n",
       "      <th>27</th>\n",
       "      <td>[28 Sikkim - 42,756 37,557 0.16% 5.014 - 22,14...</td>\n",
       "    </tr>\n",
       "    <tr>\n",
       "      <th>28</th>\n",
       "      <td>[29 Manipur - - 36,594 0.16% 4.885 - - 20,515]</td>\n",
       "    </tr>\n",
       "    <tr>\n",
       "      <th>29</th>\n",
       "      <td>[30 Arunachal Pradesh - 39,630 34,775 0.15% 4....</td>\n",
       "    </tr>\n",
       "    <tr>\n",
       "      <th>30</th>\n",
       "      <td>[31 Nagaland - 35,643 31,038 0.13% 4.144 - 18,...</td>\n",
       "    </tr>\n",
       "    <tr>\n",
       "      <th>31</th>\n",
       "      <td>[32 Mizoram - - 27,824 0.12% 3.715 - - 18,494]</td>\n",
       "    </tr>\n",
       "    <tr>\n",
       "      <th>32</th>\n",
       "      <td>[33 Andaman &amp; Nicobar Islands - - 10,371 0.04%...</td>\n",
       "    </tr>\n",
       "    <tr>\n",
       "      <th>33</th>\n",
       "      <td>[India 29,389,686 26,949,646 23,597,399 3,150 ...</td>\n",
       "    </tr>\n",
       "  </tbody>\n",
       "</table>\n",
       "</div>"
      ],
      "text/plain": [
       "                                                 Rank\n",
       "0   [Rank State GSDP (Cr INR at Current prices) Sh...\n",
       "1   [1 Maharashtra - - 3,108,022 13.17% 414.928 - ...\n",
       "2   [2 Tamil Nadu 2,700,109 2,364,514 2,071,286 8....\n",
       "3   [3 Karnataka 2,500,733 2,269,995 1,978,094 8.3...\n",
       "4   [4 Uttar Pradesh 2,547,861 2,258,040 1,975,595...\n",
       "5   [5 Gujarat - 2,230,609 1,928,683 8.17% 257.484...\n",
       "6   [6 West Bengal 1,700,939 1,531,758 1,329,238 5...\n",
       "7   [7 Rajasthan 1,524,030 1,365,849 1,193,489 5.0...\n",
       "8   [8 Andhra Pradesh 1,439,674 1,303,524 1,148,47...\n",
       "9   [9 Telangana 1,463,960 1,308,034 1,124,204 4.7...\n",
       "10  [10 Madhya Pradesh 1,363,327 1,246,471 1,092,9...\n",
       "11  [11 Kerala - 1,046,188 934,542 3.96% 124.764 -...\n",
       "12  [12 Delhi 1,107,746 1,014,688 881,336 3.73% 11...\n",
       "13  [13 Haryana 1,095,535 984,055 868,905 3.68% 11...\n",
       "14  [14 Odisha 832,790 753,177 662,886 2.81% 88.49...\n",
       "15  [15 Bihar - 751,396 650,302 2.76% 86.817 - 442...\n",
       "16  [16 Punjab 736,423 676,164 617,192 2.62% 82.39...\n",
       "17  [17 Assam 565,401 493,167 411,454 1.74% 54.930...\n",
       "18  [18 Chhattisgarh 505,887 464,399 410,525 1.74%...\n",
       "19  [19 Jharkhand - 393,722 358,863 1.52% 47.909 -...\n",
       "20  [20 Uttarakhand 346,206 303,781 267,143 1.13% ...\n",
       "21  [21 Jammu & Kashmir 246,465 224,226 193,352 0....\n",
       "22  [22 Himachal Pradesh 207,430 191,728 172,162 0...\n",
       "23  [23 Goa - 93,672 84,266 0.36% 11.250 - 59,867 ...\n",
       "24  [24 Tripura - 72,636 62,550 0.27% 8.351 - 42,9...\n",
       "25  [25 Chandigarh - 54,285 46,096 0.20% 6.154 - 3...\n",
       "26  [27 Meghalaya 47,381 42,697 38,785 0.16% 5.178...\n",
       "27  [28 Sikkim - 42,756 37,557 0.16% 5.014 - 22,14...\n",
       "28     [29 Manipur - - 36,594 0.16% 4.885 - - 20,515]\n",
       "29  [30 Arunachal Pradesh - 39,630 34,775 0.15% 4....\n",
       "30  [31 Nagaland - 35,643 31,038 0.13% 4.144 - 18,...\n",
       "31     [32 Mizoram - - 27,824 0.12% 3.715 - - 18,494]\n",
       "32  [33 Andaman & Nicobar Islands - - 10,371 0.04%...\n",
       "33  [India 29,389,686 26,949,646 23,597,399 3,150 ..."
      ]
     },
     "execution_count": 96,
     "metadata": {},
     "output_type": "execute_result"
    }
   ],
   "source": [
    "df"
   ]
  },
  {
   "cell_type": "code",
   "execution_count": null,
   "id": "b8e378ca",
   "metadata": {},
   "outputs": [],
   "source": []
  }
 ],
 "metadata": {
  "kernelspec": {
   "display_name": "Python 3 (ipykernel)",
   "language": "python",
   "name": "python3"
  },
  "language_info": {
   "codemirror_mode": {
    "name": "ipython",
    "version": 3
   },
   "file_extension": ".py",
   "mimetype": "text/x-python",
   "name": "python",
   "nbconvert_exporter": "python",
   "pygments_lexer": "ipython3",
   "version": "3.10.9"
  }
 },
 "nbformat": 4,
 "nbformat_minor": 5
}
